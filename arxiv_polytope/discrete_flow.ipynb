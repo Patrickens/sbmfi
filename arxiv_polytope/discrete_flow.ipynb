{
 "cells": [
  {
   "cell_type": "code",
   "execution_count": 1,
   "id": "feb74c8c-2d58-4b1c-bcb8-3dfb98f4b2de",
   "metadata": {},
   "outputs": [],
   "source": [
    "import math\n",
    "import pandas as pd\n",
    "import numpy as np\n",
    "import torch\n",
    "import pickle\n",
    "import tqdm\n",
    "import inspect\n",
    "import time\n",
    "\n",
    "import arviz as az\n",
    "from sbmfi.inference.discrete_flows import flow_constructor, flow_trainer\n",
    "from sbmfi.priors.mog import MixtureOfGaussians\n",
    "\n",
    "import arviz as az\n",
    "import matplotlib.pyplot as plt\n",
    "\n",
    "from sbmfi.core.coordinater import *\n",
    "from sbmfi.inference.arxiv_polytope_plotter import plot_dataframes\n",
    "from sbmfi.inference.continuous_flows import plot_losses_vs_steps"
   ]
  },
  {
   "cell_type": "code",
   "execution_count": 2,
   "id": "e0ef7abf-40c3-4883-82dd-16ebd9d7d248",
   "metadata": {},
   "outputs": [],
   "source": [
    "fcm, v_representation, volume = pickle.load(open('spiro_flux_coordinate_mapper.p', 'rb'))\n",
    "psm = fcm.sampler\n",
    "mog_data = az.from_netcdf( 'mog_polytope_105k_samples.nc')\n",
    "means_df = pd.DataFrame(np.hstack([mog_data.attrs['mog_means'], mog_data.attrs['mog_weights'][:, None]]), columns=fcm.theta_id().append(pd.Index(['weights'])))"
   ]
  },
  {
   "cell_type": "code",
   "execution_count": 3,
   "id": "dc98d8d3-d55e-4744-b28b-1a741ebb32c8",
   "metadata": {},
   "outputs": [
    {
     "name": "stdout",
     "output_type": "stream",
     "text": [
      "Using gpu\n"
     ]
    },
    {
     "data": {
      "text/plain": [
       "<torch._C.Generator at 0x211d8950990>"
      ]
     },
     "execution_count": 3,
     "metadata": {},
     "output_type": "execute_result"
    }
   ],
   "source": [
    "if torch.cuda.is_available():\n",
    "    device = 'cuda:0'\n",
    "    print('Using gpu')\n",
    "else:\n",
    "    device = 'cpu'\n",
    "    print('Using cpu.')\n",
    "torch.set_default_dtype(torch.float)\n",
    "torch.manual_seed(42)"
   ]
  },
  {
   "cell_type": "code",
   "execution_count": 4,
   "id": "7b3952d3-bb76-4b09-b63a-0a8b6b8644aa",
   "metadata": {},
   "outputs": [],
   "source": [
    "data = az.from_netcdf('mog_polytope_105k_samples.nc')\n",
    "data = torch.as_tensor(az.extract(data, combined=True, var_names='theta', keep_dataset=False, rng=2).values).T\n",
    "data = map_rounded_2_ball(psm, data)\n",
    "data = map_ball_2_cylinder(psm, data)"
   ]
  },
  {
   "cell_type": "code",
   "execution_count": 74,
   "id": "6b8501c4-05b4-4f6a-896d-99bcabfc6a1d",
   "metadata": {},
   "outputs": [],
   "source": [
    "data = az.from_netcdf('mog_polytope_105k_samples.nc')\n",
    "cylinder = torch.as_tensor(az.extract(data, combined=True, var_names='theta', keep_dataset=False, rng=2).values).T\n",
    "cylinder = map_rounded_2_ball(psm, cylinder)\n",
    "cylinder = map_ball_2_cylinder(psm, cylinder).to(device=device, dtype=torch.float)\n",
    "mog_target = MixtureOfGaussians(\n",
    "    means=torch.as_tensor(data.attrs['mog_means'], dtype=torch.float), \n",
    "    covariances=torch.as_tensor(data.attrs['mog_covs'], dtype=torch.float),\n",
    "    weights=torch.as_tensor(data.attrs['mog_weights'], dtype=torch.float),\n",
    "    log_Z=np.log(mog_data.attrs['mog_Z']),\n",
    ")\n",
    "means_df = pd.DataFrame(\n",
    "    np.hstack([data.attrs['mog_means'], data.attrs['mog_weights'][:, None]]), \n",
    "    columns=psm.rounded_id.append(pd.Index(['weights']))\n",
    ")\n",
    "mog_Z = data.attrs['mog_Z']\n",
    "del data"
   ]
  },
  {
   "cell_type": "code",
   "execution_count": 6,
   "id": "8b016e2c-9da6-4509-9498-d95c093d7b69",
   "metadata": {},
   "outputs": [],
   "source": [
    "flow_parameters = dict(\n",
    "    coordinate_id='cylinder',\n",
    "    embedding_net=None,\n",
    "    num_context_channels=None,\n",
    "    autoregressive=True,\n",
    "    num_blocks=4,\n",
    "    num_hidden_channels=64,\n",
    "    num_bins=30,\n",
    "    dropout_probability=0.01,\n",
    "    num_transforms=10,\n",
    "    init_identity=True,\n",
    "    mixing_id='shuffle',\n",
    "    use_lu=True,\n",
    "    p=None,\n",
    "    device=device,\n",
    ")\n",
    "\n",
    "flow = flow_constructor(\n",
    "    fcm=fcm,\n",
    "    **flow_parameters\n",
    ")"
   ]
  },
  {
   "cell_type": "code",
   "execution_count": 7,
   "id": "d9b94231-0124-41b6-8d07-f0cd927cda21",
   "metadata": {},
   "outputs": [],
   "source": [
    "batch_size = 1024 * 12\n",
    "lr = 4e-3\n",
    "weight_decay = 1e-3\n",
    "gamma = 0.95\n",
    "n_epoch = 35\n",
    "\n",
    "dataset = torch.utils.data.TensorDataset(cylinder)\n",
    "dataloader = torch.utils.data.DataLoader(dataset, batch_size=batch_size, shuffle=True, num_workers=0)\n",
    "\n",
    "optimizer = torch.optim.Adam(flow.parameters(), lr=lr, weight_decay=weight_decay)\n",
    "scheduler = torch.optim.lr_scheduler.ExponentialLR(optimizer, gamma=gamma, last_epoch=-1)\n",
    "steps = 0\n",
    "losses=[]"
   ]
  },
  {
   "cell_type": "code",
   "execution_count": 8,
   "id": "7526e180-bb69-48e0-a753-2f73ace676dd",
   "metadata": {},
   "outputs": [
    {
     "name": "stderr",
     "output_type": "stream",
     "text": [
      " 69%|███████████████████████████████████████████████▊                     | 312/450 [25:10<11:08,  4.84s/it, loss=-1.09]\n"
     ]
    }
   ],
   "source": [
    "t_start = time.time()\n",
    "n_steps = n_epoch * len(dataloader)\n",
    "pbar = tqdm.tqdm(total=n_steps, ncols=120, position=0)\n",
    "try: \n",
    "    for epoch in range(n_epoch):\n",
    "        for i, (chunk,)  in enumerate(dataloader):\n",
    "            loss = flow.forward_kld(chunk)\n",
    "            optimizer.zero_grad()\n",
    "            if ~(torch.isnan(loss) | torch.isinf(loss)):\n",
    "                loss.backward()\n",
    "                optimizer.step()\n",
    "            else:\n",
    "                raise ValueError(f'loss: {loss}')\n",
    "            loss_ = loss.item()\n",
    "            losses.append(loss_)\n",
    "            pbar.update()\n",
    "            pbar.set_postfix(loss=round(loss_, 4))\n",
    "        if (scheduler is not None):\n",
    "            scheduler.step()\n",
    "except KeyboardInterrupt:\n",
    "    pass\n",
    "except Exception as e:\n",
    "    raise e\n",
    "finally:\n",
    "    pbar.close()\n",
    "\n",
    "t_end = time.time()"
   ]
  },
  {
   "cell_type": "code",
   "execution_count": 39,
   "id": "e55a848d-e83e-44e7-8560-b0f218d65cbf",
   "metadata": {},
   "outputs": [],
   "source": [
    "flow_parameters_ = dict(\n",
    "    **flow_parameters,\n",
    "    tqdm_elapsed_time_s=pbar.last_print_t - pbar.start_t,\n",
    "    batch_size = batch_size,\n",
    "    lr=lr,\n",
    "    weight_decay=weight_decay,\n",
    "    gamma=gamma,\n",
    "    n_epoch = n_epoch,\n",
    "    losses=losses,\n",
    ")\n",
    "\n",
    "pickle.dump(flow_parameters_, open('spline_flow_parameters.p', 'wb'))\n",
    "torch.save(flow.state_dict(), \"spline_flow.pt\")"
   ]
  },
  {
   "cell_type": "code",
   "execution_count": 10,
   "id": "e20d7bb6-9ed3-44d4-9cf5-8c071f361540",
   "metadata": {},
   "outputs": [
    {
     "name": "stderr",
     "output_type": "stream",
     "text": [
      "C:\\Users\\diede\\AppData\\Local\\Temp\\ipykernel_14992\\464716455.py:12: FutureWarning: You are using `torch.load` with `weights_only=False` (the current default value), which uses the default pickle module implicitly. It is possible to construct malicious pickle data which will execute arbitrary code during unpickling (See https://github.com/pytorch/pytorch/blob/main/SECURITY.md#untrusted-models for more details). In a future release, the default value for `weights_only` will be flipped to `True`. This limits the functions that could be executed during unpickling. Arbitrary objects will no longer be allowed to be loaded via this mode unless they are explicitly allowlisted by the user via `torch.serialization.add_safe_globals`. We recommend you start setting `weights_only=True` for any use case where you don't have full control of the loaded file. Please open an issue on GitHub for any issues related to this experimental feature.\n",
      "  recon_flow.load_state_dict(torch.load(\"spline_flow3.pt\"))\n"
     ]
    },
    {
     "data": {
      "text/plain": [
       "<All keys matched successfully>"
      ]
     },
     "execution_count": 10,
     "metadata": {},
     "output_type": "execute_result"
    }
   ],
   "source": [
    "flow_parameters_ = pickle.load(open('spline_flow_parameters.p', 'rb'))\n",
    "losses = flow_parameters_['losses']\n",
    "\n",
    "sig = inspect.signature(flow_constructor)\n",
    "valid_keys = sig.parameters.keys()\n",
    "flow_parameters = {k: v for k, v in flow_parameters_.items() if k in valid_keys}\n",
    "\n",
    "recon_flow = flow_constructor(\n",
    "    fcm=fcm,\n",
    "    **flow_parameters\n",
    ")\n",
    "recon_flow.load_state_dict(torch.load(\"spline_flow.pt\"))"
   ]
  },
  {
   "cell_type": "code",
   "execution_count": 79,
   "id": "ef6918e9-5c89-41e9-a798-f4a0ea54a8f7",
   "metadata": {},
   "outputs": [
    {
     "data": {
      "image/png": "[encoded data removed]",
      "text/plain": [
       "<Figure size 400x300 with 1 Axes>"
      ]
     },
     "metadata": {},
     "output_type": "display_data"
    }
   ],
   "source": [
    "plot_losses_vs_steps(losses, axmax=0, axmin=-1.2)\n",
    "plt.show()"
   ]
  },
  {
   "cell_type": "code",
   "execution_count": 70,
   "id": "0c3a0c40-07e5-413a-b230-92422f912c36",
   "metadata": {},
   "outputs": [],
   "source": [
    "n_test = 20000\n",
    "t_sample_start = time.time()\n",
    "with torch.no_grad():\n",
    "    flow_samples, log_q = recon_flow.sample(n_test)\n",
    "t_sample_elapsed = time.time() - t_sample_start\n",
    "flow_cylinder, log_q = flow_samples.to(device='cpu', dtype=torch.double), log_q.to(device='cpu', dtype=torch.double)"
   ]
  },
  {
   "cell_type": "code",
   "execution_count": 71,
   "id": "5fe74094-1edc-4657-8d7b-dd853cf9253b",
   "metadata": {},
   "outputs": [],
   "source": [
    "flow_ball, J_bc = map_cylinder_2_ball(psm, flow_cylinder, rescale_val=1.0, jacobian=True)\n",
    "flow_rounded, J_rb = map_ball_2_rounded(psm, flow_ball, jacobian=True)\n",
    "flow_rounded_df = map_ball_2_rounded(psm, flow_ball, pandalize=True)\n",
    "J_rc = fcm._la.tensormul_T(fcm._la.transax(J_bc), J_rb)\n",
    "\n",
    "dets = fcm._la.det(J_rc)"
   ]
  },
  {
   "cell_type": "code",
   "execution_count": 80,
   "id": "432272df-12cb-4ba8-a449-11f2c3789a5c",
   "metadata": {},
   "outputs": [
    {
     "name": "stdout",
     "output_type": "stream",
     "text": [
      "ESS: 0.857, KL div.: 6.747e-01, in pol: 0.0, training time: 1504.0570814609528, sampling time: 1.2947356700897217\n"
     ]
    }
   ],
   "source": [
    "log_p = mog_target.log_prob(flow_rounded)\n",
    "log_qq = log_q - torch.log(abs(dets))\n",
    "\n",
    "ws = torch.exp(log_p - log_qq)\n",
    "KL_Z = ws.mean()\n",
    "ln_KL = (log_p - log_qq).mean() + np.log(KL_Z)\n",
    "KL = torch.exp(ln_KL)\n",
    "ESS = ws.sum()**2 / (ws**2).sum()\n",
    "in_pol = 0\n",
    "print(f'ESS: {round(ESS.item() / n_test, 3)}, KL div.: {KL:.3e}, in pol: {in_pol / n_test}, training time: {flow_parameters_[\"tqdm_elapsed_time_s\"]}, sampling time: {t_sample_elapsed}')"
   ]
  },
  {
   "cell_type": "code",
   "execution_count": 81,
   "id": "c1403281-4b9e-4862-93d0-f2cfc668a275",
   "metadata": {},
   "outputs": [],
   "source": [
    "plt.ioff()\n",
    "\n",
    "fig, ax = plot_dataframes(\n",
    "    vertices=v_representation,\n",
    "    samples=flow_rounded_df,\n",
    "    n_sample_cdf=10000,\n",
    "    points=means_df,\n",
    "    x_col='R_h_out', \n",
    "    y_col='R_biomass',\n",
    "    x_label='R_h_out', \n",
    "    y_label='R_biomass',\n",
    "    label1='Polytope', \n",
    "    label2='Samples Convex Hull',\n",
    "    label3='Samples KDE Density', \n",
    "    label4='Additional Points',\n",
    "    bw_method=None,\n",
    "    bw_adjust=0.6,\n",
    "    levels=8,\n",
    "    font_dict=None,\n",
    "    vertices_fill_color='#ffec58',\n",
    "    samples_fill_color='#e02450',\n",
    "    figsize=(6, 4),\n",
    "    show_legend=False,\n",
    "    legend_loc='best',\n",
    "    s_points=15,\n",
    "    points_color='#C41E3A',\n",
    ")\n",
    "# plt.show()"
   ]
  },
  {
   "cell_type": "code",
   "execution_count": 82,
   "id": "b24a0b9e-ffbd-422e-a21d-b137e2a49888",
   "metadata": {},
   "outputs": [],
   "source": [
    "plt.savefig(\n",
    "    'spline_flow.svg', transparent=None, dpi='figure', format='svg',\n",
    "    metadata=None, bbox_inches=None, pad_inches=0.1,\n",
    "    facecolor='auto', edgecolor='auto', backend=None,\n",
    ")"
   ]
  }
 ],
 "metadata": {
  "kernelspec": {
   "display_name": "Python 3 (ipykernel)",
   "language": "python",
   "name": "python3"
  },
  "language_info": {
   "codemirror_mode": {
    "name": "ipython",
    "version": 3
   },
   "file_extension": ".py",
   "mimetype": "text/x-python",
   "name": "python",
   "nbconvert_exporter": "python",
   "pygments_lexer": "ipython3",
   "version": "3.11.13"
  }
 },
 "nbformat": 4,
 "nbformat_minor": 5
}
