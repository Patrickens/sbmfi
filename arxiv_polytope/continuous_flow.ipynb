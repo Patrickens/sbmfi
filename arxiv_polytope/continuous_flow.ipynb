{
 "cells": [
  {
   "cell_type": "code",
   "execution_count": 6,
   "id": "46af05f9-6c0a-4e78-98ef-666c61a0921f",
   "metadata": {},
   "outputs": [],
   "source": [
    "import time\n",
    "import torch\n",
    "import math\n",
    "import pandas as pd\n",
    "import numpy as np\n",
    "import arviz as az\n",
    "import tqdm\n",
    "import pickle\n",
    "\n",
    "import warnings\n",
    "warnings.filterwarnings(\"ignore\", category=UserWarning, module='torch')\n",
    "\n",
    "\n",
    "from torch import nn, Tensor\n",
    "\n",
    "# flow_matching\n",
    "from flow_matching.path.scheduler import CondOTScheduler\n",
    "from flow_matching.path import AffineProbPath, GeodesicProbPath\n",
    "from flow_matching.solver import Solver, ODESolver, RiemannianODESolver\n",
    "from flow_matching.utils import ModelWrapper\n",
    "import math\n",
    "import torch\n",
    "from torch.utils.data import Dataset, DataLoader\n",
    "from sbmfi.priors.mog import MixtureOfGaussians\n",
    "\n",
    "# visualization\n",
    "import matplotlib.pyplot as plt\n",
    "\n",
    "from matplotlib import cm\n",
    "\n",
    "from PolyRound.api import Polytope\n",
    "from sbmfi.inference.manifolds import BallManifold, Manifold, ConvexPolytopeManifold\n",
    "from sbmfi.core.coordinater import *\n",
    "from sbmfi.core.linalg import LinAlg\n",
    "from sbmfi.inference.polytope_plotter import plot_dataframes\n",
    "from sbmfi.inference.continuous_flows import *"
   ]
  },
  {
   "cell_type": "code",
   "execution_count": 7,
   "id": "b47ebf90-18d5-4194-9277-a0022da5ed37",
   "metadata": {},
   "outputs": [
    {
     "name": "stdout",
     "output_type": "stream",
     "text": [
      "Using gpu\n"
     ]
    },
    {
     "data": {
      "text/plain": [
       "<torch._C.Generator at 0x27b755be2d0>"
      ]
     },
     "execution_count": 7,
     "metadata": {},
     "output_type": "execute_result"
    }
   ],
   "source": [
    "if torch.cuda.is_available():\n",
    "    device = 'cuda:0'\n",
    "    print('Using gpu')\n",
    "else:\n",
    "    device = 'cpu'\n",
    "    print('Using cpu.')\n",
    "torch.set_default_dtype(torch.float)\n",
    "torch.manual_seed(42)"
   ]
  },
  {
   "cell_type": "code",
   "execution_count": 8,
   "id": "3b67090f-be28-4e4f-be10-73298dcbf6d1",
   "metadata": {},
   "outputs": [],
   "source": [
    "fcm, v_representation, pol_volume = pickle.load(open('spiro_flux_coordinate_mapper.p', 'rb'))\n",
    "psm = fcm.sampler\n",
    "K = psm.dimensionality"
   ]
  },
  {
   "cell_type": "markdown",
   "id": "c2586ccb-7090-4aca-b9f4-0a185051adad",
   "metadata": {},
   "source": [
    "### Prepare all the data"
   ]
  },
  {
   "cell_type": "code",
   "execution_count": 9,
   "id": "a67e26ae-18d6-463a-9166-fbe324273524",
   "metadata": {},
   "outputs": [],
   "source": [
    "data = az.from_netcdf('mog_polytope_105k_samples.nc')\n",
    "mog_rounded = torch.as_tensor(\n",
    "    az.extract(data, combined=True, var_names='theta', keep_dataset=False, rng=2).values, device=device, dtype=torch.float\n",
    ").T\n",
    "mog_target = MixtureOfGaussians(\n",
    "    means=torch.as_tensor(data.attrs['mog_means'], dtype=torch.float), \n",
    "    covariances=torch.as_tensor(data.attrs['mog_covs'], dtype=torch.float),\n",
    "    weights=torch.as_tensor(data.attrs['mog_weights'], dtype=torch.float),\n",
    "    log_Z=np.log(data.attrs['mog_Z']),\n",
    ")\n",
    "means_df = pd.DataFrame(\n",
    "    np.hstack([data.attrs['mog_means'], data.attrs['mog_weights'][:, None]]), \n",
    "    columns=psm.rounded_id.append(pd.Index(['weights']))\n",
    ")\n",
    "mog_Z = data.attrs['mog_Z']\n",
    "del data"
   ]
  },
  {
   "cell_type": "code",
   "execution_count": 10,
   "id": "82fe7191-ad44-42e8-85da-bee1c30f3ffe",
   "metadata": {},
   "outputs": [],
   "source": [
    "data = az.from_netcdf('unif_polytope_125k_samples.nc')\n",
    "unif_rounded =  torch.as_tensor(\n",
    "    az.extract(data, combined=True, var_names='theta', keep_dataset=False, rng=2).values, device=device, dtype=torch.float\n",
    ").T\n",
    "del data"
   ]
  },
  {
   "cell_type": "markdown",
   "id": "e818d43b-8c3d-4279-8ebe-d6e085a50d7e",
   "metadata": {},
   "source": [
    "### Training function"
   ]
  },
  {
   "cell_type": "code",
   "execution_count": 11,
   "id": "f58478a2-4834-4198-813e-fccca6b3e864",
   "metadata": {},
   "outputs": [],
   "source": [
    "def train_affine(model, optimizer, noise_dataloader, target_dataloader, losses):\n",
    "    n_steps = n_epochs * len(noise_dataloader)\n",
    "    pbar = tqdm(total=n_steps, ncols=120, position=0)\n",
    "    try:\n",
    "        for epoch in range(n_epochs):\n",
    "            # use fixed data-set\n",
    "            noise_iter = iter(noise_dataloader)\n",
    "            target_iter = iter(target_dataloader)\n",
    "            \n",
    "            for i in range(len(noise_dataloader)): \n",
    "                optimizer.zero_grad() \n",
    "    \n",
    "                target_chunk = next(target_iter, None)[0]\n",
    "                noise_chunk = next(noise_iter, None)[0]\n",
    "        \n",
    "                t = torch.rand(noise_chunk.shape[0]).to(device) \n",
    "    \n",
    "                # sample probability path\n",
    "                path_sample = path.sample(t=t, x_0=noise_chunk, x_1=target_chunk)\n",
    "            \n",
    "                # flow matching l2 loss\n",
    "                loss = torch.pow( model(path_sample.x_t,path_sample.t) - path_sample.dx_t, 2).mean() \n",
    "            \n",
    "                # # optimizer step\n",
    "                if ~(torch.isnan(loss) | torch.isinf(loss)):\n",
    "                    loss.backward()\n",
    "                    optimizer.step()\n",
    "                else:\n",
    "                    raise ValueError(f'loss: {loss}')\n",
    "        \n",
    "                loss_ = loss.item()\n",
    "                losses.append(loss_)\n",
    "                pbar.update()\n",
    "                pbar.set_postfix(loss=round(loss_, 4))\n",
    "            if (scheduler is not None):\n",
    "                scheduler.step()            \n",
    "    except KeyboardInterrupt:\n",
    "        pass\n",
    "    except Exception as e:\n",
    "        raise e\n",
    "    finally:\n",
    "        pbar.close()\n",
    "        return pbar.last_print_t - pbar.start_t"
   ]
  },
  {
   "cell_type": "markdown",
   "id": "44309619-7006-4cec-832e-e43c514e8c31",
   "metadata": {},
   "source": [
    "### Affine flow"
   ]
  },
  {
   "cell_type": "code",
   "execution_count": 148,
   "id": "6eedba3d-589c-473e-ac0e-d18dbbdd378f",
   "metadata": {},
   "outputs": [],
   "source": [
    "# training arguments\n",
    "lr = 1e-3\n",
    "n_epochs = 35\n",
    "batch_size = 1024*8\n",
    "hidden_dim = 512\n",
    "\n",
    "# velocity field model init\n",
    "aff_model = MLP(input_dim=mog_rounded.shape[-1], time_dim=1, hidden_dim=hidden_dim).to(device) \n",
    "\n",
    "# instantiate an affine path object\n",
    "path = AffineProbPath(scheduler=CondOTScheduler())\n",
    "\n",
    "# init optimizer\n",
    "optimizer = torch.optim.Adam(aff_model.parameters(), lr=lr) \n",
    "scheduler = None\n",
    "\n",
    "test_size = 20000\n",
    "\n",
    "noise_dataset = torch.utils.data.TensorDataset(unif_rounded.to(dtype=torch.float, device=device))\n",
    "test_dataset, noise_dataset = torch.utils.data.random_split(noise_dataset, [test_size, len(noise_dataset) - test_size])\n",
    "noise_dataloader = torch.utils.data.DataLoader(noise_dataset, batch_size=batch_size, shuffle=True, num_workers=0)\n",
    "\n",
    "target_dataset = torch.utils.data.TensorDataset(mog_rounded.to(dtype=torch.float, device=device))\n",
    "target_dataloader = torch.utils.data.DataLoader(target_dataset, batch_size=batch_size, shuffle=True, num_workers=0)\n",
    "\n",
    "train_time_total = 0.0\n",
    "losses = []"
   ]
  },
  {
   "cell_type": "code",
   "execution_count": 149,
   "id": "0370e170-c4aa-45ec-93d0-4f2f6a7f62c3",
   "metadata": {},
   "outputs": [
    {
     "name": "stderr",
     "output_type": "stream",
     "text": [
      "C:\\Users\\diede\\AppData\\Local\\Temp\\ipykernel_15480\\2670851208.py:5: FutureWarning: You are using `torch.load` with `weights_only=False` (the current default value), which uses the default pickle module implicitly. It is possible to construct malicious pickle data which will execute arbitrary code during unpickling (See https://github.com/pytorch/pytorch/blob/main/SECURITY.md#untrusted-models for more details). In a future release, the default value for `weights_only` will be flipped to `True`. This limits the functions that could be executed during unpickling. Arbitrary objects will no longer be allowed to be loaded via this mode unless they are explicitly allowlisted by the user via `torch.serialization.add_safe_globals`. We recommend you start setting `weights_only=True` for any use case where you don't have full control of the loaded file. Please open an issue on GitHub for any issues related to this experimental feature.\n",
      "  aff_model.load_state_dict(torch.load(\"aff_model.pt\"))\n"
     ]
    }
   ],
   "source": [
    "train_time = train_affine(aff_model, optimizer, noise_dataloader, target_dataloader, losses)\n",
    "train_time_total += train_time\n",
    "torch.save(aff_model.state_dict(), \"aff_model.pt\")\n",
    "pickle.dump((losses, train_time_total), open('aff_losses.p', 'wb'))\n",
    "aff_model.load_state_dict(torch.load(\"aff_model.pt\"))\n",
    "losses = pickle.load(open('aff_losses.p', 'rb'))"
   ]
  },
  {
   "cell_type": "code",
   "execution_count": 150,
   "id": "6157eaf4-7d8b-4bce-a41f-e322e31e27d3",
   "metadata": {},
   "outputs": [
    {
     "data": {
      "image/png": "[encoded data removed]",
      "text/plain": [
       "<Figure size 400x300 with 1 Axes>"
      ]
     },
     "metadata": {},
     "output_type": "display_data"
    }
   ],
   "source": [
    "fig = plot_losses_vs_steps(losses)\n",
    "plt.show()"
   ]
  },
  {
   "cell_type": "code",
   "execution_count": 151,
   "id": "f4e46c5c-9830-40e4-8e15-b151934b3496",
   "metadata": {},
   "outputs": [],
   "source": [
    "wrapped_vf = WrappedModel(aff_model)\n",
    "\n",
    "x_init = test_dataset[:][0].to(dtype=torch.float, device=device)\n",
    "solver = ODESolver(velocity_model=wrapped_vf)"
   ]
  },
  {
   "cell_type": "code",
   "execution_count": 152,
   "id": "56c2434e-c6e4-4b0a-8f29-b218a68b3051",
   "metadata": {},
   "outputs": [],
   "source": [
    "log_pol_vol = np.log(pol_volume)\n",
    "def log_p_pol(values):\n",
    "    return torch.full(values.shape[:-1], -log_pol_vol, dtype=values.dtype, device=values.device)"
   ]
  },
  {
   "cell_type": "code",
   "execution_count": 153,
   "id": "2a20d9b8-4926-49b2-85fc-18cfbc51fa0e",
   "metadata": {},
   "outputs": [],
   "source": [
    "t_sample_start = time.time()\n",
    "sol, log_det = sample_and_div(\n",
    "    ode_solver=solver,\n",
    "    x_init=x_init,\n",
    "    step_size=0.05,\n",
    "    method= \"midpoint\",\n",
    "    return_intermediates = False,\n",
    "    return_div= True,\n",
    "    exact_divergence=True,\n",
    ")\n",
    "t_sample_elapsed = time.time() - t_sample_start\n",
    "\n",
    "log_q0 = log_p_pol(x_init)\n",
    "log_q = log_q0 - log_det\n",
    "soll = sol.to(device='cpu', dtype=torch.double)\n"
   ]
  },
  {
   "cell_type": "code",
   "execution_count": 154,
   "id": "3a4cd275-9941-4015-b715-31f9af57eeee",
   "metadata": {},
   "outputs": [],
   "source": [
    "t_only_sample = time.time()\n",
    "_ = solver.sample(\n",
    "    x_init=x_init,\n",
    "    method='midpoint',\n",
    "    step_size=0.05,\n",
    "    return_intermediates=False,\n",
    ")  # sample from the model\n",
    "t_only_sample_elapsed = time.time() - t_only_sample\n",
    "\n",
    "# uncomment the lines below to check that the forward and reverse divergence are equal.\n",
    "# _, log_q2 = solver.compute_likelihood(\n",
    "#     x_1=sol2,\n",
    "#     method='midpoint',\n",
    "#     step_size=0.05, \n",
    "#     exact_divergence=True,\n",
    "#     log_p0=log_p_pol,\n",
    "#     return_intermediates=True\n",
    "# )\n",
    "# # log_q2 is almost equal to log_q from the cell above!"
   ]
  },
  {
   "cell_type": "code",
   "execution_count": 155,
   "id": "516d5294-dbe2-4fe8-bb2f-63f45ec7f35f",
   "metadata": {},
   "outputs": [
    {
     "name": "stdout",
     "output_type": "stream",
     "text": [
      "ESS: 0.801, KL div.: 8.374e-01, in pol: 0.058050000000000046,training time: 0.0, sampling time: 74.67183804512024, only sample time 3.841782569885254\n"
     ]
    }
   ],
   "source": [
    "n_test = x_init.shape[0]\n",
    "\n",
    "in_pol = ((psm._G @ soll.T) < psm._h).all(0)\n",
    "in_pol_sum = in_pol.sum()\n",
    "filtered_soll = soll[in_pol]\n",
    "\n",
    "log_p = mog_target.log_prob(filtered_soll)\n",
    "log_qq = log_q.to('cpu')[:, in_pol]\n",
    "\n",
    "ws = torch.exp(log_p - log_qq)\n",
    "KL_Z = ws.mean()\n",
    "ln_KL = (log_p - log_qq).mean() + np.log(KL_Z)\n",
    "KL = torch.exp(ln_KL)\n",
    "ESS = ws.sum()**2 / (ws**2).sum()\n",
    "\n",
    "print(f'ESS: {round(ESS.item() / n_test, 3)}, KL div.: {KL:.3e}, in pol: {1.0 - (in_pol_sum.item() / n_test)},' \\\n",
    "    f'training time: {train_time_total}, sampling time: {t_sample_elapsed}, only sample time {t_only_sample_elapsed}')"
   ]
  },
  {
   "cell_type": "code",
   "execution_count": 75,
   "id": "d0ff7b6a-37b0-4a53-bdd8-d711a6ffd929",
   "metadata": {},
   "outputs": [],
   "source": [
    "plt.ioff()\n",
    "\n",
    "fig, ax = plot_dataframes(\n",
    "    vertices=v_representation,\n",
    "    samples=pd.DataFrame(soll.numpy(), columns=psm.rounded_id),\n",
    "    n_sample_cdf=10000,\n",
    "    points=means_df,\n",
    "    x_col='R_h_out', \n",
    "    y_col='R_biomass',\n",
    "    x_label='R_h_out', \n",
    "    y_label='R_biomass',\n",
    "    label1='Polytope', \n",
    "    label2='Samples Convex Hull',\n",
    "    label3='Samples KDE Density', \n",
    "    label4='Additional Points',\n",
    "    bw_method=None,\n",
    "    bw_adjust=0.6,\n",
    "    levels=8,\n",
    "    font_dict=None,\n",
    "    vertices_fill_color='#ffec58',\n",
    "    samples_fill_color='#e02450',\n",
    "    figsize=(6, 4),\n",
    "    show_legend=False,\n",
    "    legend_loc='best',\n",
    "    s_points=15,\n",
    "    points_color='#C41E3A',\n",
    ")\n",
    "# plt.show()"
   ]
  },
  {
   "cell_type": "code",
   "execution_count": 76,
   "id": "454d1e28-d64e-413d-8aea-c9b932ed0f73",
   "metadata": {},
   "outputs": [],
   "source": [
    "plt.savefig(\n",
    "    'affine_flow.svg', transparent=None, dpi='figure', format='svg',\n",
    "    metadata=None, bbox_inches=None, pad_inches=0.1,\n",
    "    facecolor='auto', edgecolor='auto', backend=None,\n",
    ")"
   ]
  },
  {
   "cell_type": "markdown",
   "id": "3a995357-5ea2-463e-928f-092519c81cda",
   "metadata": {},
   "source": [
    "### Higher dimensions"
   ]
  },
  {
   "cell_type": "code",
   "execution_count": 4,
   "id": "d5f0c861-81aa-4142-9013-b27debcd8246",
   "metadata": {},
   "outputs": [
    {
     "name": "stdout",
     "output_type": "stream",
     "text": [
      "Set parameter Username\n",
      "Academic license - for non-commercial use only - expires 2025-07-27\n"
     ]
    }
   ],
   "source": [
    "data = az.from_netcdf('Kmog_polytope_105k_samples.nc')\n",
    "A_cols = [v[2:] for v in data.posterior.theta_id.values]\n",
    "Kpol = Polytope(\n",
    "    A=pd.DataFrame(data.attrs['A'], columns=A_cols),\n",
    "    b=pd.Series(data.attrs['b']),\n",
    ")\n",
    "Kpsm = PolytopeSamplingModel(Kpol, linalg=LinAlg(backend='torch'))\n",
    "Kmeans_df = pd.DataFrame(\n",
    "    np.hstack([data.attrs['mog_means'], data.attrs['mog_weights'][:, None]]), \n",
    "    columns=Kpsm.rounded_id.append(pd.Index(['weights']))\n",
    ")\n",
    "Kmog_target = MixtureOfGaussians(\n",
    "    means=torch.as_tensor(data.attrs['mog_means'], dtype=torch.float), \n",
    "    covariances=torch.as_tensor(data.attrs['mog_covs'], dtype=torch.float),\n",
    "    weights=torch.as_tensor(data.attrs['mog_weights'], dtype=torch.float),\n",
    "    log_Z=np.log(data.attrs['mog_Z']),\n",
    ")\n",
    "Kmog_rounded =  torch.as_tensor(\n",
    "    az.extract(data, combined=True, var_names='theta', keep_dataset=False, rng=2).values, device=device, dtype=torch.float\n",
    ").T\n",
    "# del data"
   ]
  },
  {
   "cell_type": "code",
   "execution_count": 6,
   "id": "8ae13753-c53b-4a5f-b62f-51e09248d775",
   "metadata": {},
   "outputs": [],
   "source": [
    "data = az.from_netcdf('Kunif_polytope_125k_samples.nc')\n",
    "Kunif_rounded =  torch.as_tensor(\n",
    "    az.extract(data, combined=True, var_names='theta', keep_dataset=False, rng=2).values\n",
    ").T\n",
    "del data"
   ]
  },
  {
   "cell_type": "code",
   "execution_count": 7,
   "id": "4671c392-6534-4f28-b7a4-82e04f16591a",
   "metadata": {},
   "outputs": [],
   "source": [
    "lr = 1e-3\n",
    "n_epochs = 35\n",
    "batch_size = 1024*8\n",
    "hidden_dim = 1024\n",
    "test_size = 20000\n",
    "\n",
    "# velocity field model init\n",
    "Kaff_model = MLP(input_dim=Kunif_rounded.shape[-1], time_dim=1, hidden_dim=hidden_dim, hidden_layers=6).to(device) \n",
    "\n",
    "# instantiate an affine path object\n",
    "path = AffineProbPath(scheduler=CondOTScheduler())\n",
    "\n",
    "# init optimizer\n",
    "optimizer = torch.optim.Adam(Kaff_model.parameters(), lr=lr) \n",
    "scheduler = None\n",
    "\n",
    "target_dataset = torch.utils.data.TensorDataset(Kmog_rounded.to(dtype=torch.float, device=device))\n",
    "target_dataloader = torch.utils.data.DataLoader(target_dataset, batch_size=batch_size, shuffle=True, num_workers=0)\n",
    "\n",
    "noise_dataset = torch.utils.data.TensorDataset(Kunif_rounded.to(dtype=torch.float, device=device))\n",
    "test_dataset, noise_dataset = torch.utils.data.random_split(noise_dataset, [test_size, len(noise_dataset) - test_size])\n",
    "noise_dataloader = torch.utils.data.DataLoader(noise_dataset, batch_size=batch_size, shuffle=True, num_workers=0)\n",
    "\n",
    "train_time_total = 0.0\n",
    "losses = []"
   ]
  },
  {
   "cell_type": "code",
   "execution_count": 8,
   "id": "8394d496-03f1-4eb3-9c31-20f852338f5b",
   "metadata": {},
   "outputs": [
    {
     "name": "stderr",
     "output_type": "stream",
     "text": [
      "C:\\Users\\diede\\AppData\\Local\\Temp\\ipykernel_13996\\3887129052.py:7: FutureWarning: You are using `torch.load` with `weights_only=False` (the current default value), which uses the default pickle module implicitly. It is possible to construct malicious pickle data which will execute arbitrary code during unpickling (See https://github.com/pytorch/pytorch/blob/main/SECURITY.md#untrusted-models for more details). In a future release, the default value for `weights_only` will be flipped to `True`. This limits the functions that could be executed during unpickling. Arbitrary objects will no longer be allowed to be loaded via this mode unless they are explicitly allowlisted by the user via `torch.serialization.add_safe_globals`. We recommend you start setting `weights_only=True` for any use case where you don't have full control of the loaded file. Please open an issue on GitHub for any issues related to this experimental feature.\n",
      "  Kaff_model.load_state_dict(torch.load(\"Kaff_model.pt\"))\n"
     ]
    }
   ],
   "source": [
    "train_time = train_affine(Kaff_model, optimizer, noise_dataloader, target_dataloader, losses)\n",
    "train_time_total += train_time\n",
    "\n",
    "torch.save(Kaff_model.state_dict(), \"Kaff_model.pt\")\n",
    "pickle.dump((losses, train_time_total), open('Kaff_model_losses.p', 'wb'))\n",
    "\n",
    "Kaff_model.load_state_dict(torch.load(\"Kaff_model.pt\"))\n",
    "losses, train_time_total = pickle.load(open('Kaff_model_losses.p', 'rb'))"
   ]
  },
  {
   "cell_type": "code",
   "execution_count": 9,
   "id": "f64d5945-5db7-43d3-8ae0-9800bb979fa1",
   "metadata": {},
   "outputs": [
    {
     "data": {
      "image/png": "[encoded data removed]",
      "text/plain": [
       "<Figure size 400x300 with 1 Axes>"
      ]
     },
     "metadata": {},
     "output_type": "display_data"
    }
   ],
   "source": [
    "fig = plot_losses_vs_steps(losses)\n",
    "plt.show()"
   ]
  },
  {
   "cell_type": "code",
   "execution_count": 10,
   "id": "6934792d-70dc-4c49-b88e-d051240a38ed",
   "metadata": {},
   "outputs": [],
   "source": [
    "wrapped_vf = WrappedModel(Kaff_model)\n",
    "\n",
    "step_size = torch.Tensor([0.05]).to(device=device, dtype=torch.float)\n",
    "\n",
    "x_init = test_dataset[:][0].to(dtype=torch.float, device=device)\n",
    "solver = ODESolver(velocity_model=wrapped_vf)  # create an ODESolver class"
   ]
  },
  {
   "cell_type": "code",
   "execution_count": 17,
   "id": "a7aa7838-284e-42ad-bf24-87f1d262ceb8",
   "metadata": {},
   "outputs": [],
   "source": [
    "sols = []\n",
    "log_dets = []\n",
    "test_loader = torch.utils.data.DataLoader(x_init, batch_size=1500)\n",
    "\n",
    "t_sample_start = time.time()\n",
    "\n",
    "for i, batch in enumerate(test_loader):\n",
    "    print(i)\n",
    "    sol, log_det = sample_and_div(\n",
    "        ode_solver=solver,\n",
    "        x_init=batch,\n",
    "        step_size=0.05,\n",
    "        method= \"midpoint\",\n",
    "        return_intermediates = False,\n",
    "        return_div= True,\n",
    "        exact_divergence=True,\n",
    "    )\n",
    "    sols.append(sol.detach())\n",
    "    log_dets.append(log_det.detach())\n",
    "\n",
    "t_sample_elapsed = time.time() - t_sample_start\n",
    "\n",
    "pickle.dump((torch.cat(sols).to('cpu'), torch.cat(log_dets, 1).to('cpu'), t_sample_elapsed), open('Kflow_sols_log_dets2.p', 'wb'))"
   ]
  },
  {
   "cell_type": "code",
   "execution_count": 11,
   "id": "dca03009-0bd3-40d7-86b3-a3e1fbd0e42b",
   "metadata": {},
   "outputs": [],
   "source": [
    "t_only_sample = time.time()\n",
    "_ = solver.sample(\n",
    "    x_init=x_init,\n",
    "    method='midpoint',\n",
    "    step_size=0.05,\n",
    "    return_intermediates=False,\n",
    ")  # sample from the model\n",
    "t_only_sample_elapsed = time.time() - t_only_sample"
   ]
  },
  {
   "cell_type": "code",
   "execution_count": 12,
   "id": "eec69170-feba-4470-84b1-6b1a5c607110",
   "metadata": {},
   "outputs": [],
   "source": [
    "sol, log_det, t_sample_elapsed = pickle.load(open('Kflow_sols_log_dets.p', 'rb'))\n",
    "sol = sol.to(dtype=torch.double)\n",
    "log_det = log_det.to(dtype=torch.double)"
   ]
  },
  {
   "cell_type": "code",
   "execution_count": 13,
   "id": "ef31e869-b496-47a2-b7b7-908095d063d4",
   "metadata": {},
   "outputs": [],
   "source": [
    "log_pol_vol = -np.log(2**Kpsm.dimensionality)\n",
    "def log_p_pol(values):\n",
    "    return torch.full(values.shape[:-1], log_pol_vol, dtype=values.dtype, device=values.device)"
   ]
  },
  {
   "cell_type": "code",
   "execution_count": 14,
   "id": "5b6927ad-31eb-41ed-9e76-f700ec853a0c",
   "metadata": {},
   "outputs": [],
   "source": [
    "log_q0 = log_p_pol(x_init.to(device='cpu'))\n",
    "log_q = log_q0 - log_det\n",
    "soll = sol.to(device='cpu', dtype=torch.double)"
   ]
  },
  {
   "cell_type": "code",
   "execution_count": 15,
   "id": "f87f16e0-6ebc-43d1-8c31-93b62bcccbd4",
   "metadata": {},
   "outputs": [
    {
     "name": "stdout",
     "output_type": "stream",
     "text": [
      "ESS: 0.198, KL div.: 8.236e-02, in pol: 0.12495,training time: 302.3912925720215, sampling time: 991.6410048007965, only sample time 11.42766547203064\n"
     ]
    }
   ],
   "source": [
    "n_test = x_init.shape[0]\n",
    "\n",
    "in_pol = ((Kpsm._G @ soll.T) < Kpsm._h).all(0)\n",
    "in_pol_sum = in_pol.sum()\n",
    "filtered_soll = soll[in_pol]\n",
    "\n",
    "log_p = Kmog_target.log_prob(filtered_soll)\n",
    "log_qq = log_q.to('cpu')[:, in_pol]\n",
    "\n",
    "ws = torch.exp(log_p - log_qq)\n",
    "KL_Z = ws.mean()\n",
    "ln_KL = (log_p - log_qq).mean() + np.log(KL_Z)\n",
    "KL = torch.exp(ln_KL)\n",
    "ESS = ws.sum()**2 / (ws**2).sum()\n",
    "\n",
    "print(f'ESS: {round(ESS.item() / n_test, 3)}, KL div.: {KL:.3e}, in pol: {1.0 - (in_pol_sum.item() / n_test)},' \\\n",
    "    f'training time: {train_time_total}, sampling time: {t_sample_elapsed}, only sample time {t_only_sample_elapsed}')"
   ]
  },
  {
   "cell_type": "code",
   "execution_count": 51,
   "id": "5ac31af0-3fda-466d-a82c-68c07ac8e19d",
   "metadata": {},
   "outputs": [],
   "source": [
    "import itertools\n",
    "Kv_representation = pd.DataFrame(np.array(list(itertools.product([-1, 1], repeat=20))), columns=Kpsm.rounded_id)"
   ]
  },
  {
   "cell_type": "code",
   "execution_count": 56,
   "id": "e46a8512-ce56-4583-9511-24653bca593d",
   "metadata": {},
   "outputs": [],
   "source": [
    "plt.ioff()\n",
    "\n",
    "fig, ax = plot_dataframes(\n",
    "    vertices=Kv_representation,\n",
    "    samples=pd.DataFrame(sol, columns=Kpsm.rounded_id),\n",
    "    n_sample_cdf=1000,\n",
    "    points=Kmeans_df,\n",
    "    x_col='R_fki', \n",
    "    y_col='R_bfn',\n",
    "    x_label='R_fki', \n",
    "    y_label='R_bfn',\n",
    "    label1='Polytope', \n",
    "    label2='Samples Convex Hull',\n",
    "    label3='Samples KDE Density', \n",
    "    label4='Additional Points',\n",
    "    bw_method=None,\n",
    "    bw_adjust=0.6,\n",
    "    levels=8,\n",
    "    font_dict=None,\n",
    "    vertices_fill_color='#ffec58',\n",
    "    samples_fill_color='#e02450',\n",
    "    figsize=(6, 4),\n",
    "    show_legend=False,\n",
    "    legend_loc='best',\n",
    "    s_points=15,\n",
    "    points_color='#C41E3A',\n",
    "    yticker=0.5,\n",
    "    xticker=0.5,\n",
    ")\n",
    "# plt.show()"
   ]
  },
  {
   "cell_type": "code",
   "execution_count": 57,
   "id": "91f89a47-1ffc-46a0-b226-dff17a659a77",
   "metadata": {},
   "outputs": [],
   "source": [
    "plt.savefig(\n",
    "    'Kaffine_flow.svg', transparent=None, dpi='figure', format='svg',\n",
    "    metadata=None, bbox_inches=None, pad_inches=0.1,\n",
    "    facecolor='auto', edgecolor='auto', backend=None,\n",
    ")"
   ]
  },
  {
   "cell_type": "markdown",
   "id": "8ede83b8-1be7-4181-be68-d7b72a39759e",
   "metadata": {},
   "source": [
    "### Riemannian flows"
   ]
  },
  {
   "cell_type": "code",
   "execution_count": 6,
   "id": "0c67e182-1ed4-4089-a87d-9f01cc90a32f",
   "metadata": {},
   "outputs": [],
   "source": [
    "def train_riemann(model, optimizer, dataloader, losses):\n",
    "    n_steps = n_epochs * len(dataloader)\n",
    "    pbar = tqdm(total=n_steps, ncols=120, position=0)\n",
    "    try:\n",
    "        for epoch in range(n_epochs):\n",
    "            # use fixed data-set\n",
    "            for i, target_chunk in enumerate(dataloader): \n",
    "                optimizer.zero_grad() \n",
    "\n",
    "                target_chunk = target_chunk[0]\n",
    "                noise_chunk = ball_noise.sample(target_chunk.shape[0])\n",
    "    \n",
    "                t = torch.rand(target_chunk.shape[:-1]).to(device) \n",
    "                \n",
    "                # sample probability path\n",
    "                path_sample = path.sample(t=t, x_0=noise_chunk, x_1=target_chunk)\n",
    "            \n",
    "                # flow matching l2 loss\n",
    "                loss = torch.pow( model(path_sample.x_t,path_sample.t) - path_sample.dx_t, 2).mean() \n",
    "            \n",
    "                # # optimizer step\n",
    "                if ~(torch.isnan(loss) | torch.isinf(loss)):\n",
    "                    loss.backward()\n",
    "                    optimizer.step()\n",
    "                else:\n",
    "                    raise ValueError(f'loss: {loss}')\n",
    "    \n",
    "                loss_float = loss.item()\n",
    "                losses.append(loss_float)\n",
    "                pbar.update()\n",
    "                pbar.set_postfix(loss=round(loss_float, 4))\n",
    "                \n",
    "            if (scheduler is not None):\n",
    "                scheduler.step()            \n",
    "    except KeyboardInterrupt:\n",
    "        pass\n",
    "    except Exception as e:\n",
    "        raise e\n",
    "    finally:\n",
    "        pbar.close()\n",
    "        return pbar.last_print_t - pbar.start_t"
   ]
  },
  {
   "cell_type": "code",
   "execution_count": 102,
   "id": "dcfbdc21-617b-44b5-964c-df679f3373ff",
   "metadata": {},
   "outputs": [],
   "source": [
    "# training arguments\n",
    "lr = 1e-3\n",
    "\n",
    "n_epochs = 50\n",
    "batch_size = 1024 * 8\n",
    "hidden_dim = 512\n",
    "eps = 1e-9\n",
    "manifold = BallManifold(dim=mog_rounded.shape[-1], eps=eps)\n",
    "\n",
    "# velocity field model init\n",
    "ball_model = ProjectToTangent(  # Ensures we can just use Euclidean divergence.\n",
    "    MLP(  # Vector field in the ambient space.\n",
    "        input_dim=mog_rounded.shape[-1],\n",
    "        hidden_dim=hidden_dim,\n",
    "        hidden_layers=6,\n",
    "    ),\n",
    "    manifold=manifold,\n",
    ").to(device)\n",
    "\n",
    "# instantiate an affine path object\n",
    "path = GeodesicProbPath(scheduler=CondOTScheduler(), manifold=manifold)\n",
    "\n",
    "alpha_root = K\n",
    "mog_ball = map_rounded_2_ball(psm, mog_rounded.to(dtype=torch.double, device='cpu'), sep_radius=False, alpha_root=alpha_root) \n",
    "mog_ball[mog_ball.norm(2, -1) > 1-eps] = 1-eps\n",
    "target_dataset = torch.utils.data.TensorDataset(mog_ball.to(dtype=torch.float, device=device))\n",
    "target_dataloader = torch.utils.data.DataLoader(target_dataset, batch_size=batch_size, shuffle=True, num_workers=0)\n",
    "\n",
    "ball_noise = UniformBall(K, device=device)\n",
    "\n",
    "# init optimizer\n",
    "optimizer = torch.optim.Adam(ball_model.parameters(), lr=lr) \n",
    "\n",
    "scheduler = None\n",
    "train_time_total = 0.0\n",
    "losses = []"
   ]
  },
  {
   "cell_type": "code",
   "execution_count": 129,
   "id": "667d514d-4249-4f6a-94d2-13a732b4333e",
   "metadata": {},
   "outputs": [
    {
     "name": "stderr",
     "output_type": "stream",
     "text": [
      "C:\\Users\\diede\\AppData\\Local\\Temp\\ipykernel_15480\\67872831.py:8: FutureWarning: You are using `torch.load` with `weights_only=False` (the current default value), which uses the default pickle module implicitly. It is possible to construct malicious pickle data which will execute arbitrary code during unpickling (See https://github.com/pytorch/pytorch/blob/main/SECURITY.md#untrusted-models for more details). In a future release, the default value for `weights_only` will be flipped to `True`. This limits the functions that could be executed during unpickling. Arbitrary objects will no longer be allowed to be loaded via this mode unless they are explicitly allowlisted by the user via `torch.serialization.add_safe_globals`. We recommend you start setting `weights_only=True` for any use case where you don't have full control of the loaded file. Please open an issue on GitHub for any issues related to this experimental feature.\n",
      "  ball_model.load_state_dict(torch.load(\"ball_model.pt\"))\n"
     ]
    },
    {
     "data": {
      "text/plain": [
       "<All keys matched successfully>"
      ]
     },
     "execution_count": 129,
     "metadata": {},
     "output_type": "execute_result"
    }
   ],
   "source": [
    "train_time = train_riemann(ball_model, optimizer, target_dataloader, losses)\n",
    "train_time_total += train_time\n",
    "\n",
    "torch.save(ball_model.state_dict(), \"ball_model2.pt\")\n",
    "pickle.dump((losses, train_time_total), open('ball_losses2.p', 'wb'))\n",
    "\n",
    "losses, train_time_total = pickle.load(open('ball_losses.p', 'rb'))\n",
    "ball_model.load_state_dict(torch.load(\"ball_model.pt\"))"
   ]
  },
  {
   "cell_type": "code",
   "execution_count": 130,
   "id": "efa0f782-9b9f-4170-acf9-e4b3de29cf44",
   "metadata": {},
   "outputs": [
    {
     "data": {
      "image/png": "[encoded data removed]",
      "text/plain": [
       "<Figure size 400x300 with 1 Axes>"
      ]
     },
     "metadata": {},
     "output_type": "display_data"
    }
   ],
   "source": [
    "fig = plot_losses_vs_steps(losses, axmax=0.4)\n",
    "plt.show()"
   ]
  },
  {
   "cell_type": "code",
   "execution_count": 137,
   "id": "d6a8d209-2497-47d6-bba5-32f11aa7ac84",
   "metadata": {},
   "outputs": [],
   "source": [
    "wrapped_vf = WrappedModel(ball_model)\n",
    "n_test = 20000\n",
    "x_init = ball_noise.sample(n_test)\n",
    "solver = RiemannianODESolver(velocity_model=wrapped_vf, manifold=manifold)  # create an ODESolver class"
   ]
  },
  {
   "cell_type": "code",
   "execution_count": 142,
   "id": "3b668893-2bda-4702-a40d-f75a39d422b8",
   "metadata": {},
   "outputs": [],
   "source": [
    "t_sample_start = time.time()\n",
    "sol, log_det = riem_sample_and_div(\n",
    "    riem_solver=solver,\n",
    "    xt_batch_size=5000,\n",
    "    x_init=x_init,\n",
    "    step_size=0.05,\n",
    "    method= \"midpoint\",\n",
    "    return_intermediates=False,\n",
    "    return_div=True,\n",
    "    exact_divergence=True,\n",
    ")\n",
    "t_sample_elapsed = time.time() - t_sample_start\n"
   ]
  },
  {
   "cell_type": "code",
   "execution_count": 143,
   "id": "4d9ceaab-41bc-4ffe-9842-f39947e44e87",
   "metadata": {},
   "outputs": [],
   "source": [
    "t_only_sample_start = time.time()\n",
    "_ = solver.sample(\n",
    "    x_init=x_init,\n",
    "    step_size=0.05,\n",
    "    method= \"midpoint\",\n",
    "    return_intermediates=False,\n",
    "    exact_divergence=True,\n",
    ")\n",
    "t_only_sample_elapsed = time.time() - t_only_sample_start\n"
   ]
  },
  {
   "cell_type": "code",
   "execution_count": 145,
   "id": "53e12b02-ef90-4f47-891b-8723d0142333",
   "metadata": {},
   "outputs": [],
   "source": [
    "soll = sol.to(device='cpu', dtype=torch.double)\n",
    "\n",
    "ball_flow_rounded, J_rb = map_ball_2_rounded(psm, ball=soll, alpha_root=alpha_root, sep_radius=False, jacobian=True)\n",
    "\n",
    "log_abs_dets_J = torch.log(abs(fcm._la.det(J_rb)))  # log abs det of Jacobian from ball to rounded\n",
    "log_q0 = ball_noise.log_prob(x_init).to('cpu')\n",
    "log_q = log_q0 - log_det.to('cpu') - log_abs_dets_J \n"
   ]
  },
  {
   "cell_type": "code",
   "execution_count": 146,
   "id": "f30da2e1-4fd5-4d78-b316-ea897a740255",
   "metadata": {},
   "outputs": [],
   "source": [
    "# uncomment to check that the jacobian is indeed correct.\n",
    "# from torch.autograd.functional import jacobian\n",
    "# f = lambda x: map_ball_2_rounded(psm, x, sep_radius=False, jacobian=False)\n",
    "# jacobian(f, soll[0])\n",
    "# J_rb[0]"
   ]
  },
  {
   "cell_type": "code",
   "execution_count": 147,
   "id": "ae048fbc-7381-42fd-9c28-15487d67d27d",
   "metadata": {},
   "outputs": [
    {
     "name": "stdout",
     "output_type": "stream",
     "text": [
      "ESS: 0.634, KL div.: 8.428e-01, in pol: 0,training time: 247.3304512500763, sampling time: 32.662413597106934, only sample time 1.3666741847991943\n"
     ]
    }
   ],
   "source": [
    "log_p = mog_target.log_prob(ball_flow_rounded.to(device='cpu'))\n",
    "\n",
    "diff = log_p - log_q\n",
    "ws = torch.exp(diff)\n",
    "KL_Z = ws.mean()\n",
    "ln_KL = (log_p + log_q).mean() + np.log(KL_Z)\n",
    "KL = np.exp(ln_KL)\n",
    "ESS = ws.sum()**2 / (ws**2).sum()\n",
    "print(f'ESS: {round(ESS.item() / n_test, 3)}, KL div.: {KL:.3e}, in pol: {0},' \\\n",
    "    f'training time: {train_time_total}, sampling time: {t_sample_elapsed}, only sample time {t_only_sample_elapsed}')"
   ]
  },
  {
   "cell_type": "code",
   "execution_count": 140,
   "id": "061ed2d6-17d5-467f-a816-0def4d179e52",
   "metadata": {},
   "outputs": [],
   "source": [
    "plt.ioff()\n",
    "\n",
    "fig, ax = plot_dataframes(\n",
    "    vertices=v_representation,\n",
    "    samples=pd.DataFrame(ball_flow_rounded, columns=fcm.sampler.rounded_id),\n",
    "    n_sample_cdf=10000,\n",
    "    points=means_df,\n",
    "    x_col='R_h_out', \n",
    "    y_col='R_biomass',\n",
    "    x_label='R_h_out', \n",
    "    y_label='R_biomass',\n",
    "    label1='Polytope', \n",
    "    label2='Samples Convex Hull',\n",
    "    label3='Samples KDE Density', \n",
    "    label4='Additional Points',\n",
    "    bw_method=None,\n",
    "    bw_adjust=0.6,\n",
    "    levels=8,\n",
    "    font_dict=None,\n",
    "    vertices_fill_color='#ffec58',\n",
    "    samples_fill_color='#e02450',\n",
    "    figsize=(6, 4),\n",
    "    show_legend=False,\n",
    "    legend_loc='best',\n",
    "    s_points=15,\n",
    "    points_color='#C41E3A',\n",
    ")\n",
    "# plt.show()"
   ]
  },
  {
   "cell_type": "code",
   "execution_count": 141,
   "id": "784b342d-bf06-474b-97a4-80f5e109d0ee",
   "metadata": {},
   "outputs": [
    {
     "data": {
      "image/png": "[encoded data removed]",
      "text/plain": [
       "<Figure size 600x400 with 1 Axes>"
      ]
     },
     "metadata": {},
     "output_type": "display_data"
    }
   ],
   "source": [
    "plt.show()"
   ]
  },
  {
   "cell_type": "code",
   "execution_count": 114,
   "id": "12839a2e-15bc-44cc-88c4-afff137591c2",
   "metadata": {},
   "outputs": [],
   "source": [
    "plt.savefig(\n",
    "    'ball_flow.svg', transparent=None, dpi='figure', format='svg',\n",
    "    metadata=None, bbox_inches=None, pad_inches=0.1,\n",
    "    facecolor='auto', edgecolor='auto', backend=None,\n",
    ")"
   ]
  },
  {
   "cell_type": "code",
   "execution_count": null,
   "id": "8b7e1c3f-d460-4421-87df-7387216fcb06",
   "metadata": {},
   "outputs": [],
   "source": []
  }
 ],
 "metadata": {
  "kernelspec": {
   "display_name": "Python 3 (ipykernel)",
   "language": "python",
   "name": "python3"
  },
  "language_info": {
   "codemirror_mode": {
    "name": "ipython",
    "version": 3
   },
   "file_extension": ".py",
   "mimetype": "text/x-python",
   "name": "python",
   "nbconvert_exporter": "python",
   "pygments_lexer": "ipython3",
   "version": "3.11.13"
  }
 },
 "nbformat": 4,
 "nbformat_minor": 5
}
