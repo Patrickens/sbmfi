{
 "cells": [
  {
   "cell_type": "code",
   "execution_count": 1,
   "id": "c783c08d-c024-4758-8e03-df0abd9d64ee",
   "metadata": {},
   "outputs": [
    {
     "ename": "ModuleNotFoundError",
     "evalue": "No module named 'sbmfi.inference.arxiv_polytope_plotter'",
     "output_type": "error",
     "traceback": [
      "\u001b[1;31m---------------------------------------------------------------------------\u001b[0m",
      "\u001b[1;31mModuleNotFoundError\u001b[0m                       Traceback (most recent call last)",
      "Cell \u001b[1;32mIn[1], line 31\u001b[0m\n\u001b[0;32m     29\u001b[0m \u001b[38;5;28;01mfrom\u001b[39;00m \u001b[38;5;21;01mmatplotlib\u001b[39;00m \u001b[38;5;28;01mimport\u001b[39;00m cm\n\u001b[0;32m     30\u001b[0m \u001b[38;5;28;01mimport\u001b[39;00m \u001b[38;5;21;01mmatplotlib\u001b[39;00m\u001b[38;5;21;01m.\u001b[39;00m\u001b[38;5;21;01mticker\u001b[39;00m \u001b[38;5;28;01mas\u001b[39;00m \u001b[38;5;21;01mticker\u001b[39;00m\n\u001b[1;32m---> 31\u001b[0m \u001b[38;5;28;01mfrom\u001b[39;00m \u001b[38;5;21;01msbmfi\u001b[39;00m\u001b[38;5;21;01m.\u001b[39;00m\u001b[38;5;21;01minference\u001b[39;00m\u001b[38;5;21;01m.\u001b[39;00m\u001b[38;5;21;01marxiv_polytope_plotter\u001b[39;00m \u001b[38;5;28;01mimport\u001b[39;00m plot_dataframes\n\u001b[0;32m     33\u001b[0m \u001b[38;5;28;01mfrom\u001b[39;00m \u001b[38;5;21;01mtorch\u001b[39;00m\u001b[38;5;21;01m.\u001b[39;00m\u001b[38;5;21;01mautograd\u001b[39;00m\u001b[38;5;21;01m.\u001b[39;00m\u001b[38;5;21;01mfunctional\u001b[39;00m \u001b[38;5;28;01mimport\u001b[39;00m jacobian\n\u001b[0;32m     35\u001b[0m \u001b[38;5;28;01mfrom\u001b[39;00m \u001b[38;5;21;01msbmfi\u001b[39;00m\u001b[38;5;21;01m.\u001b[39;00m\u001b[38;5;21;01mpriors\u001b[39;00m\u001b[38;5;21;01m.\u001b[39;00m\u001b[38;5;21;01mmog\u001b[39;00m \u001b[38;5;28;01mimport\u001b[39;00m \u001b[38;5;241m*\u001b[39m\n",
      "\u001b[1;31mModuleNotFoundError\u001b[0m: No module named 'sbmfi.inference.arxiv_polytope_plotter'"
     ]
    }
   ],
   "source": [
    "import time\n",
    "import torch\n",
    "import math\n",
    "import pandas as pd\n",
    "import numpy as np\n",
    "import arviz as az\n",
    "import tqdm\n",
    "import pickle\n",
    "import seaborn as sns\n",
    "import warnings\n",
    "warnings.filterwarnings(\"ignore\", category=UserWarning, module='torch')\n",
    "\n",
    "from scipy.stats import gaussian_kde\n",
    "from scipy.linalg import helmert\n",
    "\n",
    "from torch import nn, Tensor\n",
    "\n",
    "# flow_matching\n",
    "from flow_matching.path.scheduler import CondOTScheduler\n",
    "from flow_matching.path import AffineProbPath, GeodesicProbPath\n",
    "from flow_matching.solver import Solver, ODESolver, RiemannianODESolver\n",
    "from flow_matching.utils import ModelWrapper\n",
    "import math\n",
    "import torch\n",
    "from torch.utils.data import Dataset, DataLoader\n",
    "\n",
    "# visualization\n",
    "import matplotlib.pyplot as plt\n",
    "from matplotlib import cm\n",
    "import matplotlib.ticker as ticker\n",
    "from sbmfi.inference.arxiv_polytope_plotter import plot_dataframes\n",
    "\n",
    "from torch.autograd.functional import jacobian\n",
    "\n",
    "from sbmfi.priors.mog import *\n",
    "from sbmfi.core.coordinater import *\n",
    "from sbmfi.core.linalg import LinAlg\n",
    "from sbmfi.inference.continuous_flows import *\n",
    "import time\n"
   ]
  },
  {
   "cell_type": "code",
   "execution_count": 2,
   "id": "1a455165-0845-4ff4-a736-fb4b362a517d",
   "metadata": {},
   "outputs": [
    {
     "name": "stdout",
     "output_type": "stream",
     "text": [
      "Using gpu\n"
     ]
    },
    {
     "data": {
      "text/plain": [
       "<torch._C.Generator at 0x1ae80275dd0>"
      ]
     },
     "execution_count": 2,
     "metadata": {},
     "output_type": "execute_result"
    }
   ],
   "source": [
    "if torch.cuda.is_available():\n",
    "    device = 'cuda:0'\n",
    "    print('Using gpu')\n",
    "else:\n",
    "    device = 'cpu'\n",
    "    print('Using cpu.')\n",
    "torch.set_default_dtype(torch.float)\n",
    "torch.manual_seed(42)"
   ]
  },
  {
   "cell_type": "code",
   "execution_count": 3,
   "id": "13921238-c3d0-442a-9e3d-37d7c7d211c0",
   "metadata": {},
   "outputs": [],
   "source": [
    "fcm, v_representation, pol_volume = pickle.load(open('spiro_flux_coordinate_mapper.p', 'rb'))\n",
    "psm = fcm.sampler\n",
    "\n",
    "data = az.from_netcdf('mog_polytope_105k_samples.nc')\n",
    "mog_rounded = az.extract(data, combined=True, var_names='theta', keep_dataset=False, rng=2).values.T\n",
    "\n",
    "mog_target = MixtureOfGaussians(\n",
    "    means=torch.as_tensor(data.attrs['mog_means'], dtype=torch.float), \n",
    "    covariances=torch.as_tensor(data.attrs['mog_covs'], dtype=torch.float),\n",
    "    weights=torch.as_tensor(data.attrs['mog_weights'], dtype=torch.float),\n",
    "    log_Z=np.log(data.attrs['mog_Z']),\n",
    ")\n",
    "means_df = pd.DataFrame(\n",
    "    np.hstack([data.attrs['mog_means'], data.attrs['mog_weights'][:, None]]), \n",
    "    columns=psm.rounded_id.append(pd.Index(['weights']))\n",
    ")\n",
    "mog_Z = data.attrs['mog_Z']\n",
    "del data\n",
    "\n",
    "K = psm.dimensionality\n"
   ]
  },
  {
   "cell_type": "code",
   "execution_count": 4,
   "id": "181237b5-4225-41f5-895b-9db989aaeb5f",
   "metadata": {},
   "outputs": [],
   "source": [
    "# max_ent = map_rounded_2_max_entropy(mog_rounded, v_representation.values, tolerance=1e-10)\n",
    "# pickle.dump(max_ent, open('max_ent.p', 'wb'))\n",
    "max_ent = pickle.load(open('max_ent.p', 'rb'))"
   ]
  },
  {
   "cell_type": "code",
   "execution_count": 5,
   "id": "ec238943-94ea-413f-831f-b5b3876153a0",
   "metadata": {},
   "outputs": [
    {
     "name": "stdout",
     "output_type": "stream",
     "text": [
      "number of target points on the boundary: 38\n"
     ]
    }
   ],
   "source": [
    "max_ent = torch.as_tensor(max_ent)\n",
    "\n",
    "la = LinAlg('torch')\n",
    "ilrs = map_simplex_2_ilr(max_ent, la, eps=0.0)\n",
    "on_boundary = torch.isnan(ilrs).any(1) \n",
    "ilrs = ilrs[~on_boundary]\n",
    "U, Sig, V = torch.linalg.svd(ilrs[:5000])\n",
    "V = V.T[:, :K]\n",
    "print(f'number of target points on the boundary: {on_boundary.sum()}')"
   ]
  },
  {
   "cell_type": "code",
   "execution_count": 6,
   "id": "34b8775f-4333-4183-b99a-a2c3fbab2c3a",
   "metadata": {},
   "outputs": [
    {
     "data": {
      "text/plain": [
       "tensor([6.3239e+02, 2.6658e+02, 1.8928e+02, 6.2663e+01, 1.3821e-13, 1.1375e-13,\n",
       "        9.4583e-14, 5.5620e-14, 4.7848e-14, 3.1849e-14, 2.8181e-14, 2.6175e-14,\n",
       "        1.8467e-14], dtype=torch.float64)"
      ]
     },
     "execution_count": 6,
     "metadata": {},
     "output_type": "execute_result"
    }
   ],
   "source": [
    "print(f'eigenvalues from the SVD: {Sig}')"
   ]
  },
  {
   "cell_type": "code",
   "execution_count": 59,
   "id": "7d233abe-ff83-42e5-94b8-e83aeca1bfb4",
   "metadata": {},
   "outputs": [
    {
     "name": "stdout",
     "output_type": "stream",
     "text": [
      "max reconstruction error: 2.813483578276347e-05\n",
      "fraction clipped values: 0.006478535011410713\n"
     ]
    }
   ],
   "source": [
    "K = psm.dimensionality\n",
    "truncated_ilrs = ilrs @ V\n",
    "reconstructed_ilrs = truncated_ilrs @ V.T\n",
    "print(f'max reconstruction error: {np.linalg.norm(ilrs - reconstructed_ilrs, 2, -1).max()}')\n",
    "print(f'fraction clipped values: {(abs(truncated_ilrs) > 20).sum() / np.prod(truncated_ilrs.shape)}')\n",
    "truncated_ilrs = truncated_ilrs.clip(-20, 20)\n"
   ]
  },
  {
   "cell_type": "code",
   "execution_count": 61,
   "id": "116408a4-0c55-4118-ba5c-5bf01ba3175e",
   "metadata": {},
   "outputs": [],
   "source": [
    "def train_affine(model, optimizer, losses, target_dataloader):\n",
    "    n_steps = n_epochs * len(target_dataloader)\n",
    "    pbar = tqdm(total=n_steps, ncols=120, position=0)\n",
    "    try:\n",
    "        for epoch in range(n_epochs):\n",
    "            for i, target_chunk in enumerate(target_dataloader):\n",
    "                optimizer.zero_grad() \n",
    "                noise_chunk = target_dist.sample((batch_size,))\n",
    "                t = torch.rand(noise_chunk.shape[0]).to(device) \n",
    "                \n",
    "                # sample probability path\n",
    "                path_sample = path.sample(t=t, x_0=noise_chunk, x_1=target_chunk[0])\n",
    "            \n",
    "                # flow matching l2 loss\n",
    "                loss = torch.pow(model(path_sample.x_t,path_sample.t) - path_sample.dx_t, 2).mean() \n",
    "            \n",
    "                # # optimizer step\n",
    "                if ~(torch.isnan(loss) | torch.isinf(loss)):\n",
    "                    loss.backward()\n",
    "                    optimizer.step()\n",
    "                else:\n",
    "                    raise ValueError(f'loss: {loss}')\n",
    "        \n",
    "                loss_ = loss.item()\n",
    "                losses.append(loss_)\n",
    "                pbar.update()\n",
    "                pbar.set_postfix(loss=round(loss_, 4))\n",
    "    except KeyboardInterrupt:\n",
    "        pass\n",
    "    except Exception as e:\n",
    "        raise e\n",
    "    finally:\n",
    "        pbar.close()\n",
    "        return pbar.last_print_t - pbar.start_t"
   ]
  },
  {
   "cell_type": "code",
   "execution_count": 62,
   "id": "76089998-e414-47f7-b85b-051df005e2ec",
   "metadata": {},
   "outputs": [],
   "source": [
    "# training arguments\n",
    "lr = 1e-3\n",
    "n_epochs = 50\n",
    "batch_size = 1024*8\n",
    "hidden_dim = 512\n",
    "\n",
    "# velocity field model init\n",
    "aff_model = MLP(input_dim=K, time_dim=1, hidden_dim=hidden_dim, hidden_layers=7).to(device) \n",
    "\n",
    "# instantiate an affine path object\n",
    "path = AffineProbPath(scheduler=CondOTScheduler())\n",
    "\n",
    "# init optimizer\n",
    "optimizer = torch.optim.Adam(aff_model.parameters(), lr=lr) \n",
    "scheduler = None\n",
    "\n",
    "mu = truncated_ilrs.mean(0)\n",
    "std = truncated_ilrs.std(0)\n",
    "\n",
    "norm_tilrs = (truncated_ilrs - mu) / std\n",
    "target_dataset = torch.utils.data.TensorDataset(torch.as_tensor(norm_tilrs, dtype=torch.float, device=device))\n",
    "target_dataloader = torch.utils.data.DataLoader(target_dataset, batch_size=batch_size, shuffle=True, num_workers=0, drop_last=True)\n",
    "\n",
    "test_size = 20000\n",
    "\n",
    "loc = torch.zeros(K, dtype=torch.float, device=device)\n",
    "cov = torch.as_tensor(np.cov(norm_tilrs.T), dtype=torch.float, device=device)\n",
    "target_dist = torch.distributions.MultivariateNormal(loc, cov*0.1)\n",
    "\n",
    "train_time_total = 0.0\n",
    "losses = []"
   ]
  },
  {
   "cell_type": "code",
   "execution_count": 63,
   "id": "52e8bb69-ee17-45a7-8398-9e33cb64368a",
   "metadata": {},
   "outputs": [
    {
     "name": "stderr",
     "output_type": "stream",
     "text": [
      "C:\\Users\\diede\\AppData\\Local\\Temp\\ipykernel_14644\\991703066.py:8: FutureWarning: You are using `torch.load` with `weights_only=False` (the current default value), which uses the default pickle module implicitly. It is possible to construct malicious pickle data which will execute arbitrary code during unpickling (See https://github.com/pytorch/pytorch/blob/main/SECURITY.md#untrusted-models for more details). In a future release, the default value for `weights_only` will be flipped to `True`. This limits the functions that could be executed during unpickling. Arbitrary objects will no longer be allowed to be loaded via this mode unless they are explicitly allowlisted by the user via `torch.serialization.add_safe_globals`. We recommend you start setting `weights_only=True` for any use case where you don't have full control of the loaded file. Please open an issue on GitHub for any issues related to this experimental feature.\n",
      "  aff_model.load_state_dict(torch.load(\"bary_model.pt\"))\n"
     ]
    },
    {
     "data": {
      "text/plain": [
       "<All keys matched successfully>"
      ]
     },
     "execution_count": 63,
     "metadata": {},
     "output_type": "execute_result"
    }
   ],
   "source": [
    "train_time = train_affine(aff_model, optimizer, losses, target_dataloader)\n",
    "train_time_total += train_time\n",
    "\n",
    "torch.save(aff_model.state_dict(), \"bary_model.pt\")\n",
    "pickle.dump((losses, train_time_total), open('bary_losses.p', 'wb'))\n",
    "\n",
    "losses, train_time_total = pickle.load(open('bary_losses.p', 'rb'))\n",
    "aff_model.load_state_dict(torch.load(\"bary_model.pt\"))"
   ]
  },
  {
   "cell_type": "code",
   "execution_count": 64,
   "id": "ada2632b-da3b-4537-aba8-200c5a9d7e97",
   "metadata": {},
   "outputs": [
    {
     "data": {
      "image/png": "[encoded data removed]",
      "text/plain": [
       "<Figure size 600x400 with 1 Axes>"
      ]
     },
     "metadata": {},
     "output_type": "display_data"
    },
    {
     "data": {
      "image/png": "[encoded data removed]",
      "text/plain": [
       "<Figure size 400x300 with 1 Axes>"
      ]
     },
     "metadata": {},
     "output_type": "display_data"
    }
   ],
   "source": [
    "plot_losses_vs_steps(losses)\n",
    "plt.show()"
   ]
  },
  {
   "cell_type": "code",
   "execution_count": 65,
   "id": "53186d0d-512a-40a8-8859-05c0a11712e0",
   "metadata": {},
   "outputs": [],
   "source": [
    "\n",
    "n_test_samples = 20000\n",
    "wrapped_vf = WrappedModel(aff_model)\n",
    "x_init = target_dist.sample((n_test_samples, ))\n",
    "solver = ODESolver(velocity_model=wrapped_vf)\n"
   ]
  },
  {
   "cell_type": "code",
   "execution_count": 48,
   "id": "914d872d-530a-4fb6-b8d5-bdb185a3d9b8",
   "metadata": {},
   "outputs": [],
   "source": [
    "t_sample_start = time.time()\n",
    "sol, log_det = sample_and_div(\n",
    "    ode_solver=solver,\n",
    "    x_init=x_init,\n",
    "    step_size=0.05,\n",
    "    method= \"midpoint\",\n",
    "    return_intermediates = False,\n",
    "    return_div= True,\n",
    "    exact_divergence=False,\n",
    ")\n",
    "t_sample_elapsed = time.time() - t_sample_start"
   ]
  },
  {
   "cell_type": "code",
   "execution_count": 67,
   "id": "43ab63c8-6312-4ea8-9840-4bc902dbe107",
   "metadata": {},
   "outputs": [],
   "source": [
    "pickle.dump((sol.to(device='cpu'), log_det.to(device='cpu'), t_sample_elapsed), open('bary_flow_sols_log_dets.p', 'wb'))\n",
    "sol, log_det, t_sample_elapsed = pickle.load(open('bary_flow_sols_log_dets.p', 'rb'))\n"
   ]
  },
  {
   "cell_type": "code",
   "execution_count": 68,
   "id": "6e539345-ceff-4788-adda-1ebfe9a2aec5",
   "metadata": {},
   "outputs": [],
   "source": [
    "t_only_sample = time.time()\n",
    "_ = solver.sample(\n",
    "    x_init=x_init,\n",
    "    method='midpoint',\n",
    "    step_size=0.05,\n",
    "    return_intermediates=False,\n",
    ")  # sample from the model\n",
    "t_only_sample_elapsed = time.time() - t_only_sample"
   ]
  },
  {
   "cell_type": "code",
   "execution_count": 69,
   "id": "e3970d7c-f844-4def-bc7f-a47d8b38f880",
   "metadata": {},
   "outputs": [],
   "source": [
    "\n",
    "\n",
    "sol = sol.to('cpu')\n",
    "sol_pilrs = (sol * std) + mu\n",
    "sol_ilrs = sol_pilrs @ V.T\n",
    "\n",
    "H = torch.as_tensor(helmert(v_representation.shape[0]), dtype=sol_ilrs.dtype)\n",
    "vrep = torch.as_tensor(v_representation.values, dtype=sol_ilrs.dtype)\n",
    "\n",
    "# uncomment the lines below to check the jacobian; should equal tot_J[0]\n",
    "# def func(sol):\n",
    "#     result = sol * std + mu\n",
    "#     result = result @ V.T\n",
    "#     result = (H.T @ result.T).T\n",
    "#     result = result.exp()\n",
    "#     result = result / result.sum(axis=1)\n",
    "#     result = vrep.T @ result.T\n",
    "#     return result\n",
    "# autojac = jacobian(func, sol[[0]])\n",
    "\n",
    "sol_simplex, J_ilr = map_ilr_2_simplex(sol_ilrs, la, H=H, jacobian=True)\n",
    "sol_pol = (vrep.T @ sol_simplex.T).T\n",
    "\n",
    "diag_std = torch.diag_embed(std).to(sol_ilrs.dtype)\n",
    "tot_J = diag_std @ V.T @ J_ilr.transpose(-1, -2) @ vrep\n",
    "\n",
    "log_abs_det_J_aitchison = torch.log(abs(torch.det(tot_J)))"
   ]
  },
  {
   "cell_type": "code",
   "execution_count": 70,
   "id": "5d98f015-d259-4810-9056-e78658cf5204",
   "metadata": {},
   "outputs": [],
   "source": [
    "sol_filter = torch.isnan(sol_pol).any(1)\n",
    "\n",
    "log_q = ((target_dist.log_prob(x_init).to('cpu') - log_det.to('cpu')) - log_abs_det_J_aitchison)[0, ~sol_filter]\n",
    "\n",
    "log_pol_vol = torch.log(torch.as_tensor(pol_volume))\n",
    "log_p = mog_target.log_prob(sol_pol[~sol_filter])"
   ]
  },
  {
   "cell_type": "code",
   "execution_count": 73,
   "id": "2ea6a89a-3577-43c8-b29b-6f71d1af6eb2",
   "metadata": {},
   "outputs": [
    {
     "name": "stdout",
     "output_type": "stream",
     "text": [
      "ESS: 0.718, KL div.: 4.784e-01, in pol: 0,training time: 213.68421292304993, sampling time: 11.447383642196655, only sample time 1.6938984394073486, points: 0\n"
     ]
    }
   ],
   "source": [
    "n_test = x_init.shape[0]\n",
    "diff = log_p - log_q\n",
    "diff[diff>0] = 0.0\n",
    "ws = torch.exp(diff)\n",
    "KL_Z = ws.mean()\n",
    "ln_KL = (log_p - log_q).mean() + torch.log(KL_Z)\n",
    "KL = torch.exp(ln_KL)\n",
    "ESS = ws.sum()**2 / (ws**2).sum()\n",
    "\n",
    "print(f'ESS: {round(ESS.item() / n_test, 3)}, KL div.: {KL:.3e}, in pol: {0},' \\\n",
    "    f'training time: {train_time_total}, sampling time: {t_sample_elapsed}, only sample time {t_only_sample_elapsed}, points: {sol_filter.sum()}')"
   ]
  },
  {
   "cell_type": "code",
   "execution_count": 39,
   "id": "ab38154d-9744-4e66-8fcb-da3e766b93a9",
   "metadata": {},
   "outputs": [],
   "source": [
    "plt.ioff()\n",
    "\n",
    "fig, ax = plot_dataframes(\n",
    "    vertices=v_representation,\n",
    "    samples=pd.DataFrame(sol_pol, columns=fcm.sampler.rounded_id),\n",
    "    n_sample_cdf=2000,\n",
    "    points=means_df,\n",
    "    x_col='R_h_out', \n",
    "    y_col='R_biomass',\n",
    "    x_label='R_h_out', \n",
    "    y_label='R_biomass',\n",
    "    label1='Polytope', \n",
    "    label2='Samples Convex Hull',\n",
    "    label3='Samples KDE Density', \n",
    "    label4='Additional Points',\n",
    "    bw_method=None,\n",
    "    bw_adjust=0.6,\n",
    "    levels=8,\n",
    "    font_dict=None,\n",
    "    vertices_fill_color='#ffec58',\n",
    "    samples_fill_color='#e02450',\n",
    "    figsize=(6, 4),\n",
    "    show_legend=False,\n",
    "    legend_loc='best',\n",
    "    s_points=15,\n",
    "    points_color='#C41E3A',\n",
    ")\n",
    "# plt.show()"
   ]
  },
  {
   "cell_type": "code",
   "execution_count": 40,
   "id": "ccb41fd9-7e1e-4a02-aeba-30e3068b0bc8",
   "metadata": {},
   "outputs": [],
   "source": [
    "plt.savefig(\n",
    "    'bary_flow.svg', transparent=None, dpi='figure', format='svg',\n",
    "    metadata=None, bbox_inches=None, pad_inches=0.1,\n",
    "    facecolor='auto', edgecolor='auto', backend=None,\n",
    ")"
   ]
  }
 ],
 "metadata": {
  "kernelspec": {
   "display_name": "Python 3 (ipykernel)",
   "language": "python",
   "name": "python3"
  },
  "language_info": {
   "codemirror_mode": {
    "name": "ipython",
    "version": 3
   },
   "file_extension": ".py",
   "mimetype": "text/x-python",
   "name": "python",
   "nbconvert_exporter": "python",
   "pygments_lexer": "ipython3",
   "version": "3.10.11"
  }
 },
 "nbformat": 4,
 "nbformat_minor": 5
}
