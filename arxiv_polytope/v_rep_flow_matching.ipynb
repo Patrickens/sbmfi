{
 "cells": [
  {
   "cell_type": "code",
   "execution_count": 2,
   "id": "bb7c12f2-07ce-41bf-b5d9-5ec83c88c669",
   "metadata": {},
   "outputs": [],
   "source": [
    "import time\n",
    "import torch\n",
    "import math\n",
    "import pandas as pd\n",
    "import numpy as np\n",
    "import arviz as az\n",
    "import tqdm\n",
    "import pickle\n",
    "\n",
    "import warnings\n",
    "warnings.filterwarnings(\"ignore\", category=UserWarning, module='torch')\n",
    "\n",
    "\n",
    "from torch import nn, Tensor\n",
    "\n",
    "# flow_matching\n",
    "from flow_matching.path.scheduler import CondOTScheduler\n",
    "from flow_matching.path import AffineProbPath, GeodesicProbPath\n",
    "from flow_matching.solver import Solver, ODESolver, RiemannianODESolver\n",
    "from flow_matching.utils import ModelWrapper\n",
    "import math\n",
    "import torch\n",
    "from torch.utils.data import Dataset, DataLoader\n",
    "\n",
    "# visualization\n",
    "import matplotlib.pyplot as plt\n",
    "\n",
    "from matplotlib import cm\n",
    "\n",
    "from sbmfi.inference.manifolds import MaxEntManifold\n",
    "from sbmfi.core.coordinater import FluxCoordinateMapper\n",
    "from sbmfi.core.linalg import LinAlg\n",
    "from sbmfi.inference.arxiv_polytope_plotter import plot_dataframes\n"
   ]
  },
  {
   "cell_type": "code",
   "execution_count": null,
   "id": "d9cfbf77-51ba-439b-868b-120d287da032",
   "metadata": {},
   "outputs": [],
   "source": []
  }
 ],
 "metadata": {
  "kernelspec": {
   "display_name": "Python 3 (ipykernel)",
   "language": "python",
   "name": "python3"
  },
  "language_info": {
   "codemirror_mode": {
    "name": "ipython",
    "version": 3
   },
   "file_extension": ".py",
   "mimetype": "text/x-python",
   "name": "python",
   "nbconvert_exporter": "python",
   "pygments_lexer": "ipython3",
   "version": "3.10.11"
  }
 },
 "nbformat": 4,
 "nbformat_minor": 5
}
