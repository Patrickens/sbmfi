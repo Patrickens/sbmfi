{
 "cells": [
  {
   "cell_type": "code",
   "execution_count": 1,
   "id": "46af05f9-6c0a-4e78-98ef-666c61a0921f",
   "metadata": {},
   "outputs": [],
   "source": [
    "import time\n",
    "import torch\n",
    "import math\n",
    "import pandas as pd\n",
    "import numpy as np\n",
    "import arviz as az\n",
    "import tqdm\n",
    "import pickle\n",
    "\n",
    "import warnings\n",
    "warnings.filterwarnings(\"ignore\", category=UserWarning, module='torch')\n",
    "\n",
    "\n",
    "from torch import nn, Tensor\n",
    "\n",
    "# flow_matching\n",
    "from flow_matching.path.scheduler import CondOTScheduler\n",
    "from flow_matching.path import AffineProbPath, GeodesicProbPath\n",
    "from flow_matching.solver import Solver, ODESolver, RiemannianODESolver\n",
    "from flow_matching.utils import ModelWrapper\n",
    "import math\n",
    "import torch\n",
    "from torch.utils.data import Dataset, DataLoader\n",
    "from sbmfi.priors.mog import MixtureOfGaussians\n",
    "\n",
    "# visualization\n",
    "import matplotlib.pyplot as plt\n",
    "\n",
    "from matplotlib import cm\n",
    "\n",
    "from PolyRound.api import Polytope\n",
    "from sbmfi.inference.manifolds import BallManifold, Manifold, PoincareBallManifold, ConvexPolytopeManifold, MaxEntManifold\n",
    "from sbmfi.core.coordinater import *\n",
    "from sbmfi.core.linalg import LinAlg\n",
    "from sbmfi.inference.arxiv_polytope_plotter import plot_dataframes\n",
    "from sbmfi.inference.patch_flow_matsj import sample_and_div, riem_sample_and_div"
   ]
  },
  {
   "cell_type": "code",
   "execution_count": 2,
   "id": "b47ebf90-18d5-4194-9277-a0022da5ed37",
   "metadata": {},
   "outputs": [
    {
     "name": "stdout",
     "output_type": "stream",
     "text": [
      "Using gpu\n"
     ]
    },
    {
     "data": {
      "text/plain": [
       "<torch._C.Generator at 0x1a393f69f10>"
      ]
     },
     "execution_count": 2,
     "metadata": {},
     "output_type": "execute_result"
    }
   ],
   "source": [
    "if torch.cuda.is_available():\n",
    "    device = 'cuda:0'\n",
    "    print('Using gpu')\n",
    "else:\n",
    "    device = 'cpu'\n",
    "    print('Using cpu.')\n",
    "torch.set_default_dtype(torch.float)\n",
    "torch.manual_seed(42)"
   ]
  },
  {
   "cell_type": "code",
   "execution_count": 3,
   "id": "a67e26ae-18d6-463a-9166-fbe324273524",
   "metadata": {},
   "outputs": [],
   "source": [
    "fcm, v_representation, pol_volume = pickle.load(open('spiro_flux_coordinate_mapper.p', 'rb'))\n",
    "psm = fcm.sampler\n",
    "\n",
    "data = az.from_netcdf('mog_polytope_105k_samples.nc')\n",
    "mog_rounded = torch.as_tensor(\n",
    "    az.extract(data, combined=True, var_names='theta', keep_dataset=False, rng=2).values, device=device, dtype=torch.float\n",
    ").T\n",
    "target = MixtureOfGaussians(\n",
    "    means=torch.as_tensor(data.attrs['mog_means'], dtype=torch.float), \n",
    "    covariances=torch.as_tensor(data.attrs['mog_covs'], dtype=torch.float),\n",
    "    weights=torch.as_tensor(data.attrs['mog_weights'], dtype=torch.float),\n",
    ")\n",
    "means_df = pd.DataFrame(\n",
    "    np.hstack([data.attrs['mog_means'], data.attrs['mog_weights'][:, None]]), \n",
    "    columns=psm.rounded_id.append(pd.Index(['weights']))\n",
    ")\n",
    "mog_Z = data.attrs['mog_Z']\n",
    "del data"
   ]
  },
  {
   "cell_type": "code",
   "execution_count": 4,
   "id": "63f065fa-5e70-4e61-9b2b-0db508c209c7",
   "metadata": {},
   "outputs": [
    {
     "name": "stdout",
     "output_type": "stream",
     "text": [
      "Set parameter Username\n",
      "Academic license - for non-commercial use only - expires 2025-07-27\n"
     ]
    }
   ],
   "source": [
    "data = az.from_netcdf('Kmog_polytope_105k_samples.nc')\n",
    "A_cols = [v[2:] for v in data.posterior.theta_id.values]\n",
    "Kpol = Polytope(\n",
    "    A=pd.DataFrame(data.attrs['A'], columns=A_cols),\n",
    "    b=pd.Series(data.attrs['b']),\n",
    ")\n",
    "Kpsm = PolytopeSamplingModel(Kpol, linalg=LinAlg(backend='torch'))\n",
    "Kmeans_df = pd.DataFrame(\n",
    "    np.hstack([data.attrs['mog_means'], data.attrs['mog_weights'][:, None]]), \n",
    "    columns=Kpsm.rounded_id.append(pd.Index(['weights']))\n",
    ")\n",
    "Kmog_rounded =  torch.as_tensor(\n",
    "    az.extract(data, combined=True, var_names='theta', keep_dataset=False, rng=2).values, device=device, dtype=torch.float\n",
    ").T\n",
    "del data"
   ]
  },
  {
   "cell_type": "code",
   "execution_count": 5,
   "id": "82fe7191-ad44-42e8-85da-bee1c30f3ffe",
   "metadata": {},
   "outputs": [],
   "source": [
    "data = az.from_netcdf('unif_polytope_105k_samples.nc')\n",
    "unif_rounded =  torch.as_tensor(\n",
    "    az.extract(data, combined=True, var_names='theta', keep_dataset=False, rng=2).values, device=device, dtype=torch.float\n",
    ").T\n",
    "del data"
   ]
  },
  {
   "cell_type": "code",
   "execution_count": 6,
   "id": "5694f0c1-ca73-4a4c-8d26-03da48cfae6c",
   "metadata": {},
   "outputs": [],
   "source": [
    "data = az.from_netcdf('Kunif_polytope_105k_samples.nc')\n",
    "Kunif_rounded =  torch.as_tensor(\n",
    "    az.extract(data, combined=True, var_names='theta', keep_dataset=False, rng=2).values, device=device, dtype=torch.float\n",
    ").T\n",
    "del data"
   ]
  },
  {
   "cell_type": "markdown",
   "id": "a3b59572-6513-424b-ab86-301a9ffd6344",
   "metadata": {},
   "source": [
    "### Functions"
   ]
  },
  {
   "cell_type": "code",
   "execution_count": 7,
   "id": "adef1c0a-fa10-4cc7-ad80-2d49f6086e30",
   "metadata": {},
   "outputs": [],
   "source": [
    "# Activation class\n",
    "class Swish(nn.Module):\n",
    "    def __init__(self):\n",
    "        super().__init__()\n",
    "\n",
    "    def forward(self, x: Tensor) -> Tensor: \n",
    "        return torch.sigmoid(x) * x\n",
    "\n",
    "\n",
    "# Model class\n",
    "class MLP(nn.Module):\n",
    "    def __init__(self, input_dim, time_dim: int = 1, hidden_dim: int = 128, hidden_layers=6):\n",
    "        super().__init__()\n",
    "        \n",
    "        self.input_dim = input_dim\n",
    "        self.time_dim = time_dim\n",
    "        self.hidden_dim = hidden_dim\n",
    "\n",
    "        layers = []\n",
    "        for i in range(hidden_layers):\n",
    "            layers += [nn.Linear(hidden_dim, hidden_dim), Swish()]\n",
    "        \n",
    "        self.main = nn.Sequential(\n",
    "            nn.Linear(input_dim+time_dim, hidden_dim),\n",
    "            Swish(),\n",
    "            *layers,\n",
    "            nn.Linear(hidden_dim, input_dim),\n",
    "        )\n",
    "    \n",
    "\n",
    "    def forward(self, x: Tensor, t: Tensor) -> Tensor:\n",
    "        sz = x.size()\n",
    "        x = x.reshape(-1, self.input_dim)\n",
    "        t = t.reshape(-1, self.time_dim).float()\n",
    "\n",
    "        t = t.reshape(-1, 1).expand(x.shape[0], 1).float()\n",
    "        h = torch.cat([x, t], dim=1).float()\n",
    "        output = self.main(h)\n",
    "        \n",
    "        return output.reshape(*sz)"
   ]
  },
  {
   "cell_type": "code",
   "execution_count": 8,
   "id": "c05229cd-1e68-4db1-aa8e-76f84fc7256d",
   "metadata": {},
   "outputs": [],
   "source": [
    "torch_linalg = LinAlg(backend='torch', device=device, dtype=np.float32)\n",
    "def sample_ball(shape):\n",
    "    return torch_linalg.sample_unit_hyper_sphere_ball(shape, ball=True)\n",
    "\n",
    "class WrappedModel(ModelWrapper):\n",
    "    def forward(self, x: torch.Tensor, t: torch.Tensor, **extras):\n",
    "        return self.model(x, t)\n",
    "\n",
    "def plot_losses_vs_steps(losses, axmin=0.0, axmax=0.7):\n",
    "    steps = np.arange(len(losses))\n",
    "    fig, ax = plt.subplots(figsize=(4, 3))\n",
    "    ax.scatter(steps, losses, c='blue', alpha=0.7, edgecolors='w', s=20)\n",
    "    ax.set_xlabel('Training Steps')\n",
    "    ax.set_ylabel('Loss')\n",
    "    ax.set_title('Machine Learning Losses vs Training Steps')\n",
    "    ax.grid(True)\n",
    "    ax.set_ylim(axmin, axmax)\n",
    "    return fig \n",
    "    "
   ]
  },
  {
   "cell_type": "code",
   "execution_count": 9,
   "id": "f58478a2-4834-4198-813e-fccca6b3e864",
   "metadata": {},
   "outputs": [],
   "source": [
    "def train_affine(model, optimizer, noise_dataloader, target_dataloader, losses):\n",
    "    n_steps = n_epochs * len(noise_dataloader)\n",
    "    pbar = tqdm.tqdm(total=n_steps, ncols=120, position=0)\n",
    "    start_time = time.time()\n",
    "    try:\n",
    "        for epoch in range(n_epochs):\n",
    "            # use fixed data-set\n",
    "            noise_iter = iter(noise_dataloader)\n",
    "            target_iter = iter(target_dataloader)\n",
    "            \n",
    "            for i in range(len(noise_dataloader)): \n",
    "                optimizer.zero_grad() \n",
    "    \n",
    "                target_chunk = next(target_iter, None)[0]\n",
    "                noise_chunk = next(noise_iter, None)[0]\n",
    "        \n",
    "                t = torch.rand(noise_chunk.shape[0]).to(device) \n",
    "                \n",
    "                # sample probability path\n",
    "                path_sample = path.sample(t=t, x_0=noise_chunk, x_1=target_chunk)\n",
    "            \n",
    "                # flow matching l2 loss\n",
    "                loss = torch.pow( model(path_sample.x_t,path_sample.t) - path_sample.dx_t, 2).mean() \n",
    "            \n",
    "                # # optimizer step\n",
    "                if ~(torch.isnan(loss) | torch.isinf(loss)):\n",
    "                    loss.backward()\n",
    "                    optimizer.step()\n",
    "                else:\n",
    "                    raise ValueError(f'loss: {loss}')\n",
    "        \n",
    "                loss_ = loss.item()\n",
    "                losses.append(loss_)\n",
    "                pbar.update()\n",
    "                pbar.set_postfix(loss=round(loss_, 4))\n",
    "            if (scheduler is not None):\n",
    "                scheduler.step()            \n",
    "    except KeyboardInterrupt:\n",
    "        pass\n",
    "    except Exception as e:\n",
    "        raise e\n",
    "    finally:\n",
    "        pbar.close()"
   ]
  },
  {
   "cell_type": "markdown",
   "id": "44309619-7006-4cec-832e-e43c514e8c31",
   "metadata": {},
   "source": [
    "### Affine flow"
   ]
  },
  {
   "cell_type": "code",
   "execution_count": 10,
   "id": "6eedba3d-589c-473e-ac0e-d18dbbdd378f",
   "metadata": {},
   "outputs": [],
   "source": [
    "# training arguments\n",
    "lr = 1e-3\n",
    "n_epochs = 50\n",
    "batch_size = 1024*8\n",
    "hidden_dim = 512\n",
    "\n",
    "# velocity field model init\n",
    "aff_model = MLP(input_dim=mog_rounded.shape[-1], time_dim=1, hidden_dim=hidden_dim).to(device) \n",
    "\n",
    "# instantiate an affine path object\n",
    "path = AffineProbPath(scheduler=CondOTScheduler())\n",
    "\n",
    "# init optimizer\n",
    "optimizer = torch.optim.Adam(aff_model.parameters(), lr=lr) \n",
    "scheduler = None\n",
    "\n",
    "test_size = 5000\n",
    "\n",
    "noise_dataset = torch.utils.data.TensorDataset(unif_rounded.to(dtype=torch.float, device=device))\n",
    "test_dataset, noise_dataset = torch.utils.data.random_split(noise_dataset, [test_size, len(noise_dataset) - test_size])\n",
    "noise_dataloader = torch.utils.data.DataLoader(noise_dataset, batch_size=batch_size, shuffle=False, num_workers=0)\n",
    "\n",
    "target_dataset = torch.utils.data.TensorDataset(mog_rounded[:-test_size].to(dtype=torch.float, device=device))\n",
    "target_dataloader = torch.utils.data.DataLoader(target_dataset, batch_size=batch_size, shuffle=False, num_workers=0)\n",
    "\n",
    "losses = []"
   ]
  },
  {
   "cell_type": "code",
   "execution_count": 11,
   "id": "0370e170-c4aa-45ec-93d0-4f2f6a7f62c3",
   "metadata": {},
   "outputs": [
    {
     "name": "stderr",
     "output_type": "stream",
     "text": [
      "C:\\Users\\diede\\AppData\\Local\\Temp\\ipykernel_20676\\1630021361.py:4: FutureWarning: You are using `torch.load` with `weights_only=False` (the current default value), which uses the default pickle module implicitly. It is possible to construct malicious pickle data which will execute arbitrary code during unpickling (See https://github.com/pytorch/pytorch/blob/main/SECURITY.md#untrusted-models for more details). In a future release, the default value for `weights_only` will be flipped to `True`. This limits the functions that could be executed during unpickling. Arbitrary objects will no longer be allowed to be loaded via this mode unless they are explicitly allowlisted by the user via `torch.serialization.add_safe_globals`. We recommend you start setting `weights_only=True` for any use case where you don't have full control of the loaded file. Please open an issue on GitHub for any issues related to this experimental feature.\n",
      "  aff_model.load_state_dict(torch.load(\"aff_model.pt\"))\n"
     ]
    }
   ],
   "source": [
    "# train_affine(aff_model, optimizer, noise_dataloader, target_dataloader, losses)\n",
    "# torch.save(aff_model.state_dict(), \"aff_model.pt\")\n",
    "# pickle.dump(losses, open('aff_losses.p', 'wb'))\n",
    "aff_model.load_state_dict(torch.load(\"aff_model.pt\"))\n",
    "losses = pickle.load(open('aff_losses.p', 'rb'))"
   ]
  },
  {
   "cell_type": "code",
   "execution_count": 12,
   "id": "6157eaf4-7d8b-4bce-a41f-e322e31e27d3",
   "metadata": {},
   "outputs": [
    {
     "data": {
      "image/png": "[encoded data removed]",
      "text/plain": [
       "<Figure size 400x300 with 1 Axes>"
      ]
     },
     "metadata": {},
     "output_type": "display_data"
    }
   ],
   "source": [
    "fig = plot_losses_vs_steps(losses)\n",
    "plt.show()"
   ]
  },
  {
   "cell_type": "code",
   "execution_count": 13,
   "id": "f4e46c5c-9830-40e4-8e15-b151934b3496",
   "metadata": {},
   "outputs": [],
   "source": [
    "wrapped_vf = WrappedModel(aff_model)\n",
    "\n",
    "x_init = test_dataset[:][0].to(dtype=torch.float, device=device)\n",
    "solver = ODESolver(velocity_model=wrapped_vf)"
   ]
  },
  {
   "cell_type": "code",
   "execution_count": 43,
   "id": "56c2434e-c6e4-4b0a-8f29-b218a68b3051",
   "metadata": {},
   "outputs": [],
   "source": [
    "log_pol_vol = np.log(pol_volume)\n",
    "def log_p_pol(values):\n",
    "    return torch.full(values.shape[:-1], -log_pol_vol, dtype=values.dtype, device=values.device)"
   ]
  },
  {
   "cell_type": "code",
   "execution_count": 32,
   "id": "2a20d9b8-4926-49b2-85fc-18cfbc51fa0e",
   "metadata": {},
   "outputs": [],
   "source": [
    "sol, log_det = sample_and_div(\n",
    "    ode_solver=solver,\n",
    "    x_init=x_init,\n",
    "    step_size=0.05,\n",
    "    method= \"midpoint\",\n",
    "    return_intermediates = False,\n",
    "    return_div= True,\n",
    "    exact_divergence=True,\n",
    ")\n",
    "log_p0 = log_p_pol(x_init)\n",
    "log_p = log_p0 - log_det"
   ]
  },
  {
   "cell_type": "code",
   "execution_count": 34,
   "id": "3a4cd275-9941-4015-b715-31f9af57eeee",
   "metadata": {},
   "outputs": [],
   "source": [
    "# sol2 = solver.sample(\n",
    "#     x_init=x_init,\n",
    "#     method='midpoint',\n",
    "#     step_size=0.05,\n",
    "#     return_intermediates=False,\n",
    "# )  # sample from the model\n",
    "\n",
    "# _, log_q = solver.compute_likelihood(\n",
    "#     x_1=sol2,\n",
    "#     method='midpoint',\n",
    "#     step_size=0.05, \n",
    "#     exact_divergence=True,\n",
    "#     log_p0=log_p_pol,\n",
    "#     return_intermediates=True\n",
    "# )\n",
    "# #  log_q is almost equal to log_p!"
   ]
  },
  {
   "cell_type": "code",
   "execution_count": 37,
   "id": "7c6a418d-6877-4994-bdac-47fdb7d27bf5",
   "metadata": {},
   "outputs": [
    {
     "data": {
      "text/plain": [
       "tensor([[-0.3124,  0.2624,  0.2425,  0.6234],\n",
       "        [-0.9282,  0.0764,  0.1424, -0.3050],\n",
       "        [-0.0071, -0.5814,  0.1688,  1.2645],\n",
       "        ...,\n",
       "        [ 0.2734, -0.0042,  0.1156,  1.0410],\n",
       "        [-0.8457,  0.0701, -0.0662, -0.2528],\n",
       "        [-0.8905, -0.1919,  0.1095,  0.0996]], device='cuda:0')"
      ]
     },
     "execution_count": 37,
     "metadata": {},
     "output_type": "execute_result"
    }
   ],
   "source": [
    "sol"
   ]
  },
  {
   "cell_type": "code",
   "execution_count": 39,
   "id": "3fe80583-26e4-4973-b98c-f203eba8428c",
   "metadata": {},
   "outputs": [
    {
     "data": {
      "text/plain": [
       "tensor(4784)"
      ]
     },
     "execution_count": 39,
     "metadata": {},
     "output_type": "execute_result"
    }
   ],
   "source": [
    "flow_numpy = sol.to(device='cpu', dtype=torch.double)\n",
    "in_pol = ((psm._G @ flow_numpy.T) < psm._h).all(0)\n",
    "\n",
    "in_pol.sum()"
   ]
  },
  {
   "cell_type": "code",
   "execution_count": 41,
   "id": "d0ff7b6a-37b0-4a53-bdd8-d711a6ffd929",
   "metadata": {},
   "outputs": [
    {
     "data": {
      "image/png": "[encoded data removed]",
      "text/plain": [
       "<Figure size 600x400 with 1 Axes>"
      ]
     },
     "metadata": {},
     "output_type": "display_data"
    }
   ],
   "source": [
    "plt.ioff()\n",
    "\n",
    "fig, ax = plot_dataframes(\n",
    "    vertices=v_representation,\n",
    "    samples=pd.DataFrame(flow_numpy, columns=psm.rounded_id),\n",
    "    n_sample_cdf=5000,\n",
    "    points=means_df,\n",
    "    x_col='R_h_out', \n",
    "    y_col='R_biomass',\n",
    "    x_label='R_h_out', \n",
    "    y_label='R_biomass',\n",
    "    label1='Polytope', \n",
    "    label2='Samples Convex Hull',\n",
    "    label3='Samples KDE Density', \n",
    "    label4='Additional Points',\n",
    "    bw_method=None,\n",
    "    bw_adjust=0.6,\n",
    "    levels=8,\n",
    "    font_dict=None,\n",
    "    vertices_fill_color='#ffec58',\n",
    "    samples_fill_color='#e02450',\n",
    "    figsize=(6, 4),\n",
    "    show_legend=False,\n",
    "    legend_loc='best',\n",
    "    s_points=15,\n",
    "    points_color='#C41E3A',\n",
    ")\n",
    "plt.show()"
   ]
  },
  {
   "cell_type": "code",
   "execution_count": 44,
   "id": "5a37a339-577d-4128-8d09-44855c793e6e",
   "metadata": {},
   "outputs": [
    {
     "data": {
      "text/plain": [
       "(tensor(4472.8604, device='cuda:0'),\n",
       " 0.022949497985839843,\n",
       " 0.0005706506050288406)"
      ]
     },
     "execution_count": 44,
     "metadata": {},
     "output_type": "execute_result"
    }
   ],
   "source": [
    "weights_df = pd.DataFrame([\n",
    "    target.log_prob(sol.to('cpu')) - log_pol_vol,\n",
    "    exact_log_q,\n",
    "], index=['log_p', 'log_q']).T\n",
    "\n",
    "weights_df['diff'] = weights_df['log_p'] - weights_df['log_q']\n",
    "\n",
    "ws = np.exp(weights_df['diff'])\n",
    "KL_Z = ws.mean()\n",
    "ln_KL = (weights_df['log_p'] + weights_df['log_q']).mean() + np.log(KL_Z)\n",
    "KL = np.exp(ln_KL)\n",
    "ESS = ws.sum()**2 / (ws**2).sum()\n",
    "ESS, KL_Z, KL"
   ]
  },
  {
   "cell_type": "markdown",
   "id": "3a995357-5ea2-463e-928f-092519c81cda",
   "metadata": {
    "jp-MarkdownHeadingCollapsed": true
   },
   "source": [
    "### Higher dimensions"
   ]
  },
  {
   "cell_type": "code",
   "execution_count": 17,
   "id": "4671c392-6534-4f28-b7a4-82e04f16591a",
   "metadata": {},
   "outputs": [],
   "source": [
    "lr = 1e-3\n",
    "n_epochs = 50\n",
    "batch_size = 1024*8\n",
    "hidden_dim = 1024\n",
    "\n",
    "# velocity field model init\n",
    "Kaff_model = MLP(input_dim=Kmog_rounded.shape[-1], time_dim=1, hidden_dim=hidden_dim, hidden_layers=6).to(device) \n",
    "\n",
    "# instantiate an affine path object\n",
    "path = AffineProbPath(scheduler=CondOTScheduler())\n",
    "\n",
    "# init optimizer\n",
    "optimizer = torch.optim.Adam(Kaff_model.parameters(), lr=lr) \n",
    "scheduler = None\n",
    "\n",
    "target_dataset = torch.utils.data.TensorDataset(Kmog_rounded.to(dtype=torch.float, device=device))\n",
    "target_dataloader = torch.utils.data.DataLoader(target_dataset, batch_size=batch_size, shuffle=False, num_workers=0)\n",
    "\n",
    "noise_dataset = torch.utils.data.TensorDataset(Kunif_rounded.to(dtype=torch.float, device=device))\n",
    "test_dataset, noise_dataset = torch.utils.data.random_split(noise_dataset, [test_size, len(noise_dataset) - test_size])\n",
    "noise_dataloader = torch.utils.data.DataLoader(noise_dataset, batch_size=batch_size, shuffle=False, num_workers=0)\n",
    "\n",
    "losses = []"
   ]
  },
  {
   "cell_type": "code",
   "execution_count": 24,
   "id": "8394d496-03f1-4eb3-9c31-20f852338f5b",
   "metadata": {},
   "outputs": [
    {
     "name": "stderr",
     "output_type": "stream",
     "text": [
      "C:\\Users\\diede\\AppData\\Local\\Temp\\ipykernel_20240\\1315848824.py:5: FutureWarning: You are using `torch.load` with `weights_only=False` (the current default value), which uses the default pickle module implicitly. It is possible to construct malicious pickle data which will execute arbitrary code during unpickling (See https://github.com/pytorch/pytorch/blob/main/SECURITY.md#untrusted-models for more details). In a future release, the default value for `weights_only` will be flipped to `True`. This limits the functions that could be executed during unpickling. Arbitrary objects will no longer be allowed to be loaded via this mode unless they are explicitly allowlisted by the user via `torch.serialization.add_safe_globals`. We recommend you start setting `weights_only=True` for any use case where you don't have full control of the loaded file. Please open an issue on GitHub for any issues related to this experimental feature.\n",
      "  KKaff_model.load_state_dict(torch.load(\"Kaff_model.pt\"))\n"
     ]
    },
    {
     "data": {
      "text/plain": [
       "<All keys matched successfully>"
      ]
     },
     "execution_count": 24,
     "metadata": {},
     "output_type": "execute_result"
    }
   ],
   "source": [
    "# train_affine(Kaff_model, optimizer, noise_dataloader, target_dataloader, losses)\n",
    "# torch.save(Kaff_model.state_dict(), \"Kaff_model.pt\")\n",
    "# pickle.dump(losses, open('Kaff_model_1024_losses.p', 'wb'))\n",
    "KKaff_model = MLP(input_dim=Kmog_rounded.shape[-1], time_dim=1, hidden_dim=hidden_dim, hidden_layers=6).to(device) \n",
    "KKaff_model.load_state_dict(torch.load(\"Kaff_model.pt\"))\n"
   ]
  },
  {
   "cell_type": "code",
   "execution_count": 49,
   "id": "f29ec303-6390-4640-9040-9728619b554c",
   "metadata": {},
   "outputs": [
    {
     "data": {
      "image/png": "[encoded data removed]",
      "text/plain": [
       "<Figure size 400x300 with 1 Axes>"
      ]
     },
     "metadata": {},
     "output_type": "display_data"
    }
   ],
   "source": [
    "fig = plot_losses_vs_steps(losses, axmax=0.3)\n",
    "plt.show()"
   ]
  },
  {
   "cell_type": "code",
   "execution_count": 25,
   "id": "6934792d-70dc-4c49-b88e-d051240a38ed",
   "metadata": {},
   "outputs": [],
   "source": [
    "wrapped_vf = WrappedModel(KKaff_model)\n",
    "\n",
    "step_size = torch.Tensor([0.05]).to(device=device, dtype=torch.float)\n",
    "\n",
    "x_init = noise_dataset[:5000][0].to(dtype=torch.float, device=device)\n",
    "solver = ODESolver(velocity_model=wrapped_vf)  # create an ODESolver class\n",
    "sol = solver.sample(\n",
    "    time_grid=torch.Tensor([0.0, 1.0]).to(dtype=torch.float, device=device), \n",
    "    x_init=x_init,\n",
    "    method='midpoint',\n",
    "    step_size=step_size,\n",
    "    return_intermediates=True,\n",
    ")  # sample from the model"
   ]
  },
  {
   "cell_type": "code",
   "execution_count": 26,
   "id": "79254010-0e8d-425e-b70d-79f7c3405f88",
   "metadata": {},
   "outputs": [
    {
     "data": {
      "text/plain": [
       "tensor(4467)"
      ]
     },
     "execution_count": 26,
     "metadata": {},
     "output_type": "execute_result"
    }
   ],
   "source": [
    "flow_numpy = sol.to(device='cpu', dtype=torch.double)\n",
    "in_pol = ((Kpsm._G @ flow_numpy[1].T) < Kpsm._h).all(0)\n",
    "\n",
    "in_pol.sum()"
   ]
  },
  {
   "cell_type": "code",
   "execution_count": 29,
   "id": "5ac31af0-3fda-466d-a82c-68c07ac8e19d",
   "metadata": {},
   "outputs": [],
   "source": [
    "import itertools\n",
    "Kv_representation = pd.DataFrame(np.array(list(itertools.product([-1, 1], repeat=20))), columns=Kpsm.rounded_id)"
   ]
  },
  {
   "cell_type": "code",
   "execution_count": 34,
   "id": "e46a8512-ce56-4583-9511-24653bca593d",
   "metadata": {},
   "outputs": [
    {
     "data": {
      "image/png": "[encoded data removed]",
      "text/plain": [
       "<Figure size 600x400 with 1 Axes>"
      ]
     },
     "metadata": {},
     "output_type": "display_data"
    }
   ],
   "source": [
    "plt.ioff()\n",
    "\n",
    "fig, ax = plot_dataframes(\n",
    "    vertices=Kv_representation,\n",
    "    samples=pd.DataFrame(flow_numpy[1], columns=Kpsm.rounded_id),\n",
    "    n_sample_cdf=5000,\n",
    "    points=Kmeans_df,\n",
    "    x_col='R_fki', \n",
    "    y_col='R_bfn',\n",
    "    x_label='R_fki', \n",
    "    y_label='R_bfn',\n",
    "    label1='Polytope', \n",
    "    label2='Samples Convex Hull',\n",
    "    label3='Samples KDE Density', \n",
    "    label4='Additional Points',\n",
    "    bw_method=None,\n",
    "    bw_adjust=0.6,\n",
    "    levels=8,\n",
    "    font_dict=None,\n",
    "    vertices_fill_color='#ffec58',\n",
    "    samples_fill_color='#e02450',\n",
    "    figsize=(6, 4),\n",
    "    show_legend=False,\n",
    "    legend_loc='best',\n",
    "    s_points=15,\n",
    "    points_color='#C41E3A',\n",
    ")\n",
    "plt.show()"
   ]
  },
  {
   "cell_type": "markdown",
   "id": "8ede83b8-1be7-4181-be68-d7b72a39759e",
   "metadata": {},
   "source": [
    "### Riemannian flows"
   ]
  },
  {
   "cell_type": "code",
   "execution_count": 45,
   "id": "3d4ce54d-bdb8-4aa9-b89e-2bc2b6913c9f",
   "metadata": {},
   "outputs": [],
   "source": [
    "class ProjectToTangent(nn.Module):\n",
    "    \"\"\"Projects a vector field onto the tangent plane at the input.\"\"\"\n",
    "\n",
    "    def __init__(self, vecfield: nn.Module, manifold: Manifold):\n",
    "        super().__init__()\n",
    "        self.vecfield = vecfield\n",
    "        self.manifold = manifold\n",
    "\n",
    "    def forward(self, x: Tensor, t: Tensor) -> Tensor:\n",
    "        x = self.manifold.projx(x)\n",
    "        v = self.vecfield(x, t)\n",
    "        v = self.manifold.proju(x, v)\n",
    "        return v"
   ]
  },
  {
   "cell_type": "code",
   "execution_count": 46,
   "id": "0c67e182-1ed4-4089-a87d-9f01cc90a32f",
   "metadata": {},
   "outputs": [],
   "source": [
    "def train_riemann(model, optimizer, dataloader, losses):\n",
    "    n_steps = n_epochs * len(dataloader)\n",
    "    pbar = tqdm.tqdm(total=n_steps, ncols=120, position=0)\n",
    "    try:\n",
    "        start_time = time.time()\n",
    "        for epoch in range(n_epochs):\n",
    "            # use fixed data-set\n",
    "            for i, target_chunk in enumerate(dataloader): \n",
    "                optimizer.zero_grad() \n",
    "\n",
    "                target_chunk = target_chunk[0]\n",
    "                noise_chunk = sample_ball(target_chunk.shape)\n",
    "    \n",
    "                t = torch.rand(target_chunk.shape[:-1]).to(device) \n",
    "                \n",
    "                # sample probability path\n",
    "                path_sample = path.sample(t=t, x_0=noise_chunk, x_1=target_chunk)\n",
    "            \n",
    "                # flow matching l2 loss\n",
    "                loss = torch.pow( model(path_sample.x_t,path_sample.t) - path_sample.dx_t, 2).mean() \n",
    "            \n",
    "                # # optimizer step\n",
    "                if ~(torch.isnan(loss) | torch.isinf(loss)):\n",
    "                    loss.backward()\n",
    "                    optimizer.step()\n",
    "                else:\n",
    "                    raise ValueError(f'loss: {loss}')\n",
    "    \n",
    "                loss_float = loss.item()\n",
    "                losses.append(loss_float)\n",
    "                pbar.update()\n",
    "                pbar.set_postfix(loss=round(loss_float, 4))\n",
    "                \n",
    "            if (scheduler is not None):\n",
    "                scheduler.step()            \n",
    "    except KeyboardInterrupt:\n",
    "        pass\n",
    "    except Exception as e:\n",
    "        raise e\n",
    "    finally:\n",
    "        pbar.close()"
   ]
  },
  {
   "cell_type": "code",
   "execution_count": 47,
   "id": "dcfbdc21-617b-44b5-964c-df679f3373ff",
   "metadata": {},
   "outputs": [],
   "source": [
    "\n",
    "# training arguments\n",
    "lr = 1e-3\n",
    "\n",
    "n_epochs = 50\n",
    "batch_size = 1024 * 8\n",
    "hidden_dim = 512\n",
    "\n",
    "manifold = BallManifold(dim=mog_rounded.shape[-1])\n",
    "\n",
    "# velocity field model init\n",
    "ball_model = ProjectToTangent(  # Ensures we can just use Euclidean divergence.\n",
    "    MLP(  # Vector field in the ambient space.\n",
    "        input_dim=mog_rounded.shape[-1],\n",
    "        hidden_dim=hidden_dim,\n",
    "    ),\n",
    "    manifold=manifold,\n",
    ").to(device)\n",
    "\n",
    "# instantiate an affine path object\n",
    "path = GeodesicProbPath(scheduler=CondOTScheduler(), manifold=manifold)\n",
    "\n",
    "mog_ball = map_rounded_2_ball(psm, mog_rounded.to(dtype=torch.double, device='cpu'), sep_radius=False)\n",
    "target_dataset = torch.utils.data.TensorDataset(mog_ball.to(dtype=torch.float, device=device))\n",
    "target_dataloader = torch.utils.data.DataLoader(target_dataset, batch_size=batch_size, shuffle=False, num_workers=0)\n",
    "\n",
    "# init optimizer\n",
    "optimizer = torch.optim.Adam(ball_model.parameters(), lr=lr) \n",
    "\n",
    "scheduler = None\n",
    "\n",
    "losses = []"
   ]
  },
  {
   "cell_type": "code",
   "execution_count": 48,
   "id": "667d514d-4249-4f6a-94d2-13a732b4333e",
   "metadata": {},
   "outputs": [
    {
     "name": "stderr",
     "output_type": "stream",
     "text": [
      "C:\\Users\\diede\\AppData\\Local\\Temp\\ipykernel_20676\\1454321659.py:5: FutureWarning: You are using `torch.load` with `weights_only=False` (the current default value), which uses the default pickle module implicitly. It is possible to construct malicious pickle data which will execute arbitrary code during unpickling (See https://github.com/pytorch/pytorch/blob/main/SECURITY.md#untrusted-models for more details). In a future release, the default value for `weights_only` will be flipped to `True`. This limits the functions that could be executed during unpickling. Arbitrary objects will no longer be allowed to be loaded via this mode unless they are explicitly allowlisted by the user via `torch.serialization.add_safe_globals`. We recommend you start setting `weights_only=True` for any use case where you don't have full control of the loaded file. Please open an issue on GitHub for any issues related to this experimental feature.\n",
      "  ball_model.load_state_dict(torch.load(\"ball_model.pt\"))\n"
     ]
    },
    {
     "data": {
      "text/plain": [
       "<All keys matched successfully>"
      ]
     },
     "execution_count": 48,
     "metadata": {},
     "output_type": "execute_result"
    }
   ],
   "source": [
    "# train_riemann(ball_model, optimizer, target_dataloader, losses)\n",
    "# torch.save(ball_model.state_dict(), \"ball_model.pt\")\n",
    "# pickle.dump(losses, open('ball_losses.p', 'wb'))\n",
    "# losses = pickle.load(open('ball_losses.p', 'rb'))\n",
    "ball_model.load_state_dict(torch.load(\"ball_model.pt\"))"
   ]
  },
  {
   "cell_type": "code",
   "execution_count": 49,
   "id": "efa0f782-9b9f-4170-acf9-e4b3de29cf44",
   "metadata": {},
   "outputs": [
    {
     "data": {
      "image/png": "[encoded data removed]",
      "text/plain": [
       "<Figure size 400x300 with 1 Axes>"
      ]
     },
     "metadata": {},
     "output_type": "display_data"
    }
   ],
   "source": [
    "fig = plot_losses_vs_steps(losses, axmax=0.3)\n",
    "plt.show()"
   ]
  },
  {
   "cell_type": "code",
   "execution_count": 50,
   "id": "14ab7dfd-511b-41dd-9818-f031203585df",
   "metadata": {},
   "outputs": [],
   "source": [
    "from scipy.special import gammaln\n",
    "\n",
    "K = psm.dimensionality\n",
    "log_ball_vol = (K / 2) * np.log(np.pi) - gammaln(K / 2 + 1)\n",
    "def log_p_ball(values):\n",
    "    return torch.full(values.shape[:-1], -log_ball_vol, dtype=values.dtype, device=values.device)"
   ]
  },
  {
   "cell_type": "code",
   "execution_count": 51,
   "id": "d6a8d209-2497-47d6-bba5-32f11aa7ac84",
   "metadata": {},
   "outputs": [],
   "source": [
    "wrapped_vf = WrappedModel(ball_model)\n",
    "x_init = sample_ball((20000, K))\n",
    "solver = RiemannianODESolver(velocity_model=wrapped_vf, manifold=manifold)  # create an ODESolver class"
   ]
  },
  {
   "cell_type": "code",
   "execution_count": 53,
   "id": "3b668893-2bda-4702-a40d-f75a39d422b8",
   "metadata": {},
   "outputs": [
    {
     "ename": "NameError",
     "evalue": "name 'riem_sample_div' is not defined",
     "output_type": "error",
     "traceback": [
      "\u001b[1;31m---------------------------------------------------------------------------\u001b[0m",
      "\u001b[1;31mNameError\u001b[0m                                 Traceback (most recent call last)",
      "Cell \u001b[1;32mIn[53], line 1\u001b[0m\n\u001b[1;32m----> 1\u001b[0m ding \u001b[38;5;241m=\u001b[39m \u001b[43mriem_sample_div\u001b[49m(\n\u001b[0;32m      2\u001b[0m     riem_solver\u001b[38;5;241m=\u001b[39msolver,\n\u001b[0;32m      3\u001b[0m     x_init\u001b[38;5;241m=\u001b[39mx_init[:\u001b[38;5;241m20\u001b[39m],\n\u001b[0;32m      4\u001b[0m     step_size\u001b[38;5;241m=\u001b[39m\u001b[38;5;241m0.05\u001b[39m,\n\u001b[0;32m      5\u001b[0m     method\u001b[38;5;241m=\u001b[39m \u001b[38;5;124m\"\u001b[39m\u001b[38;5;124mmidpoint\u001b[39m\u001b[38;5;124m\"\u001b[39m,\n\u001b[0;32m      6\u001b[0m     return_intermediates\u001b[38;5;241m=\u001b[39m\u001b[38;5;28;01mFalse\u001b[39;00m,\n\u001b[0;32m      7\u001b[0m     return_div\u001b[38;5;241m=\u001b[39m\u001b[38;5;28;01mTrue\u001b[39;00m,\n\u001b[0;32m      8\u001b[0m     exact_divergence\u001b[38;5;241m=\u001b[39m\u001b[38;5;28;01mTrue\u001b[39;00m,\n\u001b[0;32m      9\u001b[0m )\n",
      "\u001b[1;31mNameError\u001b[0m: name 'riem_sample_div' is not defined"
     ]
    }
   ],
   "source": [
    "ding = riem_sample_div(\n",
    "    riem_solver=solver,\n",
    "    x_init=x_init[:20],\n",
    "    step_size=0.05,\n",
    "    method= \"midpoint\",\n",
    "    return_intermediates=False,\n",
    "    return_div=True,\n",
    "    exact_divergence=True,\n",
    ")"
   ]
  },
  {
   "cell_type": "code",
   "execution_count": 53,
   "id": "8221a603-4cc2-48c8-87f9-935bc30f4eca",
   "metadata": {},
   "outputs": [
    {
     "data": {
      "text/plain": [
       "tensor([-1.6103, -0.5951,  0.0203, -2.4304, -1.6013, -2.5164,  4.3443, -2.5931,\n",
       "         1.6877, -0.0227, -3.6029,  0.6362,  0.1716, -3.6513, -0.3517,  0.2435,\n",
       "        -0.2828, -0.7843, -1.6152, -4.2581], device='cuda:0',\n",
       "       grad_fn=<SubBackward0>)"
      ]
     },
     "execution_count": 53,
     "metadata": {},
     "output_type": "execute_result"
    }
   ],
   "source": [
    "sol, log_q = ding\n",
    "log_q"
   ]
  },
  {
   "cell_type": "code",
   "execution_count": 54,
   "id": "f78729c3-2559-4e53-8a6d-f5b96a2492e7",
   "metadata": {},
   "outputs": [],
   "source": [
    "log_qq = riem_compute_likelihood(\n",
    "        self=solver,\n",
    "        x_1=sol,\n",
    "        log_p0=log_p_ball,\n",
    "        step_size=step_size,\n",
    "        method= \"midpoint\",\n",
    "        # time_grid = time_grid,\n",
    "        return_intermediates = False,\n",
    "        exact_divergence=True,\n",
    "        # return_log_p= True,\n",
    "        # log_p0=log_p_ball,\n",
    "        # exact_divergence=True,\n",
    ")"
   ]
  },
  {
   "cell_type": "code",
   "execution_count": 56,
   "id": "30cf356b-3239-412e-b45b-8aaff01c192a",
   "metadata": {},
   "outputs": [
    {
     "data": {
      "text/plain": [
       "tensor([[-1.9568],\n",
       "        [-2.7560],\n",
       "        [-3.3113],\n",
       "        [-1.0896],\n",
       "        [-1.8409],\n",
       "        [-1.0332],\n",
       "        [-8.3799],\n",
       "        [-0.9919],\n",
       "        [-5.2353],\n",
       "        [-3.1850],\n",
       "        [ 0.0480],\n",
       "        [-4.4057],\n",
       "        [-4.2156],\n",
       "        [ 0.0735],\n",
       "        [-3.0242],\n",
       "        [-3.5404],\n",
       "        [-3.4076],\n",
       "        [-2.8118],\n",
       "        [-1.9567],\n",
       "        [ 0.7267]], device='cuda:0')"
      ]
     },
     "execution_count": 56,
     "metadata": {},
     "output_type": "execute_result"
    }
   ],
   "source": [
    "log_qq[1]"
   ]
  },
  {
   "cell_type": "code",
   "execution_count": 101,
   "id": "600c442f-6b71-4e2a-ac63-6e6e8f9231c3",
   "metadata": {},
   "outputs": [
    {
     "name": "stderr",
     "output_type": "stream",
     "text": [
      "100%|███████████████████████████████████████████████████████████████████████████████████████████████████████████████████████████████████████████████████████████████████████████████████████████████████████████████████████████████████████████████████████████████████████████████████████████████| 20/20 [00:01<00:00, 11.25it/s]\n"
     ]
    }
   ],
   "source": [
    "# step size for ode solver\n",
    "step_size = 0.05\n",
    "N = 2\n",
    "\n",
    "eps_time = 1e-2\n",
    "T = torch.linspace(0, 1, N)  # sample times\n",
    "T = T.to(device=device)\n",
    "\n",
    "x_init = sample_ball((20000, psm.dimensionality))\n",
    "\n",
    "wrapped_vf = WrappedModel(ball_model)\n",
    "\n",
    "solver = RiemannianODESolver(velocity_model=wrapped_vf, manifold=manifold)  # create an ODESolver class\n",
    "sol = solver.sample(\n",
    "    x_init=x_init,\n",
    "    step_size=0.05,\n",
    "    method=\"midpoint\",\n",
    "    return_intermediates=True,\n",
    "    time_grid=T,\n",
    "    verbose=True,\n",
    ")"
   ]
  },
  {
   "cell_type": "code",
   "execution_count": null,
   "id": "7f534b81-ab9e-48e6-af16-e29f4c8830f4",
   "metadata": {},
   "outputs": [],
   "source": []
  },
  {
   "cell_type": "code",
   "execution_count": 176,
   "id": "a77f62d8-267f-4f7c-bd5b-558bec513ef8",
   "metadata": {},
   "outputs": [],
   "source": [
    "def compute_likelihood(\n",
    "    self,\n",
    "    x_1: Tensor,\n",
    "    log_p0: Callable[[Tensor], Tensor],\n",
    "    step_size: float,\n",
    "    projx: bool = True,\n",
    "    proju: bool = True,\n",
    "    method: str = \"euler\",\n",
    "    time_grid: Tensor = torch.tensor([1.0, 0.0]),\n",
    "    return_intermediates: bool = False,\n",
    "    exact_divergence: bool = False,\n",
    "    verbose: bool = False,\n",
    "    enable_grad: bool = False,\n",
    "    **model_extras,\n",
    ") -> Union[Tuple[Tensor, Tensor], Tuple[Sequence[Tensor], Tensor]]:\n",
    "    \"\"\"Compute log-likelihood by solving the ODE backwards on the manifold.\"\"\"\n",
    "    assert (\n",
    "        time_grid[0] == 1.0 and time_grid[-1] == 0.0\n",
    "    ), f\"Time grid must start at 1.0 and end at 0.0. Got {time_grid}\"\n",
    "\n",
    "    # For stochastic divergence estimation\n",
    "    if not exact_divergence:\n",
    "        z = (torch.randn_like(x_1).to(x_1.device) < 0) * 2.0 - 1.0\n",
    "        z = self.manifold.proju(x_1, z) if proju else z\n",
    "\n",
    "    def dynamics_func(x, t):\n",
    "        with torch.set_grad_enabled(True):\n",
    "            x.requires_grad_()\n",
    "            u = self.velocity_model(x=x, t=t, **model_extras)\n",
    "            if proju:\n",
    "                u = self.manifold.proju(x, u)\n",
    "\n",
    "            if exact_divergence:\n",
    "                div = 0\n",
    "                for i in range(u.flatten(1).shape[1]):\n",
    "                    ei = torch.zeros_like(u)\n",
    "                    ei[:, i] = 1\n",
    "                    if proju:\n",
    "                        ei = self.manifold.proju(x, ei)\n",
    "                    \n",
    "                    div_i = gradient(u[:, i], x, create_graph=True)[:, i]\n",
    "                    christoffel = self.manifold.christoffel(x, ei, u) if hasattr(self.manifold, 'christoffel') else 0\n",
    "                    div += div_i - christoffel\n",
    "            else:\n",
    "                u_dot_z = self.manifold.inner(x, u, z)\n",
    "                grad_u_dot_z = gradient(u_dot_z, x)\n",
    "                if proju:\n",
    "                    grad_u_dot_z = self.manifold.proju(x, grad_u_dot_z)\n",
    "                div = self.manifold.inner(x, grad_u_dot_z, z)\n",
    "\n",
    "        return u.detach(), div.detach()\n",
    "\n",
    "    step_fns = {\n",
    "        \"euler\": _euler_step,\n",
    "        \"midpoint\": _midpoint_step,\n",
    "        \"rk4\": _rk4_step,\n",
    "    }\n",
    "    assert method in step_fns.keys(), f\"Unknown method {method}\"\n",
    "    step_fn = step_fns[method]\n",
    "\n",
    "    # Prepare time discretization for backward integration\n",
    "    t_init, t_final = time_grid[0].item(), time_grid[-1].item()  # 1.0, 0.0\n",
    "    if step_size is None:\n",
    "        t_discretization = time_grid\n",
    "    else:\n",
    "        n_steps = math.ceil((t_init - t_final) / step_size)  # Note: t_init > t_final\n",
    "        t_discretization = torch.linspace(t_init, t_final, n_steps + 1, device=x_1.device)\n",
    "\n",
    "    if return_intermediates:\n",
    "        path = []\n",
    "        log_det = []\n",
    "        i_ret = 0\n",
    "\n",
    "    with torch.set_grad_enabled(enable_grad):\n",
    "        xt = x_1\n",
    "        accum_div = torch.zeros(x_1.shape[0], device=x_1.device)\n",
    "        \n",
    "        t0s = t_discretization[:-1]\n",
    "        if verbose:\n",
    "            t0s = tqdm(t0s)\n",
    "\n",
    "        for t0, t1 in zip(t0s, t_discretization[1:]):\n",
    "            dt = t1 - t0  # Will be negative for backward integration\n",
    "            \n",
    "            ut, div = dynamics_func(xt, t0)\n",
    "            accum_div = accum_div + div * (-dt)  # Note the negative dt for backward integration\n",
    "            \n",
    "            xt_next = step_fn(\n",
    "                lambda x, t: -ut,\n",
    "                xt,\n",
    "                t0,\n",
    "                -dt,  # Make dt positive for the step function\n",
    "                manifold=self.manifold,\n",
    "                projx=projx,\n",
    "                proju=proju,\n",
    "            )\n",
    "            \n",
    "            if return_intermediates:\n",
    "                while (\n",
    "                    i_ret < len(time_grid)\n",
    "                    and t0 >= time_grid[i_ret]  # Changed condition for backward integration\n",
    "                    and time_grid[i_ret] >= t1\n",
    "                ):\n",
    "                    interp_x = interp(\n",
    "                        self.manifold, xt, xt_next, t0, t1, time_grid[i_ret]\n",
    "                    )\n",
    "                    path.append(interp_x)\n",
    "                    log_det.append(accum_div)\n",
    "                    i_ret += 1\n",
    "                    \n",
    "            xt = xt_next\n",
    "\n",
    "    source_log_p = log_p0(xt)\n",
    "    final_log_p = source_log_p + accum_div\n",
    "\n",
    "    if return_intermediates:\n",
    "        return torch.stack(path, dim=0), torch.stack(log_det, dim=0)\n",
    "    else:\n",
    "        return xt, final_log_p[:, None]"
   ]
  },
  {
   "cell_type": "code",
   "execution_count": 177,
   "id": "f1ef2c7e-0a80-4b46-82a3-6fb322066f61",
   "metadata": {},
   "outputs": [],
   "source": [
    "basee, exact_log_q = compute_likelihood(\n",
    "    solver,\n",
    "    x_1=sol[1][:300],\n",
    "    method='midpoint',\n",
    "    step_size=step_size, \n",
    "    exact_divergence=True,\n",
    "    log_p0=log_p_pol,\n",
    "    return_intermediates=False,\n",
    "    tenable_grad=True,\n",
    ")\n"
   ]
  },
  {
   "cell_type": "code",
   "execution_count": null,
   "id": "bcc11f92-e391-43a7-ad6a-5b28e80b1120",
   "metadata": {},
   "outputs": [],
   "source": []
  },
  {
   "cell_type": "code",
   "execution_count": 154,
   "id": "9e55aae0-3d0d-472d-9a5f-dda7a430e190",
   "metadata": {},
   "outputs": [],
   "source": []
  },
  {
   "cell_type": "code",
   "execution_count": 155,
   "id": "d93379b1-6649-4aed-af8e-7409a60832bf",
   "metadata": {},
   "outputs": [],
   "source": [
    "from flow_matching.solver.riemannian_ode_solver import _euler_step, _midpoint_step, _rk4_step"
   ]
  },
  {
   "cell_type": "code",
   "execution_count": 138,
   "id": "b73aa71b-b1fc-4b8d-86f2-58b637770a66",
   "metadata": {},
   "outputs": [
    {
     "ename": "RuntimeError",
     "evalue": "element 0 of tensors does not require grad and does not have a grad_fn",
     "output_type": "error",
     "traceback": [
      "\u001b[1;31m---------------------------------------------------------------------------\u001b[0m",
      "\u001b[1;31mRuntimeError\u001b[0m                              Traceback (most recent call last)",
      "Cell \u001b[1;32mIn[138], line 2\u001b[0m\n\u001b[0;32m      1\u001b[0m solver2 \u001b[38;5;241m=\u001b[39m RiemannianODESolver(velocity_model\u001b[38;5;241m=\u001b[39mwrapped_vf, manifold\u001b[38;5;241m=\u001b[39mmanifold)  \u001b[38;5;66;03m# create an ODESolver class\u001b[39;00m\n\u001b[1;32m----> 2\u001b[0m _, exact_log_q \u001b[38;5;241m=\u001b[39m \u001b[43msolver2\u001b[49m\u001b[38;5;241;43m.\u001b[39;49m\u001b[43mcompute_likelihood\u001b[49m\u001b[43m(\u001b[49m\n\u001b[0;32m      3\u001b[0m \u001b[43m    \u001b[49m\u001b[43mx_1\u001b[49m\u001b[38;5;241;43m=\u001b[39;49m\u001b[43msol\u001b[49m\u001b[43m[\u001b[49m\u001b[38;5;241;43m1\u001b[39;49m\u001b[43m]\u001b[49m\u001b[43m,\u001b[49m\n\u001b[0;32m      4\u001b[0m \u001b[43m    \u001b[49m\u001b[43mmethod\u001b[49m\u001b[38;5;241;43m=\u001b[39;49m\u001b[38;5;124;43m'\u001b[39;49m\u001b[38;5;124;43mmidpoint\u001b[39;49m\u001b[38;5;124;43m'\u001b[39;49m\u001b[43m,\u001b[49m\n\u001b[0;32m      5\u001b[0m \u001b[43m    \u001b[49m\u001b[43mstep_size\u001b[49m\u001b[38;5;241;43m=\u001b[39;49m\u001b[43mstep_size\u001b[49m\u001b[43m,\u001b[49m\u001b[43m \u001b[49m\n\u001b[0;32m      6\u001b[0m \u001b[43m    \u001b[49m\u001b[43mexact_divergence\u001b[49m\u001b[38;5;241;43m=\u001b[39;49m\u001b[38;5;28;43;01mTrue\u001b[39;49;00m\u001b[43m,\u001b[49m\n\u001b[0;32m      7\u001b[0m \u001b[43m    \u001b[49m\u001b[43mlog_p0\u001b[49m\u001b[38;5;241;43m=\u001b[39;49m\u001b[43mlog_p_pol\u001b[49m\u001b[43m,\u001b[49m\n\u001b[0;32m      8\u001b[0m \u001b[43m    \u001b[49m\u001b[43mreturn_intermediates\u001b[49m\u001b[38;5;241;43m=\u001b[39;49m\u001b[38;5;28;43;01mFalse\u001b[39;49;00m\u001b[43m,\u001b[49m\n\u001b[0;32m      9\u001b[0m \u001b[43m    \u001b[49m\u001b[43mtenable_grad\u001b[49m\u001b[38;5;241;43m=\u001b[39;49m\u001b[38;5;28;43;01mTrue\u001b[39;49;00m\u001b[43m,\u001b[49m\n\u001b[0;32m     10\u001b[0m \u001b[43m)\u001b[49m\n",
      "Cell \u001b[1;32mIn[135], line 382\u001b[0m, in \u001b[0;36mRiemannianODESolver.compute_likelihood\u001b[1;34m(self, x_1, log_p0, step_size, method, time_grid, return_intermediates, exact_divergence, enable_grad, projx, proju, verbose, **model_extras)\u001b[0m\n\u001b[0;32m    380\u001b[0m \u001b[38;5;28;01mfor\u001b[39;00m t0, t1 \u001b[38;5;129;01min\u001b[39;00m \u001b[38;5;28mzip\u001b[39m(t0s, t_discretization[\u001b[38;5;241m1\u001b[39m:]):\n\u001b[0;32m    381\u001b[0m     dt \u001b[38;5;241m=\u001b[39m t1 \u001b[38;5;241m-\u001b[39m t0\n\u001b[1;32m--> 382\u001b[0m     xt, logdet_t \u001b[38;5;241m=\u001b[39m \u001b[43mstep_fn\u001b[49m\u001b[43m(\u001b[49m\n\u001b[0;32m    383\u001b[0m \u001b[43m        \u001b[49m\u001b[43mvelocity_model\u001b[49m\u001b[43m,\u001b[49m\n\u001b[0;32m    384\u001b[0m \u001b[43m        \u001b[49m\u001b[43mdivergence_model\u001b[49m\u001b[43m,\u001b[49m\n\u001b[0;32m    385\u001b[0m \u001b[43m        \u001b[49m\u001b[43mxt\u001b[49m\u001b[43m,\u001b[49m\u001b[43m \u001b[49m\u001b[43mlogdet_t\u001b[49m\u001b[43m,\u001b[49m\n\u001b[0;32m    386\u001b[0m \u001b[43m        \u001b[49m\u001b[43mt0\u001b[49m\u001b[43m,\u001b[49m\u001b[43m \u001b[49m\u001b[43mdt\u001b[49m\u001b[43m,\u001b[49m\n\u001b[0;32m    387\u001b[0m \u001b[43m        \u001b[49m\u001b[38;5;28;43mself\u001b[39;49m\u001b[38;5;241;43m.\u001b[39;49m\u001b[43mmanifold\u001b[49m\u001b[43m,\u001b[49m\n\u001b[0;32m    388\u001b[0m \u001b[43m        \u001b[49m\u001b[43mprojx\u001b[49m\u001b[38;5;241;43m=\u001b[39;49m\u001b[43mprojx\u001b[49m\u001b[43m,\u001b[49m\n\u001b[0;32m    389\u001b[0m \u001b[43m        \u001b[49m\u001b[43mproju\u001b[49m\u001b[38;5;241;43m=\u001b[39;49m\u001b[43mproju\u001b[49m\u001b[43m,\u001b[49m\n\u001b[0;32m    390\u001b[0m \u001b[43m    \u001b[49m\u001b[43m)\u001b[49m\n\u001b[0;32m    391\u001b[0m     \u001b[38;5;28;01mif\u001b[39;00m return_intermediates:\n\u001b[0;32m    392\u001b[0m         \u001b[38;5;66;03m# We can compute partial log-prob at this intermediate time\u001b[39;00m\n\u001b[0;32m    393\u001b[0m         \u001b[38;5;66;03m# but be mindful that 'log_p0' is only valid at t=0.\u001b[39;00m\n\u001b[0;32m    394\u001b[0m         \u001b[38;5;66;03m# So we only store the partial sum of logdet if desired.\u001b[39;00m\n\u001b[0;32m    395\u001b[0m         traj_x\u001b[38;5;241m.\u001b[39mappend(xt)\n",
      "Cell \u001b[1;32mIn[135], line 64\u001b[0m, in \u001b[0;36m_riemannian_midpoint_step\u001b[1;34m(velocity_model, divergence_model, xt, logdet_t, t0, dt, manifold, projx, proju)\u001b[0m\n\u001b[0;32m     62\u001b[0m \u001b[38;5;28;01mif\u001b[39;00m proju:\n\u001b[0;32m     63\u001b[0m     ut \u001b[38;5;241m=\u001b[39m manifold\u001b[38;5;241m.\u001b[39mproju(xt, ut)\n\u001b[1;32m---> 64\u001b[0m div \u001b[38;5;241m=\u001b[39m \u001b[43mdivergence_model\u001b[49m\u001b[43m(\u001b[49m\u001b[43mxt\u001b[49m\u001b[43m,\u001b[49m\u001b[43m \u001b[49m\u001b[43mt0\u001b[49m\u001b[43m,\u001b[49m\u001b[43m \u001b[49m\u001b[43mut\u001b[49m\u001b[43m)\u001b[49m\n\u001b[0;32m     66\u001b[0m \u001b[38;5;66;03m# 2) Midpoint for x\u001b[39;00m\n\u001b[0;32m     67\u001b[0m x_mid \u001b[38;5;241m=\u001b[39m xt \u001b[38;5;241m+\u001b[39m half_dt \u001b[38;5;241m*\u001b[39m ut\n",
      "Cell \u001b[1;32mIn[135], line 338\u001b[0m, in \u001b[0;36mRiemannianODESolver.compute_likelihood.<locals>.divergence_model\u001b[1;34m(x, t, u)\u001b[0m\n\u001b[0;32m    335\u001b[0m \u001b[38;5;66;03m# naive loop for demonstration\u001b[39;00m\n\u001b[0;32m    336\u001b[0m \u001b[38;5;28;01mfor\u001b[39;00m i \u001b[38;5;129;01min\u001b[39;00m \u001b[38;5;28mrange\u001b[39m(u\u001b[38;5;241m.\u001b[39mflatten(\u001b[38;5;241m1\u001b[39m)\u001b[38;5;241m.\u001b[39mshape[\u001b[38;5;241m1\u001b[39m]):\n\u001b[0;32m    337\u001b[0m     \u001b[38;5;66;03m# derivative of u[:, i] w.r.t x, then pick out i-th diagonal\u001b[39;00m\n\u001b[1;32m--> 338\u001b[0m     grad_ui \u001b[38;5;241m=\u001b[39m \u001b[43mtorch\u001b[49m\u001b[38;5;241;43m.\u001b[39;49m\u001b[43mautograd\u001b[49m\u001b[38;5;241;43m.\u001b[39;49m\u001b[43mgrad\u001b[49m\u001b[43m(\u001b[49m\u001b[43mu\u001b[49m\u001b[43m[\u001b[49m\u001b[43m:\u001b[49m\u001b[43m,\u001b[49m\u001b[43m \u001b[49m\u001b[43mi\u001b[49m\u001b[43m]\u001b[49m\u001b[38;5;241;43m.\u001b[39;49m\u001b[43msum\u001b[49m\u001b[43m(\u001b[49m\u001b[43m)\u001b[49m\u001b[43m,\u001b[49m\u001b[43m \u001b[49m\u001b[43mx\u001b[49m\u001b[43m,\u001b[49m\u001b[43m \u001b[49m\u001b[43mcreate_graph\u001b[49m\u001b[38;5;241;43m=\u001b[39;49m\u001b[38;5;28;43;01mTrue\u001b[39;49;00m\u001b[43m)\u001b[49m[\u001b[38;5;241m0\u001b[39m]\n\u001b[0;32m    339\u001b[0m     div_val \u001b[38;5;241m+\u001b[39m\u001b[38;5;241m=\u001b[39m grad_ui[:, i]\n\u001b[0;32m    340\u001b[0m \u001b[38;5;66;03m# x.requires_grad_(False)\u001b[39;00m\n",
      "File \u001b[1;32mC:\\python_projects\\sbmfi\\venv\\lib\\site-packages\\torch\\autograd\\__init__.py:496\u001b[0m, in \u001b[0;36mgrad\u001b[1;34m(outputs, inputs, grad_outputs, retain_graph, create_graph, only_inputs, allow_unused, is_grads_batched, materialize_grads)\u001b[0m\n\u001b[0;32m    492\u001b[0m     result \u001b[38;5;241m=\u001b[39m _vmap_internals\u001b[38;5;241m.\u001b[39m_vmap(vjp, \u001b[38;5;241m0\u001b[39m, \u001b[38;5;241m0\u001b[39m, allow_none_pass_through\u001b[38;5;241m=\u001b[39m\u001b[38;5;28;01mTrue\u001b[39;00m)(\n\u001b[0;32m    493\u001b[0m         grad_outputs_\n\u001b[0;32m    494\u001b[0m     )\n\u001b[0;32m    495\u001b[0m \u001b[38;5;28;01melse\u001b[39;00m:\n\u001b[1;32m--> 496\u001b[0m     result \u001b[38;5;241m=\u001b[39m \u001b[43m_engine_run_backward\u001b[49m\u001b[43m(\u001b[49m\n\u001b[0;32m    497\u001b[0m \u001b[43m        \u001b[49m\u001b[43moutputs\u001b[49m\u001b[43m,\u001b[49m\n\u001b[0;32m    498\u001b[0m \u001b[43m        \u001b[49m\u001b[43mgrad_outputs_\u001b[49m\u001b[43m,\u001b[49m\n\u001b[0;32m    499\u001b[0m \u001b[43m        \u001b[49m\u001b[43mretain_graph\u001b[49m\u001b[43m,\u001b[49m\n\u001b[0;32m    500\u001b[0m \u001b[43m        \u001b[49m\u001b[43mcreate_graph\u001b[49m\u001b[43m,\u001b[49m\n\u001b[0;32m    501\u001b[0m \u001b[43m        \u001b[49m\u001b[43minputs\u001b[49m\u001b[43m,\u001b[49m\n\u001b[0;32m    502\u001b[0m \u001b[43m        \u001b[49m\u001b[43mallow_unused\u001b[49m\u001b[43m,\u001b[49m\n\u001b[0;32m    503\u001b[0m \u001b[43m        \u001b[49m\u001b[43maccumulate_grad\u001b[49m\u001b[38;5;241;43m=\u001b[39;49m\u001b[38;5;28;43;01mFalse\u001b[39;49;00m\u001b[43m,\u001b[49m\n\u001b[0;32m    504\u001b[0m \u001b[43m    \u001b[49m\u001b[43m)\u001b[49m\n\u001b[0;32m    505\u001b[0m \u001b[38;5;28;01mif\u001b[39;00m materialize_grads:\n\u001b[0;32m    506\u001b[0m     \u001b[38;5;28;01mif\u001b[39;00m \u001b[38;5;28many\u001b[39m(\n\u001b[0;32m    507\u001b[0m         result[i] \u001b[38;5;129;01mis\u001b[39;00m \u001b[38;5;28;01mNone\u001b[39;00m \u001b[38;5;129;01mand\u001b[39;00m \u001b[38;5;129;01mnot\u001b[39;00m is_tensor_like(inputs[i])\n\u001b[0;32m    508\u001b[0m         \u001b[38;5;28;01mfor\u001b[39;00m i \u001b[38;5;129;01min\u001b[39;00m \u001b[38;5;28mrange\u001b[39m(\u001b[38;5;28mlen\u001b[39m(inputs))\n\u001b[0;32m    509\u001b[0m     ):\n",
      "File \u001b[1;32mC:\\python_projects\\sbmfi\\venv\\lib\\site-packages\\torch\\autograd\\graph.py:825\u001b[0m, in \u001b[0;36m_engine_run_backward\u001b[1;34m(t_outputs, *args, **kwargs)\u001b[0m\n\u001b[0;32m    823\u001b[0m     unregister_hooks \u001b[38;5;241m=\u001b[39m _register_logging_hooks_on_whole_graph(t_outputs)\n\u001b[0;32m    824\u001b[0m \u001b[38;5;28;01mtry\u001b[39;00m:\n\u001b[1;32m--> 825\u001b[0m     \u001b[38;5;28;01mreturn\u001b[39;00m Variable\u001b[38;5;241m.\u001b[39m_execution_engine\u001b[38;5;241m.\u001b[39mrun_backward(  \u001b[38;5;66;03m# Calls into the C++ engine to run the backward pass\u001b[39;00m\n\u001b[0;32m    826\u001b[0m         t_outputs, \u001b[38;5;241m*\u001b[39margs, \u001b[38;5;241m*\u001b[39m\u001b[38;5;241m*\u001b[39mkwargs\n\u001b[0;32m    827\u001b[0m     )  \u001b[38;5;66;03m# Calls into the C++ engine to run the backward pass\u001b[39;00m\n\u001b[0;32m    828\u001b[0m \u001b[38;5;28;01mfinally\u001b[39;00m:\n\u001b[0;32m    829\u001b[0m     \u001b[38;5;28;01mif\u001b[39;00m attach_logging_hooks:\n",
      "\u001b[1;31mRuntimeError\u001b[0m: element 0 of tensors does not require grad and does not have a grad_fn"
     ]
    }
   ],
   "source": [
    "# # solver2 = RiemannianODESolver(velocity_model=wrapped_vf, manifold=manifold)  # create an ODESolver class\n",
    "# _, exact_log_q = solver2.compute_likelihood(\n",
    "#     x_1=sol[1],\n",
    "#     method='midpoint',\n",
    "#     step_size=step_size, \n",
    "#     exact_divergence=True,\n",
    "#     log_p0=log_p_pol,\n",
    "#     return_intermediates=False,\n",
    "#     tenable_grad=True,\n",
    "# )\n"
   ]
  },
  {
   "cell_type": "code",
   "execution_count": 22,
   "id": "ccc13512-e5dd-431d-bbf8-991d3d45cea3",
   "metadata": {},
   "outputs": [
    {
     "data": {
      "text/plain": [
       "4815"
      ]
     },
     "execution_count": 22,
     "metadata": {},
     "output_type": "execute_result"
    }
   ],
   "source": [
    "flow_numpy = sol.to(device='cpu', dtype=torch.double).numpy()\n",
    "in_pol = ((fcm.sampler._F_round.A.values @ flow_numpy[1].T) < fcm.sampler._F_round.b.values[:, None]).all(0)\n",
    "\n",
    "in_pol.sum()"
   ]
  },
  {
   "cell_type": "code",
   "execution_count": 26,
   "id": "061ed2d6-17d5-467f-a816-0def4d179e52",
   "metadata": {},
   "outputs": [
    {
     "data": {
      "image/png": "[encoded data removed]",
      "text/plain": [
       "<Figure size 600x400 with 1 Axes>"
      ]
     },
     "metadata": {},
     "output_type": "display_data"
    }
   ],
   "source": [
    "plt.ioff()\n",
    "\n",
    "fig, ax = plot_dataframes(\n",
    "    vertices=v_representation,\n",
    "    samples=pd.DataFrame(flow_numpy[1, :5000], columns=fcm.sampler.rounded_id),\n",
    "    points=means_df,\n",
    "    x_col='R_h_out', \n",
    "    y_col='R_bm',\n",
    "    x_label='R_h_out', \n",
    "    y_label='R_bm',\n",
    "    label1='Polytope', \n",
    "    label2='Samples Convex Hull',\n",
    "    label3='Samples KDE Density', \n",
    "    label4='Additional Points',\n",
    "    bw_method=None,\n",
    "    bw_adjust=0.6,\n",
    "    levels=8,\n",
    "    font_dict=None,\n",
    "    vertices_fill_color='#ffec58',\n",
    "    samples_fill_color='#e02450',\n",
    "    figsize=(6, 4),\n",
    "    show_legend=False,\n",
    "    legend_loc='best',\n",
    "    s_points=15,\n",
    "    points_color='#C41E3A',\n",
    ")\n",
    "plt.show()"
   ]
  },
  {
   "cell_type": "code",
   "execution_count": null,
   "id": "e1ed94d2-1156-4373-a995-9a0b5556081c",
   "metadata": {},
   "outputs": [],
   "source": []
  },
  {
   "cell_type": "code",
   "execution_count": null,
   "id": "b4f0a772-709d-4335-9019-6fa0d3dba8fe",
   "metadata": {},
   "outputs": [],
   "source": []
  },
  {
   "cell_type": "code",
   "execution_count": null,
   "id": "aa6eea42-caf6-40ce-9ce5-694d1a53fbed",
   "metadata": {},
   "outputs": [],
   "source": []
  },
  {
   "cell_type": "code",
   "execution_count": null,
   "id": "d17c1872-03f3-4de4-a8e6-c10d86d07598",
   "metadata": {},
   "outputs": [],
   "source": []
  },
  {
   "cell_type": "code",
   "execution_count": null,
   "id": "12839a2e-15bc-44cc-88c4-afff137591c2",
   "metadata": {},
   "outputs": [],
   "source": []
  },
  {
   "cell_type": "code",
   "execution_count": 89,
   "id": "7c03e942-a4b1-4325-9b36-9047b29c6f60",
   "metadata": {},
   "outputs": [],
   "source": [
    "# training arguments\n",
    "lr = 1e-3\n",
    "weight_decay=0.0\n",
    "\n",
    "n_epochs = 50\n",
    "batch_size = 1024 * 8\n",
    "iterations = 20001\n",
    "print_every = 2000 \n",
    "hidden_dim = 1024\n",
    "\n",
    "\n",
    "manifold = BallManifold(dim=mog_rounded.shape[-1])\n",
    "# manifold = PoincareBallManifold(eps=EPS)\n",
    "\n",
    "# velocity field model init\n",
    "model = ProjectToTangent(  # Ensures we can just use Euclidean divergence.\n",
    "    MLP(  # Vector field in the ambient space.\n",
    "        input_dim=mog_rounded.shape[-1],\n",
    "        hidden_dim=hidden_dim,\n",
    "    ),\n",
    "    manifold=manifold,\n",
    ").to(device)\n",
    "\n",
    "# instantiate an affine path object\n",
    "path = GeodesicProbPath(scheduler=CondOTScheduler(), manifold=manifold)\n",
    "\n",
    "# init optimizer\n",
    "optimizer = torch.optim.Adam(model.parameters(), lr=lr, weight_decay=weight_decay) \n",
    "\n",
    "scheduler = None\n",
    "\n",
    "mog_ball = fcm.map_rounded_2_ball(mog_rounded.to(device='cpu', dtype=torch.double), sep_radius=False)\n",
    "dataset = torch.utils.data.TensorDataset(mog_ball.to(device=device, dtype=torch.float))\n",
    "dataloader = torch.utils.data.DataLoader(dataset, batch_size=batch_size, shuffle=False, num_workers=0)\n",
    "losses = []"
   ]
  },
  {
   "cell_type": "code",
   "execution_count": 90,
   "id": "2afbe1a3-3f98-4c80-98cc-44decad8d1f3",
   "metadata": {},
   "outputs": [],
   "source": [
    "# optimizer = torch.optim.Adam(model.parameters(), lr=1e-5, weight_decay=1e-3) "
   ]
  },
  {
   "cell_type": "code",
   "execution_count": 92,
   "id": "1a29215b-da75-4529-ad49-dcb3482e0252",
   "metadata": {},
   "outputs": [
    {
     "name": "stderr",
     "output_type": "stream",
     "text": [
      "  7%|█████▏                                                                | 48/650 [00:35<07:21,  1.36it/s, loss=0.214]\n"
     ]
    }
   ],
   "source": []
  },
  {
   "cell_type": "code",
   "execution_count": 137,
   "id": "c79219f1-065c-49fd-9dbf-b6fb470de5ea",
   "metadata": {},
   "outputs": [],
   "source": [
    "# step_size = torch.Tensor([0.05]).to(device=device, dtype=torch.float)\n",
    "\n",
    "# x_init = unif_rounded[:20000]\n",
    "# solver = ODESolver(velocity_model=wrapped_vf)  # create an ODESolver class\n",
    "# sal = solver.sample(time_grid=torch.Tensor([0.0, 1.0]).to(dtype=torch.float, device=device), x_init=x_init, method='midpoint', step_size=step_size, return_intermediates=True)  # sample from the model"
   ]
  },
  {
   "cell_type": "code",
   "execution_count": 172,
   "id": "e7533bc5-91a3-436e-b536-84c06e53559c",
   "metadata": {},
   "outputs": [
    {
     "data": {},
     "metadata": {},
     "output_type": "display_data"
    },
    {
     "data": {
      "application/vnd.holoviews_exec.v0+json": "",
      "text/html": [
       "<div id='64a93544-40df-4b01-9b74-2c90b3738331'>\n",
       "  <div id=\"ae316ddb-be55-484c-8266-b767b1880a3e\" data-root-id=\"64a93544-40df-4b01-9b74-2c90b3738331\" style=\"display: contents;\"></div>\n",
       "</div>\n",
       "<script type=\"application/javascript\">(function(root) {\n",
       "  var docs_json = {\"f52d30c1-9403-4e6f-98f8-581c955365f0\":{\"version\":\"3.6.1\",\"title\":\"Bokeh Application\",\"roots\":[{\"type\":\"object\",\"name\":\"Row\",\"id\":\"64a93544-40df-4b01-9b74-2c90b3738331\",\"attributes\":{\"name\":\"Row06565\",\"tags\":[\"embedded\"],\"stylesheets\":[\"\\n:host(.pn-loading):before, .pn-loading:before {\\n  background-color: #c3c3c3;\\n  mask-size: auto calc(min(50%, 400px));\\n  -webkit-mask-size: auto calc(min(50%, 400px));\\n}\",{\"type\":\"object\",\"name\":\"ImportedStyleSheet\",\"id\":\"ff278672-148b-4587-af6c-2f57ac702fa4\",\"attributes\":{\"url\":\"https://cdn.holoviz.org/panel/1.5.4/dist/css/loading.css\"}},{\"type\":\"object\",\"name\":\"ImportedStyleSheet\",\"id\":\"f3cb6316-c238-4233-a899-07706998fe61\",\"attributes\":{\"url\":\"https://cdn.holoviz.org/panel/1.5.4/dist/css/listpanel.css\"}},{\"type\":\"object\",\"name\":\"ImportedStyleSheet\",\"id\":\"3cbd2180-41c3-4426-b9d7-a8040bbb25f1\",\"attributes\":{\"url\":\"https://cdn.holoviz.org/panel/1.5.4/dist/bundled/theme/default.css\"}},{\"type\":\"object\",\"name\":\"ImportedStyleSheet\",\"id\":\"ec0053e2-43e3-4900-bf00-46b492dcf09e\",\"attributes\":{\"url\":\"https://cdn.holoviz.org/panel/1.5.4/dist/bundled/theme/native.css\"}}],\"min_width\":300,\"margin\":0,\"sizing_mode\":\"stretch_width\",\"align\":\"start\",\"children\":[{\"type\":\"object\",\"name\":\"Spacer\",\"id\":\"23eec3b8-6ee8-4213-95a2-f5afe8ba8f03\",\"attributes\":{\"name\":\"HSpacer06569\",\"stylesheets\":[\"\\n:host(.pn-loading):before, .pn-loading:before {\\n  background-color: #c3c3c3;\\n  mask-size: auto calc(min(50%, 400px));\\n  -webkit-mask-size: auto calc(min(50%, 400px));\\n}\",{\"id\":\"ff278672-148b-4587-af6c-2f57ac702fa4\"},{\"id\":\"3cbd2180-41c3-4426-b9d7-a8040bbb25f1\"},{\"id\":\"ec0053e2-43e3-4900-bf00-46b492dcf09e\"}],\"margin\":0,\"sizing_mode\":\"stretch_width\",\"align\":\"start\"}},{\"type\":\"object\",\"name\":\"Figure\",\"id\":\"d1ce6db9-498d-4b12-bdb9-aa692888da97\",\"attributes\":{\"width\":300,\"height\":300,\"margin\":[5,10],\"sizing_mode\":\"fixed\",\"align\":\"start\",\"x_range\":{\"type\":\"object\",\"name\":\"Range1d\",\"id\":\"b720a6ca-3394-4728-ad93-1fd344148927\",\"attributes\":{\"name\":\"x\",\"tags\":[[[\"x\",null]],[]],\"start\":-37.6,\"end\":413.6,\"reset_start\":-37.6,\"reset_end\":413.6}},\"y_range\":{\"type\":\"object\",\"name\":\"Range1d\",\"id\":\"f5c8affc-3b62-411b-a428-a3e8ca8dc9a4\",\"attributes\":{\"name\":\"y\",\"tags\":[[[\"y\",null]],{\"type\":\"map\",\"entries\":[[\"invert_yaxis\",false],[\"autorange\",false]]}],\"start\":0.09281700551509857,\"end\":0.2967525452375412,\"reset_start\":0.09281700551509857,\"reset_end\":0.2967525452375412}},\"x_scale\":{\"type\":\"object\",\"name\":\"LinearScale\",\"id\":\"fb432ef7-073d-405d-8b4b-13e9f0043574\"},\"y_scale\":{\"type\":\"object\",\"name\":\"LinearScale\",\"id\":\"cfd540e5-c760-490f-bc53-3dc868ff13c1\"},\"title\":{\"type\":\"object\",\"name\":\"Title\",\"id\":\"caa825d1-8120-4a03-bcf4-51f466d78406\",\"attributes\":{\"text_color\":\"black\",\"text_font_size\":\"12pt\"}},\"renderers\":[{\"type\":\"object\",\"name\":\"GlyphRenderer\",\"id\":\"0df3485e-2af1-46b0-a2a1-90ff7c50ed1e\",\"attributes\":{\"data_source\":{\"type\":\"object\",\"name\":\"ColumnDataSource\",\"id\":\"1e596c63-7f8c-4011-bd95-4565da2fdf67\",\"attributes\":{\"selected\":{\"type\":\"object\",\"name\":\"Selection\",\"id\":\"ef6ac78f-77af-49e6-9136-679897200513\",\"attributes\":{\"indices\":[],\"line_indices\":[]}},\"selection_policy\":{\"type\":\"object\",\"name\":\"UnionRenderers\",\"id\":\"525f9ca8-b722-4d7d-b797-a28fe5580c83\"},\"data\":{\"type\":\"map\",\"entries\":[[\"x\",{\"type\":\"ndarray\",\"array\":{\"type\":\"bytes\",\"data\":\"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\"},\"shape\":[377],\"dtype\":\"int32\",\"order\":\"little\"}],[\"y\",{\"type\":\"ndarray\",\"array\":{\"type\":\"bytes\",\"data\":\"AAAAgHrNzD8AAAAAcD/LPwAAAMBbgcw/AAAAII9lyz8AAACA2kzLPwAAAGC/pMo/AAAAgG2JyT8AAABAjcbHPwAAAMCN59E/AAAAQPH5yT8AAADAXCXIPwAAAMAIKsg/AAAAwLjUxz8AAACAh5fHPwAAAEDyisg/AAAAAPv/xz8AAADAHKLGPwAAAICzSsc/AAAAwJhQxz8AAABAxc/GPwAAAMCgscY/AAAAIEVRxT8AAAAAuffEPwAAAEBbgMo/AAAA4FbozD8AAABAK2nGPwAAAOCJfMY/AAAAoEjoxj8AAACAVKnGPwAAAABtNcc/AAAAIJ7Dxj8AAADA9xPHPwAAAMCwfsY/AAAAQP2txj8AAAAA8UfGPwAAAEC51cU/AAAAoG8Hxj8AAACANATFPwAAAOA7nsQ/AAAAwO3PxD8AAACABhbEPwAAAMD2y8M/AAAAIHe8wz8AAAAAda3DPwAAAIA4t8M/AAAAYH/xwz8AAADArVbDPwAAAMCAwsM/AAAAAKJ1wz8AAAAAbWbDPwAAAABstsM/AAAAINYowz8AAADA++XCPwAAAGCV9MI/AAAAQBDnwj8AAACA5ZXCPwAAAGAczMI/AAAAwJWiwj8AAABg5M7CPwAAAICNxMI/AAAAgHTIwj8AAABgvurCPwAAAAB4dsI/AAAAQGcawj8AAABAhWvCPwAAAIAE4MI/AAAAQM74wT8AAAAA2pPCPwAAAIDofcI/AAAAQIk+wj8AAAAAO3fCPwAAAIBAQsI/AAAAAHiCwj8AAAAgQk7CPwAAAAC+NsI/AAAAwGwlwj8AAABAKn7CPwAAAICT58E/AAAAQEsxwj8AAADAH87BPwAAAMCoecE/AAAAoJwdwj8AAADAs9zBPwAAAMCQNMI/AAAAAPgowj8AAACA1CnBPwAAAIB0NsI/AAAAwCsxwT8AAAAgXpnBPwAAAMDvtME/AAAAgJVUwT8AAACgJUTBPwAAAMDYQcE/AAAAgEgrwT8AAACA+6DBPwAAAMASTsE/AAAAYEHQwD8AAAAA24LAPwAAAMA1U8E/AAAAgIALwT8AAACAiInBPwAAAOAQ5cE/AAAAgMKQwT8AAAAAxjLBPwAAAAA3IcE/AAAAgLPGwD8AAACARDLBPwAAACCwr8A/AAAAgLQCwT8AAABAfvTAPwAAAECDocA/AAAAQIQHwT8AAACAvkvAPwAAAMBWlsA/AAAAAEypwD8AAAAASHTAPwAAAMDXUMA/AAAAgJlqwD8AAAAggIHAPwAAAOCbiMA/AAAAgIEawD8AAACALjrAPwAAAMBGcMA/AAAAoJUHwD8AAAAgF6/APwAAAKDgXsA/AAAAQIszwD8AAAAAM1XAPwAAAGBN4L8/AAAAoB5UwD8AAADASxq/PwAAAIBcMcA/AAAAIKG3vz8AAACggK2/PwAAAGB6ccA/AAAAIF/ovz8AAABAAzXAPwAAACA0mb8/AAAAQDA+vz8AAADgwe+/PwAAAEATH8A/AAAAQLcNvz8AAACg5EvAPwAAACBnAsA/AAAAAE7Zvz8AAAAg41G/PwAAAADU1b4/AAAAgGs2wD8AAABA/GXAPwAAAKAypb4/AAAAIMMgwD8AAABAjX2/PwAAACAdFL8/AAAAQLqTvz8AAAAA9hbAPwAAAIBAD78/AAAAQJC2vz8AAAAgf4W/PwAAAAC6jr8/AAAAQPqQvz8AAACAsm2/PwAAAECyB78/AAAAIESFvz8AAADgjna+PwAAAAATD78/AAAAAK6Tvz8AAACAjeG+PwAAAMBpIr8/AAAAYPM3vz8AAADg0KG+PwAAAECcNb8/AAAAQCrKvj8AAAAgUSO/PwAAAIB2mr8/AAAAwDBnvz8AAACAKo+/PwAAAMBjor4/AAAAYPh1vz8AAABADHO+PwAAAECeJr8/AAAAQHH/vj8AAAAAPbG+PwAAAGAHxr4/AAAAAH+svz8AAADAzC2/PwAAAEA7gr4/AAAAwNj8vz8AAACAnXa+PwAAAACG/L0/AAAAACy0vj8AAADA5Eq/PwAAAIBOGb4/AAAAILTxvj8AAABAdUS/PwAAAMD3Wr4/AAAAAIbPvj8AAAAAVbS+PwAAAABv6L4/AAAAwGDCvj8AAABAd3G+PwAAAGDII74/AAAA4BBqvz8AAAAg6469PwAAAIAi4r4/AAAAQBOSvj8AAAAg5+y9PwAAAMBaar4/AAAA4AYOvj8AAADAfZy+PwAAAMCAwL4/AAAAwMnfvj8AAABgIMi+PwAAAIBP370/AAAAwMEevj8AAACAipO+PwAAAECVm74/AAAAgM1ZvT8AAADg49W+PwAAAIDd3L0/AAAAQMk6vj8AAACA34e/PwAAAMCq770/AAAAgLhzvj8AAAAAsfq9PwAAAAAjvb4/AAAAAArJvj8AAADA6Eq+PwAAAIDrib0/AAAAwP9Pvj8AAACgQGK+PwAAAEAVCb4/AAAAABEsvj8AAACAsw++PwAAAABJUL4/AAAAwLm5vj8AAAAAFDK+PwAAAICE8r4/AAAAwNSjvT8AAACAi/O9PwAAAIBibr4/AAAAgH5Ovz8AAAAgwGW9PwAAAIBNlL4/AAAAgIlLvj8AAAAAoSe+PwAAAGAvuL4/AAAAgGiLvT8AAABARNi9PwAAAID3P74/AAAAAIOovT8AAADAYqW+PwAAAABi0b0/AAAAIGqAvT8AAACA7km9PwAAAMC79r0/AAAAgDvVvD8AAACgCIW9PwAAAIDK370/AAAAABClvT8AAABAPna9PwAAAECzm70/AAAAQNvQvT8AAAAA+h6+PwAAAGB7M74/AAAAwPc4vj8AAADAopS+PwAAAAA4r70/AAAAQGJJvj8AAAAAPP69PwAAAKBm5r0/AAAAgAEYvj8AAADAVeK9PwAAAMD2K74/AAAAQBvivT8AAACAGGK+PwAAAIBBaL4/AAAAgMK7vT8AAAAAA2+9PwAAAAAyTr0/AAAAwHJSvT8AAACAh2S9PwAAAACzN70/AAAAAC6JvT8AAACgXku9PwAAAIBfXb0/AAAAwNwdvj8AAADAtBu+PwAAACBO77w/AAAAIKFyvT8AAACA3im9PwAAAEBJiL0/AAAAICfjvD8AAAAgjjW+PwAAAEBwn70/AAAAwImdvT8AAAAAkie+PwAAAMBGF70/AAAAID1uvT8AAADAk4C9PwAAAAAYZL0/AAAAIJPzvT8AAAAANoi9PwAAAAAWGr0/AAAAIGEmvT8AAADgw6m9PwAAAMAJ1rw/AAAAAFSfvT8AAACAytO8PwAAAGCXT70/AAAAQM4/vj8AAADAGoO9PwAAACDKIr0/AAAAQFYLvT8AAACg4pe8PwAAAODheL0/AAAAwN8DvT8AAAAAkHi9PwAAAODa2b0/AAAAwBA4vT8AAACAOX29PwAAAGDs070/AAAAAPMqvT8AAAAg/D2+PwAAAMDwaL0/AAAAoJdMvT8AAAAA65W9PwAAAAA+eb0/AAAAwIW4vT8AAADgBxi9PwAAAID3Ir4/AAAAIIkqvT8AAADgZt29PwAAAAAF1Lw/AAAAwAWhvT8AAACAKnG+PwAAAEBpYL0/AAAAoNGFvT8AAABg+Zi9PwAAAIBO5L0/AAAA4I/HvT8AAAAgMOi9PwAAAKAddrw/AAAAoH/vvD8AAADAEM+8PwAAAMCRzLw/AAAA4C7dvT8AAADAJPO8PwAAAACl6Lw/AAAAYDxVvT8AAAAgONC8PwAAAIC7oL0/AAAAAC9HvT8AAADAQ3a9PwAAAKDc0rw/AAAAgPDmvD8AAACgIYS8PwAAAEDUzrw/AAAAwIVmvT8AAACgdtS8PwAAAID9wrw/AAAAYJotvj8AAABA2vS9PwAAAMBJOL0/AAAAQCXOvD8AAABAvAS+PwAAAKD1iL0/AAAAgJ0cvD8AAAAAsFa9PwAAAIC4Xr0/AAAAoJrYvD8AAACAqO68PwAAAECgn7w/AAAAwKWjvD8AAABAex+9PwAAAMADSb0/AAAAAD21vT8AAACAIFK9Pw==\"},\"shape\":[377],\"dtype\":\"float64\",\"order\":\"little\"}]]}}},\"view\":{\"type\":\"object\",\"name\":\"CDSView\",\"id\":\"6fb23192-32b9-4672-84fb-679b23c253ba\",\"attributes\":{\"filter\":{\"type\":\"object\",\"name\":\"AllIndices\",\"id\":\"d97a7b24-52e7-4ba3-93cd-006b0fa0d815\"}}},\"glyph\":{\"type\":\"object\",\"name\":\"Scatter\",\"id\":\"cd839663-276f-4039-874b-3f655c127cb3\",\"attributes\":{\"tags\":[\"apply_ranges\"],\"x\":{\"type\":\"field\",\"field\":\"x\"},\"y\":{\"type\":\"field\",\"field\":\"y\"},\"size\":{\"type\":\"value\",\"value\":2.449489742783178},\"line_color\":{\"type\":\"value\",\"value\":\"#30a2da\"},\"fill_color\":{\"type\":\"value\",\"value\":\"#30a2da\"},\"hatch_color\":{\"type\":\"value\",\"value\":\"#30a2da\"}}},\"selection_glyph\":{\"type\":\"object\",\"name\":\"Scatter\",\"id\":\"c4396475-e07c-4d44-a82f-f43864209b26\",\"attributes\":{\"tags\":[\"apply_ranges\"],\"x\":{\"type\":\"field\",\"field\":\"x\"},\"y\":{\"type\":\"field\",\"field\":\"y\"},\"size\":{\"type\":\"value\",\"value\":2.449489742783178},\"angle\":{\"type\":\"value\",\"value\":0.0},\"line_color\":{\"type\":\"value\",\"value\":\"#30a2da\"},\"line_alpha\":{\"type\":\"value\",\"value\":1.0},\"line_width\":{\"type\":\"value\",\"value\":1},\"line_join\":{\"type\":\"value\",\"value\":\"bevel\"},\"line_cap\":{\"type\":\"value\",\"value\":\"butt\"},\"line_dash\":{\"type\":\"value\",\"value\":[]},\"line_dash_offset\":{\"type\":\"value\",\"value\":0},\"fill_color\":{\"type\":\"value\",\"value\":\"#30a2da\"},\"fill_alpha\":{\"type\":\"value\",\"value\":1.0},\"hatch_color\":{\"type\":\"value\",\"value\":\"#30a2da\"},\"hatch_alpha\":{\"type\":\"value\",\"value\":1.0},\"hatch_scale\":{\"type\":\"value\",\"value\":12.0},\"hatch_pattern\":{\"type\":\"value\",\"value\":null},\"hatch_weight\":{\"type\":\"value\",\"value\":1.0},\"marker\":{\"type\":\"value\",\"value\":\"circle\"}}},\"nonselection_glyph\":{\"type\":\"object\",\"name\":\"Scatter\",\"id\":\"cb4813be-7753-4d6d-85d1-064e036717e0\",\"attributes\":{\"tags\":[\"apply_ranges\"],\"x\":{\"type\":\"field\",\"field\":\"x\"},\"y\":{\"type\":\"field\",\"field\":\"y\"},\"size\":{\"type\":\"value\",\"value\":2.449489742783178},\"line_color\":{\"type\":\"value\",\"value\":\"#30a2da\"},\"line_alpha\":{\"type\":\"value\",\"value\":0.1},\"fill_color\":{\"type\":\"value\",\"value\":\"#30a2da\"},\"fill_alpha\":{\"type\":\"value\",\"value\":0.1},\"hatch_color\":{\"type\":\"value\",\"value\":\"#30a2da\"},\"hatch_alpha\":{\"type\":\"value\",\"value\":0.1}}},\"muted_glyph\":{\"type\":\"object\",\"name\":\"Scatter\",\"id\":\"223b4278-52d8-4725-8f23-0ca9a7bc23b8\",\"attributes\":{\"tags\":[\"apply_ranges\"],\"x\":{\"type\":\"field\",\"field\":\"x\"},\"y\":{\"type\":\"field\",\"field\":\"y\"},\"size\":{\"type\":\"value\",\"value\":2.449489742783178},\"line_color\":{\"type\":\"value\",\"value\":\"#30a2da\"},\"line_alpha\":{\"type\":\"value\",\"value\":0.2},\"fill_color\":{\"type\":\"value\",\"value\":\"#30a2da\"},\"fill_alpha\":{\"type\":\"value\",\"value\":0.2},\"hatch_color\":{\"type\":\"value\",\"value\":\"#30a2da\"},\"hatch_alpha\":{\"type\":\"value\",\"value\":0.2}}}}}],\"toolbar\":{\"type\":\"object\",\"name\":\"Toolbar\",\"id\":\"299078f1-99a0-4f2d-bdb6-13fb7c3b99ac\",\"attributes\":{\"tools\":[{\"type\":\"object\",\"name\":\"WheelZoomTool\",\"id\":\"bf4ef48a-b870-41cc-a423-5bc52521abf7\",\"attributes\":{\"tags\":[\"hv_created\"],\"renderers\":\"auto\",\"zoom_together\":\"none\"}},{\"type\":\"object\",\"name\":\"SaveTool\",\"id\":\"f0aed7f1-7fe3-409d-97f9-5a3f3e2e36e1\"},{\"type\":\"object\",\"name\":\"PanTool\",\"id\":\"f41e9118-cba3-4a9c-bb4c-e800f0c372a9\"},{\"type\":\"object\",\"name\":\"BoxZoomTool\",\"id\":\"b91fc26b-569f-4b54-8c36-081b92a8956c\",\"attributes\":{\"overlay\":{\"type\":\"object\",\"name\":\"BoxAnnotation\",\"id\":\"7bc945b4-4bfa-4fa1-b774-b9bc9699d2cc\",\"attributes\":{\"syncable\":false,\"line_color\":\"black\",\"line_alpha\":1.0,\"line_width\":2,\"line_dash\":[4,4],\"fill_color\":\"lightgrey\",\"fill_alpha\":0.5,\"level\":\"overlay\",\"visible\":false,\"left\":{\"type\":\"number\",\"value\":\"nan\"},\"right\":{\"type\":\"number\",\"value\":\"nan\"},\"top\":{\"type\":\"number\",\"value\":\"nan\"},\"bottom\":{\"type\":\"number\",\"value\":\"nan\"},\"left_units\":\"canvas\",\"right_units\":\"canvas\",\"top_units\":\"canvas\",\"bottom_units\":\"canvas\",\"handles\":{\"type\":\"object\",\"name\":\"BoxInteractionHandles\",\"id\":\"0b29a07d-b1f6-420f-bec6-8592be4254ca\",\"attributes\":{\"all\":{\"type\":\"object\",\"name\":\"AreaVisuals\",\"id\":\"d2827627-e4d1-49fc-93c3-2b5132a92add\",\"attributes\":{\"fill_color\":\"white\",\"hover_fill_color\":\"lightgray\"}}}}}}}},{\"type\":\"object\",\"name\":\"ResetTool\",\"id\":\"e1239089-e027-441b-b462-ed620d8cd3a7\"}],\"active_drag\":{\"id\":\"f41e9118-cba3-4a9c-bb4c-e800f0c372a9\"},\"active_scroll\":{\"id\":\"bf4ef48a-b870-41cc-a423-5bc52521abf7\"}}},\"left\":[{\"type\":\"object\",\"name\":\"LinearAxis\",\"id\":\"253c9807-e5b4-48d2-bb5f-7627e2cc6f24\",\"attributes\":{\"ticker\":{\"type\":\"object\",\"name\":\"BasicTicker\",\"id\":\"e1a71969-811d-44d0-aab8-81ce5f23c15a\",\"attributes\":{\"mantissas\":[1,2,5]}},\"formatter\":{\"type\":\"object\",\"name\":\"BasicTickFormatter\",\"id\":\"5dec29ae-de62-4855-a6af-7d1b3ebe8642\"},\"axis_label\":\"y\",\"major_label_policy\":{\"type\":\"object\",\"name\":\"AllLabels\",\"id\":\"a068248f-c683-439e-806d-25aa55402126\"}}}],\"below\":[{\"type\":\"object\",\"name\":\"LinearAxis\",\"id\":\"709da73c-bd0c-4f4e-8207-adf78a607150\",\"attributes\":{\"ticker\":{\"type\":\"object\",\"name\":\"BasicTicker\",\"id\":\"3b250f86-11f2-4698-80bf-3aa632ce3f7f\",\"attributes\":{\"mantissas\":[1,2,5]}},\"formatter\":{\"type\":\"object\",\"name\":\"BasicTickFormatter\",\"id\":\"c0ffed61-dd03-45a9-b5e7-febec3f9ebb8\"},\"axis_label\":\"x\",\"major_label_policy\":{\"type\":\"object\",\"name\":\"AllLabels\",\"id\":\"7af1cda0-fb68-40a6-ac2b-d4cd8ee3e50c\"}}}],\"center\":[{\"type\":\"object\",\"name\":\"Grid\",\"id\":\"d495900c-c972-4dc2-b6dc-2285bad74d35\",\"attributes\":{\"axis\":{\"id\":\"709da73c-bd0c-4f4e-8207-adf78a607150\"},\"grid_line_color\":null}},{\"type\":\"object\",\"name\":\"Grid\",\"id\":\"cda84f90-91e7-4051-934f-61adef94420c\",\"attributes\":{\"dimension\":1,\"axis\":{\"id\":\"253c9807-e5b4-48d2-bb5f-7627e2cc6f24\"},\"grid_line_color\":null}}],\"min_border_top\":10,\"min_border_bottom\":10,\"min_border_left\":10,\"min_border_right\":10,\"output_backend\":\"webgl\"}},{\"type\":\"object\",\"name\":\"Spacer\",\"id\":\"840a921b-2316-48da-a17f-21c68d716439\",\"attributes\":{\"name\":\"HSpacer06570\",\"stylesheets\":[\"\\n:host(.pn-loading):before, .pn-loading:before {\\n  background-color: #c3c3c3;\\n  mask-size: auto calc(min(50%, 400px));\\n  -webkit-mask-size: auto calc(min(50%, 400px));\\n}\",{\"id\":\"ff278672-148b-4587-af6c-2f57ac702fa4\"},{\"id\":\"3cbd2180-41c3-4426-b9d7-a8040bbb25f1\"},{\"id\":\"ec0053e2-43e3-4900-bf00-46b492dcf09e\"}],\"margin\":0,\"sizing_mode\":\"stretch_width\",\"align\":\"start\"}}]}}],\"defs\":[{\"type\":\"model\",\"name\":\"ReactiveHTML1\"},{\"type\":\"model\",\"name\":\"FlexBox1\",\"properties\":[{\"name\":\"align_content\",\"kind\":\"Any\",\"default\":\"flex-start\"},{\"name\":\"align_items\",\"kind\":\"Any\",\"default\":\"flex-start\"},{\"name\":\"flex_direction\",\"kind\":\"Any\",\"default\":\"row\"},{\"name\":\"flex_wrap\",\"kind\":\"Any\",\"default\":\"wrap\"},{\"name\":\"gap\",\"kind\":\"Any\",\"default\":\"\"},{\"name\":\"justify_content\",\"kind\":\"Any\",\"default\":\"flex-start\"}]},{\"type\":\"model\",\"name\":\"FloatPanel1\",\"properties\":[{\"name\":\"config\",\"kind\":\"Any\",\"default\":{\"type\":\"map\"}},{\"name\":\"contained\",\"kind\":\"Any\",\"default\":true},{\"name\":\"position\",\"kind\":\"Any\",\"default\":\"right-top\"},{\"name\":\"offsetx\",\"kind\":\"Any\",\"default\":null},{\"name\":\"offsety\",\"kind\":\"Any\",\"default\":null},{\"name\":\"theme\",\"kind\":\"Any\",\"default\":\"primary\"},{\"name\":\"status\",\"kind\":\"Any\",\"default\":\"normalized\"}]},{\"type\":\"model\",\"name\":\"GridStack1\",\"properties\":[{\"name\":\"mode\",\"kind\":\"Any\",\"default\":\"warn\"},{\"name\":\"ncols\",\"kind\":\"Any\",\"default\":null},{\"name\":\"nrows\",\"kind\":\"Any\",\"default\":null},{\"name\":\"allow_resize\",\"kind\":\"Any\",\"default\":true},{\"name\":\"allow_drag\",\"kind\":\"Any\",\"default\":true},{\"name\":\"state\",\"kind\":\"Any\",\"default\":[]}]},{\"type\":\"model\",\"name\":\"drag1\",\"properties\":[{\"name\":\"slider_width\",\"kind\":\"Any\",\"default\":5},{\"name\":\"slider_color\",\"kind\":\"Any\",\"default\":\"black\"},{\"name\":\"value\",\"kind\":\"Any\",\"default\":50}]},{\"type\":\"model\",\"name\":\"click1\",\"properties\":[{\"name\":\"terminal_output\",\"kind\":\"Any\",\"default\":\"\"},{\"name\":\"debug_name\",\"kind\":\"Any\",\"default\":\"\"},{\"name\":\"clears\",\"kind\":\"Any\",\"default\":0}]},{\"type\":\"model\",\"name\":\"FastWrapper1\",\"properties\":[{\"name\":\"object\",\"kind\":\"Any\",\"default\":null},{\"name\":\"style\",\"kind\":\"Any\",\"default\":null}]},{\"type\":\"model\",\"name\":\"NotificationAreaBase1\",\"properties\":[{\"name\":\"js_events\",\"kind\":\"Any\",\"default\":{\"type\":\"map\"}},{\"name\":\"position\",\"kind\":\"Any\",\"default\":\"bottom-right\"},{\"name\":\"_clear\",\"kind\":\"Any\",\"default\":0}]},{\"type\":\"model\",\"name\":\"NotificationArea1\",\"properties\":[{\"name\":\"js_events\",\"kind\":\"Any\",\"default\":{\"type\":\"map\"}},{\"name\":\"notifications\",\"kind\":\"Any\",\"default\":[]},{\"name\":\"position\",\"kind\":\"Any\",\"default\":\"bottom-right\"},{\"name\":\"_clear\",\"kind\":\"Any\",\"default\":0},{\"name\":\"types\",\"kind\":\"Any\",\"default\":[{\"type\":\"map\",\"entries\":[[\"type\",\"warning\"],[\"background\",\"#ffc107\"],[\"icon\",{\"type\":\"map\",\"entries\":[[\"className\",\"fas fa-exclamation-triangle\"],[\"tagName\",\"i\"],[\"color\",\"white\"]]}]]},{\"type\":\"map\",\"entries\":[[\"type\",\"info\"],[\"background\",\"#007bff\"],[\"icon\",{\"type\":\"map\",\"entries\":[[\"className\",\"fas fa-info-circle\"],[\"tagName\",\"i\"],[\"color\",\"white\"]]}]]}]}]},{\"type\":\"model\",\"name\":\"Notification\",\"properties\":[{\"name\":\"background\",\"kind\":\"Any\",\"default\":null},{\"name\":\"duration\",\"kind\":\"Any\",\"default\":3000},{\"name\":\"icon\",\"kind\":\"Any\",\"default\":null},{\"name\":\"message\",\"kind\":\"Any\",\"default\":\"\"},{\"name\":\"notification_type\",\"kind\":\"Any\",\"default\":null},{\"name\":\"_destroyed\",\"kind\":\"Any\",\"default\":false}]},{\"type\":\"model\",\"name\":\"TemplateActions1\",\"properties\":[{\"name\":\"open_modal\",\"kind\":\"Any\",\"default\":0},{\"name\":\"close_modal\",\"kind\":\"Any\",\"default\":0}]},{\"type\":\"model\",\"name\":\"BootstrapTemplateActions1\",\"properties\":[{\"name\":\"open_modal\",\"kind\":\"Any\",\"default\":0},{\"name\":\"close_modal\",\"kind\":\"Any\",\"default\":0}]},{\"type\":\"model\",\"name\":\"TemplateEditor1\",\"properties\":[{\"name\":\"layout\",\"kind\":\"Any\",\"default\":[]}]},{\"type\":\"model\",\"name\":\"MaterialTemplateActions1\",\"properties\":[{\"name\":\"open_modal\",\"kind\":\"Any\",\"default\":0},{\"name\":\"close_modal\",\"kind\":\"Any\",\"default\":0}]},{\"type\":\"model\",\"name\":\"ReactiveESM1\",\"properties\":[{\"name\":\"esm_constants\",\"kind\":\"Any\",\"default\":{\"type\":\"map\"}}]},{\"type\":\"model\",\"name\":\"JSComponent1\",\"properties\":[{\"name\":\"esm_constants\",\"kind\":\"Any\",\"default\":{\"type\":\"map\"}}]},{\"type\":\"model\",\"name\":\"ReactComponent1\",\"properties\":[{\"name\":\"esm_constants\",\"kind\":\"Any\",\"default\":{\"type\":\"map\"}}]},{\"type\":\"model\",\"name\":\"AnyWidgetComponent1\",\"properties\":[{\"name\":\"esm_constants\",\"kind\":\"Any\",\"default\":{\"type\":\"map\"}}]},{\"type\":\"model\",\"name\":\"request_value1\",\"properties\":[{\"name\":\"fill\",\"kind\":\"Any\",\"default\":\"none\"},{\"name\":\"_synced\",\"kind\":\"Any\",\"default\":null},{\"name\":\"_request_sync\",\"kind\":\"Any\",\"default\":0}]}]}};\n",
       "  var render_items = [{\"docid\":\"f52d30c1-9403-4e6f-98f8-581c955365f0\",\"roots\":{\"64a93544-40df-4b01-9b74-2c90b3738331\":\"ae316ddb-be55-484c-8266-b767b1880a3e\"},\"root_ids\":[\"64a93544-40df-4b01-9b74-2c90b3738331\"]}];\n",
       "  var docs = Object.values(docs_json)\n",
       "  if (!docs) {\n",
       "    return\n",
       "  }\n",
       "  const py_version = docs[0].version.replace('rc', '-rc.').replace('.dev', '-dev.')\n",
       "  async function embed_document(root) {\n",
       "    var Bokeh = get_bokeh(root)\n",
       "    await Bokeh.embed.embed_items_notebook(docs_json, render_items);\n",
       "    for (const render_item of render_items) {\n",
       "      for (const root_id of render_item.root_ids) {\n",
       "\tconst id_el = document.getElementById(root_id)\n",
       "\tif (id_el.children.length && id_el.children[0].hasAttribute('data-root-id')) {\n",
       "\t  const root_el = id_el.children[0]\n",
       "\t  root_el.id = root_el.id + '-rendered'\n",
       "\t  for (const child of root_el.children) {\n",
       "            // Ensure JupyterLab does not capture keyboard shortcuts\n",
       "            // see: https://jupyterlab.readthedocs.io/en/4.1.x/extension/notebook.html#keyboard-interaction-model\n",
       "\t    child.setAttribute('data-lm-suppress-shortcuts', 'true')\n",
       "\t  }\n",
       "\t}\n",
       "      }\n",
       "    }\n",
       "  }\n",
       "  function get_bokeh(root) {\n",
       "    if (root.Bokeh === undefined) {\n",
       "      return null\n",
       "    } else if (root.Bokeh.version !== py_version) {\n",
       "      if (root.Bokeh.versions === undefined || !root.Bokeh.versions.has(py_version)) {\n",
       "\treturn null\n",
       "      }\n",
       "      return root.Bokeh.versions.get(py_version);\n",
       "    } else if (root.Bokeh.version === py_version) {\n",
       "      return root.Bokeh\n",
       "    }\n",
       "    return null\n",
       "  }\n",
       "  function is_loaded(root) {\n",
       "    var Bokeh = get_bokeh(root)\n",
       "    return (Bokeh != null && Bokeh.Panel !== undefined)\n",
       "  }\n",
       "  if (is_loaded(root)) {\n",
       "    embed_document(root);\n",
       "  } else {\n",
       "    var attempts = 0;\n",
       "    var timer = setInterval(function(root) {\n",
       "      if (is_loaded(root)) {\n",
       "        clearInterval(timer);\n",
       "        embed_document(root);\n",
       "      } else if (document.readyState == \"complete\") {\n",
       "        attempts++;\n",
       "        if (attempts > 200) {\n",
       "          clearInterval(timer);\n",
       "\t  var Bokeh = get_bokeh(root)\n",
       "\t  if (Bokeh == null || Bokeh.Panel == null) {\n",
       "            console.warn(\"Panel: ERROR: Unable to run Panel code because Bokeh or Panel library is missing\");\n",
       "\t  } else {\n",
       "\t    console.warn(\"Panel: WARNING: Attempting to render but not all required libraries could be resolved.\")\n",
       "\t    embed_document(root)\n",
       "\t  }\n",
       "        }\n",
       "      }\n",
       "    }, 25, root)\n",
       "  }\n",
       "})(window);</script>"
      ],
      "text/plain": [
       ":Scatter   [x]   (y)"
      ]
     },
     "execution_count": 172,
     "metadata": {
      "application/vnd.holoviews_exec.v0+json": {
       "id": "64a93544-40df-4b01-9b74-2c90b3738331"
      }
     },
     "output_type": "execute_result"
    }
   ],
   "source": [
    "hv.Scatter(losses)"
   ]
  },
  {
   "cell_type": "code",
   "execution_count": 173,
   "id": "1730f048-fce5-4985-906c-b4d5ef4eb93e",
   "metadata": {},
   "outputs": [],
   "source": [
    "x_init = sample_ball((10000, mog_ball.shape[-1]))"
   ]
  },
  {
   "cell_type": "code",
   "execution_count": 174,
   "id": "e7f29b68-42ba-4e5f-9fe5-eb38a70bdfd9",
   "metadata": {},
   "outputs": [
    {
     "name": "stderr",
     "output_type": "stream",
     "text": [
      "100%|█████████████████████████████████████████████████████████████████████████████████████████████████████████████████████████████████████████████████████████████████████████████████████████████████████████████████████████████████████████████████████████████████████████████████████████████| 100/100 [00:14<00:00,  6.87it/s]\n"
     ]
    }
   ],
   "source": [
    "# step size for ode solver\n",
    "step_size = 0.01\n",
    "N = 2\n",
    "\n",
    "batch_size = 50000  # batch size\n",
    "eps_time = 1e-2\n",
    "T = torch.linspace(0, 1, N)  # sample times\n",
    "T = T.to(device=device)\n",
    "\n",
    "\n",
    "class WrappedModel(ModelWrapper):\n",
    "    def forward(self, x: torch.Tensor, t: torch.Tensor, **extras):\n",
    "        return self.model(x, t)\n",
    "\n",
    "\n",
    "x_init = sample_ball((5000, mog_ball.shape[-1]))\n",
    "wrapped_vf = WrappedModel(model)\n",
    "\n",
    "solver = RiemannianODESolver(velocity_model=wrapped_vf, manifold=manifold)  # create an ODESolver class\n",
    "sol = solver.sample(\n",
    "    x_init=x_init,\n",
    "    step_size=step_size,\n",
    "    method=\"midpoint\",\n",
    "    return_intermediates=True,\n",
    "    time_grid=T,\n",
    "    verbose=True,\n",
    ")"
   ]
  },
  {
   "cell_type": "code",
   "execution_count": 176,
   "id": "9d73e3cc-de84-47f6-8ad9-b5d3f067ffd1",
   "metadata": {},
   "outputs": [
    {
     "data": {
      "text/html": [
       "<div>\n",
       "<style scoped>\n",
       "    .dataframe tbody tr th:only-of-type {\n",
       "        vertical-align: middle;\n",
       "    }\n",
       "\n",
       "    .dataframe tbody tr th {\n",
       "        vertical-align: top;\n",
       "    }\n",
       "\n",
       "    .dataframe thead th {\n",
       "        text-align: right;\n",
       "    }\n",
       "</style>\n",
       "<table border=\"1\" class=\"dataframe\">\n",
       "  <thead>\n",
       "    <tr style=\"text-align: right;\">\n",
       "      <th></th>\n",
       "      <th>R_v7</th>\n",
       "      <th>R_f_out</th>\n",
       "      <th>R_h_out</th>\n",
       "      <th>R_bm</th>\n",
       "      <th>weights</th>\n",
       "    </tr>\n",
       "  </thead>\n",
       "  <tbody>\n",
       "    <tr>\n",
       "      <th>0</th>\n",
       "      <td>0.000000</td>\n",
       "      <td>0.0</td>\n",
       "      <td>0.974004</td>\n",
       "      <td>0.000000</td>\n",
       "      <td>0.25</td>\n",
       "    </tr>\n",
       "    <tr>\n",
       "      <th>1</th>\n",
       "      <td>-0.974004</td>\n",
       "      <td>-0.0</td>\n",
       "      <td>-0.000000</td>\n",
       "      <td>-0.000000</td>\n",
       "      <td>0.25</td>\n",
       "    </tr>\n",
       "    <tr>\n",
       "      <th>2</th>\n",
       "      <td>0.000000</td>\n",
       "      <td>0.0</td>\n",
       "      <td>0.000000</td>\n",
       "      <td>0.974004</td>\n",
       "      <td>0.5</td>\n",
       "    </tr>\n",
       "  </tbody>\n",
       "</table>\n",
       "</div>"
      ],
      "text/plain": [
       "       R_v7  R_f_out   R_h_out      R_bm weights\n",
       "0  0.000000      0.0  0.974004  0.000000    0.25\n",
       "1 -0.974004     -0.0 -0.000000 -0.000000    0.25\n",
       "2  0.000000      0.0  0.000000  0.974004     0.5"
      ]
     },
     "execution_count": 176,
     "metadata": {},
     "output_type": "execute_result"
    }
   ],
   "source": [
    "means_df = pd.DataFrame(np.hstack([mog_data.attrs['mog_means'], mog_data.attrs['mog_weights'][:, None]]), columns=fcm.theta_id().append(pd.Index(['weights'])))\n",
    "means_df['weights'] = means_df['weights'].astype(str)\n",
    "means_df"
   ]
  },
  {
   "cell_type": "code",
   "execution_count": 177,
   "id": "33a91314-90ba-4df6-b24b-5fb7a6a0ab2d",
   "metadata": {},
   "outputs": [],
   "source": [
    "radius = torch.norm(sol, 2, dim=2, keepdim=True)\n",
    "ball = sol / radius\n",
    "ball = torch.cat([ball, radius], dim=-1).to(device='cpu', dtype=torch.double)"
   ]
  },
  {
   "cell_type": "code",
   "execution_count": 178,
   "id": "75952161-aa26-4dd0-a0a3-85e460068480",
   "metadata": {},
   "outputs": [
    {
     "data": {
      "text/html": [
       "<script type=\"esms-options\">{\"shimMode\": true}</script><style>*[data-root-id],\n",
       "*[data-root-id] > * {\n",
       "  box-sizing: border-box;\n",
       "  font-family: var(--jp-ui-font-family);\n",
       "  font-size: var(--jp-ui-font-size1);\n",
       "  color: var(--vscode-editor-foreground, var(--jp-ui-font-color1));\n",
       "}\n",
       "\n",
       "/* Override VSCode background color */\n",
       ".cell-output-ipywidget-background:has(\n",
       "    > .cell-output-ipywidget-background > .lm-Widget > *[data-root-id]\n",
       "  ),\n",
       ".cell-output-ipywidget-background:has(> .lm-Widget > *[data-root-id]) {\n",
       "  background-color: transparent !important;\n",
       "}\n",
       "</style>"
      ]
     },
     "metadata": {},
     "output_type": "display_data"
    },
    {
     "data": {
      "application/javascript": [
       "(function(root) {\n",
       "  function now() {\n",
       "    return new Date();\n",
       "  }\n",
       "\n",
       "  const force = true;\n",
       "  const py_version = '3.6.1'.replace('rc', '-rc.').replace('.dev', '-dev.');\n",
       "  const reloading = false;\n",
       "  const Bokeh = root.Bokeh;\n",
       "\n",
       "  // Set a timeout for this load but only if we are not already initializing\n",
       "  if (typeof (root._bokeh_timeout) === \"undefined\" || (force || !root._bokeh_is_initializing)) {\n",
       "    root._bokeh_timeout = Date.now() + 5000;\n",
       "    root._bokeh_failed_load = false;\n",
       "  }\n",
       "\n",
       "  function run_callbacks() {\n",
       "    try {\n",
       "      root._bokeh_onload_callbacks.forEach(function(callback) {\n",
       "        if (callback != null)\n",
       "          callback();\n",
       "      });\n",
       "    } finally {\n",
       "      delete root._bokeh_onload_callbacks;\n",
       "    }\n",
       "    console.debug(\"Bokeh: all callbacks have finished\");\n",
       "  }\n",
       "\n",
       "  function load_libs(css_urls, js_urls, js_modules, js_exports, callback) {\n",
       "    if (css_urls == null) css_urls = [];\n",
       "    if (js_urls == null) js_urls = [];\n",
       "    if (js_modules == null) js_modules = [];\n",
       "    if (js_exports == null) js_exports = {};\n",
       "\n",
       "    root._bokeh_onload_callbacks.push(callback);\n",
       "\n",
       "    if (root._bokeh_is_loading > 0) {\n",
       "      // Don't load bokeh if it is still initializing\n",
       "      console.debug(\"Bokeh: BokehJS is being loaded, scheduling callback at\", now());\n",
       "      return null;\n",
       "    } else if (js_urls.length === 0 && js_modules.length === 0 && Object.keys(js_exports).length === 0) {\n",
       "      // There is nothing to load\n",
       "      run_callbacks();\n",
       "      return null;\n",
       "    }\n",
       "\n",
       "    function on_load() {\n",
       "      root._bokeh_is_loading--;\n",
       "      if (root._bokeh_is_loading === 0) {\n",
       "        console.debug(\"Bokeh: all BokehJS libraries/stylesheets loaded\");\n",
       "        run_callbacks()\n",
       "      }\n",
       "    }\n",
       "    window._bokeh_on_load = on_load\n",
       "\n",
       "    function on_error(e) {\n",
       "      const src_el = e.srcElement\n",
       "      console.error(\"failed to load \" + (src_el.href || src_el.src));\n",
       "    }\n",
       "\n",
       "    const skip = [];\n",
       "    if (window.requirejs) {\n",
       "      window.requirejs.config({'packages': {}, 'paths': {}, 'shim': {}});\n",
       "      root._bokeh_is_loading = css_urls.length + 0;\n",
       "    } else {\n",
       "      root._bokeh_is_loading = css_urls.length + js_urls.length + js_modules.length + Object.keys(js_exports).length;\n",
       "    }\n",
       "\n",
       "    const existing_stylesheets = []\n",
       "    const links = document.getElementsByTagName('link')\n",
       "    for (let i = 0; i < links.length; i++) {\n",
       "      const link = links[i]\n",
       "      if (link.href != null) {\n",
       "        existing_stylesheets.push(link.href)\n",
       "      }\n",
       "    }\n",
       "    for (let i = 0; i < css_urls.length; i++) {\n",
       "      const url = css_urls[i];\n",
       "      const escaped = encodeURI(url)\n",
       "      if (existing_stylesheets.indexOf(escaped) !== -1) {\n",
       "        on_load()\n",
       "        continue;\n",
       "      }\n",
       "      const element = document.createElement(\"link\");\n",
       "      element.onload = on_load;\n",
       "      element.onerror = on_error;\n",
       "      element.rel = \"stylesheet\";\n",
       "      element.type = \"text/css\";\n",
       "      element.href = url;\n",
       "      console.debug(\"Bokeh: injecting link tag for BokehJS stylesheet: \", url);\n",
       "      document.body.appendChild(element);\n",
       "    }    var existing_scripts = []\n",
       "    const scripts = document.getElementsByTagName('script')\n",
       "    for (let i = 0; i < scripts.length; i++) {\n",
       "      var script = scripts[i]\n",
       "      if (script.src != null) {\n",
       "        existing_scripts.push(script.src)\n",
       "      }\n",
       "    }\n",
       "    for (let i = 0; i < js_urls.length; i++) {\n",
       "      const url = js_urls[i];\n",
       "      const escaped = encodeURI(url)\n",
       "      if (skip.indexOf(escaped) !== -1 || existing_scripts.indexOf(escaped) !== -1) {\n",
       "        if (!window.requirejs) {\n",
       "          on_load();\n",
       "        }\n",
       "        continue;\n",
       "      }\n",
       "      const element = document.createElement('script');\n",
       "      element.onload = on_load;\n",
       "      element.onerror = on_error;\n",
       "      element.async = false;\n",
       "      element.src = url;\n",
       "      console.debug(\"Bokeh: injecting script tag for BokehJS library: \", url);\n",
       "      document.head.appendChild(element);\n",
       "    }\n",
       "    for (let i = 0; i < js_modules.length; i++) {\n",
       "      const url = js_modules[i];\n",
       "      const escaped = encodeURI(url)\n",
       "      if (skip.indexOf(escaped) !== -1 || existing_scripts.indexOf(escaped) !== -1) {\n",
       "        if (!window.requirejs) {\n",
       "          on_load();\n",
       "        }\n",
       "        continue;\n",
       "      }\n",
       "      var element = document.createElement('script');\n",
       "      element.onload = on_load;\n",
       "      element.onerror = on_error;\n",
       "      element.async = false;\n",
       "      element.src = url;\n",
       "      element.type = \"module\";\n",
       "      console.debug(\"Bokeh: injecting script tag for BokehJS library: \", url);\n",
       "      document.head.appendChild(element);\n",
       "    }\n",
       "    for (const name in js_exports) {\n",
       "      const url = js_exports[name];\n",
       "      const escaped = encodeURI(url)\n",
       "      if (skip.indexOf(escaped) >= 0 || root[name] != null) {\n",
       "        if (!window.requirejs) {\n",
       "          on_load();\n",
       "        }\n",
       "        continue;\n",
       "      }\n",
       "      var element = document.createElement('script');\n",
       "      element.onerror = on_error;\n",
       "      element.async = false;\n",
       "      element.type = \"module\";\n",
       "      console.debug(\"Bokeh: injecting script tag for BokehJS library: \", url);\n",
       "      element.textContent = `\n",
       "      import ${name} from \"${url}\"\n",
       "      window.${name} = ${name}\n",
       "      window._bokeh_on_load()\n",
       "      `\n",
       "      document.head.appendChild(element);\n",
       "    }\n",
       "    if (!js_urls.length && !js_modules.length) {\n",
       "      on_load()\n",
       "    }\n",
       "  };\n",
       "\n",
       "  function inject_raw_css(css) {\n",
       "    const element = document.createElement(\"style\");\n",
       "    element.appendChild(document.createTextNode(css));\n",
       "    document.body.appendChild(element);\n",
       "  }\n",
       "\n",
       "  const js_urls = [\"https://cdn.holoviz.org/panel/1.5.4/dist/bundled/reactiveesm/es-module-shims@^1.10.0/dist/es-module-shims.min.js\", \"https://cdn.bokeh.org/bokeh/release/bokeh-3.6.1.min.js\", \"https://cdn.bokeh.org/bokeh/release/bokeh-gl-3.6.1.min.js\", \"https://cdn.bokeh.org/bokeh/release/bokeh-widgets-3.6.1.min.js\", \"https://cdn.bokeh.org/bokeh/release/bokeh-tables-3.6.1.min.js\", \"https://cdn.holoviz.org/panel/1.5.4/dist/panel.min.js\"];\n",
       "  const js_modules = [];\n",
       "  const js_exports = {};\n",
       "  const css_urls = [];\n",
       "  const inline_js = [    function(Bokeh) {\n",
       "      Bokeh.set_log_level(\"info\");\n",
       "    },\n",
       "function(Bokeh) {} // ensure no trailing comma for IE\n",
       "  ];\n",
       "\n",
       "  function run_inline_js() {\n",
       "    if ((root.Bokeh !== undefined) || (force === true)) {\n",
       "      for (let i = 0; i < inline_js.length; i++) {\n",
       "        try {\n",
       "          inline_js[i].call(root, root.Bokeh);\n",
       "        } catch(e) {\n",
       "          if (!reloading) {\n",
       "            throw e;\n",
       "          }\n",
       "        }\n",
       "      }\n",
       "      // Cache old bokeh versions\n",
       "      if (Bokeh != undefined && !reloading) {\n",
       "        var NewBokeh = root.Bokeh;\n",
       "        if (Bokeh.versions === undefined) {\n",
       "          Bokeh.versions = new Map();\n",
       "        }\n",
       "        if (NewBokeh.version !== Bokeh.version) {\n",
       "          Bokeh.versions.set(NewBokeh.version, NewBokeh)\n",
       "        }\n",
       "        root.Bokeh = Bokeh;\n",
       "      }\n",
       "    } else if (Date.now() < root._bokeh_timeout) {\n",
       "      setTimeout(run_inline_js, 100);\n",
       "    } else if (!root._bokeh_failed_load) {\n",
       "      console.log(\"Bokeh: BokehJS failed to load within specified timeout.\");\n",
       "      root._bokeh_failed_load = true;\n",
       "    }\n",
       "    root._bokeh_is_initializing = false\n",
       "  }\n",
       "\n",
       "  function load_or_wait() {\n",
       "    // Implement a backoff loop that tries to ensure we do not load multiple\n",
       "    // versions of Bokeh and its dependencies at the same time.\n",
       "    // In recent versions we use the root._bokeh_is_initializing flag\n",
       "    // to determine whether there is an ongoing attempt to initialize\n",
       "    // bokeh, however for backward compatibility we also try to ensure\n",
       "    // that we do not start loading a newer (Panel>=1.0 and Bokeh>3) version\n",
       "    // before older versions are fully initialized.\n",
       "    if (root._bokeh_is_initializing && Date.now() > root._bokeh_timeout) {\n",
       "      // If the timeout and bokeh was not successfully loaded we reset\n",
       "      // everything and try loading again\n",
       "      root._bokeh_timeout = Date.now() + 5000;\n",
       "      root._bokeh_is_initializing = false;\n",
       "      root._bokeh_onload_callbacks = undefined;\n",
       "      root._bokeh_is_loading = 0\n",
       "      console.log(\"Bokeh: BokehJS was loaded multiple times but one version failed to initialize.\");\n",
       "      load_or_wait();\n",
       "    } else if (root._bokeh_is_initializing || (typeof root._bokeh_is_initializing === \"undefined\" && root._bokeh_onload_callbacks !== undefined)) {\n",
       "      setTimeout(load_or_wait, 100);\n",
       "    } else {\n",
       "      root._bokeh_is_initializing = true\n",
       "      root._bokeh_onload_callbacks = []\n",
       "      const bokeh_loaded = root.Bokeh != null && (root.Bokeh.version === py_version || (root.Bokeh.versions !== undefined && root.Bokeh.versions.has(py_version)));\n",
       "      if (!reloading && !bokeh_loaded) {\n",
       "        if (root.Bokeh) {\n",
       "          root.Bokeh = undefined;\n",
       "        }\n",
       "        console.debug(\"Bokeh: BokehJS not loaded, scheduling load and callback at\", now());\n",
       "      }\n",
       "      load_libs(css_urls, js_urls, js_modules, js_exports, function() {\n",
       "        console.debug(\"Bokeh: BokehJS plotting callback run at\", now());\n",
       "        run_inline_js();\n",
       "      });\n",
       "    }\n",
       "  }\n",
       "  // Give older versions of the autoload script a head-start to ensure\n",
       "  // they initialize before we start loading newer version.\n",
       "  setTimeout(load_or_wait, 100)\n",
       "}(window));"
      ],
      "application/vnd.holoviews_load.v0+json": "(function(root) {\n  function now() {\n    return new Date();\n  }\n\n  const force = true;\n  const py_version = '3.6.1'.replace('rc', '-rc.').replace('.dev', '-dev.');\n  const reloading = false;\n  const Bokeh = root.Bokeh;\n\n  // Set a timeout for this load but only if we are not already initializing\n  if (typeof (root._bokeh_timeout) === \"undefined\" || (force || !root._bokeh_is_initializing)) {\n    root._bokeh_timeout = Date.now() + 5000;\n    root._bokeh_failed_load = false;\n  }\n\n  function run_callbacks() {\n    try {\n      root._bokeh_onload_callbacks.forEach(function(callback) {\n        if (callback != null)\n          callback();\n      });\n    } finally {\n      delete root._bokeh_onload_callbacks;\n    }\n    console.debug(\"Bokeh: all callbacks have finished\");\n  }\n\n  function load_libs(css_urls, js_urls, js_modules, js_exports, callback) {\n    if (css_urls == null) css_urls = [];\n    if (js_urls == null) js_urls = [];\n    if (js_modules == null) js_modules = [];\n    if (js_exports == null) js_exports = {};\n\n    root._bokeh_onload_callbacks.push(callback);\n\n    if (root._bokeh_is_loading > 0) {\n      // Don't load bokeh if it is still initializing\n      console.debug(\"Bokeh: BokehJS is being loaded, scheduling callback at\", now());\n      return null;\n    } else if (js_urls.length === 0 && js_modules.length === 0 && Object.keys(js_exports).length === 0) {\n      // There is nothing to load\n      run_callbacks();\n      return null;\n    }\n\n    function on_load() {\n      root._bokeh_is_loading--;\n      if (root._bokeh_is_loading === 0) {\n        console.debug(\"Bokeh: all BokehJS libraries/stylesheets loaded\");\n        run_callbacks()\n      }\n    }\n    window._bokeh_on_load = on_load\n\n    function on_error(e) {\n      const src_el = e.srcElement\n      console.error(\"failed to load \" + (src_el.href || src_el.src));\n    }\n\n    const skip = [];\n    if (window.requirejs) {\n      window.requirejs.config({'packages': {}, 'paths': {}, 'shim': {}});\n      root._bokeh_is_loading = css_urls.length + 0;\n    } else {\n      root._bokeh_is_loading = css_urls.length + js_urls.length + js_modules.length + Object.keys(js_exports).length;\n    }\n\n    const existing_stylesheets = []\n    const links = document.getElementsByTagName('link')\n    for (let i = 0; i < links.length; i++) {\n      const link = links[i]\n      if (link.href != null) {\n        existing_stylesheets.push(link.href)\n      }\n    }\n    for (let i = 0; i < css_urls.length; i++) {\n      const url = css_urls[i];\n      const escaped = encodeURI(url)\n      if (existing_stylesheets.indexOf(escaped) !== -1) {\n        on_load()\n        continue;\n      }\n      const element = document.createElement(\"link\");\n      element.onload = on_load;\n      element.onerror = on_error;\n      element.rel = \"stylesheet\";\n      element.type = \"text/css\";\n      element.href = url;\n      console.debug(\"Bokeh: injecting link tag for BokehJS stylesheet: \", url);\n      document.body.appendChild(element);\n    }    var existing_scripts = []\n    const scripts = document.getElementsByTagName('script')\n    for (let i = 0; i < scripts.length; i++) {\n      var script = scripts[i]\n      if (script.src != null) {\n        existing_scripts.push(script.src)\n      }\n    }\n    for (let i = 0; i < js_urls.length; i++) {\n      const url = js_urls[i];\n      const escaped = encodeURI(url)\n      if (skip.indexOf(escaped) !== -1 || existing_scripts.indexOf(escaped) !== -1) {\n        if (!window.requirejs) {\n          on_load();\n        }\n        continue;\n      }\n      const element = document.createElement('script');\n      element.onload = on_load;\n      element.onerror = on_error;\n      element.async = false;\n      element.src = url;\n      console.debug(\"Bokeh: injecting script tag for BokehJS library: \", url);\n      document.head.appendChild(element);\n    }\n    for (let i = 0; i < js_modules.length; i++) {\n      const url = js_modules[i];\n      const escaped = encodeURI(url)\n      if (skip.indexOf(escaped) !== -1 || existing_scripts.indexOf(escaped) !== -1) {\n        if (!window.requirejs) {\n          on_load();\n        }\n        continue;\n      }\n      var element = document.createElement('script');\n      element.onload = on_load;\n      element.onerror = on_error;\n      element.async = false;\n      element.src = url;\n      element.type = \"module\";\n      console.debug(\"Bokeh: injecting script tag for BokehJS library: \", url);\n      document.head.appendChild(element);\n    }\n    for (const name in js_exports) {\n      const url = js_exports[name];\n      const escaped = encodeURI(url)\n      if (skip.indexOf(escaped) >= 0 || root[name] != null) {\n        if (!window.requirejs) {\n          on_load();\n        }\n        continue;\n      }\n      var element = document.createElement('script');\n      element.onerror = on_error;\n      element.async = false;\n      element.type = \"module\";\n      console.debug(\"Bokeh: injecting script tag for BokehJS library: \", url);\n      element.textContent = `\n      import ${name} from \"${url}\"\n      window.${name} = ${name}\n      window._bokeh_on_load()\n      `\n      document.head.appendChild(element);\n    }\n    if (!js_urls.length && !js_modules.length) {\n      on_load()\n    }\n  };\n\n  function inject_raw_css(css) {\n    const element = document.createElement(\"style\");\n    element.appendChild(document.createTextNode(css));\n    document.body.appendChild(element);\n  }\n\n  const js_urls = [\"https://cdn.holoviz.org/panel/1.5.4/dist/bundled/reactiveesm/es-module-shims@^1.10.0/dist/es-module-shims.min.js\", \"https://cdn.bokeh.org/bokeh/release/bokeh-3.6.1.min.js\", \"https://cdn.bokeh.org/bokeh/release/bokeh-gl-3.6.1.min.js\", \"https://cdn.bokeh.org/bokeh/release/bokeh-widgets-3.6.1.min.js\", \"https://cdn.bokeh.org/bokeh/release/bokeh-tables-3.6.1.min.js\", \"https://cdn.holoviz.org/panel/1.5.4/dist/panel.min.js\"];\n  const js_modules = [];\n  const js_exports = {};\n  const css_urls = [];\n  const inline_js = [    function(Bokeh) {\n      Bokeh.set_log_level(\"info\");\n    },\nfunction(Bokeh) {} // ensure no trailing comma for IE\n  ];\n\n  function run_inline_js() {\n    if ((root.Bokeh !== undefined) || (force === true)) {\n      for (let i = 0; i < inline_js.length; i++) {\n        try {\n          inline_js[i].call(root, root.Bokeh);\n        } catch(e) {\n          if (!reloading) {\n            throw e;\n          }\n        }\n      }\n      // Cache old bokeh versions\n      if (Bokeh != undefined && !reloading) {\n        var NewBokeh = root.Bokeh;\n        if (Bokeh.versions === undefined) {\n          Bokeh.versions = new Map();\n        }\n        if (NewBokeh.version !== Bokeh.version) {\n          Bokeh.versions.set(NewBokeh.version, NewBokeh)\n        }\n        root.Bokeh = Bokeh;\n      }\n    } else if (Date.now() < root._bokeh_timeout) {\n      setTimeout(run_inline_js, 100);\n    } else if (!root._bokeh_failed_load) {\n      console.log(\"Bokeh: BokehJS failed to load within specified timeout.\");\n      root._bokeh_failed_load = true;\n    }\n    root._bokeh_is_initializing = false\n  }\n\n  function load_or_wait() {\n    // Implement a backoff loop that tries to ensure we do not load multiple\n    // versions of Bokeh and its dependencies at the same time.\n    // In recent versions we use the root._bokeh_is_initializing flag\n    // to determine whether there is an ongoing attempt to initialize\n    // bokeh, however for backward compatibility we also try to ensure\n    // that we do not start loading a newer (Panel>=1.0 and Bokeh>3) version\n    // before older versions are fully initialized.\n    if (root._bokeh_is_initializing && Date.now() > root._bokeh_timeout) {\n      // If the timeout and bokeh was not successfully loaded we reset\n      // everything and try loading again\n      root._bokeh_timeout = Date.now() + 5000;\n      root._bokeh_is_initializing = false;\n      root._bokeh_onload_callbacks = undefined;\n      root._bokeh_is_loading = 0\n      console.log(\"Bokeh: BokehJS was loaded multiple times but one version failed to initialize.\");\n      load_or_wait();\n    } else if (root._bokeh_is_initializing || (typeof root._bokeh_is_initializing === \"undefined\" && root._bokeh_onload_callbacks !== undefined)) {\n      setTimeout(load_or_wait, 100);\n    } else {\n      root._bokeh_is_initializing = true\n      root._bokeh_onload_callbacks = []\n      const bokeh_loaded = root.Bokeh != null && (root.Bokeh.version === py_version || (root.Bokeh.versions !== undefined && root.Bokeh.versions.has(py_version)));\n      if (!reloading && !bokeh_loaded) {\n        if (root.Bokeh) {\n          root.Bokeh = undefined;\n        }\n        console.debug(\"Bokeh: BokehJS not loaded, scheduling load and callback at\", now());\n      }\n      load_libs(css_urls, js_urls, js_modules, js_exports, function() {\n        console.debug(\"Bokeh: BokehJS plotting callback run at\", now());\n        run_inline_js();\n      });\n    }\n  }\n  // Give older versions of the autoload script a head-start to ensure\n  // they initialize before we start loading newer version.\n  setTimeout(load_or_wait, 100)\n}(window));"
     },
     "metadata": {},
     "output_type": "display_data"
    },
    {
     "data": {
      "application/javascript": [
       "\n",
       "if ((window.PyViz === undefined) || (window.PyViz instanceof HTMLElement)) {\n",
       "  window.PyViz = {comms: {}, comm_status:{}, kernels:{}, receivers: {}, plot_index: []}\n",
       "}\n",
       "\n",
       "\n",
       "    function JupyterCommManager() {\n",
       "    }\n",
       "\n",
       "    JupyterCommManager.prototype.register_target = function(plot_id, comm_id, msg_handler) {\n",
       "      if (window.comm_manager || ((window.Jupyter !== undefined) && (Jupyter.notebook.kernel != null))) {\n",
       "        var comm_manager = window.comm_manager || Jupyter.notebook.kernel.comm_manager;\n",
       "        comm_manager.register_target(comm_id, function(comm) {\n",
       "          comm.on_msg(msg_handler);\n",
       "        });\n",
       "      } else if ((plot_id in window.PyViz.kernels) && (window.PyViz.kernels[plot_id])) {\n",
       "        window.PyViz.kernels[plot_id].registerCommTarget(comm_id, function(comm) {\n",
       "          comm.onMsg = msg_handler;\n",
       "        });\n",
       "      } else if (typeof google != 'undefined' && google.colab.kernel != null) {\n",
       "        google.colab.kernel.comms.registerTarget(comm_id, (comm) => {\n",
       "          var messages = comm.messages[Symbol.asyncIterator]();\n",
       "          function processIteratorResult(result) {\n",
       "            var message = result.value;\n",
       "            console.log(message)\n",
       "            var content = {data: message.data, comm_id};\n",
       "            var buffers = []\n",
       "            for (var buffer of message.buffers || []) {\n",
       "              buffers.push(new DataView(buffer))\n",
       "            }\n",
       "            var metadata = message.metadata || {};\n",
       "            var msg = {content, buffers, metadata}\n",
       "            msg_handler(msg);\n",
       "            return messages.next().then(processIteratorResult);\n",
       "          }\n",
       "          return messages.next().then(processIteratorResult);\n",
       "        })\n",
       "      }\n",
       "    }\n",
       "\n",
       "    JupyterCommManager.prototype.get_client_comm = function(plot_id, comm_id, msg_handler) {\n",
       "      if (comm_id in window.PyViz.comms) {\n",
       "        return window.PyViz.comms[comm_id];\n",
       "      } else if (window.comm_manager || ((window.Jupyter !== undefined) && (Jupyter.notebook.kernel != null))) {\n",
       "        var comm_manager = window.comm_manager || Jupyter.notebook.kernel.comm_manager;\n",
       "        var comm = comm_manager.new_comm(comm_id, {}, {}, {}, comm_id);\n",
       "        if (msg_handler) {\n",
       "          comm.on_msg(msg_handler);\n",
       "        }\n",
       "      } else if ((plot_id in window.PyViz.kernels) && (window.PyViz.kernels[plot_id])) {\n",
       "        var comm = window.PyViz.kernels[plot_id].connectToComm(comm_id);\n",
       "        comm.open();\n",
       "        if (msg_handler) {\n",
       "          comm.onMsg = msg_handler;\n",
       "        }\n",
       "      } else if (typeof google != 'undefined' && google.colab.kernel != null) {\n",
       "        var comm_promise = google.colab.kernel.comms.open(comm_id)\n",
       "        comm_promise.then((comm) => {\n",
       "          window.PyViz.comms[comm_id] = comm;\n",
       "          if (msg_handler) {\n",
       "            var messages = comm.messages[Symbol.asyncIterator]();\n",
       "            function processIteratorResult(result) {\n",
       "              var message = result.value;\n",
       "              var content = {data: message.data};\n",
       "              var metadata = message.metadata || {comm_id};\n",
       "              var msg = {content, metadata}\n",
       "              msg_handler(msg);\n",
       "              return messages.next().then(processIteratorResult);\n",
       "            }\n",
       "            return messages.next().then(processIteratorResult);\n",
       "          }\n",
       "        }) \n",
       "        var sendClosure = (data, metadata, buffers, disposeOnDone) => {\n",
       "          return comm_promise.then((comm) => {\n",
       "            comm.send(data, metadata, buffers, disposeOnDone);\n",
       "          });\n",
       "        };\n",
       "        var comm = {\n",
       "          send: sendClosure\n",
       "        };\n",
       "      }\n",
       "      window.PyViz.comms[comm_id] = comm;\n",
       "      return comm;\n",
       "    }\n",
       "    window.PyViz.comm_manager = new JupyterCommManager();\n",
       "    \n",
       "\n",
       "\n",
       "var JS_MIME_TYPE = 'application/javascript';\n",
       "var HTML_MIME_TYPE = 'text/html';\n",
       "var EXEC_MIME_TYPE = 'application/vnd.holoviews_exec.v0+json';\n",
       "var CLASS_NAME = 'output';\n",
       "\n",
       "/**\n",
       " * Render data to the DOM node\n",
       " */\n",
       "function render(props, node) {\n",
       "  var div = document.createElement(\"div\");\n",
       "  var script = document.createElement(\"script\");\n",
       "  node.appendChild(div);\n",
       "  node.appendChild(script);\n",
       "}\n",
       "\n",
       "/**\n",
       " * Handle when a new output is added\n",
       " */\n",
       "function handle_add_output(event, handle) {\n",
       "  var output_area = handle.output_area;\n",
       "  var output = handle.output;\n",
       "  if ((output.data == undefined) || (!output.data.hasOwnProperty(EXEC_MIME_TYPE))) {\n",
       "    return\n",
       "  }\n",
       "  var id = output.metadata[EXEC_MIME_TYPE][\"id\"];\n",
       "  var toinsert = output_area.element.find(\".\" + CLASS_NAME.split(' ')[0]);\n",
       "  if (id !== undefined) {\n",
       "    var nchildren = toinsert.length;\n",
       "    var html_node = toinsert[nchildren-1].children[0];\n",
       "    html_node.innerHTML = output.data[HTML_MIME_TYPE];\n",
       "    var scripts = [];\n",
       "    var nodelist = html_node.querySelectorAll(\"script\");\n",
       "    for (var i in nodelist) {\n",
       "      if (nodelist.hasOwnProperty(i)) {\n",
       "        scripts.push(nodelist[i])\n",
       "      }\n",
       "    }\n",
       "\n",
       "    scripts.forEach( function (oldScript) {\n",
       "      var newScript = document.createElement(\"script\");\n",
       "      var attrs = [];\n",
       "      var nodemap = oldScript.attributes;\n",
       "      for (var j in nodemap) {\n",
       "        if (nodemap.hasOwnProperty(j)) {\n",
       "          attrs.push(nodemap[j])\n",
       "        }\n",
       "      }\n",
       "      attrs.forEach(function(attr) { newScript.setAttribute(attr.name, attr.value) });\n",
       "      newScript.appendChild(document.createTextNode(oldScript.innerHTML));\n",
       "      oldScript.parentNode.replaceChild(newScript, oldScript);\n",
       "    });\n",
       "    if (JS_MIME_TYPE in output.data) {\n",
       "      toinsert[nchildren-1].children[1].textContent = output.data[JS_MIME_TYPE];\n",
       "    }\n",
       "    output_area._hv_plot_id = id;\n",
       "    if ((window.Bokeh !== undefined) && (id in Bokeh.index)) {\n",
       "      window.PyViz.plot_index[id] = Bokeh.index[id];\n",
       "    } else {\n",
       "      window.PyViz.plot_index[id] = null;\n",
       "    }\n",
       "  } else if (output.metadata[EXEC_MIME_TYPE][\"server_id\"] !== undefined) {\n",
       "    var bk_div = document.createElement(\"div\");\n",
       "    bk_div.innerHTML = output.data[HTML_MIME_TYPE];\n",
       "    var script_attrs = bk_div.children[0].attributes;\n",
       "    for (var i = 0; i < script_attrs.length; i++) {\n",
       "      toinsert[toinsert.length - 1].childNodes[1].setAttribute(script_attrs[i].name, script_attrs[i].value);\n",
       "    }\n",
       "    // store reference to server id on output_area\n",
       "    output_area._bokeh_server_id = output.metadata[EXEC_MIME_TYPE][\"server_id\"];\n",
       "  }\n",
       "}\n",
       "\n",
       "/**\n",
       " * Handle when an output is cleared or removed\n",
       " */\n",
       "function handle_clear_output(event, handle) {\n",
       "  var id = handle.cell.output_area._hv_plot_id;\n",
       "  var server_id = handle.cell.output_area._bokeh_server_id;\n",
       "  if (((id === undefined) || !(id in PyViz.plot_index)) && (server_id !== undefined)) { return; }\n",
       "  var comm = window.PyViz.comm_manager.get_client_comm(\"hv-extension-comm\", \"hv-extension-comm\", function () {});\n",
       "  if (server_id !== null) {\n",
       "    comm.send({event_type: 'server_delete', 'id': server_id});\n",
       "    return;\n",
       "  } else if (comm !== null) {\n",
       "    comm.send({event_type: 'delete', 'id': id});\n",
       "  }\n",
       "  delete PyViz.plot_index[id];\n",
       "  if ((window.Bokeh !== undefined) & (id in window.Bokeh.index)) {\n",
       "    var doc = window.Bokeh.index[id].model.document\n",
       "    doc.clear();\n",
       "    const i = window.Bokeh.documents.indexOf(doc);\n",
       "    if (i > -1) {\n",
       "      window.Bokeh.documents.splice(i, 1);\n",
       "    }\n",
       "  }\n",
       "}\n",
       "\n",
       "/**\n",
       " * Handle kernel restart event\n",
       " */\n",
       "function handle_kernel_cleanup(event, handle) {\n",
       "  delete PyViz.comms[\"hv-extension-comm\"];\n",
       "  window.PyViz.plot_index = {}\n",
       "}\n",
       "\n",
       "/**\n",
       " * Handle update_display_data messages\n",
       " */\n",
       "function handle_update_output(event, handle) {\n",
       "  handle_clear_output(event, {cell: {output_area: handle.output_area}})\n",
       "  handle_add_output(event, handle)\n",
       "}\n",
       "\n",
       "function register_renderer(events, OutputArea) {\n",
       "  function append_mime(data, metadata, element) {\n",
       "    // create a DOM node to render to\n",
       "    var toinsert = this.create_output_subarea(\n",
       "    metadata,\n",
       "    CLASS_NAME,\n",
       "    EXEC_MIME_TYPE\n",
       "    );\n",
       "    this.keyboard_manager.register_events(toinsert);\n",
       "    // Render to node\n",
       "    var props = {data: data, metadata: metadata[EXEC_MIME_TYPE]};\n",
       "    render(props, toinsert[0]);\n",
       "    element.append(toinsert);\n",
       "    return toinsert\n",
       "  }\n",
       "\n",
       "  events.on('output_added.OutputArea', handle_add_output);\n",
       "  events.on('output_updated.OutputArea', handle_update_output);\n",
       "  events.on('clear_output.CodeCell', handle_clear_output);\n",
       "  events.on('delete.Cell', handle_clear_output);\n",
       "  events.on('kernel_ready.Kernel', handle_kernel_cleanup);\n",
       "\n",
       "  OutputArea.prototype.register_mime_type(EXEC_MIME_TYPE, append_mime, {\n",
       "    safe: true,\n",
       "    index: 0\n",
       "  });\n",
       "}\n",
       "\n",
       "if (window.Jupyter !== undefined) {\n",
       "  try {\n",
       "    var events = require('base/js/events');\n",
       "    var OutputArea = require('notebook/js/outputarea').OutputArea;\n",
       "    if (OutputArea.prototype.mime_types().indexOf(EXEC_MIME_TYPE) == -1) {\n",
       "      register_renderer(events, OutputArea);\n",
       "    }\n",
       "  } catch(err) {\n",
       "  }\n",
       "}\n"
      ],
      "application/vnd.holoviews_load.v0+json": "\nif ((window.PyViz === undefined) || (window.PyViz instanceof HTMLElement)) {\n  window.PyViz = {comms: {}, comm_status:{}, kernels:{}, receivers: {}, plot_index: []}\n}\n\n\n    function JupyterCommManager() {\n    }\n\n    JupyterCommManager.prototype.register_target = function(plot_id, comm_id, msg_handler) {\n      if (window.comm_manager || ((window.Jupyter !== undefined) && (Jupyter.notebook.kernel != null))) {\n        var comm_manager = window.comm_manager || Jupyter.notebook.kernel.comm_manager;\n        comm_manager.register_target(comm_id, function(comm) {\n          comm.on_msg(msg_handler);\n        });\n      } else if ((plot_id in window.PyViz.kernels) && (window.PyViz.kernels[plot_id])) {\n        window.PyViz.kernels[plot_id].registerCommTarget(comm_id, function(comm) {\n          comm.onMsg = msg_handler;\n        });\n      } else if (typeof google != 'undefined' && google.colab.kernel != null) {\n        google.colab.kernel.comms.registerTarget(comm_id, (comm) => {\n          var messages = comm.messages[Symbol.asyncIterator]();\n          function processIteratorResult(result) {\n            var message = result.value;\n            console.log(message)\n            var content = {data: message.data, comm_id};\n            var buffers = []\n            for (var buffer of message.buffers || []) {\n              buffers.push(new DataView(buffer))\n            }\n            var metadata = message.metadata || {};\n            var msg = {content, buffers, metadata}\n            msg_handler(msg);\n            return messages.next().then(processIteratorResult);\n          }\n          return messages.next().then(processIteratorResult);\n        })\n      }\n    }\n\n    JupyterCommManager.prototype.get_client_comm = function(plot_id, comm_id, msg_handler) {\n      if (comm_id in window.PyViz.comms) {\n        return window.PyViz.comms[comm_id];\n      } else if (window.comm_manager || ((window.Jupyter !== undefined) && (Jupyter.notebook.kernel != null))) {\n        var comm_manager = window.comm_manager || Jupyter.notebook.kernel.comm_manager;\n        var comm = comm_manager.new_comm(comm_id, {}, {}, {}, comm_id);\n        if (msg_handler) {\n          comm.on_msg(msg_handler);\n        }\n      } else if ((plot_id in window.PyViz.kernels) && (window.PyViz.kernels[plot_id])) {\n        var comm = window.PyViz.kernels[plot_id].connectToComm(comm_id);\n        comm.open();\n        if (msg_handler) {\n          comm.onMsg = msg_handler;\n        }\n      } else if (typeof google != 'undefined' && google.colab.kernel != null) {\n        var comm_promise = google.colab.kernel.comms.open(comm_id)\n        comm_promise.then((comm) => {\n          window.PyViz.comms[comm_id] = comm;\n          if (msg_handler) {\n            var messages = comm.messages[Symbol.asyncIterator]();\n            function processIteratorResult(result) {\n              var message = result.value;\n              var content = {data: message.data};\n              var metadata = message.metadata || {comm_id};\n              var msg = {content, metadata}\n              msg_handler(msg);\n              return messages.next().then(processIteratorResult);\n            }\n            return messages.next().then(processIteratorResult);\n          }\n        }) \n        var sendClosure = (data, metadata, buffers, disposeOnDone) => {\n          return comm_promise.then((comm) => {\n            comm.send(data, metadata, buffers, disposeOnDone);\n          });\n        };\n        var comm = {\n          send: sendClosure\n        };\n      }\n      window.PyViz.comms[comm_id] = comm;\n      return comm;\n    }\n    window.PyViz.comm_manager = new JupyterCommManager();\n    \n\n\nvar JS_MIME_TYPE = 'application/javascript';\nvar HTML_MIME_TYPE = 'text/html';\nvar EXEC_MIME_TYPE = 'application/vnd.holoviews_exec.v0+json';\nvar CLASS_NAME = 'output';\n\n/**\n * Render data to the DOM node\n */\nfunction render(props, node) {\n  var div = document.createElement(\"div\");\n  var script = document.createElement(\"script\");\n  node.appendChild(div);\n  node.appendChild(script);\n}\n\n/**\n * Handle when a new output is added\n */\nfunction handle_add_output(event, handle) {\n  var output_area = handle.output_area;\n  var output = handle.output;\n  if ((output.data == undefined) || (!output.data.hasOwnProperty(EXEC_MIME_TYPE))) {\n    return\n  }\n  var id = output.metadata[EXEC_MIME_TYPE][\"id\"];\n  var toinsert = output_area.element.find(\".\" + CLASS_NAME.split(' ')[0]);\n  if (id !== undefined) {\n    var nchildren = toinsert.length;\n    var html_node = toinsert[nchildren-1].children[0];\n    html_node.innerHTML = output.data[HTML_MIME_TYPE];\n    var scripts = [];\n    var nodelist = html_node.querySelectorAll(\"script\");\n    for (var i in nodelist) {\n      if (nodelist.hasOwnProperty(i)) {\n        scripts.push(nodelist[i])\n      }\n    }\n\n    scripts.forEach( function (oldScript) {\n      var newScript = document.createElement(\"script\");\n      var attrs = [];\n      var nodemap = oldScript.attributes;\n      for (var j in nodemap) {\n        if (nodemap.hasOwnProperty(j)) {\n          attrs.push(nodemap[j])\n        }\n      }\n      attrs.forEach(function(attr) { newScript.setAttribute(attr.name, attr.value) });\n      newScript.appendChild(document.createTextNode(oldScript.innerHTML));\n      oldScript.parentNode.replaceChild(newScript, oldScript);\n    });\n    if (JS_MIME_TYPE in output.data) {\n      toinsert[nchildren-1].children[1].textContent = output.data[JS_MIME_TYPE];\n    }\n    output_area._hv_plot_id = id;\n    if ((window.Bokeh !== undefined) && (id in Bokeh.index)) {\n      window.PyViz.plot_index[id] = Bokeh.index[id];\n    } else {\n      window.PyViz.plot_index[id] = null;\n    }\n  } else if (output.metadata[EXEC_MIME_TYPE][\"server_id\"] !== undefined) {\n    var bk_div = document.createElement(\"div\");\n    bk_div.innerHTML = output.data[HTML_MIME_TYPE];\n    var script_attrs = bk_div.children[0].attributes;\n    for (var i = 0; i < script_attrs.length; i++) {\n      toinsert[toinsert.length - 1].childNodes[1].setAttribute(script_attrs[i].name, script_attrs[i].value);\n    }\n    // store reference to server id on output_area\n    output_area._bokeh_server_id = output.metadata[EXEC_MIME_TYPE][\"server_id\"];\n  }\n}\n\n/**\n * Handle when an output is cleared or removed\n */\nfunction handle_clear_output(event, handle) {\n  var id = handle.cell.output_area._hv_plot_id;\n  var server_id = handle.cell.output_area._bokeh_server_id;\n  if (((id === undefined) || !(id in PyViz.plot_index)) && (server_id !== undefined)) { return; }\n  var comm = window.PyViz.comm_manager.get_client_comm(\"hv-extension-comm\", \"hv-extension-comm\", function () {});\n  if (server_id !== null) {\n    comm.send({event_type: 'server_delete', 'id': server_id});\n    return;\n  } else if (comm !== null) {\n    comm.send({event_type: 'delete', 'id': id});\n  }\n  delete PyViz.plot_index[id];\n  if ((window.Bokeh !== undefined) & (id in window.Bokeh.index)) {\n    var doc = window.Bokeh.index[id].model.document\n    doc.clear();\n    const i = window.Bokeh.documents.indexOf(doc);\n    if (i > -1) {\n      window.Bokeh.documents.splice(i, 1);\n    }\n  }\n}\n\n/**\n * Handle kernel restart event\n */\nfunction handle_kernel_cleanup(event, handle) {\n  delete PyViz.comms[\"hv-extension-comm\"];\n  window.PyViz.plot_index = {}\n}\n\n/**\n * Handle update_display_data messages\n */\nfunction handle_update_output(event, handle) {\n  handle_clear_output(event, {cell: {output_area: handle.output_area}})\n  handle_add_output(event, handle)\n}\n\nfunction register_renderer(events, OutputArea) {\n  function append_mime(data, metadata, element) {\n    // create a DOM node to render to\n    var toinsert = this.create_output_subarea(\n    metadata,\n    CLASS_NAME,\n    EXEC_MIME_TYPE\n    );\n    this.keyboard_manager.register_events(toinsert);\n    // Render to node\n    var props = {data: data, metadata: metadata[EXEC_MIME_TYPE]};\n    render(props, toinsert[0]);\n    element.append(toinsert);\n    return toinsert\n  }\n\n  events.on('output_added.OutputArea', handle_add_output);\n  events.on('output_updated.OutputArea', handle_update_output);\n  events.on('clear_output.CodeCell', handle_clear_output);\n  events.on('delete.Cell', handle_clear_output);\n  events.on('kernel_ready.Kernel', handle_kernel_cleanup);\n\n  OutputArea.prototype.register_mime_type(EXEC_MIME_TYPE, append_mime, {\n    safe: true,\n    index: 0\n  });\n}\n\nif (window.Jupyter !== undefined) {\n  try {\n    var events = require('base/js/events');\n    var OutputArea = require('notebook/js/outputarea').OutputArea;\n    if (OutputArea.prototype.mime_types().indexOf(EXEC_MIME_TYPE) == -1) {\n      register_renderer(events, OutputArea);\n    }\n  } catch(err) {\n  }\n}\n"
     },
     "metadata": {},
     "output_type": "display_data"
    },
    {
     "data": {
      "application/vnd.holoviews_exec.v0+json": "",
      "text/html": [
       "<div id='819851aa-8a06-4951-a2ad-79b26a152f98'>\n",
       "  <div id=\"bc7242b8-a9b9-4acd-be50-f0354d879406\" data-root-id=\"819851aa-8a06-4951-a2ad-79b26a152f98\" style=\"display: contents;\"></div>\n",
       "</div>\n",
       "<script type=\"application/javascript\">(function(root) {\n",
       "  var docs_json = {\"984c40e9-5cde-4ca6-8951-6e3d0907c09f\":{\"version\":\"3.6.1\",\"title\":\"Bokeh Application\",\"roots\":[{\"type\":\"object\",\"name\":\"panel.models.browser.BrowserInfo\",\"id\":\"819851aa-8a06-4951-a2ad-79b26a152f98\"},{\"type\":\"object\",\"name\":\"panel.models.comm_manager.CommManager\",\"id\":\"4ee0ec4b-49ea-4304-bf2c-573fb123045f\",\"attributes\":{\"plot_id\":\"819851aa-8a06-4951-a2ad-79b26a152f98\",\"comm_id\":\"c6cce27d7a4b466f95c23bf93d9bb932\",\"client_comm_id\":\"dca8d80e2293401aaf5f6a4a320a2cd5\"}}],\"defs\":[{\"type\":\"model\",\"name\":\"ReactiveHTML1\"},{\"type\":\"model\",\"name\":\"FlexBox1\",\"properties\":[{\"name\":\"align_content\",\"kind\":\"Any\",\"default\":\"flex-start\"},{\"name\":\"align_items\",\"kind\":\"Any\",\"default\":\"flex-start\"},{\"name\":\"flex_direction\",\"kind\":\"Any\",\"default\":\"row\"},{\"name\":\"flex_wrap\",\"kind\":\"Any\",\"default\":\"wrap\"},{\"name\":\"gap\",\"kind\":\"Any\",\"default\":\"\"},{\"name\":\"justify_content\",\"kind\":\"Any\",\"default\":\"flex-start\"}]},{\"type\":\"model\",\"name\":\"FloatPanel1\",\"properties\":[{\"name\":\"config\",\"kind\":\"Any\",\"default\":{\"type\":\"map\"}},{\"name\":\"contained\",\"kind\":\"Any\",\"default\":true},{\"name\":\"position\",\"kind\":\"Any\",\"default\":\"right-top\"},{\"name\":\"offsetx\",\"kind\":\"Any\",\"default\":null},{\"name\":\"offsety\",\"kind\":\"Any\",\"default\":null},{\"name\":\"theme\",\"kind\":\"Any\",\"default\":\"primary\"},{\"name\":\"status\",\"kind\":\"Any\",\"default\":\"normalized\"}]},{\"type\":\"model\",\"name\":\"GridStack1\",\"properties\":[{\"name\":\"mode\",\"kind\":\"Any\",\"default\":\"warn\"},{\"name\":\"ncols\",\"kind\":\"Any\",\"default\":null},{\"name\":\"nrows\",\"kind\":\"Any\",\"default\":null},{\"name\":\"allow_resize\",\"kind\":\"Any\",\"default\":true},{\"name\":\"allow_drag\",\"kind\":\"Any\",\"default\":true},{\"name\":\"state\",\"kind\":\"Any\",\"default\":[]}]},{\"type\":\"model\",\"name\":\"drag1\",\"properties\":[{\"name\":\"slider_width\",\"kind\":\"Any\",\"default\":5},{\"name\":\"slider_color\",\"kind\":\"Any\",\"default\":\"black\"},{\"name\":\"value\",\"kind\":\"Any\",\"default\":50}]},{\"type\":\"model\",\"name\":\"click1\",\"properties\":[{\"name\":\"terminal_output\",\"kind\":\"Any\",\"default\":\"\"},{\"name\":\"debug_name\",\"kind\":\"Any\",\"default\":\"\"},{\"name\":\"clears\",\"kind\":\"Any\",\"default\":0}]},{\"type\":\"model\",\"name\":\"FastWrapper1\",\"properties\":[{\"name\":\"object\",\"kind\":\"Any\",\"default\":null},{\"name\":\"style\",\"kind\":\"Any\",\"default\":null}]},{\"type\":\"model\",\"name\":\"NotificationAreaBase1\",\"properties\":[{\"name\":\"js_events\",\"kind\":\"Any\",\"default\":{\"type\":\"map\"}},{\"name\":\"position\",\"kind\":\"Any\",\"default\":\"bottom-right\"},{\"name\":\"_clear\",\"kind\":\"Any\",\"default\":0}]},{\"type\":\"model\",\"name\":\"NotificationArea1\",\"properties\":[{\"name\":\"js_events\",\"kind\":\"Any\",\"default\":{\"type\":\"map\"}},{\"name\":\"notifications\",\"kind\":\"Any\",\"default\":[]},{\"name\":\"position\",\"kind\":\"Any\",\"default\":\"bottom-right\"},{\"name\":\"_clear\",\"kind\":\"Any\",\"default\":0},{\"name\":\"types\",\"kind\":\"Any\",\"default\":[{\"type\":\"map\",\"entries\":[[\"type\",\"warning\"],[\"background\",\"#ffc107\"],[\"icon\",{\"type\":\"map\",\"entries\":[[\"className\",\"fas fa-exclamation-triangle\"],[\"tagName\",\"i\"],[\"color\",\"white\"]]}]]},{\"type\":\"map\",\"entries\":[[\"type\",\"info\"],[\"background\",\"#007bff\"],[\"icon\",{\"type\":\"map\",\"entries\":[[\"className\",\"fas fa-info-circle\"],[\"tagName\",\"i\"],[\"color\",\"white\"]]}]]}]}]},{\"type\":\"model\",\"name\":\"Notification\",\"properties\":[{\"name\":\"background\",\"kind\":\"Any\",\"default\":null},{\"name\":\"duration\",\"kind\":\"Any\",\"default\":3000},{\"name\":\"icon\",\"kind\":\"Any\",\"default\":null},{\"name\":\"message\",\"kind\":\"Any\",\"default\":\"\"},{\"name\":\"notification_type\",\"kind\":\"Any\",\"default\":null},{\"name\":\"_destroyed\",\"kind\":\"Any\",\"default\":false}]},{\"type\":\"model\",\"name\":\"TemplateActions1\",\"properties\":[{\"name\":\"open_modal\",\"kind\":\"Any\",\"default\":0},{\"name\":\"close_modal\",\"kind\":\"Any\",\"default\":0}]},{\"type\":\"model\",\"name\":\"BootstrapTemplateActions1\",\"properties\":[{\"name\":\"open_modal\",\"kind\":\"Any\",\"default\":0},{\"name\":\"close_modal\",\"kind\":\"Any\",\"default\":0}]},{\"type\":\"model\",\"name\":\"TemplateEditor1\",\"properties\":[{\"name\":\"layout\",\"kind\":\"Any\",\"default\":[]}]},{\"type\":\"model\",\"name\":\"MaterialTemplateActions1\",\"properties\":[{\"name\":\"open_modal\",\"kind\":\"Any\",\"default\":0},{\"name\":\"close_modal\",\"kind\":\"Any\",\"default\":0}]},{\"type\":\"model\",\"name\":\"ReactiveESM1\",\"properties\":[{\"name\":\"esm_constants\",\"kind\":\"Any\",\"default\":{\"type\":\"map\"}}]},{\"type\":\"model\",\"name\":\"JSComponent1\",\"properties\":[{\"name\":\"esm_constants\",\"kind\":\"Any\",\"default\":{\"type\":\"map\"}}]},{\"type\":\"model\",\"name\":\"ReactComponent1\",\"properties\":[{\"name\":\"esm_constants\",\"kind\":\"Any\",\"default\":{\"type\":\"map\"}}]},{\"type\":\"model\",\"name\":\"AnyWidgetComponent1\",\"properties\":[{\"name\":\"esm_constants\",\"kind\":\"Any\",\"default\":{\"type\":\"map\"}}]},{\"type\":\"model\",\"name\":\"request_value1\",\"properties\":[{\"name\":\"fill\",\"kind\":\"Any\",\"default\":\"none\"},{\"name\":\"_synced\",\"kind\":\"Any\",\"default\":null},{\"name\":\"_request_sync\",\"kind\":\"Any\",\"default\":0}]}]}};\n",
       "  var render_items = [{\"docid\":\"984c40e9-5cde-4ca6-8951-6e3d0907c09f\",\"roots\":{\"819851aa-8a06-4951-a2ad-79b26a152f98\":\"bc7242b8-a9b9-4acd-be50-f0354d879406\"},\"root_ids\":[\"819851aa-8a06-4951-a2ad-79b26a152f98\"]}];\n",
       "  var docs = Object.values(docs_json)\n",
       "  if (!docs) {\n",
       "    return\n",
       "  }\n",
       "  const py_version = docs[0].version.replace('rc', '-rc.').replace('.dev', '-dev.')\n",
       "  async function embed_document(root) {\n",
       "    var Bokeh = get_bokeh(root)\n",
       "    await Bokeh.embed.embed_items_notebook(docs_json, render_items);\n",
       "    for (const render_item of render_items) {\n",
       "      for (const root_id of render_item.root_ids) {\n",
       "\tconst id_el = document.getElementById(root_id)\n",
       "\tif (id_el.children.length && id_el.children[0].hasAttribute('data-root-id')) {\n",
       "\t  const root_el = id_el.children[0]\n",
       "\t  root_el.id = root_el.id + '-rendered'\n",
       "\t  for (const child of root_el.children) {\n",
       "            // Ensure JupyterLab does not capture keyboard shortcuts\n",
       "            // see: https://jupyterlab.readthedocs.io/en/4.1.x/extension/notebook.html#keyboard-interaction-model\n",
       "\t    child.setAttribute('data-lm-suppress-shortcuts', 'true')\n",
       "\t  }\n",
       "\t}\n",
       "      }\n",
       "    }\n",
       "  }\n",
       "  function get_bokeh(root) {\n",
       "    if (root.Bokeh === undefined) {\n",
       "      return null\n",
       "    } else if (root.Bokeh.version !== py_version) {\n",
       "      if (root.Bokeh.versions === undefined || !root.Bokeh.versions.has(py_version)) {\n",
       "\treturn null\n",
       "      }\n",
       "      return root.Bokeh.versions.get(py_version);\n",
       "    } else if (root.Bokeh.version === py_version) {\n",
       "      return root.Bokeh\n",
       "    }\n",
       "    return null\n",
       "  }\n",
       "  function is_loaded(root) {\n",
       "    var Bokeh = get_bokeh(root)\n",
       "    return (Bokeh != null && Bokeh.Panel !== undefined)\n",
       "  }\n",
       "  if (is_loaded(root)) {\n",
       "    embed_document(root);\n",
       "  } else {\n",
       "    var attempts = 0;\n",
       "    var timer = setInterval(function(root) {\n",
       "      if (is_loaded(root)) {\n",
       "        clearInterval(timer);\n",
       "        embed_document(root);\n",
       "      } else if (document.readyState == \"complete\") {\n",
       "        attempts++;\n",
       "        if (attempts > 200) {\n",
       "          clearInterval(timer);\n",
       "\t  var Bokeh = get_bokeh(root)\n",
       "\t  if (Bokeh == null || Bokeh.Panel == null) {\n",
       "            console.warn(\"Panel: ERROR: Unable to run Panel code because Bokeh or Panel library is missing\");\n",
       "\t  } else {\n",
       "\t    console.warn(\"Panel: WARNING: Attempting to render but not all required libraries could be resolved.\")\n",
       "\t    embed_document(root)\n",
       "\t  }\n",
       "        }\n",
       "      }\n",
       "    }, 25, root)\n",
       "  }\n",
       "})(window);</script>"
      ]
     },
     "metadata": {
      "application/vnd.holoviews_exec.v0+json": {
       "id": "819851aa-8a06-4951-a2ad-79b26a152f98"
      }
     },
     "output_type": "display_data"
    },
    {
     "data": {
      "text/html": [
       "\n",
       "<div class=\"logo-block\">\n",
       "<img src='data:image/png;base64,iVBORw0KGgoAAAANSUhEUgAAAEAAAABACAYAAACqaXHeAAAABHNCSVQICAgIfAhkiAAAAAlwSFlz\n",
       "AAAB+wAAAfsBxc2miwAAABl0RVh0U29mdHdhcmUAd3d3Lmlua3NjYXBlLm9yZ5vuPBoAAA6zSURB\n",
       "VHic7ZtpeFRVmsf/5966taWqUlUJ2UioBBJiIBAwCZtog9IOgjqACsogKtqirT2ttt069nQ/zDzt\n",
       "tI4+CrJIREFaFgWhBXpUNhHZQoKBkIUASchWla1S+3ar7r1nPkDaCAnZKoQP/D7mnPOe9/xy76n3\n",
       "nFSAW9ziFoPFNED2LLK5wcyBDObkb8ZkxuaoSYlI6ZcOKq1eWFdedqNzGHQBk9RMEwFAASkk0Xw3\n",
       "ETacDNi2vtvc7L0ROdw0AjoSotQVkKSvHQz/wRO1lScGModBFbDMaNRN1A4tUBCS3lk7BWhQkgpD\n",
       "lG4852/+7DWr1R3uHAZVQDsbh6ZPN7CyxUrCzJMRouusj0ipRwD2uKm0Zn5d2dFwzX1TCGhnmdGo\n",
       "G62Nna+isiUqhkzuKrkQaJlPEv5mFl2fvGg2t/VnzkEV8F5ioioOEWkLG86fvbpthynjdhXYZziQ\n",
       "x1hC9J2NFyi8vCTt91Fh04KGip0AaG9zuCk2wQCVyoNU3Hjezee9bq92duzzTmxsRJoy+jEZZZYo\n",
       "GTKJ6SJngdJqAfRzpze0+jHreUtPc7gpBLQnIYK6BYp/uGhw9YK688eu7v95ysgshcg9qSLMo3JC\n",
       "4jqLKQFBgdKDPoQ+Pltb8dUyQLpeDjeVgI6EgLIQFT5tEl3rn2losHVsexbZ3EyT9wE1uGdkIPcy\n",
       "BGxn8QUq1QrA5nqW5i2tLqvrrM9NK6AdkVIvL9E9bZL/oyfMVd/jqvc8LylzRBKDJSzIExwhQzuL\n",
       "QYGQj4rHfFTc8mUdu3E7yoLtbTe9gI4EqVgVkug2i5+uXGo919ixbRog+3fTbQ8qJe4ZOYNfMoTI\n",
       "OoshUNosgO60AisX15aeI2PSIp5KiFLI9ubb1vV3Qb2ltwLakUCDAkWX7/nHKRmmGIl9VgYsUhJm\n",
       "2NXjKYADtM1ygne9QQDIXlk49FBstMKx66D1v4+XuQr7vqTe0VcBHQlRWiOCbmmSYe2SqtL6q5rJ\n",
       "zsTb7lKx3FKOYC4DoqyS/B5bvLPxvD9Qtf6saxYLQGJErmDOdOMr/zo96km1nElr8bmPOBwI9COv\n",
       "HnFPRIwmkSOv9kcAS4heRsidOkpeWBgZM+UBrTFAXNYL5Vf2ii9c1trNzpYdaoVil3WIc+wdk+gQ\n",
       "noie3ecCcxt9ITcLAPWt/laGEO/9U6PmzZkenTtsSMQ8uYywJVW+grCstAvCIaAdArAsIWkRDDs/\n",
       "KzLm2YcjY1Lv0UdW73HabE9n6V66cxSzfEmuJssTpKGVp+0vHq73FwL46eOjpMpbRAnNmJFrGJNu\n",
       "Ukf9Yrz+3rghiumCKNXXWPhLYcjxGsIpoCMsIRoFITkW8AuyM8jC1+/QLx4bozCEJIq38+1rtpR6\n",
       "V/yzb8eBlRb3fo5l783N0CWolAzJHaVNzkrTzlEp2bQ2q3TC5gn6wpnoQAmwSiGh2GitnTmVMc5O\n",
       "UyfKWUKCIsU7+fZDKwqdT6DDpvkzAX4/+AMFjk0tDp5GRXLpQ2MUmhgDp5gxQT8+Y7hyPsMi8uxF\n",
       "71H0oebujHALECjFKaW9Lm68n18wXp2kVzIcABytD5iXFzg+WVXkegpAsOOYziqo0OkK76GyquC3\n",
       "ltZAzMhhqlSNmmWTE5T6e3IN05ITFLM4GdN0vtZ3ob8Jh1NAKXFbm5PtLU/eqTSlGjkNAJjdgn/N\n",
       "aedXa0tdi7+t9G0FIF49rtMSEgAs1kDLkTPO7ebm4IUWeyh1bKomXqlgMG6kJmHcSM0clYLJ8XtR\n",
       "1GTnbV3F6I5wCGikAb402npp1h1s7LQUZZSMIfALFOuL3UUrfnS8+rez7v9qcold5tilgHbO1fjK\n",
       "9ubb17u9oshxzMiUBKXWqJNxd+fqb0tLVs4lILFnK71H0Ind7uiPgACVcFJlrb0tV6DzxqqTIhUM\n",
       "CwDf1/rrVhTa33/3pGPxJYdQ2l2cbgVcQSosdx8uqnDtbGjh9SlDVSMNWhlnilfqZk42Th2ZpLpf\n",
       "xrHec5e815zrr0dfBZSwzkZfqsv+1FS1KUknUwPARVvItfKUY+cn57yP7qv07UE3p8B2uhUwLk09\n",
       "e0SCOrK+hbdYHYLjRIl71wWzv9jpEoeOHhGRrJAzyEyNiJuUqX0g2sBN5kGK6y2Blp5M3lsB9Qh4\n",
       "y2Ja6x6+i0ucmKgwMATwhSjdUu49tKrQ/pvN5d53ml2CGwCmJipmKjgmyuaXzNeL2a0AkQ01Th5j\n",
       "2DktO3Jyk8f9vcOBQHV94OK+fPumJmvQHxJoWkaKWq9Vs+yUsbq0zGT1I4RgeH2b5wef7+c7bl8F\n",
       "eKgoHVVZa8ZPEORzR6sT1BzDUAD/d9F78e2Tzv99v8D+fLVTqAKAsbGamKey1Mt9Ann4eH3gTXTz\n",
       "idWtAJ8PQWOk7NzSeQn/OTHDuEikVF1R4z8BQCy+6D1aWRfY0tTGG2OM8rRoPaeIj5ZHzJxszElN\n",
       "VM8K8JS5WOfv8mzRnQAKoEhmt8gyPM4lU9SmBK1MCQBnW4KONT86v1hZ1PbwSXPw4JWussVjtH9Y\n",
       "NCoiL9UoH/6PSu8jFrfY2t36erQHXLIEakMi1SydmzB31h3GGXFDFNPaK8Rme9B79Ixrd0WN+1ij\n",
       "NRQ/doRmuFLBkHSTOm5GruG+pFjFdAmorG4IXH1Qua6ASniclfFtDYt+oUjKipPrCQB7QBQ2lrgP\n",
       "fFzm+9XWUtcqJ3/5vDLDpJ79XHZk3u8nGZ42qlj1+ydtbxysCezrydp6ugmipNJ7WBPB5tydY0jP\n",
       "HaVNzs3QzeE4ZpTbI+ZbnSFPbVOw9vsfnVvqWnirPyCNGD08IlqtYkh2hjZ5dErEQzoNm+6ykyOt\n",
       "Lt5/PQEuSRRKo22VkydK+vvS1XEKlhCJAnsqvcVvH7f/ZU2R67eXbMEGAMiIV5oWZWiWvz5Fv2xG\n",
       "sjqNJQRvn3Rs2lji/lNP19VjAQDgD7FHhujZB9OGqYxRkZxixgRDVlqS6uEOFaJUVu0rPFzctrnF\n",
       "JqijImVp8dEKVWyUXDk92zAuMZ6bFwpBU1HrOw6AdhQgUooChb0+ItMbWJitSo5Ws3IAOGEOtL53\n",
       "0vHZih9sC4vtofZ7Qu6523V/fmGcds1TY3V36pUsBwAbSlxnVh2xLfAD/IAIMDf7XYIkNmXfpp2l\n",
       "18rkAJAy9HKFaIr/qULkeQQKy9zf1JgDB2uaeFNGijo5QsUyacNUUTOnGO42xSnv4oOwpDi1zYkc\n",
       "efUc3I5Gk6PhyTuVKaOGyLUAYPGIoY9Pu/atL/L92+4q9wbflRJ2Trpm/jPjdBtfnqB/dIThcl8A\n",
       "KG7hbRuKnb8qsQsVvVlTrwQAQMUlf3kwJI24Z4JhPMtcfng5GcH49GsrxJpGvvHIaeem2ma+KSjQ\n",
       "lIwUdYyCY8j4dE1KzijNnIP2llF2wcXNnsoapw9XxsgYAl6k+KzUXbi2yP3KR2ecf6z3BFsBICdW\n",
       "nvnIaG3eHybqX7vbpEqUMT+9OL4Qpe8VON7dXuFd39v19FoAABRVePbGGuXTszO0P7tu6lghUonE\n",
       "llRdrhArLvmKdh9u29jcFiRRkfLUxBiFNiqSU9icoZQHo5mYBI1MBgBH6wMNb+U7Pnw337H4gi1Y\n",
       "ciWs+uks3Z9fztUvfzxTm9Ne8XXkvQLHNytOOZeiD4e0PgkAIAYCYknKUNUDSXEKzdWNpnil7r4p\n",
       "xqkjTarZMtk/K8TQ6Qve78qqvXurGwIJqcOUKfUWHsm8KGvxSP68YudXq4pcj39X49uOK2X142O0\n",
       "Tz5/u/7TVybqH0rSya6ZBwD21/gubbrgWdDgEOx9WUhfBaC2ibcEBYm7a7x+ukrBMNcEZggyR0TE\n",
       "T8zUPjikQ4VosQZbTpS4vqizBKvqmvjsqnpfzaZyx9JPiz1/bfGKdgD45XB1zoIMzYbfTdS/NClB\n",
       "Gct0USiY3YL/g0LHy/uq/Ef6uo5+n0R/vyhp17Klpge763f8rMu6YU/zrn2nml+2WtH+Z+5IAAFc\n",
       "2bUTdTDOSNa9+cQY7YLsOIXhevEkCvzph7a8laecz/Un/z4/Ae04XeL3UQb57IwU9ZDr9UuKVajv\n",
       "nxp1+1UVIo/LjztZkKH59fO3G/JemqCfmaCRqbqbd90ZZ8FfjtkfAyD0J/9+C2h1hDwsSxvGjNDc\n",
       "b4zk5NfrSwiQblLHzZhg+Jf4aPlUwpDqkQqa9nimbt1/TDH8OitGMaQnj+RJS6B1fbF7SY1TqO5v\n",
       "/v0WAADl1f7zokgS7s7VT2DZ7pegUjBM7mjtiDZbcN4j0YrHH0rXpCtY0qPX0cVL0rv5jv/ZXend\n",
       "0u/EESYBAFBU4T4Qa5TflZOhTe7pmKpaP8kCVUVw1+yhXfJWvn1P3hnXi33JsTN6PnP3hHZ8Z3/h\n",
       "aLHzmkNPuPj7Bc/F/Q38CwjTpSwQXgE4Vmwry9tpfq/ZFgqFMy4AVDtCvi8rvMvOmv0N4YwbVgEA\n",
       "sPM72/KVnzfspmH7HQGCRLG2yL1+z8XwvPcdCbsAANh+xPzstgMtxeGKt+6MK3/tacfvwhWvIwMi\n",
       "oKEBtm0H7W+UVfkc/Y1V0BhoPlDr/w1w/eu1vjIgAgDg22OtX6/eYfnEz/focrZTHAFR+PSs56/7\n",
       "q32nwpjazxgwAQCwcU/T62t3WL7r6/jVRa6/byp1rei+Z98ZUAEAhEPHPc8fKnTU9nbgtnOe8h0l\n",
       "9hcGIqmODLQAHCy2Xti6v/XNRivf43f4fFvIteu854+VHnR7q9tfBlwAAGz+pnndB9vM26UebAe8\n",
       "SLHujPOTPVW+rwY+sxskAAC2HrA8t2Vvc7ffP1r9o+vwR2dcr92InIAbKKC1FZ5tB1tf+/G8p8sv\n",
       "N/9Q5zd/XR34LYCwV5JdccMEAMDBk45DH243r/X4xGvqxFa/GNpS7n6rwOwNWwHVE26oAADYurf1\n",
       "zx/utOzt+DMKYM0p17YtZZ5VNzqfsB2HewG1WXE8PoZ7gOclbTIvynZf9JV+fqZtfgs/8F/Nu5rB\n",
       "EIBmJ+8QRMmpU7EzGRsf2FzuePqYRbzh/zE26EwdrT10f6r6o8HOYzCJB9Dpff8tbnGLG8L/A/WE\n",
       "roTBs2RqAAAAAElFTkSuQmCC'\n",
       "     style='height:25px; border-radius:12px; display: inline-block; float: left; vertical-align: middle'></img>\n",
       "\n",
       "\n",
       "  <img src='data:image/png;base64,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'\n",
       "       style='height:15px; border-radius:12px; display: inline-block; float: left'></img>\n",
       "  \n",
       "\n",
       "\n",
       "\n",
       "\n",
       "</div>\n"
      ]
     },
     "metadata": {},
     "output_type": "display_data"
    }
   ],
   "source": [
    "rounded = fcm.map_ball_2_rounded(ball)\n",
    "\n",
    "rounded = rounded[[1]] if len(rounded.shape) == 3 else rounded[None, ...]\n",
    "flow_data = az.from_dict(\n",
    "    posterior={\n",
    "        'theta': rounded.to('cpu').numpy()  # chains x draws x param\n",
    "    },\n",
    "    dims={'theta': ['theta_id']},\n",
    "    coords={'theta_id': psm.rounded_id},\n",
    ")\n",
    "flow_plotter = MCMC_PLOT(fcm, flow_data)"
   ]
  },
  {
   "cell_type": "code",
   "execution_count": 179,
   "id": "52c3e891-b775-4071-a657-77f78b6ae184",
   "metadata": {},
   "outputs": [
    {
     "data": {
      "text/plain": [
       "5000"
      ]
     },
     "execution_count": 179,
     "metadata": {},
     "output_type": "execute_result"
    }
   ],
   "source": [
    "flow_numpy = az.extract(flow_data, combined=True, var_names='theta', keep_dataset=False, rng=2).values.astype(np.double)\n",
    "in_pol = ((psm._F_round.A.values @ flow_numpy) < psm._F_round.b.values[:, None]).all(0)\n",
    "\n",
    "in_pol.sum()"
   ]
  },
  {
   "cell_type": "code",
   "execution_count": 180,
   "id": "9e60a992-8057-43f8-86c2-c5d5e9d982c2",
   "metadata": {},
   "outputs": [
    {
     "data": {},
     "metadata": {},
     "output_type": "display_data"
    },
    {
     "data": {
      "application/vnd.holoviews_exec.v0+json": "",
      "text/html": [
       "<div id='ce811833-fb9a-462a-9481-4c29d8d58272'>\n",
       "  <div id=\"a206739d-d849-4932-bf87-a792609080fc\" data-root-id=\"ce811833-fb9a-462a-9481-4c29d8d58272\" style=\"display: contents;\"></div>\n",
       "</div>\n",
       "<script type=\"application/javascript\">(function(root) {\n",
       "  var docs_json = {\"3d569fbf-5375-4e47-b5e0-a84b36b3f82f\":{\"version\":\"3.6.1\",\"title\":\"Bokeh Application\",\"roots\":[{\"type\":\"object\",\"name\":\"Row\",\"id\":\"ce811833-fb9a-462a-9481-4c29d8d58272\",\"attributes\":{\"name\":\"Row06665\",\"tags\":[\"embedded\"],\"stylesheets\":[\"\\n:host(.pn-loading):before, .pn-loading:before {\\n  background-color: #c3c3c3;\\n  mask-size: auto calc(min(50%, 400px));\\n  -webkit-mask-size: auto calc(min(50%, 400px));\\n}\",{\"type\":\"object\",\"name\":\"ImportedStyleSheet\",\"id\":\"fd1df287-abcb-49c3-abb6-3380e27ad970\",\"attributes\":{\"url\":\"https://cdn.holoviz.org/panel/1.5.4/dist/css/loading.css\"}},{\"type\":\"object\",\"name\":\"ImportedStyleSheet\",\"id\":\"48cf8f27-ed01-45dd-8b3b-459dec6eb774\",\"attributes\":{\"url\":\"https://cdn.holoviz.org/panel/1.5.4/dist/css/listpanel.css\"}},{\"type\":\"object\",\"name\":\"ImportedStyleSheet\",\"id\":\"7c0b55a2-0285-4d40-bcd8-3a8a366c795a\",\"attributes\":{\"url\":\"https://cdn.holoviz.org/panel/1.5.4/dist/bundled/theme/default.css\"}},{\"type\":\"object\",\"name\":\"ImportedStyleSheet\",\"id\":\"7a265bec-5a58-45c4-8074-561b6b17bb97\",\"attributes\":{\"url\":\"https://cdn.holoviz.org/panel/1.5.4/dist/bundled/theme/native.css\"}}],\"min_width\":500,\"margin\":0,\"sizing_mode\":\"stretch_width\",\"align\":\"start\",\"children\":[{\"type\":\"object\",\"name\":\"Spacer\",\"id\":\"954605ad-12ad-43eb-985f-486f3c469cbe\",\"attributes\":{\"name\":\"HSpacer06669\",\"stylesheets\":[\"\\n:host(.pn-loading):before, .pn-loading:before {\\n  background-color: #c3c3c3;\\n  mask-size: auto calc(min(50%, 400px));\\n  -webkit-mask-size: auto calc(min(50%, 400px));\\n}\",{\"id\":\"fd1df287-abcb-49c3-abb6-3380e27ad970\"},{\"id\":\"7c0b55a2-0285-4d40-bcd8-3a8a366c795a\"},{\"id\":\"7a265bec-5a58-45c4-8074-561b6b17bb97\"}],\"margin\":0,\"sizing_mode\":\"stretch_width\",\"align\":\"start\"}},{\"type\":\"object\",\"name\":\"Figure\",\"id\":\"484ebf48-b5cb-457d-8a41-38446f8c4a6a\",\"attributes\":{\"width\":500,\"height\":400,\"margin\":[5,10],\"sizing_mode\":\"fixed\",\"align\":\"start\",\"x_range\":{\"type\":\"object\",\"name\":\"Range1d\",\"id\":\"8fe61f05-b2b2-400c-a3aa-02ebe7b3f2c1\",\"attributes\":{\"name\":\"R_h_out\",\"tags\":[[[\"R_h_out\",null]],[]],\"start\":-2.32966,\"end\":3.49946,\"reset_start\":-2.32966,\"reset_end\":3.49946}},\"y_range\":{\"type\":\"object\",\"name\":\"Range1d\",\"id\":\"4b5afc4b-7372-469a-a17f-4c8dfeedcc8a\",\"attributes\":{\"name\":\"R_bm\",\"tags\":[[[\"R_bm\",null]],{\"type\":\"map\",\"entries\":[[\"invert_yaxis\",false],[\"autorange\",false]]}],\"start\":-2.11654,\"end\":1.7491400000000001,\"reset_start\":-2.11654,\"reset_end\":1.7491400000000001}},\"x_scale\":{\"type\":\"object\",\"name\":\"LinearScale\",\"id\":\"8ea9060f-a8ba-4970-8526-81591e6a35f5\"},\"y_scale\":{\"type\":\"object\",\"name\":\"LinearScale\",\"id\":\"6c98f957-096f-4f76-a778-1dff9c3fac1e\"},\"title\":{\"type\":\"object\",\"name\":\"Title\",\"id\":\"50b7befc-10c6-475d-9e29-d203b8c98d15\",\"attributes\":{\"text_color\":\"black\",\"text_font_size\":\"16pt\"}},\"renderers\":[{\"type\":\"object\",\"name\":\"GlyphRenderer\",\"id\":\"0b042b5d-adb7-4335-aa28-7896954b3c58\",\"attributes\":{\"name\":\"polytope\",\"data_source\":{\"type\":\"object\",\"name\":\"ColumnDataSource\",\"id\":\"eab8f470-8fc6-4141-84f9-b99b0c4f9f5c\",\"attributes\":{\"selected\":{\"type\":\"object\",\"name\":\"Selection\",\"id\":\"aa151579-358e-4cb4-9bf8-60599fd60e31\",\"attributes\":{\"indices\":[],\"line_indices\":[]}},\"selection_policy\":{\"type\":\"object\",\"name\":\"UnionRenderers\",\"id\":\"07b76e31-5ce2-4909-924d-4db0a14ce191\"},\"data\":{\"type\":\"map\",\"entries\":[[\"x\",{\"type\":\"ndarray\",\"array\":{\"type\":\"bytes\",\"data\":\"+2V8s8GA/b9n72abxCz4vzs6gJnELPi/dqB8iAwcCEAEAUrezif9PwYgw1r2DNS/NTxzuKEk3L/7ZXyzwYD9v/tlfLPBgP2/NTxzuKEk3L8GIMNa9gzUvwQBSt7OJ/0/dqB8iAwcCEA7OoCZxCz4v2fvZpvELPi/+2V8s8GA/b8=\"},\"shape\":[16],\"dtype\":\"float64\",\"order\":\"little\"}],[\"y\",{\"type\":\"ndarray\",\"array\":{\"type\":\"bytes\",\"data\":\"AAAAAAAAAAAAAAAAAAAAAAAAAAAAAAAAAAAAAAAAAAAAAAAAAAAAAAAAAAAAAAAAAAAAAAAAAAAAAAAAAAAAANTmTna0mMs/7nqEG7X08j+ZDFH5LizzP0+Ms7cc1fY/v2KQDNgn07/mOUpm5rX8v+Y5Smbmtfy/1OZOdrSYyz8=\"},\"shape\":[16],\"dtype\":\"float64\",\"order\":\"little\"}]]}}},\"view\":{\"type\":\"object\",\"name\":\"CDSView\",\"id\":\"13c3148b-9a39-49e6-8ab5-89d51d270ca3\",\"attributes\":{\"filter\":{\"type\":\"object\",\"name\":\"AllIndices\",\"id\":\"e337c0e3-31b0-4753-8b85-c32658bfa910\"}}},\"glyph\":{\"type\":\"object\",\"name\":\"Patch\",\"id\":\"4a24033f-b94d-437a-933c-adc9d77a0624\",\"attributes\":{\"tags\":[\"apply_ranges\"],\"x\":{\"type\":\"field\",\"field\":\"x\"},\"y\":{\"type\":\"field\",\"field\":\"y\"},\"line_alpha\":0.2,\"fill_color\":\"#ffec58\",\"fill_alpha\":0.2,\"hatch_color\":\"#ffec58\",\"hatch_alpha\":0.2}},\"selection_glyph\":{\"type\":\"object\",\"name\":\"Patch\",\"id\":\"3d619949-61c5-4aad-9f36-4e7e9e322dd7\",\"attributes\":{\"tags\":[\"apply_ranges\"],\"x\":{\"type\":\"field\",\"field\":\"x\"},\"y\":{\"type\":\"field\",\"field\":\"y\"},\"line_alpha\":0.2,\"fill_color\":\"#ffec58\",\"fill_alpha\":0.2,\"hatch_color\":\"#ffec58\",\"hatch_alpha\":0.2}},\"nonselection_glyph\":{\"type\":\"object\",\"name\":\"Patch\",\"id\":\"df427913-b37d-4267-a4b5-3e2f598028dd\",\"attributes\":{\"tags\":[\"apply_ranges\"],\"x\":{\"type\":\"field\",\"field\":\"x\"},\"y\":{\"type\":\"field\",\"field\":\"y\"},\"line_alpha\":0.2,\"fill_color\":\"#ffec58\",\"fill_alpha\":0.2,\"hatch_color\":\"#ffec58\",\"hatch_alpha\":0.1}},\"muted_glyph\":{\"type\":\"object\",\"name\":\"Patch\",\"id\":\"8a4cdab3-b9f1-4950-95e6-13ccbd238957\",\"attributes\":{\"tags\":[\"apply_ranges\"],\"x\":{\"type\":\"field\",\"field\":\"x\"},\"y\":{\"type\":\"field\",\"field\":\"y\"},\"line_alpha\":0.2,\"fill_color\":\"#ffec58\",\"fill_alpha\":0.2,\"hatch_color\":\"#ffec58\",\"hatch_alpha\":0.2}}}},{\"type\":\"object\",\"name\":\"GlyphRenderer\",\"id\":\"9b957dc1-2a89-479c-bcab-9297c95b06fa\",\"attributes\":{\"name\":\"polytope\",\"data_source\":{\"type\":\"object\",\"name\":\"ColumnDataSource\",\"id\":\"308230a2-cb01-45a3-8064-219387eb3ace\",\"attributes\":{\"selected\":{\"type\":\"object\",\"name\":\"Selection\",\"id\":\"69af90bf-0afc-4493-bf36-8385ce93c2bf\",\"attributes\":{\"indices\":[],\"line_indices\":[]}},\"selection_policy\":{\"type\":\"object\",\"name\":\"UnionRenderers\",\"id\":\"7f08094c-3ccb-417b-be63-905a7edcd7df\"},\"data\":{\"type\":\"map\",\"entries\":[[\"R_h_out\",{\"type\":\"ndarray\",\"array\":{\"type\":\"bytes\",\"data\":\"+2V8s8GA/b9n72abxCz4vzs6gJnELPi/dqB8iAwcCEAEAUrezif9PwYgw1r2DNS/NTxzuKEk3L/7ZXyzwYD9vw==\"},\"shape\":[8],\"dtype\":\"float64\",\"order\":\"little\"}],[\"R_bm\",{\"type\":\"ndarray\",\"array\":{\"type\":\"bytes\",\"data\":\"1OZOdrSYyz/mOUpm5rX8v+Y5Smbmtfy/v2KQDNgn079PjLO3HNX2P5kMUfkuLPM/7nqEG7X08j/U5k52tJjLPw==\"},\"shape\":[8],\"dtype\":\"float64\",\"order\":\"little\"}]]}}},\"view\":{\"type\":\"object\",\"name\":\"CDSView\",\"id\":\"6af51924-6ef4-4e1b-9137-a32c050f8d3a\",\"attributes\":{\"filter\":{\"type\":\"object\",\"name\":\"AllIndices\",\"id\":\"1b3f30b1-e539-4f34-b456-ba9f19cd6606\"}}},\"glyph\":{\"type\":\"object\",\"name\":\"Line\",\"id\":\"cb359b0b-7d7f-40d2-aa77-df35d62c0255\",\"attributes\":{\"tags\":[\"apply_ranges\"],\"x\":{\"type\":\"field\",\"field\":\"R_h_out\"},\"y\":{\"type\":\"field\",\"field\":\"R_bm\"},\"line_color\":\"#ffec58\",\"line_width\":2}},\"selection_glyph\":{\"type\":\"object\",\"name\":\"Line\",\"id\":\"f83567db-08fe-4111-86fc-1ef761001cc0\",\"attributes\":{\"tags\":[\"apply_ranges\"],\"x\":{\"type\":\"field\",\"field\":\"R_h_out\"},\"y\":{\"type\":\"field\",\"field\":\"R_bm\"},\"line_color\":\"#ffec58\",\"line_width\":2}},\"nonselection_glyph\":{\"type\":\"object\",\"name\":\"Line\",\"id\":\"16c0b789-207c-45ea-b709-78e69844b477\",\"attributes\":{\"tags\":[\"apply_ranges\"],\"x\":{\"type\":\"field\",\"field\":\"R_h_out\"},\"y\":{\"type\":\"field\",\"field\":\"R_bm\"},\"line_color\":\"#ffec58\",\"line_alpha\":0.1,\"line_width\":2}},\"muted_glyph\":{\"type\":\"object\",\"name\":\"Line\",\"id\":\"c1deb7ff-256b-4228-93f8-74f7afda91cf\",\"attributes\":{\"tags\":[\"apply_ranges\"],\"x\":{\"type\":\"field\",\"field\":\"R_h_out\"},\"y\":{\"type\":\"field\",\"field\":\"R_bm\"},\"line_color\":\"#ffec58\",\"line_alpha\":0.2,\"line_width\":2}}}},{\"type\":\"object\",\"name\":\"GlyphRenderer\",\"id\":\"eb076bc8-11e7-4a7f-9076-c4df7fb4671e\",\"attributes\":{\"name\":\"posterior sampled support\",\"data_source\":{\"type\":\"object\",\"name\":\"ColumnDataSource\",\"id\":\"6ffa0777-cd0f-4e5e-bf9d-0cbf75fe4c14\",\"attributes\":{\"selected\":{\"type\":\"object\",\"name\":\"Selection\",\"id\":\"fd3b0969-ec3b-40ad-b4a3-002a179b6e05\",\"attributes\":{\"indices\":[],\"line_indices\":[]}},\"selection_policy\":{\"type\":\"object\",\"name\":\"UnionRenderers\",\"id\":\"b5726aed-2d06-4d72-baf4-87b8676daa13\"},\"data\":{\"type\":\"map\",\"entries\":[[\"x\",{\"type\":\"ndarray\",\"array\":{\"type\":\"bytes\",\"data\":\"WmQv0dYX+T8fhhI910HtP61Hkzq+Oes/vNE2dqmE6T8txfNqUGjlP04OSemXEc8/6RiLqscksL9+6wZSPPfJvwupxzrETdG/cjDgVxgL27/5bfxg9yrpv1rhIMO8BOy/fuIhpoc16r8Obac5ajLdv6id+rn/gdY/nk9bdF9c8j8jLARTWr32P1pkL9HWF/k/WmQv0dYX+T8jLARTWr32P55PW3RfXPI/qJ36uf+B1j8Obac5ajLdv37iIaaHNeq/WuEgw7wE7L/5bfxg9yrpv3Iw4FcYC9u/C6nHOsRN0b9+6wZSPPfJv+kYi6rHJLC/Tg5J6ZcRzz8txfNqUGjlP7zRNnaphOk/rUeTOr456z8fhhI910HtP1pkL9HWF/k/\"},\"shape\":[36],\"dtype\":\"float64\",\"order\":\"little\"}],[\"y\",{\"type\":\"ndarray\",\"array\":{\"type\":\"bytes\",\"data\":\"AAAAAAAAAAAAAAAAAAAAAAAAAAAAAAAAAAAAAAAAAAAAAAAAAAAAAAAAAAAAAAAAAAAAAAAAAAAAAAAAAAAAAAAAAAAAAAAAAAAAAAAAAAAAAAAAAAAAAAAAAAAAAAAAAAAAAAAAAAAAAAAAAAAAAAAAAAAAAAAAAAAAAAAAAAAAAAAAAAAAAAAAAAAAAAAAdM1CftMPh7/gO6RElZzWv+TFkX+Hs92/dtXAX6ym478aL2sbE/Lmvz4jixtNGNu/eqeWx61FwT8H7sO0rZzdP48NiaRrFO0/XS7GCdxe8D9vKk9XoBvxP5xmfI6FEfI/ZVJcqjGE8z/7gcYRP+HzPyU5jNQ14fI/RmRScUZH8j9derIgyoLxP3TNQn7TD4e/\"},\"shape\":[36],\"dtype\":\"float64\",\"order\":\"little\"}]]}}},\"view\":{\"type\":\"object\",\"name\":\"CDSView\",\"id\":\"67bc1b14-d0bf-4a4c-ad45-f154172192f8\",\"attributes\":{\"filter\":{\"type\":\"object\",\"name\":\"AllIndices\",\"id\":\"31d473fc-73bf-4d98-b2fb-b0be3304cc41\"}}},\"glyph\":{\"type\":\"object\",\"name\":\"Patch\",\"id\":\"83beba14-aa3e-4a9d-8353-2cdc989ab918\",\"attributes\":{\"tags\":[\"apply_ranges\"],\"x\":{\"type\":\"field\",\"field\":\"x\"},\"y\":{\"type\":\"field\",\"field\":\"y\"},\"line_alpha\":0.2,\"fill_color\":\"#e02450\",\"fill_alpha\":0.2,\"hatch_color\":\"#e02450\",\"hatch_alpha\":0.2}},\"selection_glyph\":{\"type\":\"object\",\"name\":\"Patch\",\"id\":\"661dc3f0-c377-462d-ab28-3f78e66115cb\",\"attributes\":{\"tags\":[\"apply_ranges\"],\"x\":{\"type\":\"field\",\"field\":\"x\"},\"y\":{\"type\":\"field\",\"field\":\"y\"},\"line_alpha\":0.2,\"fill_color\":\"#e02450\",\"fill_alpha\":0.2,\"hatch_color\":\"#e02450\",\"hatch_alpha\":0.2}},\"nonselection_glyph\":{\"type\":\"object\",\"name\":\"Patch\",\"id\":\"fe91849a-e628-4df1-954e-9d6d1f496fbf\",\"attributes\":{\"tags\":[\"apply_ranges\"],\"x\":{\"type\":\"field\",\"field\":\"x\"},\"y\":{\"type\":\"field\",\"field\":\"y\"},\"line_alpha\":0.2,\"fill_color\":\"#e02450\",\"fill_alpha\":0.2,\"hatch_color\":\"#e02450\",\"hatch_alpha\":0.1}},\"muted_glyph\":{\"type\":\"object\",\"name\":\"Patch\",\"id\":\"e8f14f3d-73a2-4a34-b393-d10ff15648aa\",\"attributes\":{\"tags\":[\"apply_ranges\"],\"x\":{\"type\":\"field\",\"field\":\"x\"},\"y\":{\"type\":\"field\",\"field\":\"y\"},\"line_alpha\":0.2,\"fill_color\":\"#e02450\",\"fill_alpha\":0.2,\"hatch_color\":\"#e02450\",\"hatch_alpha\":0.2}}}},{\"type\":\"object\",\"name\":\"GlyphRenderer\",\"id\":\"c30caf60-8ed3-4da7-9836-4e424e9e9226\",\"attributes\":{\"name\":\"posterior sampled support\",\"data_source\":{\"type\":\"object\",\"name\":\"ColumnDataSource\",\"id\":\"f787cc11-8f4a-4fe6-9b51-2ff5c8aa3e23\",\"attributes\":{\"selected\":{\"type\":\"object\",\"name\":\"Selection\",\"id\":\"a1a6cd93-10ab-41db-8154-10e2d00cb1bd\",\"attributes\":{\"indices\":[],\"line_indices\":[]}},\"selection_policy\":{\"type\":\"object\",\"name\":\"UnionRenderers\",\"id\":\"325c163c-6df2-489c-9bdb-9c42a83c2108\"},\"data\":{\"type\":\"map\",\"entries\":[[\"R_h_out\",{\"type\":\"ndarray\",\"array\":{\"type\":\"bytes\",\"data\":\"WmQv0dYX+T8fhhI910HtP61Hkzq+Oes/vNE2dqmE6T8txfNqUGjlP04OSemXEc8/6RiLqscksL9+6wZSPPfJvwupxzrETdG/cjDgVxgL27/5bfxg9yrpv1rhIMO8BOy/fuIhpoc16r8Obac5ajLdv6id+rn/gdY/nk9bdF9c8j8jLARTWr32P1pkL9HWF/k/\"},\"shape\":[18],\"dtype\":\"float64\",\"order\":\"little\"}],[\"R_bm\",{\"type\":\"ndarray\",\"array\":{\"type\":\"bytes\",\"data\":\"dM1CftMPh79derIgyoLxP0ZkUnFGR/I/JTmM1DXh8j/7gcYRP+HzP2VSXKoxhPM/nGZ8joUR8j9vKk9XoBvxP10uxgncXvA/jw2JpGsU7T8H7sO0rZzdP3qnlsetRcE/PiOLG00Y278aL2sbE/Lmv3bVwF+spuO/5MWRf4ez3b/gO6RElZzWv3TNQn7TD4e/\"},\"shape\":[18],\"dtype\":\"float64\",\"order\":\"little\"}]]}}},\"view\":{\"type\":\"object\",\"name\":\"CDSView\",\"id\":\"076d22b6-6648-43ac-8ce5-fe954e4cd9ce\",\"attributes\":{\"filter\":{\"type\":\"object\",\"name\":\"AllIndices\",\"id\":\"42eb87b8-025e-4627-a8ec-ce79793f557e\"}}},\"glyph\":{\"type\":\"object\",\"name\":\"Line\",\"id\":\"cc681f2b-f389-4a22-8782-43ad926fc5de\",\"attributes\":{\"tags\":[\"apply_ranges\"],\"x\":{\"type\":\"field\",\"field\":\"R_h_out\"},\"y\":{\"type\":\"field\",\"field\":\"R_bm\"},\"line_color\":\"#e02450\",\"line_width\":2}},\"selection_glyph\":{\"type\":\"object\",\"name\":\"Line\",\"id\":\"e4a99678-32c9-41c0-9267-b34d4c028db5\",\"attributes\":{\"tags\":[\"apply_ranges\"],\"x\":{\"type\":\"field\",\"field\":\"R_h_out\"},\"y\":{\"type\":\"field\",\"field\":\"R_bm\"},\"line_color\":\"#e02450\",\"line_width\":2}},\"nonselection_glyph\":{\"type\":\"object\",\"name\":\"Line\",\"id\":\"515b8ab6-7dee-4668-8e8c-7c7e966558d7\",\"attributes\":{\"tags\":[\"apply_ranges\"],\"x\":{\"type\":\"field\",\"field\":\"R_h_out\"},\"y\":{\"type\":\"field\",\"field\":\"R_bm\"},\"line_color\":\"#e02450\",\"line_alpha\":0.1,\"line_width\":2}},\"muted_glyph\":{\"type\":\"object\",\"name\":\"Line\",\"id\":\"76320749-d693-4199-ab0b-54c7e99dedc8\",\"attributes\":{\"tags\":[\"apply_ranges\"],\"x\":{\"type\":\"field\",\"field\":\"R_h_out\"},\"y\":{\"type\":\"field\",\"field\":\"R_bm\"},\"line_color\":\"#e02450\",\"line_alpha\":0.2,\"line_width\":2}}}},{\"type\":\"object\",\"name\":\"GlyphRenderer\",\"id\":\"dd60a0d5-c996-477e-b05a-8eea0dcae9de\",\"attributes\":{\"data_source\":{\"type\":\"object\",\"name\":\"ColumnDataSource\",\"id\":\"1e7dcab1-ad77-484a-a7c3-d93cdea8f998\",\"attributes\":{\"selected\":{\"type\":\"object\",\"name\":\"Selection\",\"id\":\"630e1bbd-f057-4a26-88fb-e44f5461773c\",\"attributes\":{\"indices\":[],\"line_indices\":[]}},\"selection_policy\":{\"type\":\"object\",\"name\":\"UnionRenderers\",\"id\":\"1fe774ec-e5c3-466a-9169-10bf9ed44dbd\"},\"data\":{\"type\":\"map\",\"entries\":[[\"xs\",[[[{\"type\":\"ndarray\",\"array\":{\"type\":\"bytes\",\"data\":\"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\"},\"shape\":[209],\"dtype\":\"float64\",\"order\":\"little\"},{\"type\":\"ndarray\",\"array\":{\"type\":\"bytes\",\"data\":\"gGNd3EYD3D8CCEqEr+faP4BjXdxGA9w/Fberl92E3T+AY13cRgPcPw==\"},\"shape\":[5],\"dtype\":\"float64\",\"order\":\"little\"},{\"type\":\"ndarray\",\"array\":{\"type\":\"bytes\",\"data\":\"nI7HDFTG4T8mfBFixJ/gP2xjzDepdOA/nI7HDFTG4T8M/RNcrKjjP3hrYKsEi+U/uKhG2Y8Y5z/g56MZ/DHmP3hrYKsEi+U/DP0TXKyo4z+cjscMVMbhPw==\"},\"shape\":[11],\"dtype\":\"float64\",\"order\":\"little\"},{\"type\":\"ndarray\",\"array\":{\"type\":\"bytes\",\"data\":\"LCWS6GUU7T/ODH5UM8TrP8C2RZkNMus/ltlbT8+n6T9havjkyVLpPz2m7FLbcuk/KO5PRS/46T91OUk+zf3pP1RI+Um1T+k/n7Zy7OEO6T/21/cs1gzoP+TZrPpcbec/ofsf3eDl5j8c3jqrTqTlP3hrYKsEi+U/CPCRoq1y5D/LMGBY4/PjPwz9E1ysqOM/McEG6JRT4z+1s5I4LdThP5yOxwxUxuE/YED2evfH3z8A6zL/BFzfP63j+9DIst0/7OBCsweq3T+YT1gZwZjdP/Wk/DrrF90/gGNd3EYD3D/onVFyPgjbP83lPC3nSNg/qIbEPZY+2D982UrhMzPXP6iGxD2WPtg/H7aZZ6212D+C1dnoTB7ZP785Z3Xfndg/qIbEPZY+2D8hj/fEPTfXP65HJlupV9U/0Kkrn+V51D/IN7KKGi/SP/DMkgA1tdA/aEcKrNtgzT8w4PPDCOHJP3AmwoanV8I/gNkgk4yctT+Wzald/ESsP4CY9WIoJ5o/wBpMw/ARob/AgAncupu3v2oqgy5q/Le/oMvsunSdvr8gejarPlfDv9AzaOif4Mq/wPbMkgA10b+g02UxsfnUv1k0hQSh2Ne/eLD+z2G+2L8WrwYmSp7av5UlMC7j59u/ZtD7Jbx23L9UjZduEoPcvzJtT/CzUt2/O4m7/nwQ3b8LARVb4prcvyHj3cB8zdy/VI2XbhKD3L/E4SUyenncvyriHLlr8du/HAMFL+sG278Ibhk0i7DZv3iw/s9hvti/d3owigpV2L9W3GWkkEDXv4ws8MWQeNW/oNNlMbH51L+05Rk9Uf7Sv8D2zJIANdG/7aIvnFuYy7/QM2jon+DKvyB6Nqs+V8O/LZ00I7jOuL/AgAncupu3v8AaTMPwEaG/AuANR+ioiT+AmPViKCeaP4DZIJOMnLU/cCbChqdXwj8w4PPDCOHJPxn39Fkoacs/8MySADW10D8sMSwfzfnTP9CpK5/ledQ/qIbEPZY+2D9kmmW/HUXYP2RFUsehsdo/gGNd3EYD3D+srg9tToLcPxzKf3yh3t0/X0D2evfH3z8RwqXWVQvgPxgiDfLy4+A/3tHQ3Op24T+cjscMVMbhP7FBk7Q5zuE/nI7HDFTG4T/tVohD9q3hP1iLdDYFtOE/nI7HDFTG4T/+s5YDZlfiP/S0gccM1+I/2GCPiEnm4j/HJpx/0yvjPwz9E1ysqOM/FAJXQOfl4z8WOBxYE3nkPyA6m1PvtuQ/EsAtwbVI5T94a2CrBIvlP9MQMnVUXuY/quWxuPv25j8kTQp62qHmP/eQoi3Rq+Y/5Nms+lxt5z/qcrMaBY/oP1RI+Um1T+k/9EQJ5lUE6z/AtkWZDTLrPywlkuhlFO0/7P+D7feN7T+ck943vvbuPxHHfrU/I/A/BIGVQ4ts8D/5tu9cajvxPzu4O2u3XfE/WOaxf5yy8T9y7+GS407yPwHNe4wqKvM/qCaIug9A8z+iXCNKYrfzP+BdLuI7MfQ/gc3YBLpJ9D/EGZntxqX0PxaV1AloIvU/TaQ+JSIn9T+q1siEAHX1P+WvwMh4kfU/xB68aOJn9T8oc9c1P2n1P0pwoP07cvU///E69BNE9T8WldQJaCL1P3gbSJtbj/Q/4F0u4jsx9D/6ZXW7lv7zP6TW7wxOwPM/MLjgsVdA8z+oJoi6D0DzP3Lv4ZLjTvI/jZKyC2gu8j88uDtrt13xPwSBlUOLbPA/ECK4+HRA8D+ck943vvbuPywlkuhlFO0/\"},\"shape\":[165],\"dtype\":\"float64\",\"order\":\"little\"},{\"type\":\"ndarray\",\"array\":{\"type\":\"bytes\",\"data\":\"wBpMw/ARob+ItI8dtaGqv8CACdy6m7e/zCbYuELOt78gejarPlfDv/Jb81g6zMO/Eyf04RtVyr/QM2jon+DKv+yFXNmJycy/+JDXkI3bzb+Ak/VBRgHOv5hXue6lw82/xkg5VdZBzr8ZJocqd+nNv9AzaOif4Mq/oJNGKKi3yr+ykww+dfnHv0rbRKqe28O/IHo2qz5Xw7/AgAncupu3v7AuoXySKKe/wBpMw/ARob+AmPViKCeaP4DZIJOMnLU/cCbChqdXwj+WUisvF0rGP8o1RkB1bsk/MODzwwjhyT/S2XIxFj/OP/DMkgA1tdA/YG5i99/h0T/gPu2X5PzSPzgHQob2d9I/DUC6itDE0D/wzJIANbXQP9bXj4th8M8/WAhvlFw4zj9mwlkP95jMPzDg88MI4ck/sBg0GGisyD9NSBEaiA7DP3AmwoanV8I/gNkgk4yctT+AmPViKCeaP8AaTMPwEaG/\"},\"shape\":[45],\"dtype\":\"float64\",\"order\":\"little\"},{\"type\":\"ndarray\",\"array\":{\"type\":\"bytes\",\"data\":\"wBpMw/ARob8gU5VjFx2rv3Dg4Inj07C/LIZPyI6Ppr8TkDWuWNyiv8AaTMPwEaG/5b1pnC8Tmr+AmPViKCeaP4BSdRN//p8/6OoGY9QWqj/LWLL/8QCwP4CY9WIoJ5o/wBpMw/ARob8=\"},\"shape\":[13],\"dtype\":\"float64\",\"order\":\"little\"}],[{\"type\":\"ndarray\",\"array\":{\"type\":\"bytes\",\"data\":\"CbN7E8XR3j9gQPZ698ffP9lvZjJFPOA/YED2evfH3z8Js3sTxdHePw==\"},\"shape\":[5],\"dtype\":\"float64\",\"order\":\"little\"}]],[[{\"type\":\"ndarray\",\"array\":{\"type\":\"bytes\",\"data\":\"AghKhK/n2j+AY13cRgPcPxW3q5fdhN0/gGNd3EYD3D8CCEqEr+faPw==\"},\"shape\":[5],\"dtype\":\"float64\",\"order\":\"little\"}],[{\"type\":\"ndarray\",\"array\":{\"type\":\"bytes\",\"data\":\"JnwRYsSf4D+cjscMVMbhPwz9E1ysqOM/eGtgqwSL5T/g56MZ/DHmP7moRtmPGOc/eGtgqwSL5T8M/RNcrKjjP5yOxwxUxuE/bGPMN6l04D8mfBFixJ/gPw==\"},\"shape\":[11],\"dtype\":\"float64\",\"order\":\"little\"}],[{\"type\":\"ndarray\",\"array\":{\"type\":\"bytes\",\"data\":\"zgx+VDPE6z8sJZLoZRTtP5yT3je+9u4/ESK4+HRA8D8EgZVDi2zwPzy4O2u3XfE/jZKyC2gu8j9y7+GS407yP6gmiLoPQPM/MLjgsVdA8z+k1u8MTsDzP/tldbuW/vM/4F0u4jsx9D93G0ibW4/0PxaV1AloIvU///E69BNE9T9KcKD9O3L1Pyhz1zU/afU/xB68aOJn9T/kr8DIeJH1P6rWyIQAdfU/TaQ+JSIn9T8WldQJaCL1P8QZme3GpfQ/gc3YBLpJ9D/gXS7iOzH0P6JcI0pit/M/qSaIug9A8z8BzXuMKirzP3Lv4ZLjTvI/WOaxf5yy8T88uDtrt13xP/m271xqO/E/BIGVQ4ts8D8Rx361PyPwP5yT3je+9u4/7P+D7feN7T8sJZLoZRTtP7+2RZkNMus/9EQJ5lUE6z9USPlJtU/pP+pysxoFj+g/5Nms+lxt5z/3kKIt0avmPyRNCnraoeY/quWxuPv25j/UEDJ1VF7mP3hrYKsEi+U/EsAtwbVI5T8gOptT77bkPxY4HFgTeeQ/FAJXQOfl4z8M/RNcrKjjP8cmnH/TK+M/2GCPiEnm4j/0tIHHDNfiP/6zlgNmV+I/nI7HDFTG4T9Yi3Q2BbThP+1WiEP2reE/nI7HDFTG4T+xQZO0Oc7hP5yOxwxUxuE/3dHQ3Op24T8YIg3y8uPgPxLCpdZVC+A/YED2evfH3z8cyn98od7dP6yuD21Ogtw/gGNd3EYD3D9kRVLHobHaP2SaZb8dRdg/qIbEPZY+2D/QqSuf5XnUPywxLB/N+dM/8MySADW10D8Z9/RZKGnLPy/g88MI4ck/cCbChqdXwj+A2SCTjJy1P4CY9WIoJ5o/AuANR+ioiT/AGkzD8BGhv8CACdy6m7e/LZ00I7jOuL8gejarPlfDv9AzaOif4Mq/7aIvnFuYy7/A9sySADXRv7TlGT1R/tK/oNNlMbH51L+MLPDFkHjVv1fcZaSQQNe/d3owigpV2L94sP7PYb7YvwhuGTSLsNm/HAMFL+sG278q4hy5a/Hbv8XhJTJ6edy/VY2XbhKD3L8g493AfM3cvwoBFVvimty/O4m7/nwQ3b8zbU/ws1Ldv1WNl24Sg9y/ZtD7Jbx23L+WJTAu4+fbvxavBiZKntq/eLD+z2G+2L9aNIUEodjXv6DTZTGx+dS/wPbMkgA10b/QM2jon+DKvyB6Nqs+V8O/oMvsunSdvr9qKoMuavy3v8CACdy6m7e/wBpMw/ARob+AmPViKCeaP5bNqV38RKw/gNkgk4yctT9wJsKGp1fCPzDg88MI4ck/aEcKrNtgzT/wzJIANbXQP8c3sooaL9I/0Kkrn+V51D+uRyZbqVfVPyKP98Q9N9c/qIbEPZY+2D+/OWd1353YP4LV2ehMHtk/H7aZZ6212D+ohsQ9lj7YP3zZSuEzM9c/qIbEPZY+2D/N5Twt50jYP+idUXI+CNs/gGNd3EYD3D/1pPw66xfdP5hPWBnBmN0/7OBCsweq3T+s4/vQyLLdPwDrMv8EXN8/YED2evfH3z+cjscMVMbhP7Wzkjgt1OE/McEG6JRT4z8M/RNcrKjjP8swYFjj8+M/B/CRoq1y5D94a2CrBIvlPxzeOqtOpOU/ovsf3eDl5j/k2az6XG3nP/XX9yzWDOg/n7Zy7OEO6T9USPlJtU/pP3Q5ST7N/ek/J+5PRS/46T89puxS23LpP2Fq+OTJUuk/ltlbT8+n6T/AtkWZDTLrP84MflQzxOs/\"},\"shape\":[165],\"dtype\":\"float64\",\"order\":\"little\"},{\"type\":\"ndarray\",\"array\":{\"type\":\"bytes\",\"data\":\"m5PeN7727j9eh+ssgsbtPywlkuhlFO0/0jzW+xVo6z/+UbOc2G/sPywlkuhlFO0/erjiaRes7T8sJZLoZRTtP0jl8+y2rOw/wLZFmQ0y6z+sLk0kb+nqP3QRtwVfV+k/VEj5SbVP6T8f9W0BMkLoP+TZrPpcbec/sUQF8/MP5z8pcAK/ByfmPzSufvS+8uU/drlHPtUk5j/O1kk6xhrmP7YA7+684+U/eGtgqwSL5T+XtdRO5T3lPwz9E1ysqOM/eFIKajpv4z/fMyj7nP/hP5yOxwxUxuE/98LMhL5M4T+7AHKiWwPhPwr2L8qjGeE/teeLhUOz4T8JmQVjm7nhP5yOxwxUxuE/DP0TXKyo4z9gbW8vCRDkP/rr480S5eM/blBf+NH84z/uS9Fsv3zkP04UY4M0+eQ/eGtgqwSL5T8mHMnbV1TmP+TZrPpcbec/VEj5SbVP6T/AtkWZDTLrP5tgidxQnOw/LCWS6GUU7T+ck943vvbuP5MOJgfJ8+8/BIGVQ4ts8D/d+1mWZdzwPzy4O2u3XfE/9Tl2FNWI8T9y7+GS407yP6yVbde3a/I/qCaIug9A8z/gXS7iOzH0P3uEuKyIcvQ/fsDYe2KW9D91YhkL7Y70P1wuv/NPnfQ/fGTRTyib9D/gXS7iOzH0PwJwWuM/LPQ/qCaIug9A8z8SJsKYRgTzP3Lv4ZLjTvI/OGJ9uqpK8j+1Nh/iyt3xPzy4O2u3XfE/Bbzanozh8D8EgZVDi2zwP4PkrsiGme8/m5PeN7727j8=\"},\"shape\":[73],\"dtype\":\"float64\",\"order\":\"little\"},{\"type\":\"ndarray\",\"array\":{\"type\":\"bytes\",\"data\":\"IHo2qz5Xw78w5f26mMzJv9AzaOif4Mq/wPbMkgA10b+FlvPrsmjUv6DTZTGx+dS/oJrr2+bK1b/vbJ6++WTYv3iw/s9hvti/Gz96J04l2r+4TN7gm3nav6d/Crh5CNq/m2Ldx13R2L94sP7PYb7Yv+80JNMwode/uoj80PWh1r+334gIknXVv6DTZTGx+dS/vztTvkyz07/A9sySADXRv7yPq6S5pNC/0DNo6J/gyr8gejarPlfDv8sRaLGt/sK/wIAJ3Lqbt78CXXd/oEeuv8AaTMPwEaG/gJj1Yignmj+A2SCTjJy1P21MHCXtL7w/cCbChqdXwj8w4PPDCOHJP/DMkgA1tdA/0Kkrn+V51D8OrpBaGsbUP3o+cQsckNY/+5WBB2yw1j9BxpxBND/XP6iGxD2WPtg/YO1YFXTb2j+AY13cRgPcP2SpGrnqSd4/YUD2evfH3z+Fwzq6rNLfP2BA9nr3x98/lwoaXbq03T+AY13cRgPcP6iGxD2WPtg/t9mO5CI+2D+ohsQ9lj7YP4ajL7xmadk/OB2l7XZX2D+ohsQ9lj7YP+LNeYRX89Q/0Kkrn+V51D/wzJIANbXQPy8D7okPd84/MODzwwjhyT9E6RrZzUnHP3AmwoanV8I/tFUkhIGVvz+A2SCTjJy1P4CY9WIoJ5o/5dvKyNKihj/AGkzD8BGhv8CACdy6m7e/IHo2qz5Xw78=\"},\"shape\":[67],\"dtype\":\"float64\",\"order\":\"little\"},{\"type\":\"ndarray\",\"array\":{\"type\":\"bytes\",\"data\":\"YED2evfH3z+NeEpdAV7fP2BA9nr3x98/6M3h/yTd3z9gQPZ698ffPw==\"},\"shape\":[5],\"dtype\":\"float64\",\"order\":\"little\"}],[{\"type\":\"ndarray\",\"array\":{\"type\":\"bytes\",\"data\":\"iLSPHbWhqr/AGkzD8BGhv4CY9WIoJ5o/gNkgk4yctT9wJsKGp1fCP01IERqIDsM/sBg0GGisyD8w4PPDCOHJP2bCWQ/3mMw/WAhvlFw4zj/V14+LYfDPP/DMkgA1tdA/DkC6itDE0D84B0KG9nfSP+A+7Zfk/NI/YG5i99/h0T/wzJIANbXQP9LZcjEWP84/MODzwwjhyT/KNUZAdW7JP5ZSKy8XSsY/cCbChqdXwj+A2SCTjJy1P4CY9WIoJ5o/wBpMw/ARob+wLqF8kiinv8CACdy6m7e/IHo2qz5Xw79K20SqntvDv7KTDD51+ce/oJNGKKi3yr/QM2jon+DKvxgmhyp36c2/xkg5VdZBzr+YV7nupcPNv4CT9UFGAc6/+JDXkI3bzb/shVzZicnMv9AzaOif4Mq/Eyf04RtVyr/yW/NYOszDvyB6Nqs+V8O/yybYuELOt7/AgAncupu3v4i0jx21oaq/\"},\"shape\":[45],\"dtype\":\"float64\",\"order\":\"little\"},{\"type\":\"ndarray\",\"array\":{\"type\":\"bytes\",\"data\":\"wIAJ3Lqbt7+L6Pmy0kLAvyB6Nqs+V8O/1Iju9fSCxL+kL8TLC0zEv4oFodoMusO/toacZTxuxL9vCvJ9y+zEvyB6Nqs+V8O/899ZDj57wr/AgAncupu3v8AaTMPwEaG/mtp8+GmIdL+AmPViKCeaP/bzqcUigKk/gNkgk4yctT8UNsqyjPO6P3AmwoanV8I/D9Wt0djpxz8w4PPDCOHJP76vJcaresw/VnWOzlcIzT++2ZBTreDLPzDg88MI4ck/T4+d//kayT8au6JE0+PFP3AmwoanV8I/gNkgk4yctT+AmPViKCeaP8AaTMPwEaG/wIAJ3Lqbt78=\"},\"shape\":[31],\"dtype\":\"float64\",\"order\":\"little\"}]],[[{\"type\":\"ndarray\",\"array\":{\"type\":\"bytes\",\"data\":\"XofrLILG7T+ck943vvbuP4PkrsiGme8/BIGVQ4ts8D8GvNqejOHwPzy4O2u3XfE/tDYf4srd8T84Yn26qkryP3Lv4ZLjTvI/EibCmEYE8z+oJoi6D0DzPwJwWuM/LPQ/4F0u4jsx9D98ZNFPKJv0P1wuv/NPnfQ/dmIZC+2O9D9+wNh7Ypb0P3uEuKyIcvQ/4F0u4jsx9D+oJoi6D0DzP6yVbde3a/I/cu/hkuNO8j/1OXYU1YjxPzy4O2u3XfE/3PtZlmXc8D8EgZVDi2zwP5MOJgfJ8+8/nJPeN7727j8sJZLoZRTtP5pgidxQnOw/wLZFmQ0y6z9USPlJtU/pP+TZrPpcbec/JhzJ21dU5j94a2CrBIvlP04UY4M0+eQ/7UvRbL985D9uUF/40fzjP/rr480S5eM/X21vLwkQ5D8M/RNcrKjjP5yOxwxUxuE/CpkFY5u54T+154uFQ7PhPwr2L8qjGeE/uwByolsD4T/3wsyEvkzhP5yOxwxUxuE/3zMo+5z/4T94UgpqOm/jPwz9E1ysqOM/l7XUTuU95T94a2CrBIvlP7YA7+684+U/z9ZJOsYa5j92uUc+1STmPzSufvS+8uU/KXACvwcn5j+xRAXz8w/nP+TZrPpcbec/H/VtATJC6D9VSPlJtU/pP3MRtwVfV+k/rC5NJG/p6j/AtkWZDTLrP0jl8+y2rOw/LCWS6GUU7T95uOJpF6ztPywlkuhlFO0//lGznNhv7D/RPNb7FWjrPywlkuhlFO0/XofrLILG7T8=\"},\"shape\":[73],\"dtype\":\"float64\",\"order\":\"little\"},{\"type\":\"ndarray\",\"array\":{\"type\":\"bytes\",\"data\":\"PLg7a7dd8T9s0kiH0djwPwSBlUOLbPA/nJPeN7727j91QiDzSvLtPywlkuhlFO0/wLZFmQ0y6z8cRURu4hLrPxsZo0aEduk/VEj5SbVP6T8gEQGJ72noP2zCrQlDl+c/fv1drguU5z+Q4aVHJJvnP3FsCW4Kd+c/5Nms+lxt5z9rK4RlEWfnP+TZrPpcbec/UwQJ6etd6D9USPlJtU/pP7aVBdLKQ+o/wLZFmQ0y6z8sJZLoZRTtP5yT3je+9u4/bp7QRyAz7z+VpNaWaxvwPwSBlUOLbPA/jgtyktiq8D9wgakZnivxPzy4O2u3XfE/cu/hkuNO8j/WmrzznYDyP6gmiLoPQPM/y30+HyR48z/PPOsSVpzzP7BiD7MEd/M/qCaIug9A8z9y7+GS407yP6ZzLQnNSfI/WlvWyJaj8T88uDtrt13xPw==\"},\"shape\":[41],\"dtype\":\"float64\",\"order\":\"little\"}],[{\"type\":\"ndarray\",\"array\":{\"type\":\"bytes\",\"data\":\"i+j5stJCwL/AgAncupu3v8AaTMPwEaG/gJj1Yignmj+B2SCTjJy1P3AmwoanV8I/GruiRNPjxT9Pj53/+RrJPzDg88MI4ck/vtmQU63gyz9WdY7OVwjNP76vJcaresw/MODzwwjhyT8P1a3R2OnHP3AmwoanV8I/FDbKsozzuj+A2SCTjJy1P/bzqcUigKk/gJj1Yignmj+a2nz4aYh0v8AaTMPwEaG/wIAJ3Lqbt7/z31kOPnvCvyB6Nqs+V8O/bwryfcvsxL+2hpxlPG7Ev4sFodoMusO/pC/EywtMxL/UiO719ILEvyB6Nqs+V8O/i+j5stJCwL8=\"},\"shape\":[31],\"dtype\":\"float64\",\"order\":\"little\"},{\"type\":\"ndarray\",\"array\":{\"type\":\"bytes\",\"data\":\"wBpMw/ARob8Jbk1I5pC0v8CACdy6m7e/StdWQylnur/44nRsGam7v8CACdy6m7e/wBpMw/ARob+npP00zeqQP4CY9WIoJ5o/2D2ziSSXrD9UrpxVifOwP4CY9WIoJ5o/wBpMw/ARob8=\"},\"shape\":[13],\"dtype\":\"float64\",\"order\":\"little\"},{\"type\":\"ndarray\",\"array\":{\"type\":\"bytes\",\"data\":\"cCbChqdXwj9LuU6eUIy/P/ZG0+Yge74/cCbChqdXwj9jspdlBYjEP1Tift1JpcQ/cCbChqdXwj8=\"},\"shape\":[7],\"dtype\":\"float64\",\"order\":\"little\"}],[{\"type\":\"ndarray\",\"array\":{\"type\":\"bytes\",\"data\":\"MOX9upjMyb8gejarPlfDv8CACdy6m7e/wBpMw/ARob/l28rI0qKGP4CY9WIoJ5o/gNkgk4yctT+0VSSEgZW/P3AmwoanV8I/ROka2c1Jxz8w4PPDCOHJPy4D7okPd84/8MySADW10D/QqSuf5XnUP+LNeYRX89Q/qIbEPZY+2D85HaXtdlfYP4ejL7xmadk/p4bEPZY+2D+32Y7kIj7YP6iGxD2WPtg/gGNd3EYD3D+XChpdurTdP2BA9nr3x98/hcM6uqzS3z9gQPZ698ffP2SpGrnqSd4/gWNd3EYD3D9g7VgVdNvaP6iGxD2WPtg/QcacQTQ/1z/8lYEHbLDWP3o+cQsckNY/Dq6QWhrG1D/QqSuf5XnUP/DMkgA1tdA/MODzwwjhyT9wJsKGp1fCP2xMHCXtL7w/gNkgk4yctT+AmPViKCeaP8AaTMPwEaG/Al13f6BHrr/AgAncupu3v8sRaLGt/sK/IHo2qz5Xw7/QM2jon+DKv7yPq6S5pNC/wPbMkgA10b+/O1O+TLPTv6DTZTGx+dS/t9+ICJJ11b+6iPzQ9aHWv+80JNMwode/eLD+z2G+2L+bYt3HXdHYv6Z/Crh5CNq/uEze4Jt52r8bP3onTiXav3iw/s9hvti/72yevvlk2L+gmuvb5srVv6DTZTGx+dS/hZbz67Jo1L/A9sySADXRv9AzaOif4Mq/MOX9upjMyb8=\"},\"shape\":[67],\"dtype\":\"float64\",\"order\":\"little\"},{\"type\":\"ndarray\",\"array\":{\"type\":\"bytes\",\"data\":\"IHo2qz5Xw79407i6tB/Jv9AzaOif4Mq/wPbMkgA10b+I+Ky3BujSv6DTZTGx+dS/WGFMui/y1r8agTOqomLYvw1sfenfBti/LEkC3pHs1r+GOMVZgdnVv6DTZTGx+dS/w/U2z2vx1L983ronIP7Tvw0APMVDGtK/wPbMkgA10b/QrY4+RbfMv9AzaOif4Mq/IHo2qz5Xw7+I8qW0nma5v8CACdy6m7e/wBpMw/ARob/aFZhoefGOv4CY9WIoJ5o/gNkgk4yctT9wJsKGp1fCPzDg88MI4ck/8MySADW10D9qQe6UkKrSP2HD5tqdWdM/sxGT8v4K1D/QqSuf5XnUP0IJ5SVmztU/1qutKgn71j8XedgKOmLVP9CpK5/ledQ/vALSj0xA1D/QqSuf5XnUP7kg0IrXtdQ/0Kkrn+V51D/wzJIANbXQP7iHgK9tpMw/MODzwwjhyT/ORfifY2XJP8bo0nSOdcQ/cCbChqdXwj+AhmtwGxHAP5y8n0yfmbg/gNkgk4yctT/wYDVLC7ipP4CY9WIoJ5o/wBpMw/ARob98Z2Ay0rGov8CACdy6m7e/IHo2qz5Xw78=\"},\"shape\":[55],\"dtype\":\"float64\",\"order\":\"little\"}],[{\"type\":\"ndarray\",\"array\":{\"type\":\"bytes\",\"data\":\"jXhKXQFe3z9gQPZ698ffP+jN4f8k3d8/YED2evfH3z+NeEpdAV7fPw==\"},\"shape\":[5],\"dtype\":\"float64\",\"order\":\"little\"}]],[[{\"type\":\"ndarray\",\"array\":{\"type\":\"bytes\",\"data\":\"bNJIh9HY8D88uDtrt13xP1pb1siWo/E/pnMtCc1J8j9y7+GS407yP6gmiLoPQPM/sGIPswR38z/QPOsSVpzzP8t9Ph8kePM/qCaIug9A8z/XmrzznYDyP3Lv4ZLjTvI/PLg7a7dd8T9wgakZnivxP44LcpLYqvA/BIGVQ4ts8D+UpNaWaxvwP26e0EcgM+8/nJPeN7727j8sJZLoZRTtP8C2RZkNMus/tpUF0spD6j9USPlJtU/pP1IECenrXeg/5Nms+lxt5z9rK4RlEWfnP+TZrPpcbec/cGwJbgp35z+Q4aVHJJvnP379Xa4LlOc/bMKtCUOX5z8gEQGJ72noP1RI+Um1T+k/GhmjRoR26T8cRURu4hLrP8C2RZkNMus/LCWS6GUU7T92QiDzSvLtP5yT3je+9u4/BIGVQ4ts8D9s0kiH0djwPw==\"},\"shape\":[41],\"dtype\":\"float64\",\"order\":\"little\"},{\"type\":\"ndarray\",\"array\":{\"type\":\"bytes\",\"data\":\"BIGVQ4ts8D9DFzx9JfbvP5uT3je+9u4/voEgvXBn7T8sJZLoZRTtP8C2RZkNMus/c8JBVb086j9USPlJtU/pP+uTAdU7Aek/91MuZNat6D9WCpRfi67oP4+gKLYIBOk/VEj5SbVP6T/AtkWZDTLrP2zhnvl8tOw/LCWS6GUU7T8E6A8at7nuP5yT3je+9u4/WBAKS1vo7z8EgZVDi2zwPx1mR0pB5PA/PLg7a7dd8T+NYhhoJRPyP3Lv4ZLjTvI/b6w1PfyB8j9y7+GS407yP453/Bpdz/E/PLg7a7dd8T8EgZVDi2zwPw==\"},\"shape\":[29],\"dtype\":\"float64\",\"order\":\"little\"}],[{\"type\":\"ndarray\",\"array\":{\"type\":\"bytes\",\"data\":\"Cm5NSOaQtL/AGkzD8BGhv4CY9WIoJ5o/VK6cVYnzsD/YPbOJJJesP4CY9WIoJ5o/qKT9NM3qkD/AGkzD8BGhv8CACdy6m7e/+OJ0bBmpu79L11ZDKWe6v8CACdy6m7e/Cm5NSOaQtL8=\"},\"shape\":[13],\"dtype\":\"float64\",\"order\":\"little\"}],[{\"type\":\"ndarray\",\"array\":{\"type\":\"bytes\",\"data\":\"SrlOnlCMvz9wJsKGp1fCP1Pift1JpcQ/Y7KXZQWIxD9wJsKGp1fCP/ZG0+Yge74/SrlOnlCMvz8=\"},\"shape\":[7],\"dtype\":\"float64\",\"order\":\"little\"}],[{\"type\":\"ndarray\",\"array\":{\"type\":\"bytes\",\"data\":\"eNO4urQfyb8gejarPlfDv8CACdy6m7e/fGdgMtKxqL/AGkzD8BGhv4GY9WIoJ5o/72A1Swu4qT+A2SCTjJy1P5y8n0yfmbg/gIZrcBsRwD9wJsKGp1fCP8bo0nSOdcQ/zkX4n2NlyT8x4PPDCOHJP7iHgK9tpMw/8MySADW10D/QqSuf5XnUP7og0IrXtdQ/0Kkrn+V51D+8AtKPTEDUP9CpK5/ledQ/GHnYCjpi1T/Wq60qCfvWP0IJ5SVmztU/0Kkrn+V51D+zEZPy/grUP2HD5tqdWdM/akHulJCq0j/wzJIANbXQPzDg88MI4ck/cCbChqdXwj+A2SCTjJy1P4CY9WIoJ5o/1RWYaHnxjr/AGkzD8BGhv8CACdy6m7e/iPKltJ5mub8gejarPlfDv9AzaOif4Mq/0K2OPkW3zL/A9sySADXRvwwAPMVDGtK/fN66JyD+07/D9TbPa/HUv6DTZTGx+dS/hjjFWYHZ1b8sSQLekezWvw1sfenfBti/GoEzqqJi2L9YYUy6L/LWv6DTZTGx+dS/iPistwbo0r/A9sySADXRv9AzaOif4Mq/eNO4urQfyb8=\"},\"shape\":[55],\"dtype\":\"float64\",\"order\":\"little\"},{\"type\":\"ndarray\",\"array\":{\"type\":\"bytes\",\"data\":\"IHo2qz5Xw78yNhKvtWLFv9AzaOif4Mq/wPbMkgA10b94sybvIM7Sv6DTZTGx+dS/UPUfSHi21b9bzaA3CtLVvxJjdQSUCtW/oNNlMbH51L+t0FcGex3Uv9gxiyCepNO/PM61yJCl0r/A9sySADXRv/dGH3N/ZdC/0DNo6J/gyr8QukWb9JnHvyB6Nqs+V8O/wIAJ3Lqbt79g6IyX8TWxv8AaTMPwEaG/gJj1Yignmj94bUlwTPCuP4DZIJOMnLU/cCbChqdXwj8v4PPDCOHJP2vOcBp2p80/8MySADW10D+LMPBDb/7QPy/yu9jhl9E/nGFNyRbh0T/wzJIANbXQP6Xnrl2ZZs8/kmVaNkhWzT8w4PPDCOHJP+YYa+h4ccc/qeNmu8pEwz9wJsKGp1fCP+pW/1kmO8I/gNkgk4yctT/odPum4JW1P4CY9WIoJ5o/UALmFScTjj/AGkzD8BGhv8CACdy6m7e/GZbq9Afyvr8gejarPlfDvw==\"},\"shape\":[47],\"dtype\":\"float64\",\"order\":\"little\"}]],[[{\"type\":\"ndarray\",\"array\":{\"type\":\"bytes\",\"data\":\"Qhc8fSX27z8EgZVDi2zwPzy4O2u3XfE/jnf8Gl3P8T9y7+GS407yP2+sNT38gfI/cu/hkuNO8j+NYhhoJRPyPzy4O2u3XfE/HmZHSkHk8D8EgZVDi2zwP1gQCktb6O8/nJPeN7727j8E6A8at7nuPywlkuhlFO0/bOGe+Xy07D/AtkWZDTLrP1RI+Um1T+k/j6AotggE6T9WCpRfi67oP/ZTLmTWreg/7JMB1TsB6T9USPlJtU/pP3PCQVW9POo/wLZFmQ0y6z8sJZLoZRTtP76BIL1wZ+0/nJPeN7727j9CFzx9JfbvPw==\"},\"shape\":[29],\"dtype\":\"float64\",\"order\":\"little\"},{\"type\":\"ndarray\",\"array\":{\"type\":\"bytes\",\"data\":\"wLZFmQ0y6z/kQU3wN4TqP8C2RZkNMus/Cq2nrKvc6z/AtkWZDTLrPw==\"},\"shape\":[5],\"dtype\":\"float64\",\"order\":\"little\"}],[{\"type\":\"ndarray\",\"array\":{\"type\":\"bytes\",\"data\":\"MjYSr7Vixb8gejarPlfDvxmW6vQH8r6/wIAJ3Lqbt7/AGkzD8BGhv1MC5hUnE44/gJj1Yignmj/ndPum4JW1P4DZIJOMnLU/6lb/WSY7wj9wJsKGp1fCP6njZrvKRMM/5hhr6Hhxxz8w4PPDCOHJP5JlWjZIVs0/peeuXZlmzz/wzJIANbXQP5xhTckW4dE/MPK72OGX0T+LMPBDb/7QP/DMkgA1tdA/a85wGnanzT8w4PPDCOHJP3AmwoanV8I/gNkgk4yctT94bUlwTPCuP4CY9WIoJ5o/wBpMw/ARob9g6IyX8TWxv7+ACdy6m7e/IHo2qz5Xw78OukWb9JnHv9AzaOif4Mq/90Yfc39l0L/A9sySADXRvzzOtciQpdK/2DGLIJ6k07+u0FcGex3Uv6DTZTGx+dS/EmN1BJQK1b9bzaA3CtLVv1D1H0h4ttW/oNNlMbH51L94sybvIM7Sv8D2zJIANdG/0DNo6J/gyr8yNhKvtWLFvw==\"},\"shape\":[47],\"dtype\":\"float64\",\"order\":\"little\"},{\"type\":\"ndarray\",\"array\":{\"type\":\"bytes\",\"data\":\"0DNo6J/gyr+vs9v1xBrNv8D2zJIANdG/9Fqvzn/p0r/q61M/J4fTv9XWBbpDttK/TMmKF7Zs0r/ubd9x0FfSv/y9sGkBTdG/wPbMkgA10b9emuPGuhrNv9AzaOif4Mq/IHo2qz5Xw7+QBd5JBOHBv8CACdy6m7e/skbxL3aAo7/AGkzD8BGhv4CY9WIoJ5o/gNkgk4yctT9wJsKGp1fCPzDg88MI4ck/T5f9qnKUyz9Y4VoJ4OzLPzDg88MI4ck/PUUxVnKsxz9WMe1G0RXGP1RAlodBbsQ/cCbChqdXwj+0yptIjju+P9B+FjtpRLw/gNkgk4yctT+Wd3cS3Bu1P4CY9WIoJ5o/3EV/tdvznr/AGkzD8BGhv8CACdy6m7e/DgstDDazvr8gejarPlfDv9AzaOif4Mq/\"},\"shape\":[39],\"dtype\":\"float64\",\"order\":\"little\"}]],[[{\"type\":\"ndarray\",\"array\":{\"type\":\"bytes\",\"data\":\"5EFN8DeE6j/AtkWZDTLrPwqtp6yr3Os/wLZFmQ0y6z/kQU3wN4TqPw==\"},\"shape\":[5],\"dtype\":\"float64\",\"order\":\"little\"}],[{\"type\":\"ndarray\",\"array\":{\"type\":\"bytes\",\"data\":\"r7Pb9cQazb/QM2jon+DKvyB6Nqs+V8O/DgstDDazvr/AgAncupu3v8AaTMPwEaG/3EV/tdvznr+AmPViKCeaP5Z3dxLcG7U/gNkgk4yctT/RfhY7aUS8P7TKm0iOO74/cCbChqdXwj9UQJaHQW7EP1cx7UbRFcY/PUUxVnKsxz8w4PPDCOHJP1jhWgng7Ms/Tpf9qnKUyz8w4PPDCOHJP3AmwoanV8I/gNkgk4yctT+AmPViKCeaP8AaTMPwEaG/skbxL3aAo7/AgAncupu3v5AF3kkE4cG/IHo2qz5Xw7/QM2jon+DKv16a48a6Gs2/wPbMkgA10b/8vbBpAU3Rv+5t33HQV9K/TMmKF7Zs0r/V1gW6Q7bSv+rrUz8nh9O/9Fqvzn/p0r/A9sySADXRv6+z2/XEGs2/\"},\"shape\":[39],\"dtype\":\"float64\",\"order\":\"little\"},{\"type\":\"ndarray\",\"array\":{\"type\":\"bytes\",\"data\":\"0DNo6J/gyr/Z1QAjkkbPv50oVEpOHdG/pg1K7gNuzr9j5OeNhVfQvyuB35k40tC/1JD40781zr/QM2jon+DKv67nC4qxusi/IHo2qz5Xw7/AgAncupu3v/+eFyqfora/wBpMw/ARob9sFf3PPHF9P4CY9WIoJ5o/f9kgk4yctT9wJsKGp1fCP+ahpRJNbcM/UVohwoiFxD9wJsKGp1fCPyTUqfA+j8E/cfeUXUZswD8IiZexypO3P4DZIJOMnLU/V9AoPj7Ssj99ZHu7JW6xP4CY9WIoJ5o/wBpMw/ARob8G8v0LVX+xv8CACdy6m7e/IHo2qz5Xw7/OL1pgnVbFv9AzaOif4Mq/\"},\"shape\":[33],\"dtype\":\"float64\",\"order\":\"little\"}]],[[{\"type\":\"ndarray\",\"array\":{\"type\":\"bytes\",\"data\":\"2dUAI5JGz7/QM2jon+DKv84vWmCdVsW/IHo2qz5Xw7/AgAncupu3vwby/QtVf7G/wBpMw/ARob+AmPViKCeaP31ke7slbrE/V9AoPj7Ssj+A2SCTjJy1PwiJl7HKk7c/cveUXUZswD8j1KnwPo/BP3AmwoanV8I/UVohwoiFxD/loaUSTW3DP3AmwoanV8I/gNkgk4yctT+AmPViKCeaP2YV/c88cX0/wBpMw/ARob/+nhcqn6K2v7+ACdy6m7e/IHo2qz5Xw7+u5wuKsbrIv9AzaOif4Mq/1JD40781zr8rgd+ZONLQv2Pk542FV9C/pg1K7gNuzr+dKFRKTh3Rv9nVACOSRs+/\"},\"shape\":[33],\"dtype\":\"float64\",\"order\":\"little\"},{\"type\":\"ndarray\",\"array\":{\"type\":\"bytes\",\"data\":\"IHo2qz5Xw7/azy+ovO7Jv9AzaOif4Mq/NhQqSqmGy7/QM2jon+DKv+rM+ZMJ+8i/IHo2qz5Xw7/AQPVA0ErDv8CACdy6m7e/eO21Prhio7/AGkzD8BGhv4CY9WIoJ5o/gNkgk4yctT/SLjYxcIi6P7TGYvyNdrk/gNkgk4yctT8a+s1YOE2zPw2DI8vVfpo/jOD/z9BNmz+BmPViKCeaP8AaTMPwEaG/wIAJ3Lqbt78gejarPlfDvw==\"},\"shape\":[23],\"dtype\":\"float64\",\"order\":\"little\"}]],[[{\"type\":\"ndarray\",\"array\":{\"type\":\"bytes\",\"data\":\"2s8vqLzuyb8gejarPlfDv8CACdy6m7e/wBpMw/ARob+AmPViKCeaP4vg/8/QTZs/DIMjy9V+mj8a+s1YOE2zP4DZIJOMnLU/tcZi/I12uT/RLjYxcIi6P4DZIJOMnLU/gZj1Yignmj/AGkzD8BGhv3jttT64YqO/wIAJ3Lqbt7/AQPVA0ErDvyB6Nqs+V8O/6sz5kwn7yL/QM2jon+DKvzYUKkqphsu/zzNo6J/gyr/azy+ovO7Jvw==\"},\"shape\":[23],\"dtype\":\"float64\",\"order\":\"little\"},{\"type\":\"ndarray\",\"array\":{\"type\":\"bytes\",\"data\":\"wIAJ3Lqbt79jmunp8xa/v8CACdy6m7e/OpFp3y25r7/AGkzD8BGhv14aRrlb95g/gJj1Yignmj+niyQL18ObP3Rlvqrx2qE/gJj1Yignmj/AGkzD8BGhv43dK5aL6K2/wIAJ3Lqbt78=\"},\"shape\":[13],\"dtype\":\"float64\",\"order\":\"little\"}]],[[{\"type\":\"ndarray\",\"array\":{\"type\":\"bytes\",\"data\":\"Y5rp6fMWv7/AgAncupu3v43dK5aL6K2/wBpMw/ARob+AmPViKCeaP3Rlvqrx2qE/qIskC9fDmz+AmPViKCeaP18aRrlb95g/wBpMw/ARob84kWnfLbmvv8CACdy6m7e/Y5rp6fMWv78=\"},\"shape\":[13],\"dtype\":\"float64\",\"order\":\"little\"}]]]],[\"ys\",[[[{\"type\":\"ndarray\",\"array\":{\"type\":\"bytes\",\"data\":\"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\"},\"shape\":[209],\"dtype\":\"float64\",\"order\":\"little\"},{\"type\":\"ndarray\",\"array\":{\"type\":\"bytes\",\"data\":\"WjINDCLF2r8A6DBfXoDZv7N4nE+47Ni/AOgwX16A2b9aMg0MIsXavw==\"},\"shape\":[5],\"dtype\":\"float64\",\"order\":\"little\"},{\"type\":\"ndarray\",\"array\":{\"type\":\"bytes\",\"data\":\"hnuuGONm2r8A6DBfXoDZvxDDWT2eANe/c0fl5te51L/rv/iYOi/Vv3qxzNoNytW/EMNZPZ4A178A6DBfXoDZv/jnVyuLLNq/viOBICyA2r+Ge64Y42bavw==\"},\"shape\":[11],\"dtype\":\"float64\",\"order\":\"little\"},{\"type\":\"ndarray\",\"array\":{\"type\":\"bytes\",\"data\":\"N9KlPc7p2b8A6DBfXoDZv3Pm8veUQ9m/EMNZPZ4A178knoIb3oDUvzR5q/kdAdK/kKior7sCz7+wXvprOwPKv73v3bfRoca/0BRMKLsDxb/4yp3kOgTAv4tiZ4jahrm/QALfQXUJtr8A3QR16RSov6+OQW6i7qW/ANYumaFbgL8A5NpQMc6fPw0sRTay4aw/wEyT24zysT9g4O9ijfG7PxDvx0s/LLw/6jqr/PSKwj8QOib1RvjCP/CD1DjH98c/0M2CfEf3zD/YixjgY/vQP8Cw7wEke9M/3GCHZejU1D+w1cYj5PrVP6D6nUWketg/9HdSgAGS2D+QH3VnZPraPy0rh1yamtw/gERMiSR63T9oaSOr5PnfPyxHfWbSPOE/hlOJNQGm4T+k2Wh3snziPxxsVIiSvOM/j5pQxdUP5D8cbFSIkrzjP4Dus++n/+I/pNlod7J84j+iQYPiglTiP75LE7pNHuI/4u58k2sx4j8sR31m0jzhPw/aZIXfa+A/jAy5WVGf4D8sMU87BgTgP2hpI6vk+d8/gERMiSR63T84jp2RQx/cP0UxOHjwz9s/zA4+xbat2z9oVrNiN8HbP4BETIkket0/8izxaBQ93j9oaSOr5PnfPyxHfWbSPOE/pNlod7J84j88eBBxJpDiPxxsVIiSvOM/lP4/mXL85D8IkSuqUjzmP4AjF7syfOc/26mdbgyF6D/4tQLMErzoP3BI7tzy++k/6NrZ7dI76z9cbcX+snvsP8T6Jf7mPe0/1P+wD5O77T9Mkpwgc/vuP2ISxJipHfA/rwFKyMs88D+e2zmhmb3wP0QxQwKOC/E/2KSvqYld8T/ae8IF0WbxPzF3yTAurvE/E24lsnn98T/urHIc5QfyP/rmLT9yf/I/UDebummd8j/F1U5hxKnyP5Jh1LBD4PI/nBAZaoMT8z9FXoAPwznzP4wAEcNZPfM/sPP6AU5T8z+MABHDWT3zPzOzDRG4OfM/4rurG4ue8j9QN5u6aZ3yPxRuJbJ5/fE/E07xetJ78T/YpK+piV3xP57bOaGZvfA/jsACEag88D9iEsSYqR3wP0ySnCBz++4/1P+wD5O77T8Ih1S8XZLsP1xtxf6ye+w/Ytn4G3gQ7D/o2tnt0jvrP3BI7tzy++k/bfG3XiTY6T/4tQLMErzoP4AjF7syfOc/CJErqlI85j+U/j+ZcvzkP06HyyNuJ+Q/HGxUiJK84z+k2Wh3snziPyxHfWbSPOE/aGkjq+T53z9r66UcJTffP4BETIkket0/kB91Z2T62j+g+p1FpHrYP7DVxiPk+tU/p8DISj991D+w1cYj5PrVP7rtCwW9bNc/sNXGI+T61T/FUNvTeuDVP4D7pjuG09M/wLDvASR70z8uGEfBs0nSP9iLGOBj+9A//6xafUVwzz/YixjgY/vQP+WVclVVLNE/2IsY4GP70D/T3d3BLqrQP9DNgnxH98w/0SVfo/2izD/wg9Q4x/fHPxOaGq5lQsQ/EDom9Ub4wj9g4O9ijfG7P/gnuxOVcrI/wEyT24zysT8A5NpQMc6fPwDWLpmhW4C/AN0EdekUqL9AAt9BdQm2v/jKneQ6BMC/0RRMKLsDxb8gfay7vIbGv7Be+ms7A8q/6Fdorecpzb+QqKivuwLPvzR5q/kdAdK/JJ6CG96A1L+RoAD1nYHUv13qGZW88da/EMNZPZ4A1796fmOrtEbXv5f0uedQQtm/AOgwX16A2b+O/3NCHDvavzfSpT3O6dm/\"},\"shape\":[165],\"dtype\":\"float64\",\"order\":\"little\"},{\"type\":\"ndarray\",\"array\":{\"type\":\"bytes\",\"data\":\"eWsekVe60780eav5HQHSv73ely6iHc+/kaior7sCz78BymjrcDjKv7Be+ms7A8q/0BRMKLsDxb9y6vxCqDnEv/jKneQ6BMC/QALfQXUJtr8A3QR16RSovwDWLpmhW4C//+PaUDHOnz/ATJPbjPKxP05dEAqZYrs/YODvYo3xuz8QOib1RvjCP/CD1DjH98c/S1pmtxNgyD88sBzKfsrLP/CD1DjH98c/33qIMS/Wxj/Y96FkLk7EP5lGfYGi/cY/RP7sBWX5xT8QOib1RvjCP2Dg72KN8bs/g+evVoJtuz/ATJPbjPKxP+KF2vHX4as/AeTaUDHOnz8A1i6ZoVuAvwDdBHXpFKi/QALfQXUJtr/tpsJnJXm2v/jKneQ6BMC/0BRMKLsDxb+wXvprOwPKv2xh5g2tCc6/kKior7sCz780eav5HQHSv/EqK7H3fdK/UR2w60IE1L9ihQy5fdTTv3lrHpFXutO/\"},\"shape\":[45],\"dtype\":\"float64\",\"order\":\"little\"},{\"type\":\"ndarray\",\"array\":{\"type\":\"bytes\",\"data\":\"vDRveviG1T+w1cYj5PrVP6D6nUWketg/kB91Z2T62j+AREyJJHrdPzLXYF8Msd0/gERMiSR63T8/4Tsui1vbP5AfdWdk+to/oPqdRaR62D+w1cYj5PrVP0eFfwoU/dM/vDRveviG1T8=\"},\"shape\":[13],\"dtype\":\"float64\",\"order\":\"little\"}],[{\"type\":\"ndarray\",\"array\":{\"type\":\"bytes\",\"data\":\"QALfQXUJtr9SMOmm5y26v0AC30F1Cba/WLuxzrRqsb9AAt9BdQm2vw==\"},\"shape\":[5],\"dtype\":\"float64\",\"order\":\"little\"}]],[[{\"type\":\"ndarray\",\"array\":{\"type\":\"bytes\",\"data\":\"AOgwX16A2b9aMg0MIsXavwDoMF9egNm/s3icT7js2L8A6DBfXoDZvw==\"},\"shape\":[5],\"dtype\":\"float64\",\"order\":\"little\"}],[{\"type\":\"ndarray\",\"array\":{\"type\":\"bytes\",\"data\":\"AOgwX16A2b+Ge64Y42bav74jgSAsgNq/9+dXK4ss2r8A6DBfXoDZvxDDWT2eANe/erHM2g3K1b/rv/iYOi/Vv3NH5ebXudS/EMNZPZ4A178A6DBfXoDZvw==\"},\"shape\":[11],\"dtype\":\"float64\",\"order\":\"little\"}],[{\"type\":\"ndarray\",\"array\":{\"type\":\"bytes\",\"data\":\"AOgwX16A2b830qU9zunZv47/c0IcO9q/AOgwX16A2b+W9LnnUELZv3p+Y6u0Rte/EMNZPZ4A179d6hmVvPHWv5GgAPWdgdS/JJ6CG96A1L80eav5HQHSv5GoqK+7As+/6Fdorecpzb+wXvprOwPKvyB9rLu8hsa/0BRMKLsDxb/4yp3kOgTAv0AC30F1Cba/AN0EdekUqL8A1i6ZoVuAvwDk2lAxzp8/wEyT24zysT/4J7sTlXKyP2Dg72KN8bs/EDom9Ub4wj8TmhquZULEP/CD1DjH98c/0iVfo/2izD/QzYJ8R/fMP9Pd3cEuqtA/2IsY4GP70D/llXJVVSzRP9iLGOBj+9A/AK1afUVwzz/YixjgY/vQPy4YR8GzSdI/wLDvASR70z9/+6Y7htPTP8VQ29N64NU/sNXGI+T61T+67QsFvWzXP7DVxiPk+tU/p8DISj991D+w1cYj5PrVP6D6nUWketg/kB91Z2T62j+AREyJJHrdP2rrpRwlN98/aWkjq+T53z8sR31m0jzhP6TZaHeyfOI/HGxUiJK84z9Oh8sjbifkP5T+P5ly/OQ/CJErqlI85j+AIxe7MnznP/i1AswSvOg/bfG3XiTY6T9wSO7c8vvpP+ja2e3SO+s/Ytn4G3gQ7D9cbcX+snvsPwiHVLxdkuw/1P+wD5O77T9Lkpwgc/vuP2ISxJipHfA/j8ACEag88D+e2zmhmb3wP9ikr6mJXfE/E07xetJ78T8UbiWyef3xP1A3m7ppnfI/4rurG4ue8j8zsw0RuDnzP4wAEcNZPfM/sPP6AU5T8z+MABHDWT3zP0VegA/DOfM/nBAZaoMT8z+SYdSwQ+DyP8TVTmHEqfI/UDebummd8j/65i0/cn/yP+6schzlB/I/FG4lsnn98T8xd8kwLq7xP9t7wgXRZvE/2KSvqYld8T9EMUMCjgvxP57bOaGZvfA/rwFKyMs88D9iEsSYqR3wP02SnCBz++4/1P+wD5O77T/E+iX+5j3tP1xtxf6ye+w/6NrZ7dI76z9wSO7c8vvpP/i1AswSvOg/26mdbgyF6D+AIxe7MnznPwiRK6pSPOY/lP4/mXL85D8cbFSIkrzjPzx4EHEmkOI/o9lod7J84j8sR31m0jzhP2hpI6vk+d8/8izxaBQ93j+AREyJJHrdP2hWs2I3wds/zA4+xbat2z9FMTh48M/bPziOnZFDH9w/gERMiSR63T9naSOr5PnfPywxTzsGBOA/jAy5WVGf4D8P2mSF32vgPyxHfWbSPOE/4u58k2sx4j++SxO6TR7iP6JBg+KCVOI/pNlod7J84j+A7rPvp//iPxxsVIiSvOM/j5pQxdUP5D8cbFSIkrzjP6TZaHeyfOI/hlOJNQGm4T8sR31m0jzhP2hpI6vk+d8/gERMiSR63T8tK4dcmprcP5AfdWdk+to/9HdSgAGS2D+g+p1FpHrYP7DVxiPk+tU/3GCHZejU1D/AsO8BJHvTP9iLGOBj+9A/0M2CfEf3zD/wg9Q4x/fHPxA6JvVG+MI/6jqr/PSKwj8Q78dLPyy8P2Dg72KN8bs/wEyT24zysT8MLEU2suGsP//j2lAxzp8/ANYumaFbgL+vjkFuou6lvwDdBHXpFKi/QALfQXUJtr+LYmeI2oa5v/jKneQ6BMC/0BRMKLsDxb+979230aHGv7Be+ms7A8q/kKior7sCz780eav5HQHSvySeghvegNS/EMNZPZ4A17905vL3lEPZvwDoMF9egNm/\"},\"shape\":[165],\"dtype\":\"float64\",\"order\":\"little\"},{\"type\":\"ndarray\",\"array\":{\"type\":\"bytes\",\"data\":\"KOKFskeA178Qw1k9ngDXv8RW15mqQda/JJ6CG96A1L80eav5HQHSvzORhmFz5dC/kKior7sCz7/vUMrabvDMv7Be+ms7A8q/qG8E0gIdxr/QFEwouwPFv/jKneQ6BMC/x7Xo9Bvav79AAt9BdQm2v6quu3EsPK2/AN0EdekUqL8A1i6ZoVuAvwDk2lAxzp8/wEyT24zysT9g4O9ijfG7PxA6JvVG+MI/01lSlOfLxj/wg9Q4x/fHP0o6kzlhZcw/0M2CfEf3zD/YixjgY/vQP07P+Wm/p9E/wLDvASR70z+w1cYj5PrVP6D6nUWketg/jx91Z2T62j+AREyJJHrdP9oKvmmLnt0/CLZKJ1So3j+AREyJJHrdP5AfdWdk+to/oPqdRaR62D+w1cYj5PrVP8Cw7wEke9M/UO6ICmvO0T/YixjgY/vQP4xT+FPKMdA/OW9nhM240D8ELIHXWK/NP9DNgnxH98w/0p8MuG7HzD++LK/68pbLP/CD1DjH98c/7OMEvaDExD8QOib1RvjCP0AM18b7z70/X+DvYo3xuz8bHGyW4sKyP8BMk9uM8rE/9B9bJsYArD8HHoeJv52qPwDk2lAxzp8/ANYumaFbgL8A3QR16RSov0AC30F1Cba/+Mqd5DoEwL/3/cuVM+jEv9AUTCi7A8W/eOeEgRKmyL+wXvprOwPKvyQfWq106M6/kKior7sCz780eav5HQHSv032SpjPqNO/JJ6CG96A1L8KmY5brkXVvxDDWT2eANe/KOKFskeA178=\"},\"shape\":[73],\"dtype\":\"float64\",\"order\":\"little\"},{\"type\":\"ndarray\",\"array\":{\"type\":\"bytes\",\"data\":\"FicHLE6O4T+k2Wh3snziP869XO9rnuI/MOAog47J4j8cbFSIkrzjPzGb/RQgOuQ/lP4/mXL85D8IkSuqUjzmP2JPS4nuXuY/gCMXuzJ85z/4tQLMErzoP3BI7tzy++k/6NrZ7dI76z8HzN5tG0zrP1xtxf6ye+w/0/+wD5O77T9Mkpwgc/vuP96fMLpLTO8/YhLEmKkd8D+ypROHxqfwP57bOaGZvfA/Yryk0lAe8T+6IZUjb1rxP9ikr6mJXfE/HVBesyS28T8UbiWyef3xPw/nlErDM/I/ax1Mjgdl8j8A0Gxf9YvyP1A3m7ppnfI/3lBqTnm88j+GVb91VOTyPxedMjY91fI/UjObK7Gp8j9QN5u6aZ3yPxRuJbJ5/fE/2KSvqYld8T+e2zmhmb3wP9wxP7NPZ/A/YhLEmKkd8D+v1b+V7fnvP0ySnCBz++4/SRxA+fvJ7T/U/7APk7vtP4NNtCGXoO0/XG3F/rJ77D/A3Q1HAwzsP+XUjkmRPes/6NrZ7dI76z8PeS6KAzvrP3BI7tzy++k/97UCzBK86D9qOXO8u6zoP4AjF7syfOc/RBDj9a475z+IKuCFp6zmPwiRK6pSPOY/5HGkuWub5T+U/j+ZcvzkP3FY192P8eM/HGxUiJK84z/qczj0jIvjPxUcviHu6eI/pNlod7J84j+4E9ak+efhPwB375naveE/FicHLE6O4T8=\"},\"shape\":[67],\"dtype\":\"float64\",\"order\":\"little\"},{\"type\":\"ndarray\",\"array\":{\"type\":\"bytes\",\"data\":\"63f+jmir4z8cbFSIkrzjP+0c8w560OM/HGxUiJK84z/rd/6OaKvjPw==\"},\"shape\":[5],\"dtype\":\"float64\",\"order\":\"little\"}],[{\"type\":\"ndarray\",\"array\":{\"type\":\"bytes\",\"data\":\"NHmr+R0B0r94ax6RV7rTv2KFDLl91NO/UR2w60IE1L/xKiux933SvzR5q/kdAdK/kKior7sCz79tYeYNrQnOv7Be+ms7A8q/0BRMKLsDxb/4yp3kOgTAv+2mwmcleba/QALfQXUJtr8A3QR16RSovwDWLpmhW4C/AOTaUDHOnz/ihdrx1+GrP8BMk9uM8rE/g+evVoJtuz9h4O9ijfG7PxA6JvVG+MI/RP7sBWX5xT+aRn2Bov3GP9j3oWQuTsQ/33qIMS/Wxj/wg9Q4x/fHPzuwHMp+yss/S1pmtxNgyD/wg9Q4x/fHPxA6JvVG+MI/YODvYo3xuz9OXRAKmWK7P8BMk9uM8rE/AOTaUDHOnz8A1i6ZoVuAvwDdBHXpFKi/QALfQXUJtr/4yp3kOgTAv3Hq/EKoOcS/0BRMKLsDxb+wXvprOwPKvwLKaOtwOMq/kKior7sCz7+93pcuoh3PvzR5q/kdAdK/\"},\"shape\":[45],\"dtype\":\"float64\",\"order\":\"little\"},{\"type\":\"ndarray\",\"array\":{\"type\":\"bytes\",\"data\":\"AqSOAtXCx7/QFEwouwPFv3gtvAW7t8G/+Mqd5DoEwL9AAt9BdQm2vwDdBHXpFKi/ANYumaFbgL8A5NpQMc6fP2lV+7Ht8q8/wEyT24zysT8MibNp7wO6P5PbKMmDpbM/wEyT24zysT90/S0mkFyvP8BMk9uM8rE/FsND1H7osz/ATJPbjPKxP54lX1PtAK8/AOTaUDHOnz+d7wRKmNyJPwDWLpmhW4C/AN0EdekUqL9AAt9BdQm2v2byAKt/lr6/+Mqd5DoEwL/QFEwouwPFv2p0NhFBdsm/QXkN7WnGyb9HLRM6rUvIv7LqNuTe78i/AqSOAtXCx78=\"},\"shape\":[31],\"dtype\":\"float64\",\"order\":\"little\"}]],[[{\"type\":\"ndarray\",\"array\":{\"type\":\"bytes\",\"data\":\"EMNZPZ4A178o4oWyR4DXvxDDWT2eANe/CpmOW65F1b8knoIb3oDUv032SpjPqNO/NHmr+R0B0r+QqKivuwLPvyQfWq106M6/sF76azsDyr9554SBEqbIv9AUTCi7A8W/9/3LlTPoxL/4yp3kOgTAv0AC30F1Cba/AN0EdekUqL8A1i6ZoVuAvwDk2lAxzp8/Bx6Hib+dqj/0H1smxgCsP8BMk9uM8rE/HBxsluLCsj9g4O9ijfG7P0AM18b7z70/EDom9Ub4wj/s4wS9oMTEP/CD1DjH98c/viyv+vKWyz/Snwy4bsfMP9DNgnxH98w/BCyB11ivzT85b2eEzbjQP4xT+FPKMdA/2IsY4GP70D9R7ogKa87RP8Cw7wEke9M/sNXGI+T61T+g+p1FpHrYP5AfdWdk+to/gERMiSR63T8ItkonVKjeP9oKvmmLnt0/gERMiSR63T+QH3VnZPraP6D6nUWketg/sNXGI+T61T/AsO8BJHvTP0/P+Wm/p9E/2IsY4GP70D/QzYJ8R/fMP0s6kzlhZcw/8IPUOMf3xz/UWVKU58vGPxA6JvVG+MI/YeDvYo3xuz/ATJPbjPKxPwDk2lAxzp8/ANYumaFbgL8A3QR16RSov6quu3EsPK2/QALfQXUJtr/Htej0G9q/v/jKneQ6BMC/0BRMKLsDxb+obwTSAh3Gv7Be+ms7A8q/7lDK2m7wzL+QqKivuwLPvzORhmFz5dC/NHmr+R0B0r8knoIb3oDUv8RW15mqQda/EMNZPZ4A178=\"},\"shape\":[73],\"dtype\":\"float64\",\"order\":\"little\"},{\"type\":\"ndarray\",\"array\":{\"type\":\"bytes\",\"data\":\"Pt8+YLmry7+wXvprOwPKv5d5357wy8i/Fwj5sxIXxr/QFEwouwPFv5tshohVI8S/YhMzwo9mwL/4yp3kOgTAv0AC30F1Cba/c5DoyyMutb8A3QR16RSovwDWLpmhW4C/AOTaUDHOnz/ATJPbjPKxP2Dg72KN8bs/Hj1WpHL4wD8QOib1RvjCP0RSRoapbcM/8IPUOMf3xz9JchZaAkrJP/CD1DjH98c/Pv3eaNT6xj9CVQkaaPjEP9aPKw/B18M/EDom9Ub4wj9g4O9ijfG7P7E2G5gV1LY/wEyT24zysT8A5NpQMc6fP97TpTFiFZU/+7ACibWTd78A1i6ZoVuAvxTmLBq/J5q/AN0EdekUqL9AAt9BdQm2v/jKneQ6BMC/XYXl0+Yuwb+pCAYPceDEv9AUTCi7A8W/sF76azsDyr8+3z5guavLvw==\"},\"shape\":[41],\"dtype\":\"float64\",\"order\":\"little\"}],[{\"type\":\"ndarray\",\"array\":{\"type\":\"bytes\",\"data\":\"0BRMKLsDxb8CpI4C1cLHv7LqNuTe78i/Ry0TOq1LyL9BeQ3tacbJv2p0NhFBdsm/0BRMKLsDxb/4yp3kOgTAv2byAKt/lr6/QALfQXUJtr8A3QR16RSovwDWLpmhW4C/ne8ESpjciT8A5NpQMc6fP54lX1PtAK8/wEyT24zysT8Ww0PUfuizP8BMk9uM8rE/c/0tJpBcrz/ATJPbjPKxP5PbKMmDpbM/DImzae8Duj/ATJPbjPKxP2lV+7Ht8q8/AOTaUDHOnz8A1i6ZoVuAvwDdBHXpFKi/QALfQXUJtr/4yp3kOgTAv3gtvAW7t8G/0BRMKLsDxb8=\"},\"shape\":[31],\"dtype\":\"float64\",\"order\":\"little\"},{\"type\":\"ndarray\",\"array\":{\"type\":\"bytes\",\"data\":\"9EYy2CctvL9AAt9BdQm2v40X7tSuorK/AN0EdekUqL8A1i6ZoVuAv+2DsSo8JZ8/+aILKzyKmz8A1i6ZoVuAv7hSQ9MX7pC/AN0EdekUqL9AAt9BdQm2v/uR2u2qEb2/9EYy2CctvL8=\"},\"shape\":[13],\"dtype\":\"float64\",\"order\":\"little\"},{\"type\":\"ndarray\",\"array\":{\"type\":\"bytes\",\"data\":\"9OdqNKgisb8A3QR16RSovwDWLpmhW4C/PoJcu1DZhj8A1i6ZoVuAvwHdBHXpFKi/9OdqNKgisb8=\"},\"shape\":[7],\"dtype\":\"float64\",\"order\":\"little\"}],[{\"type\":\"ndarray\",\"array\":{\"type\":\"bytes\",\"data\":\"pNlod7J84j8WJwcsTo7hPwB375naveE/uBPWpPnn4T+k2Wh3snziPxUcviHu6eI/6nM49IyL4z8cbFSIkrzjP3FY192P8eM/lP4/mXL85D/kcaS5a5vlPwiRK6pSPOY/iCrghaes5j9FEOP1rjvnP4AjF7syfOc/ajlzvLus6D/4tQLMErzoP3BI7tzy++k/DnkuigM76z/o2tnt0jvrP+XUjkmRPes/wN0NRwMM7D9cbcX+snvsP4JNtCGXoO0/1P+wD5O77T9JHED5+8ntP0ySnCBz++4/sNW/le357z9iEsSYqR3wP9wxP7NPZ/A/nts5oZm98D/YpK+piV3xPxRuJbJ5/fE/UDebummd8j9SM5srsanyPxedMjY91fI/hlW/dVTk8j/fUGpOebzyP1A3m7ppnfI/ANBsX/WL8j9rHUyOB2XyPw/nlErDM/I/FG4lsnn98T8dUF6zJLbxP9ikr6mJXfE/uiGVI29a8T9ivKTSUB7xP57bOaGZvfA/s6UTh8an8D9iEsSYqR3wP96fMLpLTO8/TJKcIHP77j/U/7APk7vtP1xtxf6ye+w/CMzebRtM6z/o2tnt0jvrP3BI7tzy++k/+LUCzBK86D+AIxe7MnznP2JPS4nuXuY/CJErqlI85j+U/j+ZcvzkPzCb/RQgOuQ/HGxUiJK84z8w4CiDjsniP869XO9rnuI/pNlod7J84j8=\"},\"shape\":[67],\"dtype\":\"float64\",\"order\":\"little\"},{\"type\":\"ndarray\",\"array\":{\"type\":\"bytes\",\"data\":\"HCARSpFK5D+U/j+ZcvzkP8DjSHeGHuU/tNlKpMpo5T8IkSuqUjzmPxM6pgtZweY/gCMXuzJ85z/4tQLMErzoP3BI7tzy++k/6NrZ7dI76z9cbcX+snvsP0z6KhUrrO0/1P+wD5O77T9Mkpwgc/vuP2ISxJipHfA/5K8QCEVP8D+e2zmhmb3wP1I5T21X2fA//yd4ovch8T/YpK+piV3xP4b1ZfOUaPE/3+1q4fzq8T8UbiWyef3xP0SIRiqDJfI/DdtcY8BM8j+3EBwtXG7yP6IoWJT4jPI/WJu/6fdK8j8UbiWyef3xP9ikr6mJXfE/nts5oZm98D/QXkvkMo3wP2ISxJipHfA/TJKcIHP77j/U/7APk7vtP+ek87Tyuew/XG3F/rJ77D/MKL1fGRPsP+ja2e3SO+s/SACfNYvj6j84nrdeRxfrP3BI7tzy++k/1LqLFYj26D/4tQLMErzoP4AjF7syfOc/xJIr/pP45j8IkSuqUjzmP5T+P5ly/OQ/g23eOjvN5D+U/j+ZcvzkP9Us5Gy2NOU/Gr+Q8vQ05T+U/j+ZcvzkP/fHy0gj2OM/HCARSpFK5D8=\"},\"shape\":[55],\"dtype\":\"float64\",\"order\":\"little\"}],[{\"type\":\"ndarray\",\"array\":{\"type\":\"bytes\",\"data\":\"HGxUiJK84z/rd/6OaKvjPxxsVIiSvOM/7BzzDnrQ4z8cbFSIkrzjPw==\"},\"shape\":[5],\"dtype\":\"float64\",\"order\":\"little\"}]],[[{\"type\":\"ndarray\",\"array\":{\"type\":\"bytes\",\"data\":\"sF76azsDyr8+3z5guavLv7Be+ms7A8q/0BRMKLsDxb+oCAYPceDEv12F5dPmLsG/+Mqd5DoEwL9AAt9BdQm2vwDdBHXpFKi/FOYsGr8nmr8A1i6ZoVuAv/uwAom1k3e/3tOlMWIVlT8A5NpQMc6fP8BMk9uM8rE/sTYbmBXUtj9g4O9ijfG7PxA6JvVG+MI/1o8rD8HXwz9CVQkaaPjEPz793mjU+sY/8IPUOMf3xz9JchZaAkrJP/CD1DjH98c/Q1JGhqltwz8QOib1RvjCPx49VqRy+MA/X+DvYo3xuz/ATJPbjPKxPwDk2lAxzp8/ANYumaFbgL8A3QR16RSov3OQ6MsjLrW/PwLfQXUJtr/4yp3kOgTAv2ITM8KPZsC/m2yGiFUjxL/QFEwouwPFvxcI+bMSF8a/l3nfnvDLyL+wXvprOwPKvw==\"},\"shape\":[41],\"dtype\":\"float64\",\"order\":\"little\"},{\"type\":\"ndarray\",\"array\":{\"type\":\"bytes\",\"data\":\"XPpSbYi0wb/4yp3kOgTAv/eymb1yArq/QALfQXUJtr//QUjmLAi1v8w7/7KghrG/AN0EdekUqL8EJ/5InTWYvwDWLpmhW4C/AOTaUDHOnz/ATJPbjPKxP2Dg72KN8bs/JkJL2pTCvz98BxxFPOC/P2Dg72KN8bs/S8IJwZdyuj/ATJPbjPKxP1RTAqf+cq4/AOTaUDHOnz8IIcMQlJmVPwDWLpmhW4C/Q58BH/vbmL8A3QR16RSov4802Uc72LC/QALfQXUJtr+mCJ3M4IG5v/jKneQ6BMC/s4rmvkttw79c+lJtiLTBvw==\"},\"shape\":[29],\"dtype\":\"float64\",\"order\":\"little\"}],[{\"type\":\"ndarray\",\"array\":{\"type\":\"bytes\",\"data\":\"PwLfQXUJtr/0RjLYJy28v/yR2u2qEb2/QALfQXUJtr8A3QR16RSov7hSQ9MX7pC/ANYumaFbgL/4ogsrPIqbP+2DsSo8JZ8/ANYumaFbgL8A3QR16RSov40X7tSuorK/PwLfQXUJtr8=\"},\"shape\":[13],\"dtype\":\"float64\",\"order\":\"little\"}],[{\"type\":\"ndarray\",\"array\":{\"type\":\"bytes\",\"data\":\"AN0EdekUqL/152o0qCKxvwDdBHXpFKi/ANYumaFbgL88gly7UNmGPwDWLpmhW4C/AN0EdekUqL8=\"},\"shape\":[7],\"dtype\":\"float64\",\"order\":\"little\"}],[{\"type\":\"ndarray\",\"array\":{\"type\":\"bytes\",\"data\":\"lP4/mXL85D8dIBFKkUrkP/jHy0gj2OM/lP4/mXL85D8av5Dy9DTlP9Us5Gy2NOU/lP4/mXL85D+Dbd46O83kP5T+P5ly/OQ/CJErqlI85j/Ekiv+k/jmP4AjF7syfOc/97UCzBK86D/UuosViPboP3BI7tzy++k/OJ63XkcX6z9IAJ81i+PqP+ja2e3SO+s/yyi9XxkT7D9cbcX+snvsP+ek87Tyuew/1P+wD5O77T9Mkpwgc/vuP2ISxJipHfA/0F5L5DKN8D+e2zmhmb3wP9ikr6mJXfE/FG4lsnn98T9Zm7/p90ryP6IoWJT4jPI/txAcLVxu8j8N21xjwEzyP0SIRiqDJfI/FG4lsnn98T/f7Wrh/OrxP4b1ZfOUaPE/2KSvqYld8T//J3ii9yHxP1I5T21X2fA/nts5oZm98D/krxAIRU/wP2ISxJipHfA/S5KcIHP77j/U/7APk7vtP0z6KhUrrO0/XG3F/rJ77D/o2tnt0jvrP3BI7tzy++k/+LUCzBK86D+AIxe7MnznPxM6pgtZweY/CJErqlI85j+02UqkymjlP8DjSHeGHuU/lP4/mXL85D8=\"},\"shape\":[55],\"dtype\":\"float64\",\"order\":\"little\"},{\"type\":\"ndarray\",\"array\":{\"type\":\"bytes\",\"data\":\"m61/FQYN5j8IkSuqUjzmP1zLwsj9gOY/bKBeXSwP5z+AIxe7MnznP3aRKd+JSeg/+LUCzBK86D9wSO7c8vvpP+ja2e3SO+s/6BmQwW1Q6z9cbcX+snvsP9T/sA+Tu+0/TJKcIHP77j9kDQqFK97vP2ISxJipHfA/gnGg3iuS8D+e2zmhmb3wP0QuWyGA6fA/0hq4vj0s8T/YpK+piV3xP6rIg5aXqfE/xZCLMPfn8T8UbiWyef3xPxvmTGeLDfI/wkpE6TIl8j896dKqMizyPxRuJbJ5/fE/5qGXKsR98T/YpK+piV3xP57bOaGZvfA/YhLEmKkd8D9m+E+pvljvP0ySnCBz++4/1P+wD5O77T+igffuyQftP1xtxf6ye+w/6NrZ7dI76z8Z7/w7OCTqP3BI7tzy++k/d962alS86D/4tQLMErzoP+QWOQTcpuc/gCMXuzJ85z8GPpbdwQbnP18gLN6fZ+Y/CJErqlI85j+brX8VBg3mPw==\"},\"shape\":[47],\"dtype\":\"float64\",\"order\":\"little\"}]],[[{\"type\":\"ndarray\",\"array\":{\"type\":\"bytes\",\"data\":\"+Mqd5DoEwL9c+lJtiLTBv7OK5r5LbcO/+Mqd5DoEwL+mCJ3M4IG5v0AC30F1Cba/jzTZRzvYsL8A3QR16RSov0OfAR/725i/ANYumaFbgL8IIcMQlJmVPwDk2lAxzp8/U1MCp/5yrj/ATJPbjPKxP0vCCcGXcro/YODvYo3xuz98BxxFPOC/PyZCS9qUwr8/YODvYo3xuz/ATJPbjPKxPwDk2lAxzp8/ANYumaFbgL8EJ/5InTWYvwDdBHXpFKi/zDv/sqCGsb//QUjmLAi1v0AC30F1Cba/+LKZvXICur/4yp3kOgTAvw==\"},\"shape\":[29],\"dtype\":\"float64\",\"order\":\"little\"},{\"type\":\"ndarray\",\"array\":{\"type\":\"bytes\",\"data\":\"MN4tS3TYfb8A5NpQMc6fPyCWGNr20Ks/AOTaUDHOnz8w3i1LdNh9vw==\"},\"shape\":[5],\"dtype\":\"float64\",\"order\":\"little\"}],[{\"type\":\"ndarray\",\"array\":{\"type\":\"bytes\",\"data\":\"CJErqlI85j+brX8VBg3mPwiRK6pSPOY/XyAs3p9n5j8FPpbdwQbnP4EjF7syfOc/4xY5BNym5z/4tQLMErzoP3fetmpUvOg/cEju3PL76T8Z7/w7OCTqP+ja2e3SO+s/XG3F/rJ77D+igffuyQftP9T/sA+Tu+0/TJKcIHP77j9n+E+pvljvP2ISxJipHfA/nts5oZm98D/YpK+piV3xP+ahlyrEffE/FG4lsnn98T8+6dKqMizyP8JKROkyJfI/G+ZMZ4sN8j8UbiWyef3xP8WQizD35/E/qsiDlpep8T/YpK+piV3xP9IauL49LPE/RC5bIYDp8D+e2zmhmb3wP4JxoN4rkvA/YhLEmKkd8D9kDQqFK97vP0ySnCBz++4/1P+wD5O77T9dbcX+snvsP+gZkMFtUOs/6NrZ7dI76z9wSO7c8vvpP/i1AswSvOg/dpEp34lJ6D+AIxe7MnznP2ugXl0sD+c/W8vCyP2A5j8IkSuqUjzmPw==\"},\"shape\":[47],\"dtype\":\"float64\",\"order\":\"little\"},{\"type\":\"ndarray\",\"array\":{\"type\":\"bytes\",\"data\":\"9gO+g1BH5z+AIxe7MnznP1ox3Wf5IOg/+LUCzBK86D9wSO7c8vvpP+ja2e3SO+s/XG3F/rJ77D/U/7APk7vtP0ySnCBz++4/5czrGTcK7z9iEsSYqR3wP6pfLBeGSfA/wInkqoqt8D+e2zmhmb3wP0Vn3IDC8vA/2KSvqYld8T9zo5xLMmjxPznLLlDHrfE/CSUWwmPF8T+eqSmdRc/xP878502AkvE/2KSvqYld8T+e2zmhmb3wP5sEonR9fPA/YhLEmKkd8D9Mkpwgc/vuP9T/sA+Tu+0/SnoS5ehR7T9cbcX+snvsP+ja2e3SO+s/1qZ3rJkE6j9wSO7c8vvpPwS7TyhLWOk/+LUCzBK86D8b6qLYjq7oP337PyvN0ec/gCMXuzJ85z8MBAmKojXnP/YDvoNQR+c/\"},\"shape\":[39],\"dtype\":\"float64\",\"order\":\"little\"}]],[[{\"type\":\"ndarray\",\"array\":{\"type\":\"bytes\",\"data\":\"AOTaUDHOnz8y3i1LdNh9vwDk2lAxzp8/IJYY2vbQqz8A5NpQMc6fPw==\"},\"shape\":[5],\"dtype\":\"float64\",\"order\":\"little\"}],[{\"type\":\"ndarray\",\"array\":{\"type\":\"bytes\",\"data\":\"gCMXuzJ85z/2A76DUEfnPwwECYqiNec/gCMXuzJ85z99+z8rzdHnPxrqotiOrug/+LUCzBK86D8Eu08oS1jpP3BI7tzy++k/1qZ3rJkE6j/o2tnt0jvrP1xtxf6ye+w/SnoS5ehR7T/U/7APk7vtP0ySnCBz++4/YhLEmKkd8D+aBKJ0fXzwP57bOaGZvfA/2KSvqYld8T/O/OdNgJLxP56pKZ1Fz/E/CSUWwmPF8T85yy5Qx63xP3SjnEsyaPE/2KSvqYld8T9FZ9yAwvLwP57bOaGZvfA/wInkqoqt8D+qXywXhknwP2ISxJipHfA/5czrGTcK7z9Mkpwgc/vuP9T/sA+Tu+0/XG3F/rJ77D/o2tnt0jvrP3BI7tzy++k/+LUCzBK86D9aMd1n+SDoP4AjF7syfOc/\"},\"shape\":[39],\"dtype\":\"float64\",\"order\":\"little\"},{\"type\":\"ndarray\",\"array\":{\"type\":\"bytes\",\"data\":\"rpNMhiwx6D/4tQLMErzoP3BI7tzy++k/6NrZ7dI76z9cbcX+snvsP9T/sA+Tu+0/TJKcIHP77j8MMfsmhsvvP2ISxJipHfA/xwGJMGJl8D9TmM12nbfwP57bOaGZvfA/XgYKSwwY8T/YpK+piV3xP64F0m+Xc/E/BDBPOy968T+eXwjxLWrxP9ikr6mJXfE/nts5oZm98D+RhAznl1TwP2ISxJipHfA/TJKcIHP77j/U/7APk7vtP8j7eLt6Vu0/XG3F/rJ77D/o2tnt0jvrP0A9f6Oeb+o/L942hpdA6j9wSO7c8vvpPyZOhw4Pouk/0C7B69O86T/4tQLMErzoP66TTIYsMeg/\"},\"shape\":[33],\"dtype\":\"float64\",\"order\":\"little\"}]],[[{\"type\":\"ndarray\",\"array\":{\"type\":\"bytes\",\"data\":\"+LUCzBK86D+uk0yGLDHoP/i1AswSvOg/0C7B69O86T8mTocOD6LpP3BI7tzy++k/L942hpdA6j9APX+jnm/qP+ja2e3SO+s/XG3F/rJ77D/I+3i7elbtP9T/sA+Tu+0/TJKcIHP77j9iEsSYqR3wP5KEDOeXVPA/nts5oZm98D/YpK+piV3xP59fCPEtavE/BTBPOy968T+uBdJvl3PxP9ikr6mJXfE/XgYKSwwY8T+e2zmhmb3wP1OYzXadt/A/xwGJMGJl8D9iEsSYqR3wPwwx+yaGy+8/TJKcIHP77j/U/7APk7vtP1xtxf6ye+w/6NrZ7dI76z9wSO7c8vvpP/i1AswSvOg/\"},\"shape\":[33],\"dtype\":\"float64\",\"order\":\"little\"},{\"type\":\"ndarray\",\"array\":{\"type\":\"bytes\",\"data\":\"NLD3+Lau6z9cbcX+snvsP/7ISEDk8Ow/1P+wD5O77T/iRhsnmhfuP0ySnCBz++4/WnWyWm4c8D9iEsSYqR3wP62EQOcCaPA/nts5oZm98D8O5M7dBsXwP0Kxpk7zIPE/CEFpjbT18D+e2zmhmb3wP2ISxJipHfA/6mY2V1Y27z9Mkpwgc/vuP9T/sA+Tu+0/XG3F/rJ77D8cJ2PGH1/sP8ZocjZkmus/3torpBiR6z80sPf4tq7rPw==\"},\"shape\":[23],\"dtype\":\"float64\",\"order\":\"little\"}]],[[{\"type\":\"ndarray\",\"array\":{\"type\":\"bytes\",\"data\":\"XG3F/rJ77D80sPf4tq7rP97aK6QYkes/xmhyNmSa6z8bJ2PGH1/sP1xtxf6ye+w/1P+wD5O77T9Nkpwgc/vuP+pmNldWNu8/YhLEmKkd8D+e2zmhmb3wPwhBaY209fA/Q7GmTvMg8T8O5M7dBsXwP57bOaGZvfA/roRA5wJo8D9iEsSYqR3wP1t1slpuHPA/TJKcIHP77j/iRhsnmhfuP9T/sA+Tu+0//shIQOTw7D9cbcX+snvsPw==\"},\"shape\":[23],\"dtype\":\"float64\",\"order\":\"little\"},{\"type\":\"ndarray\",\"array\":{\"type\":\"bytes\",\"data\":\"lWr0w6cp7j9Mkpwgc/vuP/6Bgd1/8O8/YhLEmKkd8D+C9THl7CfwP57bOaGZvfA/vaXyP2K/8D+d2zmhmb3wP2ISxJipHfA/jHg2FkIA8D/esDFCr+HvP0ySnCBz++4/lWr0w6cp7j8=\"},\"shape\":[13],\"dtype\":\"float64\",\"order\":\"little\"}]],[[{\"type\":\"ndarray\",\"array\":{\"type\":\"bytes\",\"data\":\"TJKcIHP77j+VavTDpynuP0ySnCBz++4/3rAxQq/h7z+MeDYWQgDwP2ISxJipHfA/nts5oZm98D+9pfI/Yr/wP57bOaGZvfA/gvUx5ewn8D9iEsSYqR3wP/6Bgd1/8O8/TJKcIHP77j8=\"},\"shape\":[13],\"dtype\":\"float64\",\"order\":\"little\"}]]]],[\"Density\",{\"type\":\"ndarray\",\"array\":{\"type\":\"bytes\",\"data\":\"zszMzMzMzD8BAAAAAADYP87MzMzMzOA/mpmZmZmZ5T9oZmZmZmbqPzUzMzMzM+8/AQAAAAAA8j9nZmZmZmb0P87MzMzMzPY/\"},\"shape\":[9],\"dtype\":\"float64\",\"order\":\"little\"}]]}}},\"view\":{\"type\":\"object\",\"name\":\"CDSView\",\"id\":\"6bf0fb3e-ac16-4cba-857e-0f1152032f1d\",\"attributes\":{\"filter\":{\"type\":\"object\",\"name\":\"AllIndices\",\"id\":\"73055870-74e2-4633-9411-564d7351c2cf\"}}},\"glyph\":{\"type\":\"object\",\"name\":\"MultiPolygons\",\"id\":\"5c9d3865-c36b-43d6-ad97-ee686f9be029\",\"attributes\":{\"xs\":{\"type\":\"field\",\"field\":\"xs\"},\"ys\":{\"type\":\"field\",\"field\":\"ys\"},\"fill_color\":{\"type\":\"field\",\"field\":\"Density\",\"transform\":{\"type\":\"object\",\"name\":\"LinearColorMapper\",\"id\":\"d298a9ea-17c1-47a1-b3a3-e7795836be13\",\"attributes\":{\"palette\":[\"#f7fbff\",\"#f6fafe\",\"#f5f9fe\",\"#f4f9fe\",\"#f3f8fd\",\"#f3f8fd\",\"#f2f7fd\",\"#f1f7fd\",\"#f0f6fc\",\"#eff6fc\",\"#eff5fc\",\"#eef5fc\",\"#edf4fb\",\"#ecf4fb\",\"#ecf3fb\",\"#ebf3fb\",\"#eaf2fa\",\"#e9f2fa\",\"#e8f1fa\",\"#e8f1fa\",\"#e7f0f9\",\"#e6f0f9\",\"#e5eff9\",\"#e4eff9\",\"#e4eef8\",\"#e3eef8\",\"#e2edf8\",\"#e1edf8\",\"#e1ecf7\",\"#e0ecf7\",\"#dfebf7\",\"#deebf7\",\"#ddeaf6\",\"#ddeaf6\",\"#dce9f6\",\"#dbe9f6\",\"#dae8f5\",\"#dae8f5\",\"#d9e7f5\",\"#d8e7f5\",\"#d7e6f4\",\"#d7e6f4\",\"#d6e5f4\",\"#d5e5f4\",\"#d4e4f3\",\"#d4e4f3\",\"#d3e3f3\",\"#d2e3f3\",\"#d1e2f2\",\"#d1e2f2\",\"#d0e1f2\",\"#cfe1f2\",\"#cee0f1\",\"#cee0f1\",\"#cddff1\",\"#ccdff1\",\"#cbdef0\",\"#cbdef0\",\"#caddf0\",\"#c9ddf0\",\"#c8dcef\",\"#c8dcef\",\"#c7dbef\",\"#c6dbef\",\"#c5daee\",\"#c4daee\",\"#c3d9ee\",\"#c1d9ed\",\"#c0d8ed\",\"#bfd8ec\",\"#bed7ec\",\"#bcd7eb\",\"#bbd6eb\",\"#bad6ea\",\"#b9d5ea\",\"#b7d4ea\",\"#b6d4e9\",\"#b5d3e9\",\"#b4d3e8\",\"#b2d2e8\",\"#b1d2e7\",\"#b0d1e7\",\"#afd1e6\",\"#add0e6\",\"#acd0e6\",\"#abcfe5\",\"#aacfe5\",\"#a8cee4\",\"#a7cee4\",\"#a6cde3\",\"#a5cde3\",\"#a3cce3\",\"#a2cbe2\",\"#a1cbe2\",\"#a0cae1\",\"#9ecae1\",\"#9dc9e0\",\"#9bc8e0\",\"#9ac7e0\",\"#98c7df\",\"#97c6df\",\"#95c5df\",\"#93c4de\",\"#92c3de\",\"#90c2de\",\"#8fc1dd\",\"#8dc0dd\",\"#8bc0dd\",\"#8abfdc\",\"#88bedc\",\"#87bddc\",\"#85bcdb\",\"#83bbdb\",\"#82badb\",\"#80b9da\",\"#7fb8da\",\"#7db8d9\",\"#7bb7d9\",\"#7ab6d9\",\"#78b5d8\",\"#77b4d8\",\"#75b3d8\",\"#73b2d7\",\"#72b1d7\",\"#70b1d7\",\"#6fb0d6\",\"#6dafd6\",\"#6baed6\",\"#6aadd5\",\"#69acd5\",\"#67abd4\",\"#66aad4\",\"#65aad3\",\"#63a9d3\",\"#62a8d2\",\"#61a7d2\",\"#60a6d1\",\"#5ea5d1\",\"#5da4d0\",\"#5ca3d0\",\"#5aa3cf\",\"#59a2cf\",\"#58a1ce\",\"#57a0ce\",\"#559fcd\",\"#549ecd\",\"#539dcc\",\"#519ccc\",\"#509bcb\",\"#4f9bcb\",\"#4e9aca\",\"#4c99ca\",\"#4b98c9\",\"#4a97c9\",\"#4896c8\",\"#4795c8\",\"#4694c7\",\"#4594c7\",\"#4393c6\",\"#4292c6\",\"#4191c5\",\"#4090c5\",\"#3f8fc4\",\"#3e8ec4\",\"#3d8dc3\",\"#3c8cc3\",\"#3b8bc2\",\"#3a8ac1\",\"#3989c1\",\"#3888c0\",\"#3787c0\",\"#3585bf\",\"#3484bf\",\"#3383be\",\"#3282be\",\"#3181bd\",\"#3080bd\",\"#2f7fbc\",\"#2e7ebc\",\"#2d7dbb\",\"#2c7cbb\",\"#2b7bba\",\"#2a7ab9\",\"#2979b9\",\"#2878b8\",\"#2777b8\",\"#2676b7\",\"#2575b7\",\"#2474b6\",\"#2373b6\",\"#2272b5\",\"#2171b5\",\"#2070b4\",\"#1f6fb3\",\"#1e6eb2\",\"#1e6db2\",\"#1d6cb1\",\"#1c6bb0\",\"#1b6aaf\",\"#1a69ae\",\"#1a68ae\",\"#1967ad\",\"#1866ac\",\"#1765ab\",\"#1764ab\",\"#1663aa\",\"#1562a9\",\"#1461a8\",\"#1360a7\",\"#135fa7\",\"#125ea6\",\"#115da5\",\"#105ca4\",\"#0f5ba3\",\"#0f5aa3\",\"#0e59a2\",\"#0d58a1\",\"#0c57a0\",\"#0c56a0\",\"#0b559f\",\"#0a549e\",\"#09539d\",\"#08529c\",\"#08519c\",\"#08509a\",\"#084f99\",\"#084e97\",\"#084c96\",\"#084b94\",\"#084a92\",\"#084991\",\"#08488f\",\"#08478e\",\"#08468c\",\"#08458b\",\"#084489\",\"#084388\",\"#084286\",\"#084185\",\"#084083\",\"#083f82\",\"#083e80\",\"#083d7e\",\"#083c7d\",\"#083b7b\",\"#083a7a\",\"#083978\",\"#083877\",\"#083775\",\"#083674\",\"#083572\",\"#083471\",\"#08336f\",\"#08326e\",\"#08316c\",\"#08306b\"],\"low\":0.0,\"high\":1.5000000000000002}}},\"hatch_color\":{\"type\":\"value\",\"value\":\"#30a2da\"}}},\"selection_glyph\":{\"type\":\"object\",\"name\":\"MultiPolygons\",\"id\":\"ff69e253-588a-4b59-a32e-159f5d17aa9d\",\"attributes\":{\"xs\":{\"type\":\"field\",\"field\":\"xs\"},\"ys\":{\"type\":\"field\",\"field\":\"ys\"},\"line_color\":{\"type\":\"value\",\"value\":\"black\"},\"line_alpha\":{\"type\":\"value\",\"value\":1.0},\"line_width\":{\"type\":\"value\",\"value\":1},\"line_join\":{\"type\":\"value\",\"value\":\"bevel\"},\"line_cap\":{\"type\":\"value\",\"value\":\"butt\"},\"line_dash\":{\"type\":\"value\",\"value\":[]},\"line_dash_offset\":{\"type\":\"value\",\"value\":0},\"fill_color\":{\"type\":\"field\",\"field\":\"Density\",\"transform\":{\"id\":\"d298a9ea-17c1-47a1-b3a3-e7795836be13\"}},\"fill_alpha\":{\"type\":\"value\",\"value\":1.0},\"hatch_color\":{\"type\":\"value\",\"value\":\"#30a2da\"},\"hatch_alpha\":{\"type\":\"value\",\"value\":1.0},\"hatch_scale\":{\"type\":\"value\",\"value\":12.0},\"hatch_pattern\":{\"type\":\"value\",\"value\":null},\"hatch_weight\":{\"type\":\"value\",\"value\":1.0}}},\"nonselection_glyph\":{\"type\":\"object\",\"name\":\"MultiPolygons\",\"id\":\"a3d4f884-d858-4be2-a2d5-92dad88f98c7\",\"attributes\":{\"xs\":{\"type\":\"field\",\"field\":\"xs\"},\"ys\":{\"type\":\"field\",\"field\":\"ys\"},\"line_alpha\":{\"type\":\"value\",\"value\":1.0},\"fill_color\":{\"type\":\"field\",\"field\":\"Density\",\"transform\":{\"id\":\"d298a9ea-17c1-47a1-b3a3-e7795836be13\"}},\"fill_alpha\":{\"type\":\"value\",\"value\":1.0},\"hatch_color\":{\"type\":\"value\",\"value\":\"#30a2da\"},\"hatch_alpha\":{\"type\":\"value\",\"value\":0.1}}},\"muted_glyph\":{\"type\":\"object\",\"name\":\"MultiPolygons\",\"id\":\"ebd7f118-63ee-4214-9eca-5143f5c6ecad\",\"attributes\":{\"xs\":{\"type\":\"field\",\"field\":\"xs\"},\"ys\":{\"type\":\"field\",\"field\":\"ys\"},\"line_alpha\":{\"type\":\"value\",\"value\":0.2},\"fill_color\":{\"type\":\"field\",\"field\":\"Density\",\"transform\":{\"id\":\"d298a9ea-17c1-47a1-b3a3-e7795836be13\"}},\"fill_alpha\":{\"type\":\"value\",\"value\":0.2},\"hatch_color\":{\"type\":\"value\",\"value\":\"#30a2da\"},\"hatch_alpha\":{\"type\":\"value\",\"value\":0.2}}}}},{\"type\":\"object\",\"name\":\"GlyphRenderer\",\"id\":\"3dbadeb9-4ae0-4ac2-b240-1a660415f98f\",\"attributes\":{\"name\":\"color\",\"data_source\":{\"type\":\"object\",\"name\":\"ColumnDataSource\",\"id\":\"e68de38b-3b64-426b-8147-4c877f3dd2a8\",\"attributes\":{\"selected\":{\"type\":\"object\",\"name\":\"Selection\",\"id\":\"79d68ae5-1208-4817-bc77-2f99f385dc56\",\"attributes\":{\"indices\":[],\"line_indices\":[]}},\"selection_policy\":{\"type\":\"object\",\"name\":\"UnionRenderers\",\"id\":\"f3d7a119-c99b-424a-aeeb-c48361cc911d\"},\"data\":{\"type\":\"map\",\"entries\":[[\"R_h_out\",{\"type\":\"ndarray\",\"array\":{\"type\":\"bytes\",\"data\":\"A4Ci5wkr7z8AAAAAAAAAgAAAAAAAAAAA\"},\"shape\":[3],\"dtype\":\"float64\",\"order\":\"little\"}],[\"R_bm\",{\"type\":\"ndarray\",\"array\":{\"type\":\"bytes\",\"data\":\"AAAAAAAAAAAAAAAAAAAAgAOAoucJK+8/\"},\"shape\":[3],\"dtype\":\"float64\",\"order\":\"little\"}],[\"color\",[\"0.25\",\"0.25\",\"0.5\"]]]}}},\"view\":{\"type\":\"object\",\"name\":\"CDSView\",\"id\":\"c1790380-34d8-4a72-b648-c148b0dc4666\",\"attributes\":{\"filter\":{\"type\":\"object\",\"name\":\"AllIndices\",\"id\":\"438c5406-f9e8-486c-82d9-b40d614800a1\"}}},\"glyph\":{\"type\":\"object\",\"name\":\"Scatter\",\"id\":\"058a895c-0b85-479f-bf19-95b919ce621b\",\"attributes\":{\"tags\":[\"apply_ranges\"],\"x\":{\"type\":\"field\",\"field\":\"R_h_out\"},\"y\":{\"type\":\"field\",\"field\":\"R_bm\"},\"size\":{\"type\":\"value\",\"value\":5},\"line_color\":{\"type\":\"field\",\"field\":\"color\",\"transform\":{\"type\":\"object\",\"name\":\"CategoricalColorMapper\",\"id\":\"0864d55f-c9e1-4897-b0aa-4428e789a353\",\"attributes\":{\"palette\":[\"#1b9e77\",\"#d95f02\"],\"factors\":[\"0.25\",\"0.5\"]}}},\"fill_color\":{\"type\":\"field\",\"field\":\"color\",\"transform\":{\"id\":\"0864d55f-c9e1-4897-b0aa-4428e789a353\"}},\"hatch_color\":{\"type\":\"field\",\"field\":\"color\",\"transform\":{\"id\":\"0864d55f-c9e1-4897-b0aa-4428e789a353\"}}}},\"selection_glyph\":{\"type\":\"object\",\"name\":\"Scatter\",\"id\":\"17b3a3d2-850c-4f7f-9756-dda63a9d9fc1\",\"attributes\":{\"tags\":[\"apply_ranges\"],\"x\":{\"type\":\"field\",\"field\":\"R_h_out\"},\"y\":{\"type\":\"field\",\"field\":\"R_bm\"},\"size\":{\"type\":\"value\",\"value\":5},\"line_color\":{\"type\":\"field\",\"field\":\"color\",\"transform\":{\"id\":\"0864d55f-c9e1-4897-b0aa-4428e789a353\"}},\"fill_color\":{\"type\":\"field\",\"field\":\"color\",\"transform\":{\"id\":\"0864d55f-c9e1-4897-b0aa-4428e789a353\"}},\"hatch_color\":{\"type\":\"field\",\"field\":\"color\",\"transform\":{\"id\":\"0864d55f-c9e1-4897-b0aa-4428e789a353\"}}}},\"nonselection_glyph\":{\"type\":\"object\",\"name\":\"Scatter\",\"id\":\"e4d295df-8f6a-458e-a574-dc273ee3bafa\",\"attributes\":{\"tags\":[\"apply_ranges\"],\"x\":{\"type\":\"field\",\"field\":\"R_h_out\"},\"y\":{\"type\":\"field\",\"field\":\"R_bm\"},\"size\":{\"type\":\"value\",\"value\":5},\"line_color\":{\"type\":\"field\",\"field\":\"color\",\"transform\":{\"id\":\"0864d55f-c9e1-4897-b0aa-4428e789a353\"}},\"line_alpha\":{\"type\":\"value\",\"value\":0.1},\"fill_color\":{\"type\":\"field\",\"field\":\"color\",\"transform\":{\"id\":\"0864d55f-c9e1-4897-b0aa-4428e789a353\"}},\"fill_alpha\":{\"type\":\"value\",\"value\":0.1},\"hatch_color\":{\"type\":\"field\",\"field\":\"color\",\"transform\":{\"id\":\"0864d55f-c9e1-4897-b0aa-4428e789a353\"}},\"hatch_alpha\":{\"type\":\"value\",\"value\":0.1}}},\"hover_glyph\":{\"type\":\"object\",\"name\":\"Scatter\",\"id\":\"19247a3b-ee6d-44e4-aed4-d5c60ff40797\",\"attributes\":{\"tags\":[\"apply_ranges\"],\"x\":{\"type\":\"field\",\"field\":\"R_h_out\"},\"y\":{\"type\":\"field\",\"field\":\"R_bm\"},\"size\":{\"type\":\"value\",\"value\":5},\"line_color\":{\"type\":\"field\",\"field\":\"color\",\"transform\":{\"id\":\"0864d55f-c9e1-4897-b0aa-4428e789a353\"}},\"fill_color\":{\"type\":\"field\",\"field\":\"color\",\"transform\":{\"id\":\"0864d55f-c9e1-4897-b0aa-4428e789a353\"}},\"hatch_color\":{\"type\":\"field\",\"field\":\"color\",\"transform\":{\"id\":\"0864d55f-c9e1-4897-b0aa-4428e789a353\"}}}},\"muted_glyph\":{\"type\":\"object\",\"name\":\"Scatter\",\"id\":\"9690ac28-5961-41a9-be6e-3a4fd300b81b\",\"attributes\":{\"tags\":[\"apply_ranges\"],\"x\":{\"type\":\"field\",\"field\":\"R_h_out\"},\"y\":{\"type\":\"field\",\"field\":\"R_bm\"},\"size\":{\"type\":\"value\",\"value\":5},\"line_color\":{\"type\":\"field\",\"field\":\"color\",\"transform\":{\"id\":\"0864d55f-c9e1-4897-b0aa-4428e789a353\"}},\"line_alpha\":{\"type\":\"value\",\"value\":0.2},\"fill_color\":{\"type\":\"field\",\"field\":\"color\",\"transform\":{\"id\":\"0864d55f-c9e1-4897-b0aa-4428e789a353\"}},\"fill_alpha\":{\"type\":\"value\",\"value\":0.2},\"hatch_color\":{\"type\":\"field\",\"field\":\"color\",\"transform\":{\"id\":\"0864d55f-c9e1-4897-b0aa-4428e789a353\"}},\"hatch_alpha\":{\"type\":\"value\",\"value\":0.2}}}}}],\"toolbar\":{\"type\":\"object\",\"name\":\"Toolbar\",\"id\":\"f5d4ac49-60b2-420c-b741-912d0946d784\",\"attributes\":{\"tools\":[{\"type\":\"object\",\"name\":\"WheelZoomTool\",\"id\":\"2422ba53-3488-4ddd-99a7-ac8a769e77bc\",\"attributes\":{\"tags\":[\"hv_created\"],\"renderers\":\"auto\",\"zoom_together\":\"none\"}},{\"type\":\"object\",\"name\":\"SaveTool\",\"id\":\"928534d6-71e0-45c7-b49f-95aa708f700d\"},{\"type\":\"object\",\"name\":\"PanTool\",\"id\":\"1f6cbd07-2b8f-430a-b1ea-ac71412d12c8\"},{\"type\":\"object\",\"name\":\"BoxZoomTool\",\"id\":\"0c305bc6-a9e9-451c-8238-380dc4248930\",\"attributes\":{\"overlay\":{\"type\":\"object\",\"name\":\"BoxAnnotation\",\"id\":\"852b34b8-c19e-412d-81c5-5a1367ae905f\",\"attributes\":{\"syncable\":false,\"line_color\":\"black\",\"line_alpha\":1.0,\"line_width\":2,\"line_dash\":[4,4],\"fill_color\":\"lightgrey\",\"fill_alpha\":0.5,\"level\":\"overlay\",\"visible\":false,\"left\":{\"type\":\"number\",\"value\":\"nan\"},\"right\":{\"type\":\"number\",\"value\":\"nan\"},\"top\":{\"type\":\"number\",\"value\":\"nan\"},\"bottom\":{\"type\":\"number\",\"value\":\"nan\"},\"left_units\":\"canvas\",\"right_units\":\"canvas\",\"top_units\":\"canvas\",\"bottom_units\":\"canvas\",\"handles\":{\"type\":\"object\",\"name\":\"BoxInteractionHandles\",\"id\":\"32b74d44-b10c-4606-9984-251d09a54c00\",\"attributes\":{\"all\":{\"type\":\"object\",\"name\":\"AreaVisuals\",\"id\":\"54b68e02-edcf-4f4b-b424-fc6ecd99427d\",\"attributes\":{\"fill_color\":\"white\",\"hover_fill_color\":\"lightgray\"}}}}}}}},{\"type\":\"object\",\"name\":\"ResetTool\",\"id\":\"112f087b-b056-4945-9fe9-395e389d3422\"}],\"active_drag\":{\"id\":\"1f6cbd07-2b8f-430a-b1ea-ac71412d12c8\"},\"active_scroll\":{\"id\":\"2422ba53-3488-4ddd-99a7-ac8a769e77bc\"}}},\"left\":[{\"type\":\"object\",\"name\":\"LinearAxis\",\"id\":\"aa73cf23-2d97-42d0-a614-060e3e8b4329\",\"attributes\":{\"ticker\":{\"type\":\"object\",\"name\":\"BasicTicker\",\"id\":\"bb7cb86a-8d98-49c2-8ad3-86dace30c447\",\"attributes\":{\"mantissas\":[1,2,5]}},\"formatter\":{\"type\":\"object\",\"name\":\"BasicTickFormatter\",\"id\":\"5d60fdef-6840-4571-a882-6e98166344f4\"},\"axis_label\":\"R_bm\",\"axis_label_text_font_size\":\"14pt\",\"major_label_policy\":{\"type\":\"object\",\"name\":\"AllLabels\",\"id\":\"8261e62c-3fec-4aa1-8d9c-6dde58e6389e\"},\"major_label_text_font_size\":\"12pt\"}}],\"below\":[{\"type\":\"object\",\"name\":\"LinearAxis\",\"id\":\"fea3e3d0-7732-45f4-b0f3-dfdf4963338b\",\"attributes\":{\"ticker\":{\"type\":\"object\",\"name\":\"BasicTicker\",\"id\":\"dc8acc5d-96f9-4ef3-aa50-7b8773982f41\",\"attributes\":{\"mantissas\":[1,2,5]}},\"formatter\":{\"type\":\"object\",\"name\":\"BasicTickFormatter\",\"id\":\"169fa861-74cf-455d-a3a6-92acfd6b5783\"},\"axis_label\":\"R_h_out\",\"axis_label_text_font_size\":\"14pt\",\"major_label_policy\":{\"type\":\"object\",\"name\":\"AllLabels\",\"id\":\"53c74be3-c212-4f31-bcd3-7a3507970d0a\"},\"major_label_text_font_size\":\"12pt\"}},{\"type\":\"object\",\"name\":\"Legend\",\"id\":\"dbcb2904-bc87-4c33-9b93-33b23b06e65b\",\"attributes\":{\"location\":[0,0],\"orientation\":\"horizontal\",\"title_text_font_size\":\"14pt\",\"click_policy\":\"mute\",\"label_text_font_size\":\"12pt\",\"items\":[{\"type\":\"object\",\"name\":\"LegendItem\",\"id\":\"7f076783-b9ca-46aa-84bc-8c49ade87c99\",\"attributes\":{\"label\":{\"type\":\"value\",\"value\":\"polytope\"},\"renderers\":[{\"id\":\"0b042b5d-adb7-4335-aa28-7896954b3c58\"},{\"id\":\"9b957dc1-2a89-479c-bcab-9297c95b06fa\"}]}},{\"type\":\"object\",\"name\":\"LegendItem\",\"id\":\"76264523-ce54-48a0-9bba-5358e2f59fe1\",\"attributes\":{\"label\":{\"type\":\"value\",\"value\":\"posterior sampled support\"},\"renderers\":[{\"id\":\"eb076bc8-11e7-4a7f-9076-c4df7fb4671e\"},{\"id\":\"c30caf60-8ed3-4da7-9836-4e424e9e9226\"}]}},{\"type\":\"object\",\"name\":\"LegendItem\",\"id\":\"bd68878f-cad3-4a60-8872-318e5888183b\",\"attributes\":{\"label\":{\"type\":\"field\",\"field\":\"color\"},\"renderers\":[{\"id\":\"3dbadeb9-4ae0-4ac2-b240-1a660415f98f\"}]}}]}}],\"center\":[{\"type\":\"object\",\"name\":\"Grid\",\"id\":\"687a094a-e622-4ec3-8eec-f7fb12d0a4ec\",\"attributes\":{\"axis\":{\"id\":\"fea3e3d0-7732-45f4-b0f3-dfdf4963338b\"},\"ticker\":{\"id\":\"dc8acc5d-96f9-4ef3-aa50-7b8773982f41\"}}},{\"type\":\"object\",\"name\":\"Grid\",\"id\":\"55791d8f-fc23-4c58-a3c7-9d4f57d1b4d2\",\"attributes\":{\"dimension\":1,\"axis\":{\"id\":\"aa73cf23-2d97-42d0-a614-060e3e8b4329\"},\"ticker\":{\"id\":\"bb7cb86a-8d98-49c2-8ad3-86dace30c447\"}}}],\"min_border_top\":10,\"min_border_bottom\":10,\"min_border_left\":10,\"min_border_right\":10,\"output_backend\":\"webgl\"}},{\"type\":\"object\",\"name\":\"Spacer\",\"id\":\"539db5cd-b847-4608-9150-eb8ba7a16e24\",\"attributes\":{\"name\":\"HSpacer06670\",\"stylesheets\":[\"\\n:host(.pn-loading):before, .pn-loading:before {\\n  background-color: #c3c3c3;\\n  mask-size: auto calc(min(50%, 400px));\\n  -webkit-mask-size: auto calc(min(50%, 400px));\\n}\",{\"id\":\"fd1df287-abcb-49c3-abb6-3380e27ad970\"},{\"id\":\"7c0b55a2-0285-4d40-bcd8-3a8a366c795a\"},{\"id\":\"7a265bec-5a58-45c4-8074-561b6b17bb97\"}],\"margin\":0,\"sizing_mode\":\"stretch_width\",\"align\":\"start\"}}]}}],\"defs\":[{\"type\":\"model\",\"name\":\"ReactiveHTML1\"},{\"type\":\"model\",\"name\":\"FlexBox1\",\"properties\":[{\"name\":\"align_content\",\"kind\":\"Any\",\"default\":\"flex-start\"},{\"name\":\"align_items\",\"kind\":\"Any\",\"default\":\"flex-start\"},{\"name\":\"flex_direction\",\"kind\":\"Any\",\"default\":\"row\"},{\"name\":\"flex_wrap\",\"kind\":\"Any\",\"default\":\"wrap\"},{\"name\":\"gap\",\"kind\":\"Any\",\"default\":\"\"},{\"name\":\"justify_content\",\"kind\":\"Any\",\"default\":\"flex-start\"}]},{\"type\":\"model\",\"name\":\"FloatPanel1\",\"properties\":[{\"name\":\"config\",\"kind\":\"Any\",\"default\":{\"type\":\"map\"}},{\"name\":\"contained\",\"kind\":\"Any\",\"default\":true},{\"name\":\"position\",\"kind\":\"Any\",\"default\":\"right-top\"},{\"name\":\"offsetx\",\"kind\":\"Any\",\"default\":null},{\"name\":\"offsety\",\"kind\":\"Any\",\"default\":null},{\"name\":\"theme\",\"kind\":\"Any\",\"default\":\"primary\"},{\"name\":\"status\",\"kind\":\"Any\",\"default\":\"normalized\"}]},{\"type\":\"model\",\"name\":\"GridStack1\",\"properties\":[{\"name\":\"mode\",\"kind\":\"Any\",\"default\":\"warn\"},{\"name\":\"ncols\",\"kind\":\"Any\",\"default\":null},{\"name\":\"nrows\",\"kind\":\"Any\",\"default\":null},{\"name\":\"allow_resize\",\"kind\":\"Any\",\"default\":true},{\"name\":\"allow_drag\",\"kind\":\"Any\",\"default\":true},{\"name\":\"state\",\"kind\":\"Any\",\"default\":[]}]},{\"type\":\"model\",\"name\":\"drag1\",\"properties\":[{\"name\":\"slider_width\",\"kind\":\"Any\",\"default\":5},{\"name\":\"slider_color\",\"kind\":\"Any\",\"default\":\"black\"},{\"name\":\"value\",\"kind\":\"Any\",\"default\":50}]},{\"type\":\"model\",\"name\":\"click1\",\"properties\":[{\"name\":\"terminal_output\",\"kind\":\"Any\",\"default\":\"\"},{\"name\":\"debug_name\",\"kind\":\"Any\",\"default\":\"\"},{\"name\":\"clears\",\"kind\":\"Any\",\"default\":0}]},{\"type\":\"model\",\"name\":\"FastWrapper1\",\"properties\":[{\"name\":\"object\",\"kind\":\"Any\",\"default\":null},{\"name\":\"style\",\"kind\":\"Any\",\"default\":null}]},{\"type\":\"model\",\"name\":\"NotificationAreaBase1\",\"properties\":[{\"name\":\"js_events\",\"kind\":\"Any\",\"default\":{\"type\":\"map\"}},{\"name\":\"position\",\"kind\":\"Any\",\"default\":\"bottom-right\"},{\"name\":\"_clear\",\"kind\":\"Any\",\"default\":0}]},{\"type\":\"model\",\"name\":\"NotificationArea1\",\"properties\":[{\"name\":\"js_events\",\"kind\":\"Any\",\"default\":{\"type\":\"map\"}},{\"name\":\"notifications\",\"kind\":\"Any\",\"default\":[]},{\"name\":\"position\",\"kind\":\"Any\",\"default\":\"bottom-right\"},{\"name\":\"_clear\",\"kind\":\"Any\",\"default\":0},{\"name\":\"types\",\"kind\":\"Any\",\"default\":[{\"type\":\"map\",\"entries\":[[\"type\",\"warning\"],[\"background\",\"#ffc107\"],[\"icon\",{\"type\":\"map\",\"entries\":[[\"className\",\"fas fa-exclamation-triangle\"],[\"tagName\",\"i\"],[\"color\",\"white\"]]}]]},{\"type\":\"map\",\"entries\":[[\"type\",\"info\"],[\"background\",\"#007bff\"],[\"icon\",{\"type\":\"map\",\"entries\":[[\"className\",\"fas fa-info-circle\"],[\"tagName\",\"i\"],[\"color\",\"white\"]]}]]}]}]},{\"type\":\"model\",\"name\":\"Notification\",\"properties\":[{\"name\":\"background\",\"kind\":\"Any\",\"default\":null},{\"name\":\"duration\",\"kind\":\"Any\",\"default\":3000},{\"name\":\"icon\",\"kind\":\"Any\",\"default\":null},{\"name\":\"message\",\"kind\":\"Any\",\"default\":\"\"},{\"name\":\"notification_type\",\"kind\":\"Any\",\"default\":null},{\"name\":\"_destroyed\",\"kind\":\"Any\",\"default\":false}]},{\"type\":\"model\",\"name\":\"TemplateActions1\",\"properties\":[{\"name\":\"open_modal\",\"kind\":\"Any\",\"default\":0},{\"name\":\"close_modal\",\"kind\":\"Any\",\"default\":0}]},{\"type\":\"model\",\"name\":\"BootstrapTemplateActions1\",\"properties\":[{\"name\":\"open_modal\",\"kind\":\"Any\",\"default\":0},{\"name\":\"close_modal\",\"kind\":\"Any\",\"default\":0}]},{\"type\":\"model\",\"name\":\"TemplateEditor1\",\"properties\":[{\"name\":\"layout\",\"kind\":\"Any\",\"default\":[]}]},{\"type\":\"model\",\"name\":\"MaterialTemplateActions1\",\"properties\":[{\"name\":\"open_modal\",\"kind\":\"Any\",\"default\":0},{\"name\":\"close_modal\",\"kind\":\"Any\",\"default\":0}]},{\"type\":\"model\",\"name\":\"ReactiveESM1\",\"properties\":[{\"name\":\"esm_constants\",\"kind\":\"Any\",\"default\":{\"type\":\"map\"}}]},{\"type\":\"model\",\"name\":\"JSComponent1\",\"properties\":[{\"name\":\"esm_constants\",\"kind\":\"Any\",\"default\":{\"type\":\"map\"}}]},{\"type\":\"model\",\"name\":\"ReactComponent1\",\"properties\":[{\"name\":\"esm_constants\",\"kind\":\"Any\",\"default\":{\"type\":\"map\"}}]},{\"type\":\"model\",\"name\":\"AnyWidgetComponent1\",\"properties\":[{\"name\":\"esm_constants\",\"kind\":\"Any\",\"default\":{\"type\":\"map\"}}]},{\"type\":\"model\",\"name\":\"request_value1\",\"properties\":[{\"name\":\"fill\",\"kind\":\"Any\",\"default\":\"none\"},{\"name\":\"_synced\",\"kind\":\"Any\",\"default\":null},{\"name\":\"_request_sync\",\"kind\":\"Any\",\"default\":0}]}]}};\n",
       "  var render_items = [{\"docid\":\"3d569fbf-5375-4e47-b5e0-a84b36b3f82f\",\"roots\":{\"ce811833-fb9a-462a-9481-4c29d8d58272\":\"a206739d-d849-4932-bf87-a792609080fc\"},\"root_ids\":[\"ce811833-fb9a-462a-9481-4c29d8d58272\"]}];\n",
       "  var docs = Object.values(docs_json)\n",
       "  if (!docs) {\n",
       "    return\n",
       "  }\n",
       "  const py_version = docs[0].version.replace('rc', '-rc.').replace('.dev', '-dev.')\n",
       "  async function embed_document(root) {\n",
       "    var Bokeh = get_bokeh(root)\n",
       "    await Bokeh.embed.embed_items_notebook(docs_json, render_items);\n",
       "    for (const render_item of render_items) {\n",
       "      for (const root_id of render_item.root_ids) {\n",
       "\tconst id_el = document.getElementById(root_id)\n",
       "\tif (id_el.children.length && id_el.children[0].hasAttribute('data-root-id')) {\n",
       "\t  const root_el = id_el.children[0]\n",
       "\t  root_el.id = root_el.id + '-rendered'\n",
       "\t  for (const child of root_el.children) {\n",
       "            // Ensure JupyterLab does not capture keyboard shortcuts\n",
       "            // see: https://jupyterlab.readthedocs.io/en/4.1.x/extension/notebook.html#keyboard-interaction-model\n",
       "\t    child.setAttribute('data-lm-suppress-shortcuts', 'true')\n",
       "\t  }\n",
       "\t}\n",
       "      }\n",
       "    }\n",
       "  }\n",
       "  function get_bokeh(root) {\n",
       "    if (root.Bokeh === undefined) {\n",
       "      return null\n",
       "    } else if (root.Bokeh.version !== py_version) {\n",
       "      if (root.Bokeh.versions === undefined || !root.Bokeh.versions.has(py_version)) {\n",
       "\treturn null\n",
       "      }\n",
       "      return root.Bokeh.versions.get(py_version);\n",
       "    } else if (root.Bokeh.version === py_version) {\n",
       "      return root.Bokeh\n",
       "    }\n",
       "    return null\n",
       "  }\n",
       "  function is_loaded(root) {\n",
       "    var Bokeh = get_bokeh(root)\n",
       "    return (Bokeh != null && Bokeh.Panel !== undefined)\n",
       "  }\n",
       "  if (is_loaded(root)) {\n",
       "    embed_document(root);\n",
       "  } else {\n",
       "    var attempts = 0;\n",
       "    var timer = setInterval(function(root) {\n",
       "      if (is_loaded(root)) {\n",
       "        clearInterval(timer);\n",
       "        embed_document(root);\n",
       "      } else if (document.readyState == \"complete\") {\n",
       "        attempts++;\n",
       "        if (attempts > 200) {\n",
       "          clearInterval(timer);\n",
       "\t  var Bokeh = get_bokeh(root)\n",
       "\t  if (Bokeh == null || Bokeh.Panel == null) {\n",
       "            console.warn(\"Panel: ERROR: Unable to run Panel code because Bokeh or Panel library is missing\");\n",
       "\t  } else {\n",
       "\t    console.warn(\"Panel: WARNING: Attempting to render but not all required libraries could be resolved.\")\n",
       "\t    embed_document(root)\n",
       "\t  }\n",
       "        }\n",
       "      }\n",
       "    }, 25, root)\n",
       "  }\n",
       "})(window);</script>"
      ],
      "text/plain": [
       ":Overlay\n",
       "   .Area.Polytope                   :Area   [R_h_out]   (R_bm)\n",
       "   .Curve.Polytope                  :Curve   [R_h_out]   (R_bm)\n",
       "   .Area.Posterior_sampled_support  :Area   [R_h_out]   (R_bm)\n",
       "   .Curve.Posterior_sampled_support :Curve   [R_h_out]   (R_bm)\n",
       "   .Bivariate.Density               :Bivariate   [R_h_out,R_bm]   (Density)\n",
       "   .Points.I                        :Points   [R_h_out,R_bm]   (weights)"
      ]
     },
     "execution_count": 180,
     "metadata": {
      "application/vnd.holoviews_exec.v0+json": {
       "id": "ce811833-fb9a-462a-9481-4c29d8d58272"
      }
     },
     "output_type": "execute_result"
    }
   ],
   "source": [
    "theta1 = 'R_h_out'\n",
    "theta2 = 'R_bm'\n",
    "\n",
    "flow_dens = flow_plotter.grand_theta_plot(theta1, theta2)\n",
    "flow_points = hv.Points(means_df, kdims=[theta1, theta2], vdims=['weights']).opts(size=5, color='weights', cmap='Dark2')\n",
    "\n",
    "(flow_dens * flow_points).opts(\n",
    "    opts.Bivariate(bandwidth=0.1)\n",
    ").opts(legend_position='bottom')"
   ]
  },
  {
   "cell_type": "code",
   "execution_count": 129,
   "id": "58dbbb6d-20ce-4d91-a51f-62564cde74a6",
   "metadata": {},
   "outputs": [
    {
     "data": {
      "text/plain": [
       "tensor([[-0.3275,  0.0314,  0.1497, -0.5622],\n",
       "        [ 0.1827, -0.3151,  0.2920, -0.7001],\n",
       "        [ 0.1347,  0.0649,  0.5041,  0.5565],\n",
       "        ...,\n",
       "        [ 0.0285,  0.0211,  0.0269, -0.6417],\n",
       "        [ 0.4539, -0.0598, -0.3317, -0.7539],\n",
       "        [ 0.2599,  0.2473,  0.4298,  0.3364]], device='cuda:0')"
      ]
     },
     "execution_count": 129,
     "metadata": {},
     "output_type": "execute_result"
    }
   ],
   "source": [
    "samples = sample_ball((400,4))\n",
    "\n",
    "samples"
   ]
  },
  {
   "cell_type": "code",
   "execution_count": null,
   "id": "87ed5c42-6172-4101-b7ed-d3c9326ecc82",
   "metadata": {},
   "outputs": [],
   "source": []
  }
 ],
 "metadata": {
  "kernelspec": {
   "display_name": "Python 3 (ipykernel)",
   "language": "python",
   "name": "python3"
  },
  "language_info": {
   "codemirror_mode": {
    "name": "ipython",
    "version": 3
   },
   "file_extension": ".py",
   "mimetype": "text/x-python",
   "name": "python",
   "nbconvert_exporter": "python",
   "pygments_lexer": "ipython3",
   "version": "3.10.11"
  }
 },
 "nbformat": 4,
 "nbformat_minor": 5
}
