{
 "cells": [
  {
   "cell_type": "code",
   "execution_count": 8,
   "id": "feb74c8c-2d58-4b1c-bcb8-3dfb98f4b2de",
   "metadata": {},
   "outputs": [
    {
     "name": "stderr",
     "output_type": "stream",
     "text": [
      "WARNING (pytensor.tensor.blas): Using NumPy C-API based implementation for BLAS functions.\n"
     ]
    }
   ],
   "source": [
    "import math\n",
    "import pandas as pd\n",
    "import numpy as np\n",
    "import torch\n",
    "import pickle\n",
    "\n",
    "import arviz as az\n",
    "\n",
    "\n",
    "from sbmfi.inference.flow_trainer import flow_constructor, flow_trainer\n",
    "\n",
    "\n",
    "import arviz as az\n",
    "import matplotlib.pyplot as plt\n",
    "\n",
    "from sbmfi.models.small_models import spiro\n",
    "from sbmfi.core.polytopia import (\n",
    "    extract_labelling_polytope, \n",
    "    transform_polytope_keep_transform, \n",
    "    round_polytope_keep_ellipsoid,\n",
    "    LabellingPolytope,\n",
    "    sample_polytope,\n",
    "    MarkovTransition,\n",
    "    V_representation\n",
    ")\n",
    "from sbmfi.core.coordinater import FluxCoordinateMapper\n",
    "from sbmfi.priors.mog import MixtureOfGaussians\n",
    "from sbmfi.inference.arxiv_polytope_plotter import plot_dataframes"
   ]
  },
  {
   "cell_type": "code",
   "execution_count": 9,
   "id": "e0ef7abf-40c3-4883-82dd-16ebd9d7d248",
   "metadata": {},
   "outputs": [
    {
     "ename": "FileNotFoundError",
     "evalue": "[Errno 2] No such file or directory: 'spiro_flux_coordinate_mapper.p'",
     "output_type": "error",
     "traceback": [
      "\u001b[1;31m---------------------------------------------------------------------------\u001b[0m",
      "\u001b[1;31mFileNotFoundError\u001b[0m                         Traceback (most recent call last)",
      "Cell \u001b[1;32mIn[9], line 1\u001b[0m\n\u001b[1;32m----> 1\u001b[0m fcm  \u001b[38;5;241m=\u001b[39m pickle\u001b[38;5;241m.\u001b[39mload(\u001b[38;5;28;43mopen\u001b[39;49m\u001b[43m(\u001b[49m\u001b[38;5;124;43m'\u001b[39;49m\u001b[38;5;124;43mspiro_flux_coordinate_mapper.p\u001b[39;49m\u001b[38;5;124;43m'\u001b[39;49m\u001b[43m,\u001b[49m\u001b[43m \u001b[49m\u001b[38;5;124;43m'\u001b[39;49m\u001b[38;5;124;43mrb\u001b[39;49m\u001b[38;5;124;43m'\u001b[39;49m\u001b[43m)\u001b[49m)\n",
      "File \u001b[1;32mC:\\python_projects\\sbmfi\\venv\\lib\\site-packages\\IPython\\core\\interactiveshell.py:324\u001b[0m, in \u001b[0;36m_modified_open\u001b[1;34m(file, *args, **kwargs)\u001b[0m\n\u001b[0;32m    317\u001b[0m \u001b[38;5;28;01mif\u001b[39;00m file \u001b[38;5;129;01min\u001b[39;00m {\u001b[38;5;241m0\u001b[39m, \u001b[38;5;241m1\u001b[39m, \u001b[38;5;241m2\u001b[39m}:\n\u001b[0;32m    318\u001b[0m     \u001b[38;5;28;01mraise\u001b[39;00m \u001b[38;5;167;01mValueError\u001b[39;00m(\n\u001b[0;32m    319\u001b[0m         \u001b[38;5;124mf\u001b[39m\u001b[38;5;124m\"\u001b[39m\u001b[38;5;124mIPython won\u001b[39m\u001b[38;5;124m'\u001b[39m\u001b[38;5;124mt let you open fd=\u001b[39m\u001b[38;5;132;01m{\u001b[39;00mfile\u001b[38;5;132;01m}\u001b[39;00m\u001b[38;5;124m by default \u001b[39m\u001b[38;5;124m\"\u001b[39m\n\u001b[0;32m    320\u001b[0m         \u001b[38;5;124m\"\u001b[39m\u001b[38;5;124mas it is likely to crash IPython. If you know what you are doing, \u001b[39m\u001b[38;5;124m\"\u001b[39m\n\u001b[0;32m    321\u001b[0m         \u001b[38;5;124m\"\u001b[39m\u001b[38;5;124myou can use builtins\u001b[39m\u001b[38;5;124m'\u001b[39m\u001b[38;5;124m open.\u001b[39m\u001b[38;5;124m\"\u001b[39m\n\u001b[0;32m    322\u001b[0m     )\n\u001b[1;32m--> 324\u001b[0m \u001b[38;5;28;01mreturn\u001b[39;00m io_open(file, \u001b[38;5;241m*\u001b[39margs, \u001b[38;5;241m*\u001b[39m\u001b[38;5;241m*\u001b[39mkwargs)\n",
      "\u001b[1;31mFileNotFoundError\u001b[0m: [Errno 2] No such file or directory: 'spiro_flux_coordinate_mapper.p'"
     ]
    }
   ],
   "source": [
    "fcm  = pickle.load(open('spiro_flux_coordinate_mapper.p', 'rb'))"
   ]
  },
  {
   "cell_type": "code",
   "execution_count": 1,
   "id": "8c6c756f-53df-4c75-b9b5-7f983167e342",
   "metadata": {},
   "outputs": [],
   "source": [
    "DEVICE = 'cuda:0'\n",
    "RESCALE_VAL = 1.0"
   ]
  },
  {
   "cell_type": "code",
   "execution_count": 2,
   "id": "3f9f3b8c-6809-4c23-9cd5-8d4427914d2c",
   "metadata": {},
   "outputs": [
    {
     "ename": "NameError",
     "evalue": "name 'torch' is not defined",
     "output_type": "error",
     "traceback": [
      "\u001b[1;31m---------------------------------------------------------------------------\u001b[0m",
      "\u001b[1;31mNameError\u001b[0m                                 Traceback (most recent call last)",
      "Cell \u001b[1;32mIn[2], line 1\u001b[0m\n\u001b[1;32m----> 1\u001b[0m mog_rounded_theta \u001b[38;5;241m=\u001b[39m \u001b[43mtorch\u001b[49m\u001b[38;5;241m.\u001b[39mas_tensor(\n\u001b[0;32m      2\u001b[0m     az\u001b[38;5;241m.\u001b[39mextract(mog_data, combined\u001b[38;5;241m=\u001b[39m\u001b[38;5;28;01mTrue\u001b[39;00m,var_names\u001b[38;5;241m=\u001b[39m\u001b[38;5;124m'\u001b[39m\u001b[38;5;124mtheta\u001b[39m\u001b[38;5;124m'\u001b[39m, keep_dataset\u001b[38;5;241m=\u001b[39m\u001b[38;5;28;01mFalse\u001b[39;00m, rng\u001b[38;5;241m=\u001b[39m\u001b[38;5;241m2\u001b[39m)\u001b[38;5;241m.\u001b[39mvalues\n\u001b[0;32m      3\u001b[0m )\u001b[38;5;241m.\u001b[39mT\n\u001b[0;32m      4\u001b[0m fluxes \u001b[38;5;241m=\u001b[39m fcm\u001b[38;5;241m.\u001b[39mmap_theta_2_fluxes(mog_rounded_theta, return_thermo\u001b[38;5;241m=\u001b[39m\u001b[38;5;28;01mFalse\u001b[39;00m, rescale_val\u001b[38;5;241m=\u001b[39m\u001b[38;5;28;01mNone\u001b[39;00m, pandalize\u001b[38;5;241m=\u001b[39m\u001b[38;5;28;01mTrue\u001b[39;00m)\n\u001b[0;32m      5\u001b[0m mog_cylinder_theta \u001b[38;5;241m=\u001b[39m fcm\u001b[38;5;241m.\u001b[39mmap_fluxes_2_theta(fluxes, coordinate_id\u001b[38;5;241m=\u001b[39m\u001b[38;5;124m'\u001b[39m\u001b[38;5;124mcylinder\u001b[39m\u001b[38;5;124m'\u001b[39m, rescale_val\u001b[38;5;241m=\u001b[39mRESCALE_VAL, is_thermo\u001b[38;5;241m=\u001b[39m\u001b[38;5;28;01mFalse\u001b[39;00m)\n",
      "\u001b[1;31mNameError\u001b[0m: name 'torch' is not defined"
     ]
    }
   ],
   "source": [
    "mog_rounded_theta = torch.as_tensor(\n",
    "    az.extract(mog_data, combined=True,var_names='theta', keep_dataset=False, rng=2).values\n",
    ").T\n",
    "fluxes = fcm.map_theta_2_fluxes(mog_rounded_theta, return_thermo=False, rescale_val=None, pandalize=True)\n",
    "mog_cylinder_theta = fcm.map_fluxes_2_theta(fluxes, coordinate_id='cylinder', rescale_val=RESCALE_VAL, is_thermo=False)\n",
    "mog_cylinder_theta_df = fcm.map_fluxes_2_theta(fluxes, coordinate_id='cylinder', rescale_val=RESCALE_VAL, is_thermo=False, pandalize=True)\n",
    "\n",
    "\n",
    "if torch.cuda.is_available() and (DEVICE != 'cpu'):\n",
    "    mog_cylinder_theta=mog_cylinder_theta.to(DEVICE)\n",
    "\n",
    "batch_size = 1024 * 12\n",
    "dataset = torch.utils.data.TensorDataset(mog_cylinder_theta)\n",
    "dataloader = torch.utils.data.DataLoader(dataset, batch_size=batch_size, shuffle=True, num_workers=0)"
   ]
  },
  {
   "cell_type": "code",
   "execution_count": 3,
   "id": "0d00fa40-5588-4faf-99f9-56065b55bbcd",
   "metadata": {},
   "outputs": [
    {
     "ename": "NameError",
     "evalue": "name 'mog_cylinder_theta_df' is not defined",
     "output_type": "error",
     "traceback": [
      "\u001b[1;31m---------------------------------------------------------------------------\u001b[0m",
      "\u001b[1;31mNameError\u001b[0m                                 Traceback (most recent call last)",
      "Cell \u001b[1;32mIn[3], line 1\u001b[0m\n\u001b[1;32m----> 1\u001b[0m \u001b[43mmog_cylinder_theta_df\u001b[49m\u001b[38;5;241m.\u001b[39mhead(\u001b[38;5;241m2\u001b[39m)\n",
      "\u001b[1;31mNameError\u001b[0m: name 'mog_cylinder_theta_df' is not defined"
     ]
    }
   ],
   "source": [
    "mog_cylinder_theta_df.head(2)"
   ]
  },
  {
   "cell_type": "code",
   "execution_count": 4,
   "id": "669a049f-ac15-45e5-b0fe-fe2902935645",
   "metadata": {},
   "outputs": [
    {
     "ename": "NameError",
     "evalue": "name 'hv' is not defined",
     "output_type": "error",
     "traceback": [
      "\u001b[1;31m---------------------------------------------------------------------------\u001b[0m",
      "\u001b[1;31mNameError\u001b[0m                                 Traceback (most recent call last)",
      "Cell \u001b[1;32mIn[4], line 8\u001b[0m\n\u001b[0;32m      5\u001b[0m buffer \u001b[38;5;241m=\u001b[39m \u001b[38;5;241m0.1\u001b[39m\n\u001b[0;32m      7\u001b[0m cylinder_range \u001b[38;5;241m=\u001b[39m (\u001b[38;5;241m-\u001b[39m(RESCALE_VAL \u001b[38;5;241m+\u001b[39m buffer), (RESCALE_VAL \u001b[38;5;241m+\u001b[39m buffer))\n\u001b[1;32m----> 8\u001b[0m xax \u001b[38;5;241m=\u001b[39m \u001b[43mhv\u001b[49m\u001b[38;5;241m.\u001b[39mDimension(theta1, \u001b[38;5;28mrange\u001b[39m\u001b[38;5;241m=\u001b[39mcylinder_range)\n\u001b[0;32m      9\u001b[0m yax \u001b[38;5;241m=\u001b[39m hv\u001b[38;5;241m.\u001b[39mDimension(theta2, \u001b[38;5;28mrange\u001b[39m\u001b[38;5;241m=\u001b[39mcylinder_range)\n\u001b[0;32m     11\u001b[0m hv\u001b[38;5;241m.\u001b[39mBivariate(\n\u001b[0;32m     12\u001b[0m     mog_cylinder_theta_df\u001b[38;5;241m.\u001b[39msample(\u001b[38;5;241m10000\u001b[39m), kdims\u001b[38;5;241m=\u001b[39m[xax, yax]\n\u001b[0;32m     13\u001b[0m )\u001b[38;5;241m.\u001b[39mopts(\n\u001b[0;32m     14\u001b[0m     filled\u001b[38;5;241m=\u001b[39m\u001b[38;5;28;01mTrue\u001b[39;00m, alpha\u001b[38;5;241m=\u001b[39m\u001b[38;5;241m1.0\u001b[39m, cmap\u001b[38;5;241m=\u001b[39m\u001b[38;5;124m'\u001b[39m\u001b[38;5;124mBlues\u001b[39m\u001b[38;5;124m'\u001b[39m,fontsize\u001b[38;5;241m=\u001b[39mmog_plotter\u001b[38;5;241m.\u001b[39m_FONTSIZES, bandwidth\u001b[38;5;241m=\u001b[39m\u001b[38;5;241m0.1\u001b[39m, show_grid\u001b[38;5;241m=\u001b[39m\u001b[38;5;28;01mTrue\u001b[39;00m, \u001b[38;5;241m*\u001b[39m\u001b[38;5;241m*\u001b[39mmog_plotter\u001b[38;5;241m.\u001b[39m_size_opts()\n\u001b[0;32m     15\u001b[0m )\n",
      "\u001b[1;31mNameError\u001b[0m: name 'hv' is not defined"
     ]
    }
   ],
   "source": [
    "theta1 = 'phi'\n",
    "theta2 = 'C_rref_0'\n",
    "theta2 = 'R'\n",
    "# theta2 = 'C_rref_1'\n",
    "buffer = 0.1\n",
    "\n",
    "cylinder_range = (-(RESCALE_VAL + buffer), (RESCALE_VAL + buffer))\n",
    "xax = hv.Dimension(theta1, range=cylinder_range)\n",
    "yax = hv.Dimension(theta2, range=cylinder_range)\n",
    "\n",
    "hv.Bivariate(\n",
    "    mog_cylinder_theta_df.sample(10000), kdims=[xax, yax]\n",
    ").opts(\n",
    "    filled=True, alpha=1.0, cmap='Blues',fontsize=mog_plotter._FONTSIZES, bandwidth=0.1, show_grid=True, **mog_plotter._size_opts()\n",
    ")"
   ]
  },
  {
   "cell_type": "code",
   "execution_count": 5,
   "id": "0c3a0c40-07e5-413a-b230-92422f912c36",
   "metadata": {},
   "outputs": [],
   "source": [
    "# from sbmfi.core.linalg import LinAlg\n",
    "\n",
    "# class Rev_KLD():\n",
    "#     def __init__(\n",
    "#         self,\n",
    "#         fcm: FluxCoordinateMapper,\n",
    "#         density: torch.distributions.Distribution,\n",
    "#         rescale_val=1.0,\n",
    "#     ):\n",
    "#         self._rescale = rescale_val\n",
    "#         samples = density.sample(torch.Size((2,)))\n",
    "#         self._la = device_linalg = LinAlg(backend='torch', device=str(samples.device))\n",
    "#         self._fcm = fcm.to_linalg(device_linalg)\n",
    "#         self._density = density\n",
    "#         self._n_train = 0\n",
    "\n",
    "#     def log_prob(self, z, context=None):\n",
    "#         # with torch.no_grad():\n",
    "#         self._n_train += z.shape[:-1].numel()\n",
    "#         ball = self._fcm.map_cylinder_2_ball(z, rescale_val=self._rescale)\n",
    "#         rounded = self._fcm.map_ball_2_rounded(ball)\n",
    "#         return self._density.log_prob(rounded)\n",
    "\n",
    "# device_target = target.copy_to(DEVICE)\n",
    "# rkld = Rev_KLD(fcm, device_target)\n",
    "\n",
    "# cyl = torch.rand(torch.Size((4, K))) * 2 - 1\n",
    "# rkld.log_prob(cyl.to(DEVICE))"
   ]
  },
  {
   "cell_type": "code",
   "execution_count": 6,
   "id": "cdebb146-a56d-4424-b795-2cbc1d87243e",
   "metadata": {},
   "outputs": [],
   "source": [
    "# prior_flow = flow_constructor(\n",
    "#     fcm=fcm,\n",
    "#     coordinate_id='cylinder',\n",
    "#     rescale_val=RESCALE_VAL,\n",
    "#     log_xch=False,\n",
    "#     embedding_net=None,\n",
    "#     num_context_channels=None,\n",
    "#     autoregressive=True,\n",
    "#     num_blocks=4,\n",
    "#     num_hidden_channels=64,\n",
    "#     num_bins=30,\n",
    "#     dropout_probability=0.01,\n",
    "#     num_transforms=10,\n",
    "#     init_identity=True,\n",
    "#     mixing_id='shuffle',\n",
    "#     use_lu=True,\n",
    "#     p=rkld,\n",
    "#     device=DEVICE,\n",
    "# )\n",
    "\n",
    "# # loss = prior_flow.reverse_kld(num_samples=5)\n"
   ]
  },
  {
   "cell_type": "code",
   "execution_count": null,
   "id": "0f26627e-879f-47f1-9f51-57331a377637",
   "metadata": {},
   "outputs": [],
   "source": [
    "# optimizer = torch.optim.Adam(prior_flow.parameters(), lr=4e-3, weight_decay=1e-3)\n",
    "# scheduler = torch.optim.lr_scheduler.ExponentialLR(optimizer, gamma=0.95, last_epoch=-1)\n",
    "# steps = 0\n",
    "# losses=[]"
   ]
  },
  {
   "cell_type": "code",
   "execution_count": null,
   "id": "8594f90b-8066-4cec-8653-81d2a9395599",
   "metadata": {},
   "outputs": [],
   "source": [
    "# torch.save(prior_flow.state_dict(), \"prior_flow.pt\")\n",
    "prior_flow.load_state_dict(torch.load(\"prior_flow.pt\"))"
   ]
  },
  {
   "cell_type": "code",
   "execution_count": null,
   "id": "ceae26e7-7153-48d3-8674-b1048176092a",
   "metadata": {},
   "outputs": [],
   "source": []
  },
  {
   "cell_type": "code",
   "execution_count": null,
   "id": "57def98e-c6d0-4fd7-a0f9-9ee24b9857fc",
   "metadata": {},
   "outputs": [],
   "source": []
  },
  {
   "cell_type": "code",
   "execution_count": null,
   "id": "788c8383-9dcb-491d-b2f1-34bff45bef0b",
   "metadata": {},
   "outputs": [],
   "source": []
  },
  {
   "cell_type": "code",
   "execution_count": null,
   "id": "5fe74094-1edc-4657-8d7b-dd853cf9253b",
   "metadata": {},
   "outputs": [],
   "source": []
  },
  {
   "cell_type": "code",
   "execution_count": null,
   "id": "112f769d-2a0f-4045-843a-78a978da2e10",
   "metadata": {},
   "outputs": [],
   "source": []
  },
  {
   "cell_type": "code",
   "execution_count": null,
   "id": "c1403281-4b9e-4862-93d0-f2cfc668a275",
   "metadata": {},
   "outputs": [],
   "source": [
    "fig, ax = plot_dataframes(\n",
    "    vertices=v_representation,\n",
    "    samples=flow_rounded,\n",
    "    points=means_df,\n",
    "    x_col='R_h_out', \n",
    "    y_col='R_bm',\n",
    "    x_label='X-axis', \n",
    "    y_label='Y-axis',\n",
    "    label1='Polytope vertices', \n",
    "    label2='Samples Convex Hull',\n",
    "    label3='Samples KDE Density', \n",
    "    label4='Additional Points',\n",
    "    kde_threshold=1e-8,  # informational only (not directly used in sns.kdeplot)\n",
    "    bw_method=None,\n",
    "    bw_adjust=0.6,\n",
    "    levels=8,\n",
    "    font_dict=None,\n",
    "    vertices_fill_color='#ffec58',\n",
    "    samples_fill_color='#e02450',\n",
    "    figsize=(6, 4),\n",
    "    show_legend=True,\n",
    "    legend_loc='best'\n",
    ")\n",
    "plt.show()"
   ]
  },
  {
   "cell_type": "code",
   "execution_count": null,
   "id": "ce21b7b1-692e-497f-87c1-2b0b19c34bf0",
   "metadata": {},
   "outputs": [],
   "source": [
    "diff = log_p - tot_log_q\n",
    "ws = torch.exp(diff)\n",
    "KL_Z = ws.mean()\n",
    "ESS = ws.sum()**2 / (ws**2).sum()\n",
    "ESS, KL_Z"
   ]
  },
  {
   "cell_type": "code",
   "execution_count": null,
   "id": "76b564e4-47a7-4290-b8f8-314c5a009cd8",
   "metadata": {},
   "outputs": [],
   "source": [
    "tot_log_q = log_q - torch.log(abs(dets)) \n",
    "log_p = target.log_prob(flow_rounded)"
   ]
  },
  {
   "cell_type": "code",
   "execution_count": null,
   "id": "1ebce20c-7c86-4dfc-9e38-4bf6554dc79d",
   "metadata": {},
   "outputs": [],
   "source": [
    "(tot_log_q + log_p).mean() # torch.log(KL_Z)"
   ]
  }
 ],
 "metadata": {
  "kernelspec": {
   "display_name": "Python 3 (ipykernel)",
   "language": "python",
   "name": "python3"
  },
  "language_info": {
   "codemirror_mode": {
    "name": "ipython",
    "version": 3
   },
   "file_extension": ".py",
   "mimetype": "text/x-python",
   "name": "python",
   "nbconvert_exporter": "python",
   "pygments_lexer": "ipython3",
   "version": "3.10.11"
  }
 },
 "nbformat": 4,
 "nbformat_minor": 5
}
