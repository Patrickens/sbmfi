{
 "cells": [
  {
   "cell_type": "code",
   "execution_count": 1,
   "id": "feb74c8c-2d58-4b1c-bcb8-3dfb98f4b2de",
   "metadata": {},
   "outputs": [
    {
     "ename": "ImportError",
     "evalue": "cannot import name 'jacobian' from 'torch.functional' (C:\\python_projects\\sbmfi\\venv\\lib\\site-packages\\torch\\functional.py)",
     "output_type": "error",
     "traceback": [
      "\u001b[1;31m---------------------------------------------------------------------------\u001b[0m",
      "\u001b[1;31mImportError\u001b[0m                               Traceback (most recent call last)",
      "Cell \u001b[1;32mIn[1], line 16\u001b[0m\n\u001b[0;32m     13\u001b[0m \u001b[38;5;28;01mimport\u001b[39;00m \u001b[38;5;21;01marviz\u001b[39;00m \u001b[38;5;28;01mas\u001b[39;00m \u001b[38;5;21;01maz\u001b[39;00m\n\u001b[0;32m     14\u001b[0m \u001b[38;5;28;01mimport\u001b[39;00m \u001b[38;5;21;01mmatplotlib\u001b[39;00m\u001b[38;5;21;01m.\u001b[39;00m\u001b[38;5;21;01mpyplot\u001b[39;00m \u001b[38;5;28;01mas\u001b[39;00m \u001b[38;5;21;01mplt\u001b[39;00m\n\u001b[1;32m---> 16\u001b[0m \u001b[38;5;28;01mfrom\u001b[39;00m \u001b[38;5;21;01mtorch\u001b[39;00m\u001b[38;5;21;01m.\u001b[39;00m\u001b[38;5;21;01mfunctional\u001b[39;00m \u001b[38;5;28;01mimport\u001b[39;00m jacobian\n\u001b[0;32m     17\u001b[0m \u001b[38;5;28;01mfrom\u001b[39;00m \u001b[38;5;21;01msbmfi\u001b[39;00m\u001b[38;5;21;01m.\u001b[39;00m\u001b[38;5;21;01mcore\u001b[39;00m\u001b[38;5;21;01m.\u001b[39;00m\u001b[38;5;21;01mcoordinater\u001b[39;00m \u001b[38;5;28;01mimport\u001b[39;00m \u001b[38;5;241m*\u001b[39m\n\u001b[0;32m     18\u001b[0m \u001b[38;5;28;01mfrom\u001b[39;00m \u001b[38;5;21;01msbmfi\u001b[39;00m\u001b[38;5;21;01m.\u001b[39;00m\u001b[38;5;21;01minference\u001b[39;00m\u001b[38;5;21;01m.\u001b[39;00m\u001b[38;5;21;01marxiv_polytope_plotter\u001b[39;00m \u001b[38;5;28;01mimport\u001b[39;00m plot_dataframes\n",
      "\u001b[1;31mImportError\u001b[0m: cannot import name 'jacobian' from 'torch.functional' (C:\\python_projects\\sbmfi\\venv\\lib\\site-packages\\torch\\functional.py)"
     ]
    }
   ],
   "source": [
    "import math\n",
    "import pandas as pd\n",
    "import numpy as np\n",
    "import torch\n",
    "import pickle\n",
    "import tqdm\n",
    "import inspect\n",
    "\n",
    "import arviz as az\n",
    "from sbmfi.inference.flow_trainer import flow_constructor, flow_trainer\n",
    "from sbmfi.priors.mog import MixtureOfGaussians\n",
    "\n",
    "import arviz as az\n",
    "import matplotlib.pyplot as plt\n",
    "\n",
    "from sbmfi.core.coordinater import *\n",
    "from sbmfi.inference.arxiv_polytope_plotter import plot_dataframes"
   ]
  },
  {
   "cell_type": "code",
   "execution_count": 2,
   "id": "e0ef7abf-40c3-4883-82dd-16ebd9d7d248",
   "metadata": {},
   "outputs": [],
   "source": [
    "fcm, v_representation, volume = pickle.load(open('spiro_flux_coordinate_mapper.p', 'rb'))\n",
    "psm = fcm.sampler\n",
    "mog_data = az.from_netcdf( 'mog_polytope_105k_samples.nc')\n",
    "means_df = pd.DataFrame(np.hstack([mog_data.attrs['mog_means'], mog_data.attrs['mog_weights'][:, None]]), columns=fcm.theta_id().append(pd.Index(['weights'])))"
   ]
  },
  {
   "cell_type": "code",
   "execution_count": 3,
   "id": "dc98d8d3-d55e-4744-b28b-1a741ebb32c8",
   "metadata": {},
   "outputs": [
    {
     "name": "stdout",
     "output_type": "stream",
     "text": [
      "Using gpu\n"
     ]
    },
    {
     "data": {
      "text/plain": [
       "<torch._C.Generator at 0x187b24248b0>"
      ]
     },
     "execution_count": 3,
     "metadata": {},
     "output_type": "execute_result"
    }
   ],
   "source": [
    "if torch.cuda.is_available():\n",
    "    device = 'cuda:0'\n",
    "    print('Using gpu')\n",
    "else:\n",
    "    device = 'cpu'\n",
    "    print('Using cpu.')\n",
    "torch.set_default_dtype(torch.float)\n",
    "torch.manual_seed(42)"
   ]
  },
  {
   "cell_type": "code",
   "execution_count": 4,
   "id": "3f9f3b8c-6809-4c23-9cd5-8d4427914d2c",
   "metadata": {},
   "outputs": [
    {
     "data": {
      "text/html": [
       "<div>\n",
       "<style scoped>\n",
       "    .dataframe tbody tr th:only-of-type {\n",
       "        vertical-align: middle;\n",
       "    }\n",
       "\n",
       "    .dataframe tbody tr th {\n",
       "        vertical-align: top;\n",
       "    }\n",
       "\n",
       "    .dataframe thead th {\n",
       "        text-align: right;\n",
       "    }\n",
       "</style>\n",
       "<table border=\"1\" class=\"dataframe\">\n",
       "  <thead>\n",
       "    <tr style=\"text-align: right;\">\n",
       "      <th>net_theta_id</th>\n",
       "      <th>phi</th>\n",
       "      <th>C_rref_0</th>\n",
       "      <th>C_rref_1</th>\n",
       "      <th>R</th>\n",
       "    </tr>\n",
       "    <tr>\n",
       "      <th>samples_id</th>\n",
       "      <th></th>\n",
       "      <th></th>\n",
       "      <th></th>\n",
       "      <th></th>\n",
       "    </tr>\n",
       "  </thead>\n",
       "  <tbody>\n",
       "    <tr>\n",
       "      <th>0</th>\n",
       "      <td>-0.986469</td>\n",
       "      <td>0.893737</td>\n",
       "      <td>0.948042</td>\n",
       "      <td>0.581231</td>\n",
       "    </tr>\n",
       "    <tr>\n",
       "      <th>1</th>\n",
       "      <td>-0.734440</td>\n",
       "      <td>-0.196652</td>\n",
       "      <td>0.876233</td>\n",
       "      <td>-0.865825</td>\n",
       "    </tr>\n",
       "  </tbody>\n",
       "</table>\n",
       "</div>"
      ],
      "text/plain": [
       "net_theta_id       phi  C_rref_0  C_rref_1         R\n",
       "samples_id                                          \n",
       "0            -0.986469  0.893737  0.948042  0.581231\n",
       "1            -0.734440 -0.196652  0.876233 -0.865825"
      ]
     },
     "execution_count": 4,
     "metadata": {},
     "output_type": "execute_result"
    }
   ],
   "source": [
    "mog_rounded = torch.as_tensor(\n",
    "    az.extract(mog_data, combined=True,var_names='theta', keep_dataset=False, rng=2).values\n",
    ").T\n",
    "fluxes = fcm.map_theta_2_fluxes(mog_rounded, return_thermo=False, pandalize=True)\n",
    "mog_cylinder = fcm.map_fluxes_2_theta(fluxes, coordinate_id='cylinder', is_thermo=False)\n",
    "mog_cylinder_df = fcm.map_fluxes_2_theta(fluxes, coordinate_id='cylinder', is_thermo=False, pandalize=True)\n",
    "\n",
    "mog_cylinder_df.head(2)"
   ]
  },
  {
   "cell_type": "code",
   "execution_count": 8,
   "id": "8b016e2c-9da6-4509-9498-d95c093d7b69",
   "metadata": {},
   "outputs": [],
   "source": [
    "flow_parameters = dict(\n",
    "    coordinate_id='cylinder',\n",
    "    embedding_net=None,\n",
    "    num_context_channels=None,\n",
    "    autoregressive=True,\n",
    "    num_blocks=4,\n",
    "    num_hidden_channels=64,\n",
    "    num_bins=30,\n",
    "    dropout_probability=0.01,\n",
    "    num_transforms=10,\n",
    "    init_identity=True,\n",
    "    mixing_id='shuffle',\n",
    "    use_lu=True,\n",
    "    p=None,\n",
    "    device=device,\n",
    ")\n",
    "\n",
    "flow = flow_constructor(\n",
    "    fcm=fcm,\n",
    "    **flow_parameters\n",
    ")"
   ]
  },
  {
   "cell_type": "code",
   "execution_count": 9,
   "id": "d9b94231-0124-41b6-8d07-f0cd927cda21",
   "metadata": {},
   "outputs": [],
   "source": [
    "batch_size = 1024 * 12\n",
    "lr = 4e-3\n",
    "weight_decay = 1e-3\n",
    "gamma = 0.95\n",
    "n_epoch = 50\n",
    "\n",
    "dataset = torch.utils.data.TensorDataset(mog_cylinder.to(dtype=torch.float, device=device))\n",
    "dataloader = torch.utils.data.DataLoader(dataset, batch_size=batch_size, shuffle=True, num_workers=0)\n",
    "\n",
    "optimizer = torch.optim.Adam(flow.parameters(), lr=lr, weight_decay=weight_decay)\n",
    "scheduler = torch.optim.lr_scheduler.ExponentialLR(optimizer, gamma=gamma, last_epoch=-1)\n",
    "steps = 0\n",
    "losses=[]"
   ]
  },
  {
   "cell_type": "code",
   "execution_count": 10,
   "id": "7526e180-bb69-48e0-a753-2f73ace676dd",
   "metadata": {},
   "outputs": [
    {
     "name": "stderr",
     "output_type": "stream",
     "text": [
      "  1%|▉                                                                       | 6/450 [00:34<42:41,  5.77s/it, loss=1.31]\n"
     ]
    }
   ],
   "source": [
    "n_steps = n_epoch * len(dataloader)\n",
    "pbar = tqdm.tqdm(total=n_steps, ncols=120, position=0)\n",
    "try: \n",
    "    for epoch in range(n_epoch):\n",
    "        for i, (chunk,)  in enumerate(dataloader):\n",
    "            loss = flow.forward_kld(chunk)\n",
    "            optimizer.zero_grad()\n",
    "            if ~(torch.isnan(loss) | torch.isinf(loss)):\n",
    "                loss.backward()\n",
    "                optimizer.step()\n",
    "            else:\n",
    "                raise ValueError(f'loss: {loss}')\n",
    "            loss_ = loss.item()\n",
    "            losses.append(loss_)\n",
    "            pbar.update()\n",
    "            pbar.set_postfix(loss=round(loss_, 4))\n",
    "        if (scheduler is not None):\n",
    "            scheduler.step()\n",
    "except KeyboardInterrupt:\n",
    "    pass\n",
    "except Exception as e:\n",
    "    raise e\n",
    "finally:\n",
    "    pbar.close()"
   ]
  },
  {
   "cell_type": "code",
   "execution_count": 22,
   "id": "e55a848d-e83e-44e7-8560-b0f218d65cbf",
   "metadata": {},
   "outputs": [],
   "source": [
    "# flow_parameters_ = dict(\n",
    "#     **flow_parameters,\n",
    "#     batch_size = batch_size,\n",
    "#     lr=lr,\n",
    "#     weight_decay=weight_decay,\n",
    "#     gamma=gamma,\n",
    "#     n_epoch = n_epoch,\n",
    "#     losses=losses,\n",
    "# )\n",
    "\n",
    "# pickle.dump(flow_parameters_, open('spline_flow_parameters.p', 'wb'))\n",
    "# torch.save(flow.state_dict(), \"spline_flow.pt\")"
   ]
  },
  {
   "cell_type": "code",
   "execution_count": 5,
   "id": "e20d7bb6-9ed3-44d4-9cf5-8c071f361540",
   "metadata": {},
   "outputs": [
    {
     "name": "stderr",
     "output_type": "stream",
     "text": [
      "C:\\Users\\diede\\AppData\\Local\\Temp\\ipykernel_3200\\2890443654.py:12: FutureWarning: You are using `torch.load` with `weights_only=False` (the current default value), which uses the default pickle module implicitly. It is possible to construct malicious pickle data which will execute arbitrary code during unpickling (See https://github.com/pytorch/pytorch/blob/main/SECURITY.md#untrusted-models for more details). In a future release, the default value for `weights_only` will be flipped to `True`. This limits the functions that could be executed during unpickling. Arbitrary objects will no longer be allowed to be loaded via this mode unless they are explicitly allowlisted by the user via `torch.serialization.add_safe_globals`. We recommend you start setting `weights_only=True` for any use case where you don't have full control of the loaded file. Please open an issue on GitHub for any issues related to this experimental feature.\n",
      "  recon_flow.load_state_dict(torch.load(\"spline_flow.pt\"))\n"
     ]
    },
    {
     "data": {
      "text/plain": [
       "<All keys matched successfully>"
      ]
     },
     "execution_count": 5,
     "metadata": {},
     "output_type": "execute_result"
    }
   ],
   "source": [
    "flow_parameters_ = pickle.load(open('spline_flow_parameters.p', 'rb'))\n",
    "losses = flow_parameters_['losses']\n",
    "\n",
    "sig = inspect.signature(flow_constructor)\n",
    "valid_keys = sig.parameters.keys()\n",
    "flow_parameters = {k: v for k, v in flow_parameters_.items() if k in valid_keys}\n",
    "\n",
    "recon_flow = flow_constructor(\n",
    "    fcm=fcm,\n",
    "    **flow_parameters\n",
    ")\n",
    "recon_flow.load_state_dict(torch.load(\"spline_flow.pt\"))"
   ]
  },
  {
   "cell_type": "code",
   "execution_count": 24,
   "id": "ef6918e9-5c89-41e9-a798-f4a0ea54a8f7",
   "metadata": {},
   "outputs": [
    {
     "data": {
      "image/png": "[encoded data removed]",
      "text/plain": [
       "<Figure size 400x300 with 1 Axes>"
      ]
     },
     "metadata": {},
     "output_type": "display_data"
    }
   ],
   "source": [
    "steps = np.arange(len(losses))\n",
    "plt.figure(figsize=(4, 3))\n",
    "plt.scatter(steps, losses, c='blue', alpha=0.7, edgecolors='w', s=20)\n",
    "plt.xlabel('Training Steps')\n",
    "plt.ylabel('Loss')\n",
    "plt.title('Machine Learning Losses vs Training Steps')\n",
    "plt.grid(True)\n",
    "plt.ylim(0.0, 2.0)  # Set the y-axis limits from 0.0 to 0.7\n",
    "plt.show()"
   ]
  },
  {
   "cell_type": "code",
   "execution_count": 25,
   "id": "0c3a0c40-07e5-413a-b230-92422f912c36",
   "metadata": {},
   "outputs": [],
   "source": [
    "with torch.no_grad():\n",
    "    flow_samples, log_q = recon_flow.sample(20000)\n",
    "flow_cylinder, log_q = flow_samples.to(device='cpu', dtype=torch.double), log_q.to(device='cpu', dtype=torch.double)"
   ]
  },
  {
   "cell_type": "code",
   "execution_count": 26,
   "id": "5fe74094-1edc-4657-8d7b-dd853cf9253b",
   "metadata": {},
   "outputs": [],
   "source": [
    "flow_ball, J_bc = map_cylinder_2_ball(psm, flow_cylinder, rescale_val=1.0, jacobian=True)\n",
    "flow_rounded, J_rb = map_ball_2_rounded(psm, flow_ball, jacobian=True)\n",
    "flow_rounded_df = map_ball_2_rounded(psm, flow_ball, pandalize=True)\n",
    "J_rc = fcm._la.tensormul_T(fcm._la.transax(J_bc), J_rb)\n",
    "\n",
    "dets = fcm._la.det(J_rc)"
   ]
  },
  {
   "cell_type": "code",
   "execution_count": 27,
   "id": "432272df-12cb-4ba8-a449-11f2c3789a5c",
   "metadata": {},
   "outputs": [],
   "source": [
    "target = MixtureOfGaussians(\n",
    "    means=torch.as_tensor(mog_data.attrs['mog_means'], dtype=torch.float), \n",
    "    covariances=torch.as_tensor(mog_data.attrs['mog_covs'], dtype=torch.float),\n",
    "    weights=torch.as_tensor(mog_data.attrs['mog_weights'], dtype=torch.float),\n",
    ")\n",
    "mog_Z = mog_data.attrs['mog_Z']\n",
    "log_p = target.log_prob(flow_rounded) - torch.log(torch.as_tensor(mog_Z))"
   ]
  },
  {
   "cell_type": "code",
   "execution_count": 39,
   "id": "d4a527d6-1f3a-4522-bc4a-acbb84b5a087",
   "metadata": {},
   "outputs": [
    {
     "name": "stdout",
     "output_type": "stream",
     "text": [
      "ESS: 0.862, KL div.: 0.69669422, in pol: 0.0\n"
     ]
    }
   ],
   "source": [
    "weights_df = pd.DataFrame([\n",
    "    flow_ball[:, -1].numpy(),\n",
    "    log_p.numpy(),\n",
    "    log_q.numpy(),\n",
    "    torch.log(abs(dets)).numpy(),\n",
    "], index=['r', 'log_p', 'log_q', 'abs_log_det', ]).T\n",
    "\n",
    "weights_df['tot_log_q'] = weights_df['log_q'] - weights_df['abs_log_det']\n",
    "weights_df['diff'] = weights_df['log_p'] - weights_df['tot_log_q']\n",
    "\n",
    "ws = np.exp(weights_df['diff'])\n",
    "KL_Z = ws.mean()\n",
    "ln_KL = (weights_df['log_p'] + weights_df['tot_log_q']).mean() + np.log(KL_Z)\n",
    "KL = np.exp(ln_KL)\n",
    "ESS = ws.sum()**2 / (ws**2).sum()\n",
    "# ESS, KL_Z, KL\n",
    "in_pol = 0.0\n",
    "print(f'ESS: {round(ESS / 20000, 3)}, KL div.: {round(KL,8)}, in pol: {in_pol}')"
   ]
  },
  {
   "cell_type": "code",
   "execution_count": 35,
   "id": "c1403281-4b9e-4862-93d0-f2cfc668a275",
   "metadata": {},
   "outputs": [],
   "source": [
    "plt.ioff()\n",
    "\n",
    "fig, ax = plot_dataframes(\n",
    "    vertices=v_representation,\n",
    "    samples=flow_rounded_df,\n",
    "    n_sample_cdf=10000,\n",
    "    points=means_df,\n",
    "    x_col='R_h_out', \n",
    "    y_col='R_biomass',\n",
    "    x_label='R_h_out', \n",
    "    y_label='R_biomass',\n",
    "    label1='Polytope', \n",
    "    label2='Samples Convex Hull',\n",
    "    label3='Samples KDE Density', \n",
    "    label4='Additional Points',\n",
    "    bw_method=None,\n",
    "    bw_adjust=0.6,\n",
    "    levels=8,\n",
    "    font_dict=None,\n",
    "    vertices_fill_color='#ffec58',\n",
    "    samples_fill_color='#e02450',\n",
    "    figsize=(6, 4),\n",
    "    show_legend=False,\n",
    "    legend_loc='best',\n",
    "    s_points=15,\n",
    "    points_color='#C41E3A',\n",
    ")\n",
    "# plt.show()"
   ]
  },
  {
   "cell_type": "code",
   "execution_count": 36,
   "id": "b24a0b9e-ffbd-422e-a21d-b137e2a49888",
   "metadata": {},
   "outputs": [],
   "source": [
    "plt.savefig(\n",
    "    'spline_flow.svg', transparent=None, dpi='figure', format='svg',\n",
    "    metadata=None, bbox_inches=None, pad_inches=0.1,\n",
    "    facecolor='auto', edgecolor='auto', backend=None,\n",
    ")"
   ]
  },
  {
   "cell_type": "code",
   "execution_count": null,
   "id": "e22df1a0-f152-4f19-b17f-bdb92f60d0a1",
   "metadata": {},
   "outputs": [],
   "source": []
  }
 ],
 "metadata": {
  "kernelspec": {
   "display_name": "Python 3 (ipykernel)",
   "language": "python",
   "name": "python3"
  },
  "language_info": {
   "codemirror_mode": {
    "name": "ipython",
    "version": 3
   },
   "file_extension": ".py",
   "mimetype": "text/x-python",
   "name": "python",
   "nbconvert_exporter": "python",
   "pygments_lexer": "ipython3",
   "version": "3.10.11"
  }
 },
 "nbformat": 4,
 "nbformat_minor": 5
}
