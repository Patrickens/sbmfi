{
 "cells": [
  {
   "cell_type": "markdown",
   "id": "7f610e1c-1669-407c-bc9a-2ef1100ac1fa",
   "metadata": {},
   "source": [
    "# General remarks\n",
    "\n",
    "This document serves to demonstrate the use of the `sbmfi` (simulation based metabolic flux inference) `python` package that I have developed over the course of my PhD. The folder structure of the package is shown below:\n",
    "```\n",
    "sbmfi\n",
    "|___ core\n",
    "|___ inference\n",
    "|___ models\n",
    "|___ lcmsanalysis\n",
    "```\n",
    "The `core` folder contains all the algorithms that are necessary to specify a simulator that takes as input fluxes and outputs mass distribution vectors (MDV) of metabolites in a steady-state $^{13}C$ carbon labelling experiment (CLE). The `inference` folder contains all the algorithms necessary to perform $^{13}C$ metabolic flux analysis, such as four different priors and a host of different posterior sampling algorithms such as Markov Chain Monte Carlo (MCMC), Sequential Monte Carlo (SMC) and Neural Density Inference (NDI). The `models` folder is self-explanatory. Last, the `lcmsanalysis` contains scripts that I've used to analyze my LC-MS experiments, but this is very dirty coding and should generally be ignored, except for the `formula` file that specifies a convenient class for chemical formulas.\n"
   ]
  },
  {
   "cell_type": "markdown",
   "id": "9f36bb35-93da-4afd-9f70-c4f1a0bc14ad",
   "metadata": {},
   "source": [
    "### Constructing a simulator: `sbmfi.core`\n",
    "\n",
    "The simulator of `sbmfi` inherits its design from the popular [`cobrapy` package](https://cobrapy.readthedocs.io/en/latest/). It is highly recommended to first familiarize one-self with `cobrapy` before working with this simulator.\n",
    "\n",
    "All the computations for `sbmfi` are performed by one of two possible backends: `numpy` and `torch`. The reason for doing this is that `numpy` and the `scipy` extension are the standard scientific numerics packages in python. It is possible to use the simulator without having `torch` as a dependency. The inclusion of `torch` as a back-end has two reasons. First, `torch` is the backend that is used for all the machine learning related inference algorithms, such as the ones used by the [`sbi` package](https://www.mackelab.org/sbi/). Second, because of the automatic differentiation abilities of torch, it is trivial to compute Jacobian matrices, such as the Jacobian of MDVs w.r.t. fluxes. It turns out that automatic differentiation is very slow in this case and thus that analytical computation is much preferred, however the automatic differentiation capabilities are very useful sanity checks. \n",
    "\n",
    "The different backends are specified in `sbmfi.core.linalg.LinAlg`. Linalg has the following functions:\n",
    "- setting a global seed for random number generation\n",
    "- specifying a device where all tensors are stored (e.g. for use of `CUDA` on GPU)\n",
    "- setting of `kwargs` of functions\n",
    "- setting the `batch_size` parameter, which is the number of fluxes that are processed in batch during simulations"
   ]
  },
  {
   "cell_type": "code",
   "execution_count": 1,
   "id": "35f6fc3a-83a5-4638-92b1-667758167a7e",
   "metadata": {},
   "outputs": [],
   "source": [
    "import pandas as pd\n",
    "import torch\n",
    "import numpy as np"
   ]
  },
  {
   "cell_type": "code",
   "execution_count": 2,
   "id": "c1be6755-885a-471d-a8a4-477de4f6d30e",
   "metadata": {},
   "outputs": [
    {
     "name": "stdout",
     "output_type": "stream",
     "text": [
      "[[0. 0. 0.]\n",
      " [0. 0. 0.]\n",
      " [0. 0. 0.]] a numpy array\n",
      "tensor([[0., 0., 0.],\n",
      "        [0., 0., 0.],\n",
      "        [0., 0., 0.]]) a torch tensor\n"
     ]
    }
   ],
   "source": [
    "from sbmfi.core.linalg import LinAlg\n",
    "\n",
    "np_la = LinAlg(backend='numpy', seed=1, batch_size=2)  \n",
    "tr_la = LinAlg(backend='torch', seed=1, batch_size=2)\n",
    "\n",
    "a = np_la.get_tensor(shape=(3,3))\n",
    "print(a, 'a numpy array')\n",
    "\n",
    "b = tr_la.get_tensor(shape=(3,3))\n",
    "print(b, 'a torch tensor')"
   ]
  },
  {
   "cell_type": "markdown",
   "id": "11b28755-8222-44bc-83b5-fb0c93000b67",
   "metadata": {},
   "source": [
    "### Constucting a model from string input\n",
    "\n",
    "There are different ways of constructing a model. Shown below is the construction of a model completely from string inputs. \n",
    "\n",
    "It is also possible is to augment an [SBML model](https://sbml.org/) with atom-transition mappings. This way, we can use models from the [BiGG repository](http://bigg.ucsd.edu/models), which can be read by the `cobra.io` package. This way of model construction is used for the *E. coli* model that I use throughout my thesis. "
   ]
  },
  {
   "cell_type": "code",
   "execution_count": 3,
   "id": "769c7faf-5d48-4528-961a-47d95c9e9a0c",
   "metadata": {},
   "outputs": [
    {
     "name": "stdout",
     "output_type": "stream",
     "text": [
      "Set parameter Username\n",
      "Academic license - for non-commercial use only - expires 2023-11-09\n"
     ]
    }
   ],
   "source": [
    "from sbmfi.core.model import EMU_Model\n",
    "\n",
    "reaction_kwargs = {\n",
    "    'a_in': {\n",
    "        'upper_bound': 10.0, \n",
    "        'lower_bound': 10.0,\n",
    "        'atom_map_str': '∅ --> A/abc'\n",
    "    },\n",
    "    'co2_out': {\n",
    "        'upper_bound': 100.0,\n",
    "        'atom_map_str': 'co2/a --> ∅'\n",
    "    },\n",
    "    'e_out': {\n",
    "        'upper_bound': 100.0,\n",
    "        'atom_map_str': 'E/ab --> ∅'\n",
    "    },\n",
    "    'v1': {\n",
    "        'upper_bound': 100.0,\n",
    "        'atom_map_str': 'A/abc --> B/ab + D/c'\n",
    "    },\n",
    "    'v2': {\n",
    "        'upper_bound': 100.0,\n",
    "        'atom_map_str': 'A/abc --> C/bc + D/a'\n",
    "    },\n",
    "    'v3': {\n",
    "        'upper_bound': 100.0,\n",
    "        'atom_map_str': 'B/ab + D/c --> E/ac + co2/b'\n",
    "    },\n",
    "    'v4': {\n",
    "        'upper_bound': 100.0,\n",
    "        'atom_map_str': 'C/ab + D/c --> E/cb + co2/a'\n",
    "    },\n",
    "}\n",
    "metabolite_kwargs = {\n",
    "    'E': {'formula': 'C2H4O2'},\n",
    "}\n",
    "\n",
    "model = EMU_Model(id_or_model='bimodal', linalg=tr_la)\n",
    "\n",
    "model.add_reactions(\n",
    "    reaction_kwargs=reaction_kwargs,\n",
    "    metabolite_kwargs=metabolite_kwargs\n",
    ")"
   ]
  },
  {
   "cell_type": "markdown",
   "id": "1b2e7e92-ddbd-42e1-be09-d409d8c56c4e",
   "metadata": {},
   "source": [
    "Now we set the $^{13}C$-labelling of the substrate metabolite, which in this case is metabolite `A`. The convention is that 0s indicate a $^{12}C$ atom and 1s indicate a $^{13}C$ atom"
   ]
  },
  {
   "cell_type": "code",
   "execution_count": 4,
   "id": "1d6d2036-0732-41e1-92d3-acc439770a1c",
   "metadata": {},
   "outputs": [],
   "source": [
    "input_labelling = pd.Series({f'A/011': 1.0,}, name='input')\n",
    "model.set_input_labelling(input_labelling)"
   ]
  },
  {
   "cell_type": "markdown",
   "id": "2daecbc6-031d-4ef6-aa15-7a34393dbf5a",
   "metadata": {},
   "source": [
    "Last, we set the metabolite(-fragments) that we can measure given our experimental capabilities. This is important information for the EMU algorithm."
   ]
  },
  {
   "cell_type": "code",
   "execution_count": 5,
   "id": "d203bc27-be4b-46bb-a1f9-22af08151306",
   "metadata": {},
   "outputs": [],
   "source": [
    "model.set_measurements(measurement_list=['E']) "
   ]
  },
  {
   "cell_type": "markdown",
   "id": "d29da078-27f1-46c7-8838-a48397e12db3",
   "metadata": {},
   "source": [
    "As in `cobra`, our model has reaction objects, though these have been augmented in order to handle labelling simulations:"
   ]
  },
  {
   "cell_type": "code",
   "execution_count": 6,
   "id": "696d76aa-a185-4176-b534-078ca1e06fde",
   "metadata": {},
   "outputs": [
    {
     "name": "stdout",
     "output_type": "stream",
     "text": [
      "a_in:  --> A/abc (10.0, 10.0) <class 'sbmfi.core.reaction.EMU_Reaction'>\n",
      "co2_out: co2/a -->  (0.0, 100.0) <class 'sbmfi.core.reaction.EMU_Reaction'>\n",
      "e_out: E/ab -->  (0.0, 100.0) <class 'sbmfi.core.reaction.EMU_Reaction'>\n",
      "v1: A/abc --> B/ab + D/c (0.0, 100.0) <class 'sbmfi.core.reaction.EMU_Reaction'>\n",
      "v2: A/abc --> C/bc + D/a (0.0, 100.0) <class 'sbmfi.core.reaction.EMU_Reaction'>\n",
      "v3: B/ab + D/c --> E/ac + co2/b (0.0, 100.0) <class 'sbmfi.core.reaction.EMU_Reaction'>\n",
      "v4: C/ab + D/c --> E/cb + co2/a (0.0, 100.0) <class 'sbmfi.core.reaction.EMU_Reaction'>\n"
     ]
    }
   ],
   "source": [
    "for reaction in model.reactions:\n",
    "    print(reaction, reaction.bounds, type(reaction))"
   ]
  },
  {
   "cell_type": "markdown",
   "id": "c0fd65d6-18e8-4f24-bd44-63e57fb4b612",
   "metadata": {},
   "source": [
    "In the cell below, we build the simulator. There are a couple of very important arguments in this function:\n",
    "- `kernel_basis` $\\in$ {`rref`, `svd`}: kernel of the null-space of the flux polytope\n",
    "- `basis_coordinates` $\\in$ {`rounded`, `transformed`}: whether the input to the simulator is in transformed or rounded coordinates\n",
    "- `free_reaction_id` specifies which fluxes are considered free when using the row reduced echelon form (RREF) kernel basis and transformed coordinates\n",
    "- `logit_xch_fluxes`: whether the input to the simulator has logit transformed exchange flux coordinates"
   ]
  },
  {
   "cell_type": "code",
   "execution_count": 7,
   "id": "f5f27e71-848b-4131-ba6d-68bdd5ef1aa6",
   "metadata": {},
   "outputs": [
    {
     "data": {
      "text/plain": [
       "sbmfi.core.polytopia.FluxCoordinateMapper"
      ]
     },
     "execution_count": 7,
     "metadata": {},
     "output_type": "execute_result"
    }
   ],
   "source": [
    "model.build_simulator(\n",
    "    free_reaction_id=['v4'],\n",
    "    kernel_basis='rref',\n",
    "    basis_coordinates='transformed',\n",
    "    logit_xch_fluxes=False,\n",
    "    verbose=False,\n",
    ")\n",
    "\n",
    "fcm = model._fcm\n",
    "type(fcm)"
   ]
  },
  {
   "cell_type": "markdown",
   "id": "f5a4480d-3a2e-41cb-bd79-76457769b10c",
   "metadata": {},
   "source": [
    "The `fcm` variable above is where fluxes are mapped between different coordinate systems. The simulator takes as input labelling fluxes, whereas the thermodynamic coordinate system is more convenient and interpretable and is what is typically reported in literature on fluxes. Sampling a polytope uniformely is done in a rounded full-dimensional polytope, which is again a different coordinate system for the same variables. When building our simulator, it has a `sbmfi.core.polytopia.FluxCoordinateMapper` in the back where all the relevant coordinate mappings are specified. For the `model` built above, we chose to use a `rref` null-space kernel and `transformed` coordinates, which corresponds to using free fluxes as our input coordinate system. \n",
    "\n",
    "`fcm` has three `sbmfi.core.polytopia.LabellingPolytope` attributes: `fcm._Fn`, `fcm._F` and `fcm._Ft` which represent the net-flux, labelling-flux and thermodynamic flux polytopes respectively. Below we see that the `net_flux_polytope` object has attributes `S` and `h` which represent the stoichiometric matrix and the equality constraints and attributes `A` and `b` which represent the inequality constraints."
   ]
  },
  {
   "cell_type": "code",
   "execution_count": 8,
   "id": "70c16ad5-bc9a-4623-bc53-8cd5194ee66f",
   "metadata": {},
   "outputs": [
    {
     "name": "stdout",
     "output_type": "stream",
     "text": [
      "dict_keys(['A', 'b', 'shift', 'transformation', 'inequality_only', 'S', 'h', '_mapper', '_objective', '_cvx_result', '_nlr'])\n"
     ]
    },
    {
     "data": {
      "text/html": [
       "<div>\n",
       "<style scoped>\n",
       "    .dataframe tbody tr th:only-of-type {\n",
       "        vertical-align: middle;\n",
       "    }\n",
       "\n",
       "    .dataframe tbody tr th {\n",
       "        vertical-align: top;\n",
       "    }\n",
       "\n",
       "    .dataframe thead th {\n",
       "        text-align: right;\n",
       "    }\n",
       "</style>\n",
       "<table border=\"1\" class=\"dataframe\">\n",
       "  <thead>\n",
       "    <tr style=\"text-align: right;\">\n",
       "      <th></th>\n",
       "      <th>v1</th>\n",
       "      <th>v2</th>\n",
       "      <th>v3</th>\n",
       "      <th>co2_out</th>\n",
       "      <th>e_out</th>\n",
       "      <th>v4</th>\n",
       "      <th>a_in</th>\n",
       "      <th>eq</th>\n",
       "    </tr>\n",
       "  </thead>\n",
       "  <tbody>\n",
       "    <tr>\n",
       "      <th>A</th>\n",
       "      <td>-1.0</td>\n",
       "      <td>-1.0</td>\n",
       "      <td>0.0</td>\n",
       "      <td>0.0</td>\n",
       "      <td>0.0</td>\n",
       "      <td>0.0</td>\n",
       "      <td>1.0</td>\n",
       "      <td>0</td>\n",
       "    </tr>\n",
       "    <tr>\n",
       "      <th>co2</th>\n",
       "      <td>0.0</td>\n",
       "      <td>0.0</td>\n",
       "      <td>1.0</td>\n",
       "      <td>-1.0</td>\n",
       "      <td>0.0</td>\n",
       "      <td>1.0</td>\n",
       "      <td>0.0</td>\n",
       "      <td>0</td>\n",
       "    </tr>\n",
       "    <tr>\n",
       "      <th>E</th>\n",
       "      <td>0.0</td>\n",
       "      <td>0.0</td>\n",
       "      <td>1.0</td>\n",
       "      <td>0.0</td>\n",
       "      <td>-1.0</td>\n",
       "      <td>1.0</td>\n",
       "      <td>0.0</td>\n",
       "      <td>0</td>\n",
       "    </tr>\n",
       "    <tr>\n",
       "      <th>B</th>\n",
       "      <td>1.0</td>\n",
       "      <td>0.0</td>\n",
       "      <td>-1.0</td>\n",
       "      <td>0.0</td>\n",
       "      <td>0.0</td>\n",
       "      <td>0.0</td>\n",
       "      <td>0.0</td>\n",
       "      <td>0</td>\n",
       "    </tr>\n",
       "    <tr>\n",
       "      <th>D</th>\n",
       "      <td>1.0</td>\n",
       "      <td>1.0</td>\n",
       "      <td>-1.0</td>\n",
       "      <td>0.0</td>\n",
       "      <td>0.0</td>\n",
       "      <td>-1.0</td>\n",
       "      <td>0.0</td>\n",
       "      <td>0</td>\n",
       "    </tr>\n",
       "    <tr>\n",
       "      <th>C</th>\n",
       "      <td>0.0</td>\n",
       "      <td>1.0</td>\n",
       "      <td>0.0</td>\n",
       "      <td>0.0</td>\n",
       "      <td>0.0</td>\n",
       "      <td>-1.0</td>\n",
       "      <td>0.0</td>\n",
       "      <td>0</td>\n",
       "    </tr>\n",
       "  </tbody>\n",
       "</table>\n",
       "</div>"
      ],
      "text/plain": [
       "      v1   v2   v3  co2_out  e_out   v4  a_in  eq\n",
       "A   -1.0 -1.0  0.0      0.0    0.0  0.0   1.0   0\n",
       "co2  0.0  0.0  1.0     -1.0    0.0  1.0   0.0   0\n",
       "E    0.0  0.0  1.0      0.0   -1.0  1.0   0.0   0\n",
       "B    1.0  0.0 -1.0      0.0    0.0  0.0   0.0   0\n",
       "D    1.0  1.0 -1.0      0.0    0.0 -1.0   0.0   0\n",
       "C    0.0  1.0  0.0      0.0    0.0 -1.0   0.0   0"
      ]
     },
     "execution_count": 8,
     "metadata": {},
     "output_type": "execute_result"
    }
   ],
   "source": [
    "net_flux_polytope = fcm._Fn\n",
    "print(net_flux_polytope.__dict__.keys())\n",
    "pd.concat([net_flux_polytope.S, net_flux_polytope.h], axis=1)  # last column is thus the equality constraints!"
   ]
  },
  {
   "cell_type": "markdown",
   "id": "357f9911-fd1b-40ff-a959-5d3d7428da1b",
   "metadata": {},
   "source": [
    "Net fluxes are sampled from a affinely transformed and rounded polytope that is constructed in a `sbmfi.core.polytopia.PolytopeSamplingModel` object. This object is stored as the `fcm._sampler` attribute. The rounded polytope from which variables are sampled is stored in the `fcm._sampler._F_round` attribute, which only contains inequality constraints. "
   ]
  },
  {
   "cell_type": "code",
   "execution_count": 9,
   "id": "c522e3d4-3975-41d9-a3ad-6805f9eb1d19",
   "metadata": {},
   "outputs": [
    {
     "data": {
      "text/html": [
       "<div>\n",
       "<style scoped>\n",
       "    .dataframe tbody tr th:only-of-type {\n",
       "        vertical-align: middle;\n",
       "    }\n",
       "\n",
       "    .dataframe tbody tr th {\n",
       "        vertical-align: top;\n",
       "    }\n",
       "\n",
       "    .dataframe thead th {\n",
       "        text-align: right;\n",
       "    }\n",
       "</style>\n",
       "<table border=\"1\" class=\"dataframe\">\n",
       "  <thead>\n",
       "    <tr style=\"text-align: right;\">\n",
       "      <th></th>\n",
       "      <th>B_v4</th>\n",
       "      <th>ineq</th>\n",
       "    </tr>\n",
       "  </thead>\n",
       "  <tbody>\n",
       "    <tr>\n",
       "      <th>v3|lb</th>\n",
       "      <td>5.0</td>\n",
       "      <td>5.0</td>\n",
       "    </tr>\n",
       "    <tr>\n",
       "      <th>v4|lb</th>\n",
       "      <td>-5.0</td>\n",
       "      <td>5.0</td>\n",
       "    </tr>\n",
       "  </tbody>\n",
       "</table>\n",
       "</div>"
      ],
      "text/plain": [
       "       B_v4  ineq\n",
       "v3|lb   5.0   5.0\n",
       "v4|lb  -5.0   5.0"
      ]
     },
     "execution_count": 9,
     "metadata": {},
     "output_type": "execute_result"
    }
   ],
   "source": [
    "rounded_net_flux_polytope = fcm._sampler._F_round\n",
    "pd.concat([rounded_net_flux_polytope.A, rounded_net_flux_polytope.b], axis=1)  # last column is thus the inequality constraints!"
   ]
  },
  {
   "cell_type": "markdown",
   "id": "19ec6a6d-433a-4645-a8c7-4d0b40442a38",
   "metadata": {},
   "source": [
    "Our model only has a single free flux which we set to be `v4` and thus if we pick some values for 'v4' we can map it to fluxes. To figure out what values of `v4` are allowed, we can run Flux Variability Analysis (FVA):"
   ]
  },
  {
   "cell_type": "code",
   "execution_count": 10,
   "id": "56cd3625-3f61-49d7-b329-9caccf2976c7",
   "metadata": {},
   "outputs": [
    {
     "data": {
      "text/html": [
       "<div>\n",
       "<style scoped>\n",
       "    .dataframe tbody tr th:only-of-type {\n",
       "        vertical-align: middle;\n",
       "    }\n",
       "\n",
       "    .dataframe tbody tr th {\n",
       "        vertical-align: top;\n",
       "    }\n",
       "\n",
       "    .dataframe thead th {\n",
       "        text-align: right;\n",
       "    }\n",
       "</style>\n",
       "<table border=\"1\" class=\"dataframe\">\n",
       "  <thead>\n",
       "    <tr style=\"text-align: right;\">\n",
       "      <th></th>\n",
       "      <th>min</th>\n",
       "      <th>max</th>\n",
       "    </tr>\n",
       "  </thead>\n",
       "  <tbody>\n",
       "    <tr>\n",
       "      <th>v1</th>\n",
       "      <td>-0.0</td>\n",
       "      <td>10.0</td>\n",
       "    </tr>\n",
       "    <tr>\n",
       "      <th>v2</th>\n",
       "      <td>-0.0</td>\n",
       "      <td>10.0</td>\n",
       "    </tr>\n",
       "    <tr>\n",
       "      <th>v3</th>\n",
       "      <td>-0.0</td>\n",
       "      <td>10.0</td>\n",
       "    </tr>\n",
       "    <tr>\n",
       "      <th>co2_out</th>\n",
       "      <td>10.0</td>\n",
       "      <td>10.0</td>\n",
       "    </tr>\n",
       "    <tr>\n",
       "      <th>e_out</th>\n",
       "      <td>10.0</td>\n",
       "      <td>10.0</td>\n",
       "    </tr>\n",
       "    <tr>\n",
       "      <th>v4</th>\n",
       "      <td>-0.0</td>\n",
       "      <td>10.0</td>\n",
       "    </tr>\n",
       "    <tr>\n",
       "      <th>a_in</th>\n",
       "      <td>10.0</td>\n",
       "      <td>10.0</td>\n",
       "    </tr>\n",
       "  </tbody>\n",
       "</table>\n",
       "</div>"
      ],
      "text/plain": [
       "          min   max\n",
       "v1       -0.0  10.0\n",
       "v2       -0.0  10.0\n",
       "v3       -0.0  10.0\n",
       "co2_out  10.0  10.0\n",
       "e_out    10.0  10.0\n",
       "v4       -0.0  10.0\n",
       "a_in     10.0  10.0"
      ]
     },
     "execution_count": 10,
     "metadata": {},
     "output_type": "execute_result"
    }
   ],
   "source": [
    "from sbmfi.core.polytopia import fast_FVA\n",
    "fast_FVA(fcm._Fn)"
   ]
  },
  {
   "cell_type": "markdown",
   "id": "e3d1c736-79b8-44a4-a59f-7a0dd821035c",
   "metadata": {},
   "source": [
    "We chose `v4` as our free flux, and we see from the FVA results above that its range is `0.0 - 10.0`. Below we manually pick 4 free fluxes within this range:"
   ]
  },
  {
   "cell_type": "code",
   "execution_count": 11,
   "id": "c40fde7f-0bb0-4832-9bf3-e08620927e8e",
   "metadata": {},
   "outputs": [
    {
     "data": {
      "text/html": [
       "<div>\n",
       "<style scoped>\n",
       "    .dataframe tbody tr th:only-of-type {\n",
       "        vertical-align: middle;\n",
       "    }\n",
       "\n",
       "    .dataframe tbody tr th {\n",
       "        vertical-align: top;\n",
       "    }\n",
       "\n",
       "    .dataframe thead th {\n",
       "        text-align: right;\n",
       "    }\n",
       "</style>\n",
       "<table border=\"1\" class=\"dataframe\">\n",
       "  <thead>\n",
       "    <tr style=\"text-align: right;\">\n",
       "      <th></th>\n",
       "      <th>v4</th>\n",
       "    </tr>\n",
       "  </thead>\n",
       "  <tbody>\n",
       "    <tr>\n",
       "      <th>0</th>\n",
       "      <td>4.0</td>\n",
       "    </tr>\n",
       "    <tr>\n",
       "      <th>1</th>\n",
       "      <td>6.0</td>\n",
       "    </tr>\n",
       "    <tr>\n",
       "      <th>2</th>\n",
       "      <td>5.0</td>\n",
       "    </tr>\n",
       "    <tr>\n",
       "      <th>3</th>\n",
       "      <td>8.0</td>\n",
       "    </tr>\n",
       "  </tbody>\n",
       "</table>\n",
       "</div>"
      ],
      "text/plain": [
       "    v4\n",
       "0  4.0\n",
       "1  6.0\n",
       "2  5.0\n",
       "3  8.0"
      ]
     },
     "execution_count": 11,
     "metadata": {},
     "output_type": "execute_result"
    }
   ],
   "source": [
    "free_fluxes = pd.DataFrame([4.0, 6.0, 5.0, 8.0], columns=['v4'])\n",
    "free_fluxes"
   ]
  },
  {
   "cell_type": "markdown",
   "id": "74095c1a-2856-4378-822f-7c54a66a8d90",
   "metadata": {},
   "source": [
    "Many of the functions in `sbmfi` take the `pandalize=bool` kwarg which turns the output of that function into a `pd.DataFrame` with sensible axis labels. Below we map the free fluxes to labelling fluxes via the coordinate mapper:"
   ]
  },
  {
   "cell_type": "code",
   "execution_count": 12,
   "id": "61550508-171f-4be5-980d-356a3c23ce90",
   "metadata": {},
   "outputs": [
    {
     "data": {
      "text/html": [
       "<div>\n",
       "<style scoped>\n",
       "    .dataframe tbody tr th:only-of-type {\n",
       "        vertical-align: middle;\n",
       "    }\n",
       "\n",
       "    .dataframe tbody tr th {\n",
       "        vertical-align: top;\n",
       "    }\n",
       "\n",
       "    .dataframe thead th {\n",
       "        text-align: right;\n",
       "    }\n",
       "</style>\n",
       "<table border=\"1\" class=\"dataframe\">\n",
       "  <thead>\n",
       "    <tr style=\"text-align: right;\">\n",
       "      <th></th>\n",
       "      <th>v1</th>\n",
       "      <th>v2</th>\n",
       "      <th>v3</th>\n",
       "      <th>co2_out</th>\n",
       "      <th>e_out</th>\n",
       "      <th>v4</th>\n",
       "      <th>a_in</th>\n",
       "    </tr>\n",
       "  </thead>\n",
       "  <tbody>\n",
       "    <tr>\n",
       "      <th>0</th>\n",
       "      <td>6.0</td>\n",
       "      <td>4.0</td>\n",
       "      <td>6.0</td>\n",
       "      <td>10.0</td>\n",
       "      <td>10.0</td>\n",
       "      <td>4.0</td>\n",
       "      <td>10.0</td>\n",
       "    </tr>\n",
       "    <tr>\n",
       "      <th>1</th>\n",
       "      <td>4.0</td>\n",
       "      <td>6.0</td>\n",
       "      <td>4.0</td>\n",
       "      <td>10.0</td>\n",
       "      <td>10.0</td>\n",
       "      <td>6.0</td>\n",
       "      <td>10.0</td>\n",
       "    </tr>\n",
       "    <tr>\n",
       "      <th>2</th>\n",
       "      <td>5.0</td>\n",
       "      <td>5.0</td>\n",
       "      <td>5.0</td>\n",
       "      <td>10.0</td>\n",
       "      <td>10.0</td>\n",
       "      <td>5.0</td>\n",
       "      <td>10.0</td>\n",
       "    </tr>\n",
       "    <tr>\n",
       "      <th>3</th>\n",
       "      <td>2.0</td>\n",
       "      <td>8.0</td>\n",
       "      <td>2.0</td>\n",
       "      <td>10.0</td>\n",
       "      <td>10.0</td>\n",
       "      <td>8.0</td>\n",
       "      <td>10.0</td>\n",
       "    </tr>\n",
       "  </tbody>\n",
       "</table>\n",
       "</div>"
      ],
      "text/plain": [
       "    v1   v2   v3  co2_out  e_out   v4  a_in\n",
       "0  6.0  4.0  6.0     10.0   10.0  4.0  10.0\n",
       "1  4.0  6.0  4.0     10.0   10.0  6.0  10.0\n",
       "2  5.0  5.0  5.0     10.0   10.0  5.0  10.0\n",
       "3  2.0  8.0  2.0     10.0   10.0  8.0  10.0"
      ]
     },
     "execution_count": 12,
     "metadata": {},
     "output_type": "execute_result"
    }
   ],
   "source": [
    "fluxes = fcm.map_theta_2_fluxes(free_fluxes, pandalize=True)\n",
    "fluxes"
   ]
  },
  {
   "cell_type": "markdown",
   "id": "15d7d612-979a-4f0b-8a8c-db1eb77f46a6",
   "metadata": {},
   "source": [
    "To now simulate mass distribution vectors for the measured metabolites (which in this case is only metabolite `E`), we set the labelling fluxes and then call `model.cascade()` to run the simulation. Note that we MUST set only 2 fluxes at a time, since that is the `batch_size` that we set in the `LinAlg` object above!"
   ]
  },
  {
   "cell_type": "code",
   "execution_count": 13,
   "id": "eda82131-8eae-4d46-b324-38d8a9d92f70",
   "metadata": {},
   "outputs": [
    {
     "data": {
      "text/html": [
       "<div>\n",
       "<style scoped>\n",
       "    .dataframe tbody tr th:only-of-type {\n",
       "        vertical-align: middle;\n",
       "    }\n",
       "\n",
       "    .dataframe tbody tr th {\n",
       "        vertical-align: top;\n",
       "    }\n",
       "\n",
       "    .dataframe thead th {\n",
       "        text-align: right;\n",
       "    }\n",
       "</style>\n",
       "<table border=\"1\" class=\"dataframe\">\n",
       "  <thead>\n",
       "    <tr style=\"text-align: right;\">\n",
       "      <th>mdv_id</th>\n",
       "      <th>E+0</th>\n",
       "      <th>E+1</th>\n",
       "      <th>E+2</th>\n",
       "    </tr>\n",
       "  </thead>\n",
       "  <tbody>\n",
       "    <tr>\n",
       "      <th>0</th>\n",
       "      <td>0.24</td>\n",
       "      <td>0.52</td>\n",
       "      <td>0.24</td>\n",
       "    </tr>\n",
       "    <tr>\n",
       "      <th>1</th>\n",
       "      <td>0.24</td>\n",
       "      <td>0.52</td>\n",
       "      <td>0.24</td>\n",
       "    </tr>\n",
       "    <tr>\n",
       "      <th>2</th>\n",
       "      <td>0.25</td>\n",
       "      <td>0.50</td>\n",
       "      <td>0.25</td>\n",
       "    </tr>\n",
       "    <tr>\n",
       "      <th>3</th>\n",
       "      <td>0.16</td>\n",
       "      <td>0.68</td>\n",
       "      <td>0.16</td>\n",
       "    </tr>\n",
       "  </tbody>\n",
       "</table>\n",
       "</div>"
      ],
      "text/plain": [
       "mdv_id   E+0   E+1   E+2\n",
       "0       0.24  0.52  0.24\n",
       "1       0.24  0.52  0.24\n",
       "2       0.25  0.50  0.25\n",
       "3       0.16  0.68  0.16"
      ]
     },
     "execution_count": 13,
     "metadata": {},
     "output_type": "execute_result"
    }
   ],
   "source": [
    "model.set_fluxes(fluxes.loc[[0, 1]])\n",
    "mdvs_1 = model.cascade(pandalize=True).copy()\n",
    "model.set_fluxes(fluxes.loc[[2, 3]])\n",
    "mdvs_2 = model.cascade(pandalize=True).copy()\n",
    "pd.concat([mdvs_1, mdvs_2])"
   ]
  },
  {
   "cell_type": "markdown",
   "id": "c7f6c364-6245-4002-8231-3fd94d2256a4",
   "metadata": {},
   "source": [
    "In the cell above we see that for flux vecors `[0, 1]`, the MDVs are exactly the same, thus highlighting the issue of unidentifiability!\n",
    "\n",
    "The fundamental calculation of the EMU simulation algorithm is the solution of a cascade of linear systems: $\\pmb{X}_w = \\pmb{A}_w^{-1}\\cdot \\pmb{B}_w \\cdot \\pmb{Y}_w$, where the subscript $w$ indicates the size of the EMUs in that step of the cascade. For more information on the algorithm, please read [the publication](https://www.sciencedirect.com/science/article/pii/S109671760600084X?via%3Dihub). We can inspect the matrices that are used for the simulation by calling `model.pretty_cascade(weight=...)`, which returns a `dict` with all the matrices of that size. Note since `batch_size=2`, we have one set of matrices per parsed flux-vector (in this case vectors `[2, 3]`)!"
   ]
  },
  {
   "cell_type": "code",
   "execution_count": 14,
   "id": "2b93e93c-3767-42c2-8497-385af246184d",
   "metadata": {},
   "outputs": [
    {
     "name": "stdout",
     "output_type": "stream",
     "text": [
      "dict_keys(['A', 'B', 'X', 'Y'])\n"
     ]
    },
    {
     "data": {
      "text/html": [
       "<div>\n",
       "<style scoped>\n",
       "    .dataframe tbody tr th:only-of-type {\n",
       "        vertical-align: middle;\n",
       "    }\n",
       "\n",
       "    .dataframe tbody tr th {\n",
       "        vertical-align: top;\n",
       "    }\n",
       "\n",
       "    .dataframe thead th {\n",
       "        text-align: right;\n",
       "    }\n",
       "</style>\n",
       "<table border=\"1\" class=\"dataframe\">\n",
       "  <thead>\n",
       "    <tr style=\"text-align: right;\">\n",
       "      <th></th>\n",
       "      <th></th>\n",
       "      <th>B|[0] ∗ D|[0]</th>\n",
       "      <th>C|[1] ∗ D|[0]</th>\n",
       "    </tr>\n",
       "  </thead>\n",
       "  <tbody>\n",
       "    <tr>\n",
       "      <th>2</th>\n",
       "      <th>E|[0,1]</th>\n",
       "      <td>-5.0</td>\n",
       "      <td>-5.0</td>\n",
       "    </tr>\n",
       "    <tr>\n",
       "      <th>3</th>\n",
       "      <th>E|[0,1]</th>\n",
       "      <td>-2.0</td>\n",
       "      <td>-8.0</td>\n",
       "    </tr>\n",
       "  </tbody>\n",
       "</table>\n",
       "</div>"
      ],
      "text/plain": [
       "           B|[0] ∗ D|[0]  C|[1] ∗ D|[0]\n",
       "2 E|[0,1]           -5.0           -5.0\n",
       "3 E|[0,1]           -2.0           -8.0"
      ]
     },
     "execution_count": 14,
     "metadata": {},
     "output_type": "execute_result"
    }
   ],
   "source": [
    "EMU_matrices = model.pretty_cascade(2)\n",
    "print(EMU_matrices.keys())\n",
    "EMU_matrices['B']"
   ]
  },
  {
   "cell_type": "markdown",
   "id": "0c148e4c-ef16-463a-b003-c149eb86f7d5",
   "metadata": {},
   "source": [
    "For now, I think this is enough information. The next steps in the simulation process are to simulate actual measurements via an observation model, which are specified in `sbmfi.core.observation`. This I will leave for a follow-up once you are familiarized with this part of the package. "
   ]
  }
 ],
 "metadata": {
  "kernelspec": {
   "display_name": "Python 3 (ipykernel)",
   "language": "python",
   "name": "python3"
  },
  "language_info": {
   "codemirror_mode": {
    "name": "ipython",
    "version": 3
   },
   "file_extension": ".py",
   "mimetype": "text/x-python",
   "name": "python",
   "nbconvert_exporter": "python",
   "pygments_lexer": "ipython3",
   "version": "3.8.17"
  }
 },
 "nbformat": 4,
 "nbformat_minor": 5
}
