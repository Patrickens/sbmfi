{
 "cells": [
  {
   "cell_type": "markdown",
   "id": "0621b7f3-38c2-4328-bbb6-ac0b8d2c1e9a",
   "metadata": {},
   "source": [
    "# Machine learning example\n",
    "\n",
    "In this notebook I will show all of the machine learning steps that are necessary for simulation based metabolic flux inference."
   ]
  },
  {
   "cell_type": "markdown",
   "id": "a960b001-4823-412a-87b0-9acbab0b4d68",
   "metadata": {},
   "source": [
    "### Generating our dataset"
   ]
  },
  {
   "cell_type": "code",
   "execution_count": 1,
   "id": "975b0262-89ab-41b3-a1a7-77d80373e460",
   "metadata": {},
   "outputs": [
    {
     "name": "stderr",
     "output_type": "stream",
     "text": [
      "WARNING (pytensor.configdefaults): g++ not available, if using conda: `conda install m2w64-toolchain`\n",
      "WARNING (pytensor.configdefaults): g++ not detected!  PyTensor will be unable to compile C-implementations and will default to Python. Performance may be severely degraded. To remove this warning, set PyTensor flags cxx to an empty string.\n",
      "WARNING (pytensor.tensor.blas): Using NumPy C-API based implementation for BLAS functions.\n"
     ]
    }
   ],
   "source": [
    "from sbmfi.models.small_models import spiro, multi_modal\n",
    "from sbmfi.core.simulator import DataSetSim\n",
    "from sbmfi.inference.priors import UniNetFluxPrior"
   ]
  },
  {
   "cell_type": "markdown",
   "id": "e5b175e3-7774-495a-9839-78beee3c9908",
   "metadata": {},
   "source": [
    "In the cell below, we create the spiro model. We also automatically create a simulator that simulates labelling for 2 different labelling states named `'A'` and `'B'`. The simulator includes a boundary observation model for the boundary fluxes `['bm', 'd_out', 'h_out']` with errors drawn from a multivariate Gaussian. Note that in this incarnation of the model, we do not check whether the noisy boundary fluxes lie in the flux polytope."
   ]
  },
  {
   "cell_type": "code",
   "execution_count": 2,
   "id": "10de6fb2-7181-41e5-8777-190fd0d3bff3",
   "metadata": {
    "scrolled": true
   },
   "outputs": [
    {
     "name": "stdout",
     "output_type": "stream",
     "text": [
      "Set parameter Username\n",
      "Academic license - for non-commercial use only - expires 2025-07-27\n"
     ]
    },
    {
     "name": "stderr",
     "output_type": "stream",
     "text": [
      "C:\\python_projects\\sbmfi\\venv\\lib\\site-packages\\torch\\__init__.py:1144: UserWarning: torch.set_default_tensor_type() is deprecated as of PyTorch 2.1, please use torch.set_default_dtype() and torch.set_default_device() as alternatives. (Triggered internally at C:\\actions-runner\\_work\\pytorch\\pytorch\\builder\\windows\\pytorch\\torch\\csrc\\tensor\\python_tensor.cpp:434.)\n",
      "  _C._set_default_tensor_type(t)\n"
     ]
    }
   ],
   "source": [
    "model, kwargs = spiro(\n",
    "    backend='torch',\n",
    "    auto_diff=False,\n",
    "    batch_size=1,\n",
    "    add_biomass=True,\n",
    "    v2_reversible=True,\n",
    "    ratios=True,\n",
    "    build_simulator=True,\n",
    "    add_cofactors=True,\n",
    "    which_measurements='lcms',\n",
    "    seed=2,\n",
    "    measured_boundary_fluxes = ('h_out', ),\n",
    "    which_labellings=['A', 'B'],\n",
    "    include_bom=True,\n",
    "    v5_reversible=False,\n",
    "    n_obs=0,\n",
    "    kernel_basis='svd',\n",
    "    basis_coordinates='rounded',\n",
    "    logit_xch_fluxes=False,\n",
    "    L_12_omega = 1.0,\n",
    "    clip_min=None,\n",
    "    transformation='ilr',\n",
    ")"
   ]
  },
  {
   "cell_type": "markdown",
   "id": "36e158c7-dcfb-431c-9a58-20424689c66e",
   "metadata": {},
   "source": [
    "Displayed below are the reactions of the model"
   ]
  },
  {
   "cell_type": "code",
   "execution_count": 3,
   "id": "41a904fc-6ada-42fc-92db-0ba62943f65c",
   "metadata": {},
   "outputs": [
    {
     "name": "stdout",
     "output_type": "stream",
     "text": [
      "a_in:  --> A/ab (10.0, 10.0)\n",
      "d_out: D/abc -->  (0.0, 100.0)\n",
      "f_out: F/a -->  (0.0, 100.0)\n",
      "h_out: H/ab -->  (0.0, 100.0)\n",
      "v1: A/ab --> B/ab (0.0, 100.0)\n",
      "v2: B/ab ==> E/ab (0.0, 100.0)\n",
      "v3: B/ab + E/cd --> C/abcd + cof (0.0, 100.0)\n",
      "v4: E/ab --> H/ab (0.0, 100.0)\n",
      "v5: F/a + D/bcd <-- C/abcd (-100.0, 0.0)\n",
      "v6: D/abc --> E/ab + F/c (0.0, 100.0)\n",
      "v7: F/a + F/b --> H/ab (0.0, 100.0)\n",
      "bm: 0.3 H/. + 0.6 B/. + 0.5 E/. + 0.1 C/. -->  (0.05, 1.5)\n",
      "EX_cof: cof -->  (0.0, 1000.0)\n"
     ]
    }
   ],
   "source": [
    "for reaction in model.reactions:\n",
    "    print(reaction, reaction.bounds)"
   ]
  },
  {
   "cell_type": "markdown",
   "id": "20be23fb-bd0b-4fd4-a1fd-dbbe5984890a",
   "metadata": {},
   "source": [
    "These are the measurements that we assume to have access to for both labelling conditions.  "
   ]
  },
  {
   "cell_type": "code",
   "execution_count": 4,
   "id": "d2cfebe2-1612-48bb-9c1d-253e3934880f",
   "metadata": {},
   "outputs": [
    {
     "name": "stdout",
     "output_type": "stream",
     "text": [
      "number of LC-MS signals for labelling condition A: (14, 9), and B (10, 9)\n"
     ]
    }
   ],
   "source": [
    "print(f\"number of LC-MS signals for labelling condition A: {kwargs['annotation_df']['A'].shape}, and B {kwargs['annotation_df']['B'].shape}\")"
   ]
  },
  {
   "cell_type": "code",
   "execution_count": 5,
   "id": "aaa41125-0ba4-4ff5-b9bc-24193db4cf09",
   "metadata": {},
   "outputs": [
    {
     "data": {
      "text/html": [
       "<div>\n",
       "<style scoped>\n",
       "    .dataframe tbody tr th:only-of-type {\n",
       "        vertical-align: middle;\n",
       "    }\n",
       "\n",
       "    .dataframe tbody tr th {\n",
       "        vertical-align: top;\n",
       "    }\n",
       "\n",
       "    .dataframe thead tr th {\n",
       "        text-align: left;\n",
       "    }\n",
       "</style>\n",
       "<table border=\"1\" class=\"dataframe\">\n",
       "  <thead>\n",
       "    <tr>\n",
       "      <th>labelling_id</th>\n",
       "      <th colspan=\"9\" halign=\"left\">A</th>\n",
       "      <th colspan=\"5\" halign=\"left\">B</th>\n",
       "      <th colspan=\"2\" halign=\"left\">BOM</th>\n",
       "    </tr>\n",
       "    <tr>\n",
       "      <th>data_id</th>\n",
       "      <th>ilr_C_0</th>\n",
       "      <th>ilr_C_1</th>\n",
       "      <th>ilr_D_0</th>\n",
       "      <th>ilr_D_1</th>\n",
       "      <th>ilr_H_0</th>\n",
       "      <th>ilr_L_0</th>\n",
       "      <th>ilr_L_1</th>\n",
       "      <th>ilr_L_2</th>\n",
       "      <th>ilr_L|[1,2]_0</th>\n",
       "      <th>ilr_C_0</th>\n",
       "      <th>ilr_D_0</th>\n",
       "      <th>ilr_H_{M+Cl}_0</th>\n",
       "      <th>ilr_H_0</th>\n",
       "      <th>ilr_L|[1,2]_0</th>\n",
       "      <th>h_out</th>\n",
       "      <th>bm</th>\n",
       "    </tr>\n",
       "  </thead>\n",
       "  <tbody>\n",
       "    <tr>\n",
       "      <th>0</th>\n",
       "      <td>-2.029316</td>\n",
       "      <td>-1.868853</td>\n",
       "      <td>-2.29619</td>\n",
       "      <td>-1.680012</td>\n",
       "      <td>-0.174556</td>\n",
       "      <td>-1.611885</td>\n",
       "      <td>-2.14425</td>\n",
       "      <td>-2.907779</td>\n",
       "      <td>-1.470387</td>\n",
       "      <td>-4.533702</td>\n",
       "      <td>-2.677548</td>\n",
       "      <td>-0.37377</td>\n",
       "      <td>-0.37377</td>\n",
       "      <td>-1.509012</td>\n",
       "      <td>7.6</td>\n",
       "      <td>1.5</td>\n",
       "    </tr>\n",
       "  </tbody>\n",
       "</table>\n",
       "</div>"
      ],
      "text/plain": [
       "labelling_id         A                                                   \\\n",
       "data_id        ilr_C_0   ilr_C_1  ilr_D_0   ilr_D_1   ilr_H_0   ilr_L_0   \n",
       "0            -2.029316 -1.868853 -2.29619 -1.680012 -0.174556 -1.611885   \n",
       "\n",
       "labelling_id                                          B            \\\n",
       "data_id       ilr_L_1   ilr_L_2 ilr_L|[1,2]_0   ilr_C_0   ilr_D_0   \n",
       "0            -2.14425 -2.907779     -1.470387 -4.533702 -2.677548   \n",
       "\n",
       "labelling_id                                         BOM       \n",
       "data_id      ilr_H_{M+Cl}_0  ilr_H_0 ilr_L|[1,2]_0 h_out   bm  \n",
       "0                  -0.37377 -0.37377     -1.509012   7.6  1.5  "
      ]
     },
     "execution_count": 5,
     "metadata": {},
     "output_type": "execute_result"
    }
   ],
   "source": [
    "kwargs['measurements']"
   ]
  },
  {
   "cell_type": "code",
   "execution_count": 6,
   "id": "9322a304-a3ca-446a-a40b-3ccf11884a1a",
   "metadata": {},
   "outputs": [
    {
     "data": {
      "text/html": [
       "<div>\n",
       "<style scoped>\n",
       "    .dataframe tbody tr th:only-of-type {\n",
       "        vertical-align: middle;\n",
       "    }\n",
       "\n",
       "    .dataframe tbody tr th {\n",
       "        vertical-align: top;\n",
       "    }\n",
       "\n",
       "    .dataframe thead th {\n",
       "        text-align: right;\n",
       "    }\n",
       "</style>\n",
       "<table border=\"1\" class=\"dataframe\">\n",
       "  <thead>\n",
       "    <tr style=\"text-align: right;\">\n",
       "      <th></th>\n",
       "      <th>met_id</th>\n",
       "      <th>nC13</th>\n",
       "      <th>adduct_name</th>\n",
       "      <th>mz</th>\n",
       "      <th>rt</th>\n",
       "      <th>sigma</th>\n",
       "      <th>omega</th>\n",
       "      <th>total_I</th>\n",
       "      <th>formula</th>\n",
       "    </tr>\n",
       "  </thead>\n",
       "  <tbody>\n",
       "    <tr>\n",
       "      <th>0</th>\n",
       "      <td>C</td>\n",
       "      <td>0</td>\n",
       "      <td>M-H</td>\n",
       "      <td>157.018955</td>\n",
       "      <td>4.0</td>\n",
       "      <td>0.02</td>\n",
       "      <td>NaN</td>\n",
       "      <td>700000.0</td>\n",
       "      <td>C4H6N4OS</td>\n",
       "    </tr>\n",
       "    <tr>\n",
       "      <th>1</th>\n",
       "      <td>C</td>\n",
       "      <td>3</td>\n",
       "      <td>M-H</td>\n",
       "      <td>160.029020</td>\n",
       "      <td>4.0</td>\n",
       "      <td>0.02</td>\n",
       "      <td>NaN</td>\n",
       "      <td>700000.0</td>\n",
       "      <td>C4H6N4OS</td>\n",
       "    </tr>\n",
       "    <tr>\n",
       "      <th>2</th>\n",
       "      <td>D</td>\n",
       "      <td>0</td>\n",
       "      <td>M-H</td>\n",
       "      <td>37.008374</td>\n",
       "      <td>5.0</td>\n",
       "      <td>0.01</td>\n",
       "      <td>NaN</td>\n",
       "      <td>100000.0</td>\n",
       "      <td>C3H2</td>\n",
       "    </tr>\n",
       "    <tr>\n",
       "      <th>3</th>\n",
       "      <td>D</td>\n",
       "      <td>2</td>\n",
       "      <td>M-H</td>\n",
       "      <td>39.015083</td>\n",
       "      <td>5.0</td>\n",
       "      <td>0.01</td>\n",
       "      <td>NaN</td>\n",
       "      <td>100000.0</td>\n",
       "      <td>C3H2</td>\n",
       "    </tr>\n",
       "    <tr>\n",
       "      <th>4</th>\n",
       "      <td>H</td>\n",
       "      <td>0</td>\n",
       "      <td>M-H</td>\n",
       "      <td>25.008374</td>\n",
       "      <td>1.0</td>\n",
       "      <td>0.01</td>\n",
       "      <td>NaN</td>\n",
       "      <td>3000.0</td>\n",
       "      <td>C2H2</td>\n",
       "    </tr>\n",
       "    <tr>\n",
       "      <th>5</th>\n",
       "      <td>H</td>\n",
       "      <td>1</td>\n",
       "      <td>M-H</td>\n",
       "      <td>26.011728</td>\n",
       "      <td>1.0</td>\n",
       "      <td>0.01</td>\n",
       "      <td>NaN</td>\n",
       "      <td>3000.0</td>\n",
       "      <td>C2H2</td>\n",
       "    </tr>\n",
       "    <tr>\n",
       "      <th>6</th>\n",
       "      <td>H</td>\n",
       "      <td>0</td>\n",
       "      <td>M+Cl</td>\n",
       "      <td>60.985051</td>\n",
       "      <td>1.0</td>\n",
       "      <td>0.03</td>\n",
       "      <td>NaN</td>\n",
       "      <td>2000.0</td>\n",
       "      <td>C2H2</td>\n",
       "    </tr>\n",
       "    <tr>\n",
       "      <th>7</th>\n",
       "      <td>H</td>\n",
       "      <td>1</td>\n",
       "      <td>M+Cl</td>\n",
       "      <td>61.988406</td>\n",
       "      <td>1.0</td>\n",
       "      <td>0.03</td>\n",
       "      <td>NaN</td>\n",
       "      <td>2000.0</td>\n",
       "      <td>C2H2</td>\n",
       "    </tr>\n",
       "    <tr>\n",
       "      <th>8</th>\n",
       "      <td>L|[1,2]</td>\n",
       "      <td>0</td>\n",
       "      <td>M-H</td>\n",
       "      <td>136.972776</td>\n",
       "      <td>6.0</td>\n",
       "      <td>0.01</td>\n",
       "      <td>1.0</td>\n",
       "      <td>40000.0</td>\n",
       "      <td>C2H2O7</td>\n",
       "    </tr>\n",
       "    <tr>\n",
       "      <th>9</th>\n",
       "      <td>L|[1,2]</td>\n",
       "      <td>1</td>\n",
       "      <td>M-H</td>\n",
       "      <td>137.976131</td>\n",
       "      <td>6.0</td>\n",
       "      <td>0.01</td>\n",
       "      <td>1.0</td>\n",
       "      <td>40000.0</td>\n",
       "      <td>C2H2O7</td>\n",
       "    </tr>\n",
       "  </tbody>\n",
       "</table>\n",
       "</div>"
      ],
      "text/plain": [
       "    met_id  nC13 adduct_name          mz   rt  sigma  omega   total_I  \\\n",
       "0        C     0         M-H  157.018955  4.0   0.02    NaN  700000.0   \n",
       "1        C     3         M-H  160.029020  4.0   0.02    NaN  700000.0   \n",
       "2        D     0         M-H   37.008374  5.0   0.01    NaN  100000.0   \n",
       "3        D     2         M-H   39.015083  5.0   0.01    NaN  100000.0   \n",
       "4        H     0         M-H   25.008374  1.0   0.01    NaN    3000.0   \n",
       "5        H     1         M-H   26.011728  1.0   0.01    NaN    3000.0   \n",
       "6        H     0        M+Cl   60.985051  1.0   0.03    NaN    2000.0   \n",
       "7        H     1        M+Cl   61.988406  1.0   0.03    NaN    2000.0   \n",
       "8  L|[1,2]     0         M-H  136.972776  6.0   0.01    1.0   40000.0   \n",
       "9  L|[1,2]     1         M-H  137.976131  6.0   0.01    1.0   40000.0   \n",
       "\n",
       "    formula  \n",
       "0  C4H6N4OS  \n",
       "1  C4H6N4OS  \n",
       "2      C3H2  \n",
       "3      C3H2  \n",
       "4      C2H2  \n",
       "5      C2H2  \n",
       "6      C2H2  \n",
       "7      C2H2  \n",
       "8    C2H2O7  \n",
       "9    C2H2O7  "
      ]
     },
     "execution_count": 6,
     "metadata": {},
     "output_type": "execute_result"
    }
   ],
   "source": [
    "kwargs['annotation_df']['B']"
   ]
  },
  {
   "cell_type": "markdown",
   "id": "1136c3bd-f891-40ea-8b8d-82071989d9ff",
   "metadata": {},
   "source": [
    "we will sample `n` fluxes from a uniform prior and simulate `n_obs=3` observations per sampled flux-vector."
   ]
  },
  {
   "cell_type": "code",
   "execution_count": 7,
   "id": "5721d9c3-26c9-4f32-9f74-dc30daf19e21",
   "metadata": {},
   "outputs": [],
   "source": [
    "n = 20000\n",
    "\n",
    "bbs = kwargs['basebayes']\n",
    "sdf = kwargs['substrate_df']\n",
    "simulator = DataSetSim(model, sdf, bbs._obmods, bbs._bom, num_processes=3)\n",
    "prior = UniNetFluxPrior(model, cache_size=n)"
   ]
  },
  {
   "cell_type": "code",
   "execution_count": null,
   "id": "29762b69-2c7c-48f8-9239-d24d402f2e84",
   "metadata": {},
   "outputs": [],
   "source": [
    "theta = prior.sample((n,))"
   ]
  },
  {
   "cell_type": "code",
   "execution_count": null,
   "id": "01a4bdaf-e4ff-42cd-8aad-5e198ab55abb",
   "metadata": {},
   "outputs": [],
   "source": [
    "# result = simulator.simulate_set(\n",
    "#     theta,\n",
    "#     n_obs=3,\n",
    "#     fluxes_per_task=None,\n",
    "#     what='all',\n",
    "#     break_i=-1,\n",
    "#     close_pool=True,\n",
    "#     show_progress=False,\n",
    "#     save_fluxes=True,\n",
    "# )"
   ]
  },
  {
   "cell_type": "markdown",
   "id": "403743bf-5b93-4e1b-bd24-a203cd3b8dd4",
   "metadata": {},
   "source": [
    "here we save the results"
   ]
  },
  {
   "cell_type": "code",
   "execution_count": null,
   "id": "38673cce-c2df-4533-86ee-e9360f043f0b",
   "metadata": {},
   "outputs": [],
   "source": [
    "hdf = 'spiro_mdvae_test_NEW.h5'\n",
    "dataset_id = 'test1'\n",
    "# simulator.to_hdf(\n",
    "#     hdf=hdf,\n",
    "#     result=result,\n",
    "#     dataset_id=dataset_id,\n",
    "#     append=True,\n",
    "#     expectedrows_multiplier=10,\n",
    "# )"
   ]
  },
  {
   "cell_type": "markdown",
   "id": "4925d36d-9b9a-4960-836c-da242058eadd",
   "metadata": {},
   "source": [
    "## Representing labelling measurements in a reduced latent space\n",
    "\n",
    "As a back-of-the-envelope calculation, we can imagine that by LC-MS we can measure around 40 CCM metabolites in *E.coli*. Furthermore, lets imagine that on average we can measure 3 mass isotopomers per metabolite per labelling experiment. If we then do 3 labelling experiments (different substrate labellings), we have a total of `40 * 3 * 3 = 360` numbers to represent the labelling state that we use for inference. \n",
    "\n",
    "The first thing that we should notice is that MDVs are an inefficient way of representing labelling data. To represent the labelling state of acetate, `ac`, as an MDV we need three numbers `[ac+0, ac+1, ac+2]`. Since by definition an MDV is a point on a probability simplex, there are actually only 2 degrees of freedom for the acetate MDV, since we know it sums to 1. By applying the isometric log-ratio transform to the MDV, we can represent the labelling state using only 2 real (i.e. $\\mathbb{R}$) numbers without any loss of information.\n",
    "\n",
    "By applying the ilr to all metabolites, we can now represent the labelling data with `40 * (3-1) * 3 = 240` numbers, and on top of that, these are uncorrelated real numbers unlike when using the MDV representation.\n",
    "\n",
    "Another inefficiency is that different metabolites within a labelling experiment carry similar information. For example, Alanine is made from pyruvate and thus has a similar MDV as pyruvate. Differences can occur because of the functioning of the LC-MS. For instance `ala+1` might not be measured whereas `pyr+1` could be or there are vastly different noise levels between the two signals.\n",
    "\n",
    "Generally, if we try to infer 20 free fluxes across many labelling experiments resulting in hundreds of independent mass isotopomer measurements, we should try to compress the data to roughly 20 dimensions.\n",
    "\n",
    "Except for labelling measurements, we typically also have access to measurements of some boundary fluxes such as growth rate (i.e. biomass flux) and uptake of substrate / excretion of some fermentation products."
   ]
  },
  {
   "cell_type": "code",
   "execution_count": null,
   "id": "41489390-4345-4560-9548-5e5ff3a8faa0",
   "metadata": {},
   "outputs": [],
   "source": [
    "from sbmfi.inference.mdvae import MDVAE_Dataset, ray_train_MDVAE\n",
    "from sbmfi.core.simulator import _BaseSimulator\n",
    "\n",
    "import math\n",
    "import os\n",
    "import numpy as np\n",
    "import pandas as pd\n",
    "from scipy.stats import random_correlation, loguniform\n",
    "\n",
    "import torch\n",
    "from torch.utils.data import Dataset, DataLoader, random_split\n",
    "import warnings\n",
    "warnings.simplefilter(action='ignore', category=FutureWarning)\n",
    "from torch import nn\n",
    "\n",
    "import time\n",
    "import tqdm"
   ]
  },
  {
   "cell_type": "markdown",
   "id": "e3d2acaa-4c1e-44bd-aac6-7c55b6b5c8e6",
   "metadata": {},
   "source": [
    "create training and validation data-sets"
   ]
  },
  {
   "cell_type": "code",
   "execution_count": null,
   "id": "0139ed5a-9629-475f-bd65-7c39ec7f2390",
   "metadata": {},
   "outputs": [],
   "source": [
    "DENOISE = True  # whether to feed denoised data (data without observation model noise added)\n",
    "\n",
    "if not simulator._la.backend == 'torch':\n",
    "    raise ValueError\n",
    "mdvs = simulator.read_hdf(hdf=hdf, dataset_id=dataset_id, what='mdv') if DENOISE else None\n",
    "data = simulator.read_hdf(hdf=hdf, dataset_id=dataset_id, what='data')\n",
    "theta = simulator.read_hdf(hdf=hdf, dataset_id=dataset_id, what='theta')\n",
    "mu = simulator.simulate(theta=theta, mdvs=mdvs, n_obs=0) if DENOISE else None\n",
    "if (simulator._bom is not None):\n",
    "    mu = mu[..., :-simulator._bomsize] if DENOISE else None\n",
    "    data = data[..., :-simulator._bomsize]\n",
    "dataset = MDVAE_Dataset(data, mu)\n",
    "\n",
    "n_validate = math.ceil(0.10 * len(dataset))  # 10 % of the data are keps as validation\n",
    "\n",
    "train_ds, val_ds = random_split(\n",
    "    dataset,\n",
    "    lengths=(len(dataset) - n_validate, n_validate),\n",
    "    generator=simulator._la._BACKEND._rng\n",
    ")\n",
    "\n",
    "from sbmfi.settings import BASE_DIR\n",
    "torch.save(train_ds, os.path.join(BASE_DIR, 'train_ds.pt'))\n",
    "torch.save(val_ds, os.path.join(BASE_DIR, 'val_ds.pt'))"
   ]
  },
  {
   "cell_type": "code",
   "execution_count": null,
   "id": "da9f05e3-ab90-450c-8f79-d5427cbbdc10",
   "metadata": {},
   "outputs": [],
   "source": [
    "mdvae, losses = ray_train_MDVAE({}, cwd=BASE_DIR, show_progress=True)"
   ]
  },
  {
   "cell_type": "code",
   "execution_count": 37,
   "id": "7907d68b-912f-4cec-8b84-959886f853bf",
   "metadata": {},
   "outputs": [],
   "source": [
    "\n",
    "if not simulator._la.backend == 'torch':\n",
    "    raise ValueError\n",
    "mdvs = simulator.read_hdf(hdf=hdf, dataset_id=dataset_id, what='mdv') if denoising_dataset else None\n",
    "data = simulator.read_hdf(hdf=hdf, dataset_id=dataset_id, what='data')\n",
    "theta = simulator.read_hdf(hdf=hdf, dataset_id=dataset_id, what='theta')\n",
    "mu = simulator.simulate(theta=theta, mdvs=mdvs, n_obs=0) if denoising_dataset else None\n",
    "if (simulator._bom is not None) and not include_boundary_fluxes:\n",
    "    mu = mu[..., :-simulator._bomsize] if denoising_dataset else None\n",
    "    data = data[..., :-simulator._bomsize]\n",
    "dataset = MDVAE_Dataset(data, mu)\n",
    "\n",
    "n_validate = math.ceil(0.10 * len(dataset))\n",
    "\n",
    "train_ds, val_ds = random_split(\n",
    "    dataset,\n",
    "    lengths=(len(dataset) - n_validate, n_validate),\n",
    "    generator=simulator._la._BACKEND._rng\n",
    ")\n",
    "\n",
    "train_loader = DataLoader(train_ds, batch_size=batch_size, shuffle=True)\n",
    "\n",
    "    if 'n_latent' not in kwargs:\n",
    "        kwargs['n_latent'] = len(simulator.theta_id)\n",
    "\n",
    "    mdvae = MDVAE(\n",
    "        n_data=data.shape[-1],\n",
    "        **kwargs,\n",
    "    )\n",
    "\n",
    "    loss_f = nn.MSELoss()\n",
    "    optimizer = torch.optim.Adam(mdvae.parameters(), lr=lr, weight_decay=weight_decay)\n",
    "\n",
    "    # print(f'MSE between all mu and data: {loss_f(*dataset[:]).numpy().round(4)}')\n",
    "\n",
    "    pbar = tqdm.tqdm(total=n_epochs * len(train_loader), ncols=100)\n",
    "    prr = lambda x: x.to('cpu').data.numpy().round(4)\n",
    "    losses = []\n",
    "    try:\n",
    "        for epoch in range(n_epochs):\n",
    "            for i, (x, y) in enumerate(train_loader):\n",
    "                x_hat, mean, log_var = mdvae.forward(x)\n",
    "                reconstruct = loss_f(x_hat, y)\n",
    "                KL_div = - 0.5 * torch.sum(1 + log_var - mean.pow(2) - log_var.exp())\n",
    "                loss = reconstruct + KL_div\n",
    "                optimizer.zero_grad()\n",
    "                if ~(torch.isnan(loss) | torch.isinf(loss)):\n",
    "                    loss.backward()\n",
    "                    optimizer.step()\n",
    "                pbar.update()\n",
    "                if i % 50 == 0:\n",
    "                    pbar.set_postfix(loss=prr(loss), KL_div=prr(KL_div),  mse=prr(reconstruct))\n",
    "            with torch.no_grad():\n",
    "                x_val, y_val = val_ds[:]\n",
    "                x_val_hat, mean, log_var = mdvae.forward(x_val)\n",
    "                reconstruct_val = loss_f(x_val_hat, y_val)\n",
    "                KL_div_val = - 0.5 * torch.sum(1 + log_var - mean.pow(2) - log_var.exp())\n",
    "                loss_val = reconstruct_val + KL_div_val\n",
    "                print(f'loss: {prr(loss_val)}, KL_div: {prr(KL_div_val)}, MSE: {prr(reconstruct_val)}', flush=True)\n",
    "    except KeyboardInterrupt:\n",
    "        pass\n",
    "    finally:\n",
    "        pbar.close()\n",
    "        return mdvae\n"
   ]
  },
  {
   "cell_type": "code",
   "execution_count": 83,
   "id": "0ab1ef95-73f3-4c04-9025-45a81f9441e8",
   "metadata": {},
   "outputs": [
    {
     "name": "stderr",
     "output_type": "stream",
     "text": [
      " 33%|██████▉              | 1686/5064 [01:15<01:33, 36.29it/s, KL_div=0.0153, loss=0.146, mse=0.131]"
     ]
    },
    {
     "name": "stdout",
     "output_type": "stream",
     "text": [
      "loss: 3.1619, KL_div: 3.0272, MSE: 0.1347\n"
     ]
    },
    {
     "name": "stderr",
     "output_type": "stream",
     "text": [
      " 67%|████████████▋      | 3375/5064 [02:26<00:46, 36.36it/s, KL_div=0.0055, loss=0.0969, mse=0.0915]"
     ]
    },
    {
     "name": "stdout",
     "output_type": "stream",
     "text": [
      "loss: 1.2142, KL_div: 1.1298, MSE: 0.0845\n"
     ]
    },
    {
     "name": "stderr",
     "output_type": "stream",
     "text": [
      "100%|██████████████████▉| 5063/5064 [03:34<00:00, 31.90it/s, KL_div=0.0027, loss=0.0453, mse=0.0426]"
     ]
    },
    {
     "name": "stdout",
     "output_type": "stream",
     "text": [
      "loss: 0.5907, KL_div: 0.513, MSE: 0.0778\n"
     ]
    },
    {
     "name": "stderr",
     "output_type": "stream",
     "text": [
      "100%|███████████████████| 5064/5064 [03:34<00:00, 23.65it/s, KL_div=0.0027, loss=0.0453, mse=0.0426]\n"
     ]
    }
   ],
   "source": [
    "mdvae = train_mdv_encoder(hdf, simulator, dataset_id, denoising_dataset=True)"
   ]
  },
  {
   "cell_type": "code",
   "execution_count": 84,
   "id": "67cc5f58-ce40-4bcf-8f20-907265cee647",
   "metadata": {},
   "outputs": [],
   "source": [
    "denoising_dataset = True\n",
    "include_boundary_fluxes = False\n",
    "\n",
    "mdvs = simulator.read_hdf(hdf=hdf, dataset_id=dataset_id, what='mdv')\n",
    "data = simulator.read_hdf(hdf=hdf, dataset_id=dataset_id, what='data')\n",
    "theta = simulator.read_hdf(hdf=hdf, dataset_id=dataset_id, what='theta')\n",
    "mu = simulator.simulate(theta=theta, mdvs=mdvs, n_obs=0) if denoising_dataset else None\n",
    "if (simulator._bom is not None) and not include_boundary_fluxes:\n",
    "    mu = mu[..., :-simulator._bomsize] if denoising_dataset else None\n",
    "    data = data[..., :-simulator._bomsize]\n",
    "dataset = MDVAE_Dataset(data, mu)\n",
    "\n",
    "n_validate = math.ceil(0.10 * len(dataset))\n",
    "\n",
    "train_ds, val_ds = random_split(\n",
    "    dataset,\n",
    "    lengths=(len(dataset) - n_validate, n_validate),\n",
    "    generator=simulator._la._BACKEND._rng\n",
    ")"
   ]
  },
  {
   "cell_type": "code",
   "execution_count": 101,
   "id": "cd0321e7-b6db-4229-a402-61497a81b5e2",
   "metadata": {},
   "outputs": [],
   "source": [
    "x_in = val_ds[8][0]\n",
    "x_hat, mean, log_var = mdvae.forward(x_in)"
   ]
  },
  {
   "cell_type": "code",
   "execution_count": 122,
   "id": "6d341616-7969-463a-8e47-a15360f8cc8f",
   "metadata": {},
   "outputs": [
    {
     "data": {
      "text/plain": [
       "tensor([-0.0839, -0.1568, -0.1453,  0.0938,  1.5149,  0.3483, -0.2005, -0.9988,\n",
       "         0.2527, -1.9048, -1.1830,  1.2056,  1.2408,  0.0537],\n",
       "       grad_fn=<ViewBackward0>)"
      ]
     },
     "execution_count": 122,
     "metadata": {},
     "output_type": "execute_result"
    }
   ],
   "source": [
    "x_hat, mean, log_var = mdvae.forward(x_in)\n",
    "x_hat"
   ]
  },
  {
   "cell_type": "code",
   "execution_count": 103,
   "id": "3e141168-074f-4cdf-9086-eb719a5c5637",
   "metadata": {},
   "outputs": [
    {
     "data": {
      "text/plain": [
       "tensor([ 0.2128, -0.0636, -0.1091,  0.1319,  1.6744,  0.4989,  0.0603, -0.9097,\n",
       "         0.2834, -2.2376, -1.3587,  1.0790,  0.9984, -0.1415])"
      ]
     },
     "execution_count": 103,
     "metadata": {},
     "output_type": "execute_result"
    }
   ],
   "source": [
    "x_in"
   ]
  },
  {
   "cell_type": "code",
   "execution_count": 23,
   "id": "152f2093-60ef-4165-b213-59ec1629dc68",
   "metadata": {},
   "outputs": [
    {
     "ename": "NameError",
     "evalue": "name 'x_in' is not defined",
     "output_type": "error",
     "traceback": [
      "\u001b[1;31m---------------------------------------------------------------------------\u001b[0m",
      "\u001b[1;31mNameError\u001b[0m                                 Traceback (most recent call last)",
      "Cell \u001b[1;32mIn[23], line 1\u001b[0m\n\u001b[1;32m----> 1\u001b[0m \u001b[43mx_in\u001b[49m[\u001b[38;5;28;01mNone\u001b[39;00m, :]\u001b[38;5;241m.\u001b[39mshape\n",
      "\u001b[1;31mNameError\u001b[0m: name 'x_in' is not defined"
     ]
    }
   ],
   "source": [
    "x_in[None, :].shape"
   ]
  },
  {
   "cell_type": "code",
   "execution_count": 180,
   "id": "7c291180-8808-4091-8714-42b061a97a4f",
   "metadata": {},
   "outputs": [
    {
     "data": {
      "text/html": [
       "<div>\n",
       "<style scoped>\n",
       "    .dataframe tbody tr th:only-of-type {\n",
       "        vertical-align: middle;\n",
       "    }\n",
       "\n",
       "    .dataframe tbody tr th {\n",
       "        vertical-align: top;\n",
       "    }\n",
       "\n",
       "    .dataframe thead tr th {\n",
       "        text-align: left;\n",
       "    }\n",
       "</style>\n",
       "<table border=\"1\" class=\"dataframe\">\n",
       "  <thead>\n",
       "    <tr>\n",
       "      <th>labelling_id</th>\n",
       "      <th colspan=\"10\" halign=\"left\">A</th>\n",
       "      <th>...</th>\n",
       "      <th colspan=\"7\" halign=\"left\">B</th>\n",
       "      <th colspan=\"3\" halign=\"left\">BOM</th>\n",
       "    </tr>\n",
       "    <tr>\n",
       "      <th>data_id</th>\n",
       "      <th>C+0</th>\n",
       "      <th>C+3</th>\n",
       "      <th>C+4</th>\n",
       "      <th>D+0</th>\n",
       "      <th>D+2</th>\n",
       "      <th>D+3</th>\n",
       "      <th>H_{M+Cl}+0</th>\n",
       "      <th>H_{M+Cl}+1</th>\n",
       "      <th>H_{M+F}+0</th>\n",
       "      <th>H_{M+F}+1</th>\n",
       "      <th>...</th>\n",
       "      <th>H+1</th>\n",
       "      <th>L+0</th>\n",
       "      <th>L+1</th>\n",
       "      <th>L+2</th>\n",
       "      <th>L+5</th>\n",
       "      <th>L|[1,2]+0</th>\n",
       "      <th>L|[1,2]+1</th>\n",
       "      <th>d_out</th>\n",
       "      <th>h_out</th>\n",
       "      <th>bm</th>\n",
       "    </tr>\n",
       "  </thead>\n",
       "  <tbody>\n",
       "    <tr>\n",
       "      <th>0</th>\n",
       "      <td>0.196942</td>\n",
       "      <td>0.41339</td>\n",
       "      <td>0.389667</td>\n",
       "      <td>0.213277</td>\n",
       "      <td>0.444776</td>\n",
       "      <td>0.341946</td>\n",
       "      <td>0.873687</td>\n",
       "      <td>0.126313</td>\n",
       "      <td>0.884723</td>\n",
       "      <td>0.115277</td>\n",
       "      <td>...</td>\n",
       "      <td>0.171433</td>\n",
       "      <td>0.155488</td>\n",
       "      <td>0.133845</td>\n",
       "      <td>0.546081</td>\n",
       "      <td>0.164585</td>\n",
       "      <td>0.466329</td>\n",
       "      <td>0.533671</td>\n",
       "      <td>-1.086872</td>\n",
       "      <td>0.270122</td>\n",
       "      <td>-0.09538</td>\n",
       "    </tr>\n",
       "  </tbody>\n",
       "</table>\n",
       "<p>1 rows × 39 columns</p>\n",
       "</div>"
      ],
      "text/plain": [
       "labelling_id         A                                                   \\\n",
       "data_id            C+0      C+3       C+4       D+0       D+2       D+3   \n",
       "0             0.196942  0.41339  0.389667  0.213277  0.444776  0.341946   \n",
       "\n",
       "labelling_id                                            ...         B  \\\n",
       "data_id      H_{M+Cl}+0 H_{M+Cl}+1 H_{M+F}+0 H_{M+F}+1  ...       H+1   \n",
       "0              0.873687   0.126313  0.884723  0.115277  ...  0.171433   \n",
       "\n",
       "labelling_id                                                              \\\n",
       "data_id            L+0       L+1       L+2       L+5 L|[1,2]+0 L|[1,2]+1   \n",
       "0             0.155488  0.133845  0.546081  0.164585  0.466329  0.533671   \n",
       "\n",
       "labelling_id       BOM                     \n",
       "data_id          d_out     h_out       bm  \n",
       "0            -1.086872  0.270122 -0.09538  \n",
       "\n",
       "[1 rows x 39 columns]"
      ]
     },
     "execution_count": 180,
     "metadata": {},
     "output_type": "execute_result"
    }
   ],
   "source": [
    "simulator.to_partial_mdvs(x_in[None, :], pandalize=True)"
   ]
  },
  {
   "cell_type": "code",
   "execution_count": 174,
   "id": "a4e47cb6-80ed-47f5-86a0-14d7cd359c75",
   "metadata": {},
   "outputs": [
    {
     "data": {
      "text/html": [
       "<div>\n",
       "<style scoped>\n",
       "    .dataframe tbody tr th:only-of-type {\n",
       "        vertical-align: middle;\n",
       "    }\n",
       "\n",
       "    .dataframe tbody tr th {\n",
       "        vertical-align: top;\n",
       "    }\n",
       "\n",
       "    .dataframe thead tr th {\n",
       "        text-align: left;\n",
       "    }\n",
       "</style>\n",
       "<table border=\"1\" class=\"dataframe\">\n",
       "  <thead>\n",
       "    <tr>\n",
       "      <th>labelling_id</th>\n",
       "      <th colspan=\"10\" halign=\"left\">A</th>\n",
       "      <th>...</th>\n",
       "      <th colspan=\"7\" halign=\"left\">B</th>\n",
       "      <th colspan=\"3\" halign=\"left\">BOM</th>\n",
       "    </tr>\n",
       "    <tr>\n",
       "      <th>data_id</th>\n",
       "      <th>C+0</th>\n",
       "      <th>C+3</th>\n",
       "      <th>C+4</th>\n",
       "      <th>D+0</th>\n",
       "      <th>D+2</th>\n",
       "      <th>D+3</th>\n",
       "      <th>H_{M+Cl}+0</th>\n",
       "      <th>H_{M+Cl}+1</th>\n",
       "      <th>H_{M+F}+0</th>\n",
       "      <th>H_{M+F}+1</th>\n",
       "      <th>...</th>\n",
       "      <th>H+1</th>\n",
       "      <th>L+0</th>\n",
       "      <th>L+1</th>\n",
       "      <th>L+2</th>\n",
       "      <th>L+5</th>\n",
       "      <th>L|[1,2]+0</th>\n",
       "      <th>L|[1,2]+1</th>\n",
       "      <th>d_out</th>\n",
       "      <th>h_out</th>\n",
       "      <th>bm</th>\n",
       "    </tr>\n",
       "  </thead>\n",
       "  <tbody>\n",
       "    <tr>\n",
       "      <th>0</th>\n",
       "      <td>0.195169</td>\n",
       "      <td>0.363419</td>\n",
       "      <td>0.441413</td>\n",
       "      <td>0.219752</td>\n",
       "      <td>0.388493</td>\n",
       "      <td>0.391755</td>\n",
       "      <td>0.853166</td>\n",
       "      <td>0.146834</td>\n",
       "      <td>0.844307</td>\n",
       "      <td>0.155693</td>\n",
       "      <td>...</td>\n",
       "      <td>0.226241</td>\n",
       "      <td>0.142586</td>\n",
       "      <td>0.168176</td>\n",
       "      <td>0.619806</td>\n",
       "      <td>0.069433</td>\n",
       "      <td>0.451554</td>\n",
       "      <td>0.548446</td>\n",
       "      <td>-1.132424</td>\n",
       "      <td>1.095021</td>\n",
       "      <td>-0.137457</td>\n",
       "    </tr>\n",
       "  </tbody>\n",
       "</table>\n",
       "<p>1 rows × 39 columns</p>\n",
       "</div>"
      ],
      "text/plain": [
       "labelling_id         A                                                    \\\n",
       "data_id            C+0       C+3       C+4       D+0       D+2       D+3   \n",
       "0             0.195169  0.363419  0.441413  0.219752  0.388493  0.391755   \n",
       "\n",
       "labelling_id                                            ...         B  \\\n",
       "data_id      H_{M+Cl}+0 H_{M+Cl}+1 H_{M+F}+0 H_{M+F}+1  ...       H+1   \n",
       "0              0.853166   0.146834  0.844307  0.155693  ...  0.226241   \n",
       "\n",
       "labelling_id                                                              \\\n",
       "data_id            L+0       L+1       L+2       L+5 L|[1,2]+0 L|[1,2]+1   \n",
       "0             0.142586  0.168176  0.619806  0.069433  0.451554  0.548446   \n",
       "\n",
       "labelling_id       BOM                      \n",
       "data_id          d_out     h_out        bm  \n",
       "0            -1.132424  1.095021 -0.137457  \n",
       "\n",
       "[1 rows x 39 columns]"
      ]
     },
     "execution_count": 174,
     "metadata": {},
     "output_type": "execute_result"
    }
   ],
   "source": [
    "simulator.to_partial_mdvs(x_hat[None, :], pandalize=True)"
   ]
  },
  {
   "cell_type": "code",
   "execution_count": null,
   "id": "f5d1d947-bf28-4188-812a-feecbdaa0bf0",
   "metadata": {},
   "outputs": [],
   "source": []
  },
  {
   "cell_type": "code",
   "execution_count": null,
   "id": "43540253-a501-4cd9-a3eb-c71de3619fe1",
   "metadata": {},
   "outputs": [],
   "source": []
  },
  {
   "cell_type": "code",
   "execution_count": 130,
   "id": "06e65dc9-e819-4e0e-838a-415edcd6a68e",
   "metadata": {},
   "outputs": [
    {
     "ename": "SyntaxError",
     "evalue": "invalid syntax (2744263525.py, line 1)",
     "output_type": "error",
     "traceback": [
      "\u001b[1;36m  Cell \u001b[1;32mIn[130], line 1\u001b[1;36m\u001b[0m\n\u001b[1;33m    from sbmfi.inference.normflows_patch\u001b[0m\n\u001b[1;37m                                        ^\u001b[0m\n\u001b[1;31mSyntaxError\u001b[0m\u001b[1;31m:\u001b[0m invalid syntax\n"
     ]
    }
   ],
   "source": [
    "from sbmfi.inference.normflows_patch "
   ]
  },
  {
   "cell_type": "code",
   "execution_count": null,
   "id": "deed0582-f6df-4157-9a20-97b05d69f1c1",
   "metadata": {},
   "outputs": [],
   "source": []
  }
 ],
 "metadata": {
  "kernelspec": {
   "display_name": "Python 3 (ipykernel)",
   "language": "python",
   "name": "python3"
  },
  "language_info": {
   "codemirror_mode": {
    "name": "ipython",
    "version": 3
   },
   "file_extension": ".py",
   "mimetype": "text/x-python",
   "name": "python",
   "nbconvert_exporter": "python",
   "pygments_lexer": "ipython3",
   "version": "3.10.11"
  }
 },
 "nbformat": 4,
 "nbformat_minor": 5
}
