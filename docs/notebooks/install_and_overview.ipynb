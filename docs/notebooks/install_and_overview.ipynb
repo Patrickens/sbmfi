{
 "cells": [
  {
   "cell_type": "markdown",
   "id": "981004fa-9d9a-456a-8668-5148b675af49",
   "metadata": {},
   "source": [
    "# Installation \\& overview\n",
    "\n",
    "Welcome to the SBMFI (Simulation Based Metabolic Flux Inference) documentation.\n",
    "\n",
    "\n",
    "## Key Features\n",
    "\n",
    "- Atom-resolved metabolic modeling and simulation  \n",
    "- Support for ¹³C and other isotope labeling experiments  \n",
    "- Probabilistic and simulation-based inference of metabolic fluxes  \n",
    "- Integration with LC-MS data, including isotope correction and adduct handling  \n",
    "- Tools for model construction, atom mapping, and custom metabolite definitions  \n",
    "- Extensible for systems biology, metabolic engineering, and isotope tracing studies\n",
    "\n",
    "<!-- For more details, see the notebooks and simulator documentation above. See [Introduction](introduction.ipynb) -->"
   ]
  },
  {
   "cell_type": "markdown",
   "id": "c6eaf306-786a-4343-8c6e-f46006d8f333",
   "metadata": {},
   "source": [
    "## Install from Github\n",
    "\n",
    "The SBMFI package is not yet available on PyPI, so it cannot be installed with `pip install sbmfi`. To install the package, you need to clone the GitHub repository and install it manually.\n",
    "\n",
    "**Clone the repository:**\n",
    "```bash\n",
    "git clone https://github.com/Patrickens/sbmfi.git\n",
    "cd sbmfi\n",
    "```\n",
    "\n",
    "**Install the package in editable/development mode:**\n",
    "```bash\n",
    "pip install -e .\n",
    "```"
   ]
  },
  {
   "cell_type": "markdown",
   "id": "e3aa3a93-452a-4459-9ae4-471e200ae879",
   "metadata": {
    "editable": true,
    "slideshow": {
     "slide_type": ""
    },
    "tags": []
   },
   "source": [
    "## Structure\n",
    "\n",
    "The folder structure of the package is:\n",
    "```\n",
    "sbmfi\n",
    "|___ compound\n",
    "|___ core\n",
    "|___ inference\n",
    "|___ models\n",
    "|___ priors\n",
    "```\n",
    "\n",
    "This package was used for all the figures in the publication {cite}`diederen_flows_2025`. \n",
    "\n",
    "`core` contains all the algorithms that are necessary to specify a simulator that takes as input fluxes and outputs mass distribution vectors (MDV) of metabolites in a steady-state $^{13}C$ carbon labelling experiment (CLE) using the Elementary Metabolic Unit (EMU) algorithm {cite}`Antoniewicz2007`. The `core` module inherits a lot of its functionality from the [`cobrapy`](https://cobrapy.readthedocs.io/en/latest/) package {cite}`Ebrahim2013` which is useful for manipulating constraint based metabolic models (CBM). **We recommend users to build intimate familiarity with `cobrapy` in order to use `sbmfi`** since a simulator in this context consists of a CBM that is decorated with labelling information for a subset of reactions. \n",
    "\n",
    "`priors` contains different algorithms to sample from priors that incorporate various biological assumptions. `inference` contains algorithms for Markov Chain Monte-Carlo and Sequential Monte-Carlo methods for sampling posterior distributions given $^{13}C$ labelling measurements. It also contains some convenience methods to build normalizing flow models that can be used for simulation based inference {cite}`Antoniewicz2007`. The `models` folder contains the inputs necessary to specify CBMs and to decorate them with labelling information. Lastly, `compound` defines some basic manipulations of chemical formulas. Its functionality is useful when simulating mass-spectrometry data. \n",
    "\n",
    "We suggest to follow the documentation sequentially, starting with \n"
   ]
  },
  {
   "cell_type": "markdown",
   "id": "119515c0-6991-4191-adb8-7994d7b25c93",
   "metadata": {
    "editable": true,
    "slideshow": {
     "slide_type": ""
    },
    "tags": []
   },
   "source": [
    "## References\n",
    "\n",
    "```{bibliography}\n",
    ":filter: docname in docnames\n",
    ":style: unsrt\n",
    "```"
   ]
  },
  {
   "cell_type": "code",
   "execution_count": null,
   "id": "c2448de2-7413-494c-bd77-ff741a772e42",
   "metadata": {},
   "outputs": [],
   "source": []
  }
 ],
 "metadata": {
  "kernelspec": {
   "display_name": "Python 3 (ipykernel)",
   "language": "python",
   "name": "python3"
  },
  "language_info": {
   "codemirror_mode": {
    "name": "ipython",
    "version": 3
   },
   "file_extension": ".py",
   "mimetype": "text/x-python",
   "name": "python",
   "nbconvert_exporter": "python",
   "pygments_lexer": "ipython3",
   "version": "3.11.13"
  }
 },
 "nbformat": 4,
 "nbformat_minor": 5
}
