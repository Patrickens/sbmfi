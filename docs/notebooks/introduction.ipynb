{
 "cells": [
  {
   "cell_type": "markdown",
   "id": "912415b6-7fe5-4332-b929-68642cbd8c71",
   "metadata": {
    "editable": true,
    "slideshow": {
     "slide_type": ""
    },
    "tags": []
   },
   "source": [
    "# General remarks and introduction\n",
    "\n"
   ]
  },
  {
   "cell_type": "markdown",
   "id": "126ea551-f1ee-463d-993f-882143e331ee",
   "metadata": {},
   "source": [
    "## LinAlg\n",
    "\n",
    "Throughout the package, we will see instantiations of `LinAlg`. We originally developed the package working with `numpy`, but soon found that having `torch` as a back-end for all numerics would be very useful due to GPU support and automatic differentiation. Since the two packages have slightly different API, we decided to create a unified API which is `LinAlg`. This class also takes care of random number ceeds, device on which tensors are stored (in the case of torch) and some basic random sampling and numerical functions."
   ]
  },
  {
   "cell_type": "code",
   "execution_count": 2,
   "id": "9919ecf4-e41c-4203-a866-81034ebda2eb",
   "metadata": {},
   "outputs": [],
   "source": [
    "from sbmfi.core.linalg import LinAlg\n",
    "la = LinAlg(\n",
    "    backend = 'torch',  # torch or numpy backend\n",
    "    batch_size = 2,  # in all labelling simulation algorithms, we simulate in batches; this parameter specifies the batch_size\n",
    "    device = 'cpu',\n",
    "    fkwargs = None,\n",
    "    seed = 42,\n",
    ")"
   ]
  },
  {
   "cell_type": "markdown",
   "id": "56a5f05b-a7bf-48a4-a926-258ab1fdad33",
   "metadata": {
    "editable": true,
    "slideshow": {
     "slide_type": ""
    },
    "tags": []
   },
   "source": [
    "## Models, Reactions and Metabolites\n",
    "\n",
    "The package has been developed based on the structure of [`cobrapy`](https://cobrapy.readthedocs.io/en/latest/index.html). The intention is that anyone working with `cobra` can use `sbmfi` quickly. The general phylosophy on the relation between the two packages is that one should build a model and perform various quality-checks using `cobra` and once a model is 'finished', it can be equipped with labelling information and used to sample fluxes and simulate labelling in `sbmfi`. \n",
    "\n",
    "For these reasons, `sbmfi.core` has modules defining the `LabelledMetabolite(cobra.Metabolite)`, `LabellingReaction(cobra.Reaction)` and `LabellingModel(cobra.Model)` classes which inherit functionality from their respective `cobra` classes. Each of these `Labelling` classes is instantiated with their respective `cobra` counterpart. The `Labelling...` classes specify behavior that is shared between different labelling simulation algorithms. We implemented the EMU algorithm {cite}`Antoniewicz2007` through `EMU_Metabolite(LabelledMetabolite)`, `EMU_Reaction(LabellingReaction)` and `EMU_Model(LabellingModel)`.\n",
    "\n",
    "For convenience, we built the parsing method `model_builder_from_dict` to convert `json`-like data-structures into fully functional `LabellingModel` objects. In the cell below, we define a small CBM which is first parsed to a `cobra` model and converted to an `EMU_Model`."
   ]
  },
  {
   "cell_type": "code",
   "execution_count": 9,
   "id": "a678333f-25b1-4c55-b580-d8ff38172a30",
   "metadata": {},
   "outputs": [
    {
     "name": "stdout",
     "output_type": "stream",
     "text": [
      "type of model: <class 'cobra.core.model.Model'>\n",
      "type of model: <class 'sbmfi.core.model.EMU_Model'>\n",
      "a_in:  --> A/abc (10.0, 10.0) <class 'sbmfi.core.reaction.EMU_Reaction'>\n",
      "co2_out: co2/a -->  (0.0, 100.0) <class 'sbmfi.core.reaction.EMU_Reaction'>\n",
      "e_out: E/ab -->  (0.0, 100.0) <class 'sbmfi.core.reaction.EMU_Reaction'>\n",
      "cof_out: cof -->  (0.0, 100.0) <class 'cobra.core.reaction.Reaction'>\n",
      "v1: A/abc --> B/ab + D/c + cof (0.0, 100.0) <class 'sbmfi.core.reaction.EMU_Reaction'>\n",
      "v2: A/abc --> C/bc + D/a (0.0, 100.0) <class 'sbmfi.core.reaction.EMU_Reaction'>\n",
      "v3: B/ab + D/c --> E/ac + co2/b (0.0, 100.0) <class 'sbmfi.core.reaction.EMU_Reaction'>\n",
      "v4: C/ab + D/c --> E/cb + co2/a (0.0, 100.0) <class 'sbmfi.core.reaction.EMU_Reaction'>\n"
     ]
    }
   ],
   "source": [
    "from sbmfi.core.model import model_builder_from_dict, EMU_Model\n",
    "reaction_kwargs = {\n",
    "    'a_in': {\n",
    "        'upper_bound': 10.0, 'lower_bound': 10.0,\n",
    "        'atom_map_str': '∅ --> A/abc'\n",
    "    },\n",
    "    'co2_out': {\n",
    "        'upper_bound': 100.0,\n",
    "        'atom_map_str': 'co2/a --> ∅'\n",
    "    },\n",
    "    'e_out': {\n",
    "        'upper_bound': 100.0,\n",
    "        'atom_map_str': 'E/ab --> ∅'\n",
    "    },\n",
    "    'cof_out': {\n",
    "        'upper_bound': 100.0,\n",
    "        'reaction_str': 'cof --> ∅'  # NOTE that this is not an atom_map_str but a reaction_str; \n",
    "    },\n",
    "    'v1': {\n",
    "        'upper_bound': 100.0,\n",
    "        'atom_map_str': 'A/abc --> B/ab + D/c + cof'\n",
    "    },\n",
    "    'v2': {\n",
    "        'upper_bound': 100.0,\n",
    "        'atom_map_str': 'A/abc --> C/bc + D/a'\n",
    "    },\n",
    "    'v3': {\n",
    "        'upper_bound': 100.0,\n",
    "        'atom_map_str': 'B/ab + D/c --> E/ac + co2/b'\n",
    "    },\n",
    "    'v4': {\n",
    "        'upper_bound': 100.0,\n",
    "        'atom_map_str': 'C/ab + D/c --> E/cb + co2/a'\n",
    "    },\n",
    "}\n",
    "metabolite_kwargs = {\n",
    "    'E': {'formula': 'C2H4O2'},\n",
    "    'D': {'formula': 'CH4'},\n",
    "}\n",
    "\n",
    "cobra_model = model_builder_from_dict(metabolite_kwargs=metabolite_kwargs, reaction_kwargs=reaction_kwargs)\n",
    "print(f'type of model: {type(cobra_model)}')\n",
    "\n",
    "model = EMU_Model(linalg=la, model=cobra_model)\n",
    "print(f'type of model: {type(model)}')\n",
    "model.add_labelling_kwargs(metabolite_kwargs=metabolite_kwargs, reaction_kwargs=reaction_kwargs)\n",
    "for reaction in model.reactions:\n",
    "    print(reaction, reaction.bounds, type(reaction))"
   ]
  },
  {
   "cell_type": "markdown",
   "id": "cca2d80f-d432-458d-b4ba-40efceb61b97",
   "metadata": {
    "editable": true,
    "slideshow": {
     "slide_type": ""
    },
    "tags": []
   },
   "source": [
    "Now we set the $^{13}C$-labelling of the substrate metabolite, which in this case is metabolite `A`. The convention is that $0$s indicate a $^{12}C$ atom and $1$s indicate a $^{13}C$ atom"
   ]
  },
  {
   "cell_type": "code",
   "execution_count": 17,
   "id": "9db8b57a-8d04-4a18-9e8a-26c75fc80d4a",
   "metadata": {
    "editable": true,
    "slideshow": {
     "slide_type": ""
    },
    "tags": []
   },
   "outputs": [
    {
     "ename": "ValueError",
     "evalue": "",
     "output_type": "error",
     "traceback": [
      "\u001b[31m---------------------------------------------------------------------------\u001b[39m",
      "\u001b[31mValueError\u001b[39m                                Traceback (most recent call last)",
      "\u001b[36mCell\u001b[39m\u001b[36m \u001b[39m\u001b[32mIn[17]\u001b[39m\u001b[32m, line 3\u001b[39m\n\u001b[32m      1\u001b[39m \u001b[38;5;28;01mimport\u001b[39;00m\u001b[38;5;250m \u001b[39m\u001b[34;01mpandas\u001b[39;00m\u001b[38;5;250m \u001b[39m\u001b[38;5;28;01mas\u001b[39;00m\u001b[38;5;250m \u001b[39m\u001b[34;01mpd\u001b[39;00m\n\u001b[32m      2\u001b[39m substrate_labelling = pd.Series({\u001b[33mf\u001b[39m\u001b[33m'\u001b[39m\u001b[33mA/011\u001b[39m\u001b[33m'\u001b[39m: \u001b[32m1.0\u001b[39m,}, name=\u001b[33m'\u001b[39m\u001b[33minput\u001b[39m\u001b[33m'\u001b[39m)\n\u001b[32m----> \u001b[39m\u001b[32m3\u001b[39m \u001b[43mmodel\u001b[49m\u001b[43m.\u001b[49m\u001b[43mset_substrate_labelling\u001b[49m\u001b[43m(\u001b[49m\u001b[43msubstrate_labelling\u001b[49m\u001b[43m)\u001b[49m\n\u001b[32m      5\u001b[39m model.substrate_labelling\n",
      "\u001b[36mFile \u001b[39m\u001b[32mC:\\python_projects\\sbmfi\\src\\sbmfi\\core\\model.py:1055\u001b[39m, in \u001b[36mEMU_Model.set_substrate_labelling\u001b[39m\u001b[34m(self, substrate_labelling)\u001b[39m\n\u001b[32m   1053\u001b[39m     Y = settings.get(\u001b[33m'\u001b[39m\u001b[33m_Y\u001b[39m\u001b[33m'\u001b[39m, \u001b[38;5;28;01mNone\u001b[39;00m)\n\u001b[32m   1054\u001b[39m \u001b[38;5;28;01mif\u001b[39;00m (\u001b[38;5;28mlen\u001b[39m(Y) == \u001b[32m0\u001b[39m):\n\u001b[32m-> \u001b[39m\u001b[32m1055\u001b[39m     \u001b[38;5;28;01mraise\u001b[39;00m \u001b[38;5;167;01mValueError\u001b[39;00m\n\u001b[32m   1056\u001b[39m \u001b[38;5;28mself\u001b[39m._Y = Y\n\u001b[32m   1057\u001b[39m \u001b[38;5;28;01mfor\u001b[39;00m weight, yek \u001b[38;5;129;01min\u001b[39;00m Y.items():\n",
      "\u001b[31mValueError\u001b[39m: "
     ]
    }
   ],
   "source": [
    "import pandas as pd\n",
    "substrate_labelling = pd.Series({f'A/011': 1.0,}, name='input')\n",
    "model.set_substrate_labelling(substrate_labelling)\n",
    "\n",
    "model.substrate_labelling"
   ]
  },
  {
   "cell_type": "markdown",
   "id": "3ca5d9bc-a228-4b05-9100-7fb9f56eb0f3",
   "metadata": {
    "editable": true,
    "slideshow": {
     "slide_type": ""
    },
    "tags": []
   },
   "source": [
    "Last, we set the metabolite(-fragments) that we can measure given our experimental capabilities. This is important information for the EMU algorithm."
   ]
  },
  {
   "cell_type": "code",
   "execution_count": 18,
   "id": "12620407-13cf-4836-a7ce-397b7a057a9e",
   "metadata": {
    "editable": true,
    "slideshow": {
     "slide_type": ""
    },
    "tags": []
   },
   "outputs": [],
   "source": [
    "model.set_measurements(measurement_list=['E']) "
   ]
  },
  {
   "cell_type": "markdown",
   "id": "4402e910-a29b-43af-9eaa-1114aa48ca6a",
   "metadata": {},
   "source": [
    "In the cell below, we build the simulator. `free_reaction_id` specifies which fluxes are considered free when using the row reduced echelon form (RREF) kernel basis and transformed coordinates."
   ]
  },
  {
   "cell_type": "code",
   "execution_count": null,
   "id": "8bf587cc-1ef9-4676-ae32-e6424a32bb64",
   "metadata": {
    "editable": true,
    "slideshow": {
     "slide_type": ""
    },
    "tags": []
   },
   "outputs": [],
   "source": []
  },
  {
   "cell_type": "code",
   "execution_count": null,
   "id": "5c0de8ae-44eb-4a28-b45b-f0dd2e9fa19c",
   "metadata": {},
   "outputs": [],
   "source": []
  },
  {
   "cell_type": "markdown",
   "id": "b3af6948-9081-4e06-ae91-857bfe9bebd0",
   "metadata": {},
   "source": [
    "## References\n",
    "\n",
    "```{bibliography}\n",
    ":filter: docname in docnames\n",
    ":style: unsrt\n",
    "```"
   ]
  },
  {
   "cell_type": "code",
   "execution_count": null,
   "id": "27101a9b-9d58-4607-bf49-05971a7eb894",
   "metadata": {},
   "outputs": [],
   "source": []
  }
 ],
 "metadata": {
  "kernelspec": {
   "display_name": "Python 3 (ipykernel)",
   "language": "python",
   "name": "python3"
  },
  "language_info": {
   "codemirror_mode": {
    "name": "ipython",
    "version": 3
   },
   "file_extension": ".py",
   "mimetype": "text/x-python",
   "name": "python",
   "nbconvert_exporter": "python",
   "pygments_lexer": "ipython3",
   "version": "3.11.13"
  }
 },
 "nbformat": 4,
 "nbformat_minor": 5
}
