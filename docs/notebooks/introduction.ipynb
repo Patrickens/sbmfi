{
 "cells": [
  {
   "cell_type": "markdown",
   "id": "912415b6-7fe5-4332-b929-68642cbd8c71",
   "metadata": {},
   "source": [
    "# General remarks and introduction\n",
    "\n",
    "This document serves to demonstrate the simulation functions of the `sbmfi` (simulation based metabolic flux inference) `python` package. The folder structure of the package is:\n",
    "```\n",
    "sbmfi\n",
    "|___ core\n",
    "|___ inference\n",
    "|___ models\n",
    "|___ lcmsanalysis\n",
    "|___ priors\n",
    "```\n",
    "The `core` folder contains all the algorithms that are necessary to specify a simulator that takes as input fluxes and outputs mass distribution vectors (MDV) of metabolites in a steady-state $^{13}C$ carbon labelling experiment (CLE) using the [EMU algorithm](https://www.sciencedirect.com/science/article/pii/S109671760600084X?via%3Dihub). It also contains a dataset simulator to simulate measurement. The `inference` folder contains a uniform prior over the flux polytope. The `models` folder is self-explanatory. Last, the `lcmsanalysis` contains the `formula` file that specifies a convenient class for chemical formulas.\n"
   ]
  },
  {
   "cell_type": "markdown",
   "id": "126ea551-f1ee-463d-993f-882143e331ee",
   "metadata": {},
   "source": [
    "### LinAlg\n",
    "\n",
    "An object that we will see throughout the package is instatiations of `LinAlg`. We originally developed the package working with `numpy`, but soon found that having `torch` as a back-end for all numerics would be very useful due to GPU support and automatic differentiation. Since the two packages have slightly different API, we decided to create a unified API which is `LinAlg`. "
   ]
  },
  {
   "cell_type": "code",
   "execution_count": 2,
   "id": "d63dab6c-8c80-4e11-b6e4-87b0fb39e32c",
   "metadata": {},
   "outputs": [],
   "source": [
    "from sbmfi.core.linalg import LinAlg"
   ]
  },
  {
   "cell_type": "code",
   "execution_count": 4,
   "id": "9919ecf4-e41c-4203-a866-81034ebda2eb",
   "metadata": {},
   "outputs": [],
   "source": [
    "la = LinAlg(\n",
    "    backend = 'torch',  # torch or numpy backend\n",
    "    batch_size = 2,  # in all labelling simulation algorithms, we simulate in batches; this parameter specifies the batch_size\n",
    "    solver  = 'lu_solve_ex',  # for torch there are 2 \n",
    "    device = 'cpu',\n",
    "    fkwargs = None,\n",
    "    seed = 42,\n",
    "    dtype = np.float32,\n",
    ")"
   ]
  },
  {
   "cell_type": "markdown",
   "id": "56a5f05b-a7bf-48a4-a926-258ab1fdad33",
   "metadata": {},
   "source": [
    "### Models, Reactions and Metabolites\n",
    "\n",
    "The package has been developed based on the structure of `cobrapy`([link](https://cobrapy.readthedocs.io/en/latest/index.html)). The intention is that anyone working with `cobra` can use `sbmfi` quickly. The general phylosophy on the relation between the two packages is that one should build a model and perform various flux-analyses using `cobra` and once a model is 'finished', it can be equipped with labelling information and used to sample fluxes and simulate labelling in `sbmfi`. \n",
    "\n",
    "For these reasons, `sbmfi.core` has modules defining the `LabelledMetabolite(cobra.Metabolite)`, `LabellingReaction(cobra.Reaction)` and `LabellingModel(cobra.Model)` classes which inherit functionality from their `cobra` classes. Each of these `Labelling` classes is instantiated with a `cobra` object"
   ]
  },
  {
   "cell_type": "code",
   "execution_count": 25,
   "id": "a678333f-25b1-4c55-b580-d8ff38172a30",
   "metadata": {},
   "outputs": [
    {
     "name": "stdout",
     "output_type": "stream",
     "text": [
      "type of model: <class 'cobra.core.model.Model'>\n",
      "a_in:  --> A/abc (10.0, 10.0)\n",
      "co2_out: co2/a -->  (0.0, 100.0)\n",
      "e_out: E/ab -->  (0.0, 100.0)\n",
      "v1: A/abc --> B/ab + D/c (0.0, 100.0)\n",
      "v2: A/abc --> C/bc + D/a (0.0, 100.0)\n",
      "v3: B/ab + D/c --> E/ac + co2/b (0.0, 100.0)\n",
      "v4: C/ab + D/c --> E/cb + co2/a (0.0, 100.0)\n"
     ]
    }
   ],
   "source": [
    "from sbmfi.core.model import model_builder_from_dict, EMU_Model\n",
    "reaction_kwargs = {\n",
    "    'a_in': {\n",
    "        'upper_bound': 10.0, 'lower_bound': 10.0,\n",
    "        'atom_map_str': '∅ --> A/abc'\n",
    "    },\n",
    "    'co2_out': {\n",
    "        'upper_bound': 100.0,\n",
    "        'atom_map_str': 'co2/a --> ∅'\n",
    "    },\n",
    "    'e_out': {\n",
    "        'upper_bound': 100.0,\n",
    "        'atom_map_str': 'E/ab --> ∅'\n",
    "    },\n",
    "    'v1': {\n",
    "        'upper_bound': 100.0,\n",
    "        'atom_map_str': 'A/abc --> B/ab + D/c'\n",
    "    },\n",
    "    'v2': {\n",
    "        'upper_bound': 100.0,\n",
    "        'atom_map_str': 'A/abc --> C/bc + D/a'\n",
    "    },\n",
    "    'v3': {\n",
    "        'upper_bound': 100.0,\n",
    "        'atom_map_str': 'B/ab + D/c --> E/ac + co2/b'\n",
    "    },\n",
    "    'v4': {\n",
    "        'upper_bound': 100.0,\n",
    "        'atom_map_str': 'C/ab + D/c --> E/cb + co2/a'\n",
    "    },\n",
    "}\n",
    "metabolite_kwargs = {\n",
    "    'E': {'formula': 'C2H4O2'},\n",
    "    'D': {'formula': 'CH4'},\n",
    "}\n",
    "\n",
    "cobra_model = model_builder_from_dict(metabolite_kwargs=metabolite_kwargs, reaction_kwargs=reaction_kwargs)\n",
    "print(f'type of model: {type(cobra_model)}')\n",
    "\n",
    "model = EMU_Model(linalg=la, model=cobra_model)\n",
    "model.add_labelling_kwargs(metabolite_kwargs=metabolite_kwargs, reaction_kwargs=reaction_kwargs)\n",
    "for reaction in model.reactions:\n",
    "    print(reaction, reaction.bounds)"
   ]
  },
  {
   "cell_type": "code",
   "execution_count": null,
   "id": "02ea489d-1e35-4707-8393-ff2389705b11",
   "metadata": {},
   "outputs": [],
   "source": [
    "model"
   ]
  },
  {
   "cell_type": "code",
   "execution_count": null,
   "id": "b3d8b3fb-b6d7-4e8a-981c-2a473f2a2bdd",
   "metadata": {},
   "outputs": [],
   "source": []
  }
 ],
 "metadata": {
  "kernelspec": {
   "display_name": "Python 3 (ipykernel)",
   "language": "python",
   "name": "python3"
  },
  "language_info": {
   "codemirror_mode": {
    "name": "ipython",
    "version": 3
   },
   "file_extension": ".py",
   "mimetype": "text/x-python",
   "name": "python",
   "nbconvert_exporter": "python",
   "pygments_lexer": "ipython3",
   "version": "3.10.11"
  }
 },
 "nbformat": 4,
 "nbformat_minor": 5
}
